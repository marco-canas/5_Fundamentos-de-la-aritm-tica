{
 "cells": [
  {
   "cell_type": "markdown",
   "id": "dc06dec7",
   "metadata": {
    "slideshow": {
     "slide_type": "slide"
    }
   },
   "source": [
    "<table align=\"left\">\n",
    "  <td>\n",
    "    <a href=\"https://colab.research.google.com/github/ageron/handson-ml3/blob/main/tools_numpy.ipynb\" target=\"_parent\"><img src=\"https://colab.research.google.com/assets/colab-badge.svg\" alt=\"Open In Colab\"/></a>\n",
    "  </td>\n",
    "  <td>\n",
    "    <a target=\"_blank\" href=\"https://kaggle.com/kernels/welcome?src=https://github.com/ageron/handson-ml3/blob/main/tools_numpy.ipynb\"><img src=\"https://kaggle.com/static/images/open-in-kaggle.svg\" /></a>\n",
    "  </td>\n",
    "</table>"
   ]
  },
  {
   "cell_type": "markdown",
   "id": "e0c5b198",
   "metadata": {
    "slideshow": {
     "slide_type": "slide"
    }
   },
   "source": [
    "### [Video de apoyo a la lectura interactiva y experimental de este cuaderno]()"
   ]
  },
  {
   "cell_type": "markdown",
   "id": "41e82203",
   "metadata": {
    "slideshow": {
     "slide_type": "slide"
    }
   },
   "source": [
    "## [Vínculo al programa del curso:  ]()\n",
    "\n"
   ]
  },
  {
   "cell_type": "markdown",
   "id": "d11ab06d",
   "metadata": {
    "slideshow": {
     "slide_type": "slide"
    }
   },
   "source": [
    "Un reconocimiento a mis estudiantes que han construido conmigo este saber pedagógico:\n",
    "\n",
    "<img src = 'https://github.com/marco-canas/fundamentos_aritmetica/blob/main/images_students/3_asesoria_numeros_primos_2024-10-26.jpeg?raw=true'> \n",
    "\n"
   ]
  },
  {
   "cell_type": "markdown",
   "id": "d0230e44",
   "metadata": {},
   "source": [
    "<img src = 'https://github.com/marco-canas/fundamentos_aritmetica/blob/main/images_students/4_asesoria_aritmetica_2024-11-02_2.jpeg?raw=true'>"
   ]
  },
  {
   "cell_type": "markdown",
   "id": "8a74a56c-0ce6-4ad6-b985-553fd7fb68bb",
   "metadata": {},
   "source": [
    "Reconocimiento a las profesoras destacadas en enseñanza de la matemática en Colombia\n",
    "\n",
    "Aquí tienes algunas mujeres destacadas en Colombia en la enseñanza de la matemática, junto con una breve biografía de cada una:"
   ]
  },
  {
   "cell_type": "code",
   "execution_count": 1,
   "id": "7604880f",
   "metadata": {
    "slideshow": {
     "slide_type": "slide"
    }
   },
   "outputs": [
    {
     "name": "stdout",
     "output_type": "stream",
     "text": [
      "Llamando a MARTINEZ CASARRUBIA LUIS FERNANDO...\n",
      "Cambios guardados en el archivo CSV.\n",
      "Llamando a GOEZ MESA MIGUEL ANDRES...\n",
      "Cambios guardados en el archivo CSV.\n",
      "Llamando a CASTRO JULIO KEREN...\n",
      "Actualizado: CASTRO JULIO KEREN ahora tiene 0.6 en la columna 'Parcial'.\n",
      "Cambios guardados en el archivo CSV.\n",
      "Llamando a MONTES VARGAS VALERIA...\n",
      "Cambios guardados en el archivo CSV.\n",
      "Llamando a MEDINA GUERRA MANUEL...\n",
      "Cambios guardados en el archivo CSV.\n",
      "Llamando a BADEL CORRALES JHONATAN ANDRES...\n",
      "Cambios guardados en el archivo CSV.\n",
      "Llamando a GUERRA YEPEZ DIEGO ANDRES...\n",
      "Actualizado: GUERRA YEPEZ DIEGO ANDRES ahora tiene 0.6 en la columna 'Parcial'.\n",
      "Cambios guardados en el archivo CSV.\n",
      "Llamando a VILLEGAS SIERRA ALLYSON...\n",
      "Cambios guardados en el archivo CSV.\n",
      "Llamando a MONTERROSA GUERRERO SAID ANDRES...\n",
      "Cambios guardados en el archivo CSV.\n",
      "Llamando a GUERRERO GUERRA JOSE LUIS...\n",
      "Actualizado: GUERRERO GUERRA JOSE LUIS ahora tiene 0.8999999999999999 en la columna 'Parcial'.\n",
      "Cambios guardados en el archivo CSV.\n",
      "Llamando a GUERRA MERCADO JUAN CAMILO...\n",
      "Actualizado: GUERRA MERCADO JUAN CAMILO ahora tiene 0.8999999999999999 en la columna 'Parcial'.\n",
      "Cambios guardados en el archivo CSV.\n",
      "Llamando a RUIZ PAYARES EMIRO ENRIQUE...\n",
      "Cambios guardados en el archivo CSV.\n",
      "Llamando a GONZALEZ BASILIO LUISA FERNANDA...\n",
      "Cambios guardados en el archivo CSV.\n",
      "Llamando a CAMPO DIAZ ALBERTO ANDRES...\n",
      "Cambios guardados en el archivo CSV.\n",
      "Llamando a HERRERA CASTILLO LUKAS MATEO...\n",
      "Cambios guardados en el archivo CSV.\n",
      "Llamando a GUERRA VILLADIEGO ANDRES FELIPE...\n",
      "Cambios guardados en el archivo CSV.\n",
      "Llamando a MORENO VILORIA ANDRES DAVID...\n",
      "Cambios guardados en el archivo CSV.\n",
      "Llamando a DIAZ GUERRERO JUAN DANIEL...\n",
      "Cambios guardados en el archivo CSV.\n",
      "Llamando a FRANCO BOHORQUEZ ESTEBAN...\n",
      "Cambios guardados en el archivo CSV.\n",
      "Llamando a RODRIGUEZ RESTREPO HERMEN DAVID...\n",
      "Cambios guardados en el archivo CSV.\n",
      "Llamando a TUTISTAR GARZON EDWIN ROLANDO...\n",
      "Cambios guardados en el archivo CSV.\n",
      "Llamando a RIVERA GUZMAN CRISTIAN...\n",
      "Cambios guardados en el archivo CSV.\n",
      "Llamando a HERNANDEZ LUNA BEATRIZ ELENA...\n",
      "Actualizado: HERNANDEZ LUNA BEATRIZ ELENA ahora tiene 0.8999999999999999 en la columna 'Parcial'.\n",
      "Cambios guardados en el archivo CSV.\n",
      "Llamando a SAENZ ARROYO LILIANA LUCIA...\n",
      "Cambios guardados en el archivo CSV.\n",
      "Llamando a GONZALEZ GANDIA YELENA...\n",
      "Cambios guardados en el archivo CSV.\n"
     ]
    }
   ],
   "source": [
    "import pandas as pd\n",
    "import numpy as np\n",
    "\n",
    "# Cargar la lista de estudiantes desde la URL\n",
    "path = 'C:/Users/marco/Documentos/docencia/groups_list/fundamentos_aritmetica.csv'\n",
    "estudiantes = pd.read_csv(path)\n",
    "estudiantes['Parcial'] = estudiantes['Parcial'].astype(float) # hacer que todos los valores de la columna Parcial seen de tipo float\n",
    "\n",
    "# Convertir la columna 'Nombre' a una lista de Python\n",
    "lista_estudiantes = estudiantes['Nombre'].tolist()\n",
    "\n",
    "# Función para llamar a un estudiante aleatoriamente y registrar su nota de seguimiento\n",
    "def asistencia():\n",
    "    if lista_estudiantes:\n",
    "        estudiante_aleatorio = np.random.choice(lista_estudiantes)\n",
    "        print(f\"Llamando a {estudiante_aleatorio}...\")\n",
    "        asistencia = input(f\"¿Asistió {estudiante_aleatorio}? (s/n): \").strip().lower()\n",
    "        \n",
    "        if asistencia == 's':\n",
    "            # Obtener el índice del estudiante en el DataFrame\n",
    "            indice = estudiantes[estudiantes['Nombre'] == estudiante_aleatorio].index[0]\n",
    "            # Incrementar su valor en la columna 'Parcial'\n",
    "            estudiantes.at[indice, 'Parcial'] += 0.3\n",
    "            print(f\"Actualizado: {estudiante_aleatorio} ahora tiene {estudiantes.at[indice, 'Parcial']} en la columna 'Parcial'.\")\n",
    "        \n",
    "        lista_estudiantes.remove(estudiante_aleatorio)\n",
    "    else:\n",
    "        print(\"Se han llamado a todos los estudiantes del grupo completo.\")\n",
    "\n",
    "# Guardar los cambios en el archivo CSV\n",
    "def guardar_cambios():\n",
    "    estudiantes.to_csv(path, index=False)\n",
    "    print(\"Cambios guardados en el archivo CSV.\")\n",
    "\n",
    "# Ejemplo de uso\n",
    "while lista_estudiantes:\n",
    "    asistencia()\n",
    "    guardar_cambios()\n",
    "\n",
    "\n"
   ]
  },
  {
   "cell_type": "markdown",
   "id": "d7598d0a-d9b7-4ae0-b029-a0ed6ed1130b",
   "metadata": {},
   "source": [
    "\n",
    "# Principios de mi labor docente"
   ]
  },
  {
   "cell_type": "markdown",
   "id": "4f9d8cf9",
   "metadata": {
    "slideshow": {
     "slide_type": "slide"
    }
   },
   "source": [
    "# Modelo general de clase: [aula invertida](https://www3.gobiernodecanarias.org/medusa/ecoescuela/pedagotic/aprendizaje-invertido-flipped-classroom/)"
   ]
  },
  {
   "cell_type": "markdown",
   "id": "eb6ed03a",
   "metadata": {},
   "source": [
    "<img src = 'https://resources.maneuveringthemiddle.com/wp-content/uploads/2020/07/04212706/1-5.png' width = 400>  \n",
    "\n"
   ]
  },
  {
   "cell_type": "markdown",
   "id": "34319cce-a71b-4f64-aab8-b53e521efa40",
   "metadata": {},
   "source": [
    "# Metodología de enseñanza basada en problemas (ABP)\n",
    "\n",
    "<img src = 'https://www.unir.net/wp-content/uploads/2020/07/aprendizaje-problemas2-1-1-1-1.jpeg' width = 400>"
   ]
  },
  {
   "cell_type": "markdown",
   "id": "841a985c-bd9b-4dd3-8e4c-893983980af2",
   "metadata": {},
   "source": [
    "# Desarrollo del pensamiento computacional con python y cuadernos Jupyter  orientado a la formación en ciencia de datos \n",
    "\n"
   ]
  },
  {
   "cell_type": "markdown",
   "id": "ac702b57",
   "metadata": {},
   "source": [
    "\n",
    "<img src = 'https://i.ytimg.com/vi/mcG_wcR4e6M/maxresdefault.jpg' width = 400>"
   ]
  },
  {
   "cell_type": "markdown",
   "id": "65aa0404-f7ae-495e-864c-1aec01b4255e",
   "metadata": {},
   "source": [
    "# Principio de fomento a la ciencia abierta, enseñar en el acceso a los datos públicos y el uso de software de código abierto  \n"
   ]
  },
  {
   "cell_type": "markdown",
   "id": "18ae9b87",
   "metadata": {},
   "source": [
    "\n",
    "<img src = 'https://unesdoc.unesco.org/in/rest/Thumb/image?id=p%3A%3Ausmarcdef_0000379949_spa&author=UNESCO&title=Recomendaci%C3%B3n+de+la+UNESCO+sobre+la+Ciencia+Abierta&year=2021&publisher=UNESCO&TypeOfDocument=UnescoPhysicalDocument&mat=PGD&ct=true&size=512&isPhysical=1' width = 300>"
   ]
  },
  {
   "cell_type": "markdown",
   "id": "d9559f85",
   "metadata": {},
   "source": [
    "El enfoque STEAMS en educación preescolar, primaria y secundaria es una extensión del enfoque STEM (Ciencia, Tecnología, Ingeniería y Matemáticas) y su variante STEAM, que incorpora el Arte. El acrónimo STEAMS incluye:\n"
   ]
  },
  {
   "cell_type": "markdown",
   "id": "1ded2f46",
   "metadata": {},
   "source": [
    "\n",
    "1. **Science (Ciencia):** Fomenta la curiosidad por el mundo natural y el desarrollo de habilidades científicas, como la observación, experimentación y análisis.\n"
   ]
  },
  {
   "cell_type": "markdown",
   "id": "e4475571",
   "metadata": {},
   "source": [
    "\n",
    "2. **Technology (Tecnología):** Integra herramientas tecnológicas para potenciar el aprendizaje y la resolución de problemas, promoviendo la alfabetización digital desde edades tempranas.\n"
   ]
  },
  {
   "cell_type": "markdown",
   "id": "c999a295",
   "metadata": {},
   "source": [
    "\n",
    "3. **Engineering (Ingeniería):** Introduce el pensamiento lógico y la resolución de problemas estructurados, fomentando habilidades como el diseño y la construcción de soluciones.\n",
    "\n",
    "4. **Arts (Arte):** Añade creatividad y pensamiento crítico, permitiendo a los estudiantes expresarse y explorar el aprendizaje a través de formas artísticas (plásticas, música, teatro).\n",
    "\n",
    "5. **Mathematics (Matemáticas):** Refuerza las habilidades numéricas y el razonamiento lógico, fundamentales en la resolución de problemas y comprensión de conceptos abstractos.\n",
    "\n",
    "6. **Social Sciences (Ciencias Sociales):** Incorpora la comprensión del entorno social, político, cultural y económico, promoviendo el desarrollo de la conciencia crítica sobre el mundo y su historia, además de habilidades de empatía y ciudadanía.\n"
   ]
  },
  {
   "cell_type": "markdown",
   "id": "39967d63",
   "metadata": {},
   "source": [
    "\n",
    "El enfoque STEAMS pretende desarrollar un aprendizaje **interdisciplinario** que integre estas áreas para fomentar un pensamiento más holístico y práctico. Se busca que los estudiantes no solo aprendan conocimientos técnicos, sino también cómo aplicarlos creativa y críticamente en situaciones reales, promoviendo habilidades como el trabajo en equipo, la comunicación y la innovación. En educación preescolar, primaria y secundaria, se adapta a las diferentes etapas de desarrollo cognitivo y emocional de los estudiantes, promoviendo el aprendizaje activo y contextualizado.  \n"
   ]
  },
  {
   "cell_type": "markdown",
   "id": "0130ec1b",
   "metadata": {},
   "source": [
    "\n",
    "<img src = 'https://www.campuseducacion.com/blog/wp-content/uploads/2023/03/foto01-1.jpg' width = 400>"
   ]
  },
  {
   "cell_type": "markdown",
   "id": "9d15c10d-2c02-4158-9419-b1ed79b4c1ee",
   "metadata": {},
   "source": [
    "# Qué estamos haciendo por la internalización en esta clase y este curso  \n"
   ]
  },
  {
   "cell_type": "markdown",
   "id": "976a8c8f",
   "metadata": {},
   "source": [
    "\n",
    "Este es un enfoque que trato de estructurar para internacionalizar mi práctica docente: "
   ]
  },
  {
   "cell_type": "markdown",
   "id": "964d9de7-53ee-4255-9bcd-d8e6454f2993",
   "metadata": {},
   "source": [
    "### 1. **Visión Global en la Formación Académica**\n",
    "   - **Competencias Internacionales**: Asegúrate de que el contenido de tus cursos fomente habilidades que sean reconocidas globalmente. Al educar a los estudiantes en **Python, LaTeX, Markdown y Jupyter Notebooks** y en la **introducción a la ciencia de datos y técnicas de Machine Learning**, estás proporcionando competencias altamente demandadas en los sectores tecnológicos y académicos a nivel internacional.\n",
    "   - **Relevancia de los Contenidos**: Destaca cómo los temas que enseñas, como el **desarrollo del pensamiento computacional** y la **ciencia de datos**, están alineados con las necesidades globales actuales en diversas industrias, desde la tecnología hasta las ciencias naturales y sociales.\n",
    "   - **Referencias a Estándares Internacionales**: Puedes vincular tu enseñanza a estándares internacionales de competencias en programación y ciencia de datos (por ejemplo, frameworks del **IEEE, ACM**, y estándares de la **data science** o la **computación en la nube**)."
   ]
  },
  {
   "cell_type": "markdown",
   "id": "0f1d110c-3142-48fe-9e7d-5fbd9e8bb931",
   "metadata": {},
   "source": [
    "### 2. **Innovación Pedagógica con Enfoque Internacional**\n",
    "   - **Aula Invertida y ABP**: Presenta cómo tu enfoque de **aula invertida** y **aprendizaje basado en problemas (ABP)** permite a los estudiantes trabajar de manera autónoma y colaborativa, lo que los prepara para escenarios laborales internacionales que requieren autoaprendizaje y habilidades de resolución de problemas en equipo.\n",
    "   - **Uso de Jupyter Notebooks**: El uso de **Jupyter Notebooks** en tus clases no solo facilita la **integración de código, matemáticas y texto**, sino que también es una plataforma utilizada globalmente en ambientes académicos y profesionales, lo que hace a tus estudiantes más competitivos internacionalmente."
   ]
  },
  {
   "cell_type": "markdown",
   "id": "960d52b7-03cd-4eb3-965e-5cdfeb7d9f8e",
   "metadata": {},
   "source": [
    "### 3. **Tecnología y Herramientas de Uso Global**\n",
    "   - **Lenguaje Python**: Python es uno de los lenguajes de programación más usados a nivel mundial, tanto en la academia como en la industria. Al formar a tus estudiantes en Python para ciencia de datos y machine learning, los preparas para operar en entornos tecnológicos globales.\n",
    "   - **Herramientas de Ciencia Abierta**: Resalta cómo herramientas como **GitHub**, **Google Colab** y otras plataformas de código abierto están alineadas con el movimiento de **ciencia abierta**, el cual es internacionalmente reconocido y permite que los estudiantes colaboren y compartan proyectos a nivel global."
   ]
  },
  {
   "cell_type": "markdown",
   "id": "3b2ffa32-7a6f-4545-ba7b-c6a69f51109f",
   "metadata": {},
   "source": [
    "### 4. **Investigación y Publicaciones Internacionales**\n",
    "   - **Promoción de la Investigación**: Detalla cómo promueves que tus estudiantes participen en proyectos de **investigación aplicada**, con posibilidad de publicación en revistas internacionales. Esto contribuye a la reputación internacional de la Universidad de Antioquia.\n",
    "   - **Colaboraciones Internacionales**: Si has colaborado con investigadores de otras instituciones o universidades en el extranjero, menciona estos proyectos y cómo han enriquecido tu enseñanza y proporcionado a los estudiantes una visión más globalizada."
   ]
  },
  {
   "cell_type": "markdown",
   "id": "5d1e396e-aece-4bf7-9421-32fa7809eaf4",
   "metadata": {},
   "source": [
    "### 5. **Uso del Inglés para la Internacionalización**\n",
    "   - **Comunicación Científica en Inglés**: Fomentar el aprendizaje del inglés como lengua científica es clave para que tus estudiantes puedan acceder a publicaciones internacionales, conferencias, y material académico que no está disponible en español. Esto es esencial para que adquieran competencias que les permitan desempeñarse en cualquier contexto internacional.\n",
    "   - **Material Bilingüe**: Al generar material educativo en Python, LaTeX y Markdown, considera ofrecer algunos de estos recursos en inglés, para que los estudiantes se familiaricen con el vocabulario técnico y científico internacional."
   ]
  },
  {
   "cell_type": "markdown",
   "id": "c6a8c3b0-426a-4692-a384-3065aea81c9a",
   "metadata": {},
   "source": [
    "### 6. **Certificaciones y Estándares Internacionales**\n",
    "   - **Participación en Certificaciones Internacionales**: Impulsa que los estudiantes busquen certificaciones internacionales en Python o ciencia de datos (como las ofrecidas por **Coursera, edX,** o **Google**). Estas certificaciones no solo validan sus competencias, sino que también incrementan el reconocimiento de la Universidad de Antioquia en el contexto internacional.\n",
    "   - **Alineación con Acreditaciones Internacionales**: Vincula tu trabajo docente con los estándares de acreditación y certificación que garantizan que la universidad siga siendo reconocida internacionalmente. Puedes vincularte con organizaciones internacionales que promuevan la excelencia en la educación y tecnología, como **ABET** para la acreditación en ingeniería y ciencias computacionales."
   ]
  },
  {
   "cell_type": "markdown",
   "id": "65d3d9e1-ea84-43e0-8197-a2a9c9e21594",
   "metadata": {},
   "source": [
    "### 7. **Proyectos Abiertos y Ciencia Reproducible**\n",
    "   - **GitHub y Open Science**: La utilización de **GitHub** para almacenar los proyectos y materiales de enseñanza en repositorios públicos permite que otros investigadores y educadores internacionales puedan revisar y replicar tu trabajo. Esto contribuye a la creación de una red de colaboración científica abierta.\n",
    "   - **Transparencia y Reproducibilidad**: La ciencia de datos y machine learning están profundamente ligados a la reproducibilidad. Asegura que tus estudiantes desarrollen prácticas de transparencia y documentación en la investigación, que son pilares en la comunidad científica global.\n",
    "\n",
    "### 8. **Participación en Redes y Conferencias Internacionales**\n",
    "   - **Presentación en Conferencias Internacionales**: Destaca cómo tu participación en conferencias internacionales (como la **ASCOLFA** o eventos sobre educación en matemáticas) contribuye al prestigio de la universidad y permite que tus prácticas sean evaluadas y reconocidas a nivel global.\n",
    "   - **Promoción de Estudiantes en Eventos Internacionales**: Impulsa la participación de tus estudiantes en competiciones internacionales de programación o hackathons, como los organizados por **Google**, **ACM** o **Kaggle**. Esto no solo desarrolla sus habilidades, sino que también visibiliza el talento de la Universidad de Antioquia a nivel global.\n",
    "\n",
    "---"
   ]
  },
  {
   "cell_type": "markdown",
   "id": "233294a4-1983-4641-a7ad-866825e02315",
   "metadata": {},
   "source": [
    "Con esta estrategia, puedes presentar tus acciones docentes en términos de competencias internacionales, innovación pedagógica, tecnología, investigación y participación en redes globales, asegurando que tu práctica esté alineada con los estándares internacionales y que tus estudiantes estén preparados para competir en contextos internacionales."
   ]
  },
  {
   "cell_type": "markdown",
   "id": "8d97dc80",
   "metadata": {
    "slideshow": {
     "slide_type": "slide"
    }
   },
   "source": [
    "## Fomento de la lectura para desarrollo de habilidades blandas: \n",
    "\n"
   ]
  },
  {
   "cell_type": "markdown",
   "id": "96775931",
   "metadata": {
    "slideshow": {
     "slide_type": "slide"
    }
   },
   "source": [
    "## Título de la clase: Teorema Fundamental de la Aritmética   \n",
    "\n",
    "[]()"
   ]
  },
  {
   "cell_type": "markdown",
   "id": "1d38dd4e",
   "metadata": {
    "slideshow": {
     "slide_type": "slide"
    }
   },
   "source": [
    "### Objetivo de aprendizaje  \n",
    "\n",
    "1. Que el licenciado sea conciente del contexto numérico donde está razonando. \n"
   ]
  },
  {
   "cell_type": "markdown",
   "id": "540f0ec1",
   "metadata": {
    "slideshow": {
     "slide_type": "slide"
    }
   },
   "source": [
    "## Cuestionario para realizar labores de memorización, observación y síntesis de la información (Además de diagnóstico)  \n",
    "[Realizar encuesta para participacion de todos los estudiantes para diagnosticar presaberes para la clase: mentimeter](https://www.mentimeter.com/es-ES/education/lectures)\n",
    "\n",
    "1. ¿Qué es un número primo?\n",
    "2. ¿Qué es un múltiplo de un número dado?\n",
    "3. ¿Cuándo un número entero divide a otro?\n",
    "4. ¿Cómo se define la relación \"divide a\" en los números enteros?\n",
    "5. ¿Qué hace la función módulo $n$?"
   ]
  },
  {
   "cell_type": "markdown",
   "id": "8e457ea2",
   "metadata": {},
   "source": [
    "# Definiciones y Resultados científicos a comprender y memorizar \n",
    "\n",
    "[Primera grabación en Vocaroo]()"
   ]
  },
  {
   "cell_type": "markdown",
   "id": "ca7261b1",
   "metadata": {
    "slideshow": {
     "slide_type": "slide"
    }
   },
   "source": [
    "## Establecimiento de prerrequisitos conceptuales para alcanzar el objetivo de aprendizaje trazado.   \n",
    "\n",
    "(Elabore una lista de preguntas al rededor de los conceptos que consideres necesarios para empezar la clase).  \n",
    "\n",
    "1. \n",
    "2. \n",
    "3. "
   ]
  },
  {
   "cell_type": "markdown",
   "id": "2298e976",
   "metadata": {
    "slideshow": {
     "slide_type": "slide"
    }
   },
   "source": [
    "# Para el diseño de la clase tenga en cuenta algunos problemas de aprendizaje"
   ]
  },
  {
   "cell_type": "markdown",
   "id": "523d3acf",
   "metadata": {
    "slideshow": {
     "slide_type": "slide"
    }
   },
   "source": []
  },
  {
   "cell_type": "markdown",
   "id": "a40a4704",
   "metadata": {
    "slideshow": {
     "slide_type": "slide"
    }
   },
   "source": [
    "## Secuencia conceptual introductoria a la clase"
   ]
  },
  {
   "cell_type": "markdown",
   "id": "8853d874",
   "metadata": {},
   "source": [
    "## El componente histórico y epistemológico"
   ]
  },
  {
   "cell_type": "markdown",
   "id": "e3ffa494",
   "metadata": {},
   "source": [
    "# Vocabulary   \n",
    "\n",
    "1. \n",
    "2.  \n",
    "3.  \n",
    "4.  \n",
    "5.  "
   ]
  },
  {
   "cell_type": "code",
   "execution_count": 2,
   "id": "6ff395c3",
   "metadata": {},
   "outputs": [],
   "source": [
    "# Traducción del inglés al español con python\n",
    "\n",
    "def traducir(texto):\n",
    "    from googletrans import Translator\n",
    "\n",
    "    translator = Translator() # instancia la clase \n",
    "\n",
    "    # Traducir al español\n",
    "    translation = translator.translate(texto, src='en', dest='es')\n",
    "    return translation.text"
   ]
  },
  {
   "cell_type": "code",
   "execution_count": 3,
   "id": "b583f414-ac87-4912-8a86-b338234d83d7",
   "metadata": {},
   "outputs": [
    {
     "ename": "ModuleNotFoundError",
     "evalue": "No module named 'googletrans'",
     "output_type": "error",
     "traceback": [
      "\u001b[1;31m---------------------------------------------------------------------------\u001b[0m",
      "\u001b[1;31mModuleNotFoundError\u001b[0m                       Traceback (most recent call last)",
      "Cell \u001b[1;32mIn[3], line 1\u001b[0m\n\u001b[1;32m----> 1\u001b[0m \u001b[43mtraducir\u001b[49m\u001b[43m(\u001b[49m\u001b[38;5;124;43m'\u001b[39;49m\u001b[38;5;124;43mHi\u001b[39;49m\u001b[38;5;124;43m'\u001b[39;49m\u001b[43m)\u001b[49m\n",
      "Cell \u001b[1;32mIn[2], line 4\u001b[0m, in \u001b[0;36mtraducir\u001b[1;34m(texto)\u001b[0m\n\u001b[0;32m      3\u001b[0m \u001b[38;5;28;01mdef\u001b[39;00m \u001b[38;5;21mtraducir\u001b[39m(texto):\n\u001b[1;32m----> 4\u001b[0m     \u001b[38;5;28;01mfrom\u001b[39;00m \u001b[38;5;21;01mgoogletrans\u001b[39;00m \u001b[38;5;28;01mimport\u001b[39;00m Translator\n\u001b[0;32m      6\u001b[0m     translator \u001b[38;5;241m=\u001b[39m Translator() \u001b[38;5;66;03m# instancia la clase \u001b[39;00m\n\u001b[0;32m      8\u001b[0m     \u001b[38;5;66;03m# Traducir al español\u001b[39;00m\n",
      "\u001b[1;31mModuleNotFoundError\u001b[0m: No module named 'googletrans'"
     ]
    }
   ],
   "source": [
    "traducir('Hi')"
   ]
  },
  {
   "cell_type": "code",
   "execution_count": null,
   "id": "bc0addfe",
   "metadata": {},
   "outputs": [
    {
     "data": {
      "text/plain": [
       "'C:\\\\Users\\\\marco\\\\Documentos\\\\docencia\\\\fundamentos_aritmetica\\\\Teorema Fundamental de la Aritmética.pdf'"
      ]
     },
     "execution_count": 1,
     "metadata": {},
     "output_type": "execute_result"
    }
   ],
   "source": [
    "# mapa conceptual para cada clase  \n",
    "from graphviz import Digraph\n",
    "\n",
    "# Crear un nuevo grafo dirigido\n",
    "dot = Digraph()\n",
    "\n",
    "# Añadir nodos y relaciones al grafo\n",
    "main_concept = 'Teorema Fundamental de la Aritmética'\n",
    "dot.node('A', main_concept)\n",
    "dot.node('B', 'Enteros')\n",
    "dot.node('C', 'Naturales')\n",
    "dot.node('D', 'Primos')\n",
    "dot.node('E', 'Compuestos')\n",
    "dot.node('F', 'La relación divide a')\n",
    "dot.node('G', 'La función módulo n')\n",
    "dot.node('H', 'El residuo de la división')\n",
    "dot.node('I', '')\n",
    "dot.node('J', '')\n",
    "\n",
    "dot.edges(['AB'])\n",
    "dot.edges(['AC'])\n",
    "dot.edges(['CD'])\n",
    "dot.edges(['DJ'])\n",
    "dot.edges(['EF'])\n",
    "dot.edges(['FG'])\n",
    "dot.edges(['GH'])\n",
    "dot.edges(['HI'])\n",
    "dot.edges(['IJ'])\n",
    "\n",
    "# Guardar el grafo como un archivo de imagen\n",
    "dot.render(filename=main_concept, format='png', cleanup=True, \\\n",
    "           directory='C:/Users/marco/Documentos/docencia/fundamentos_aritmetica')\n",
    "\n",
    "dot.view()\n"
   ]
  },
  {
   "cell_type": "markdown",
   "id": "10e55ccf",
   "metadata": {},
   "source": [
    "# Teorema Fundamental de la Aritmética \n",
    " "
   ]
  },
  {
   "cell_type": "markdown",
   "id": "d6c1a0be",
   "metadata": {},
   "source": [
    "\n",
    "#### **Objetivo de la Clase**\n",
    "El objetivo de esta clase es que los estudiantes comprendan \n",
    "* el **Teorema Fundamental de la Aritmética**, \n",
    "* la relación de divisibilidad en los números enteros, \n",
    "* la definición de números primos, y \n",
    "* sean capaces de implementar algoritmos de manera manuscrita o en Python para trabajar con números primos y sus propiedades. \n",
    "* Además, se busca que puedan descomponer números en factores primos, \n",
    "* usar la criba de Eratóstenes  para encontrar todos los números primos menores que un número dado, y \n",
    "\n",
    "* determinar tanto el número de divisores de un entero como sus divisores.\n"
   ]
  },
  {
   "cell_type": "markdown",
   "id": "92852ec6",
   "metadata": {},
   "source": [
    "¿-2|4?\n",
    "\n",
    "Si, porque existe un entero $-2$ tal que \n",
    "\n",
    "$$ 4 = (-2)(-2) $$"
   ]
  },
  {
   "cell_type": "code",
   "execution_count": null,
   "id": "4b1ec2e9",
   "metadata": {},
   "outputs": [
    {
     "data": {
      "text/plain": [
       "-2.0"
      ]
     },
     "execution_count": 11,
     "metadata": {},
     "output_type": "execute_result"
    }
   ],
   "source": [
    "4/-2"
   ]
  },
  {
   "cell_type": "code",
   "execution_count": null,
   "id": "72769aa3",
   "metadata": {},
   "outputs": [
    {
     "data": {
      "text/plain": [
       "0"
      ]
     },
     "execution_count": 12,
     "metadata": {},
     "output_type": "execute_result"
    }
   ],
   "source": [
    "4%-2"
   ]
  },
  {
   "cell_type": "markdown",
   "id": "6ab38454",
   "metadata": {},
   "source": [
    "¿Por qué se dice que el cero es visible por todo entero no nulo?  \n",
    "\n",
    "Es decir, $n | 0 $ para todo $n \\in \\mathbb{Z}$, $n \\neq 0$.\n",
    "\n",
    "$$ 0 = (0) n $$\n"
   ]
  },
  {
   "cell_type": "markdown",
   "id": "422c5133",
   "metadata": {},
   "source": [
    "\n",
    "#### **Competencias a Desarrollar**\n",
    "1. Comprensión de la **divisibilidad** en los números enteros y de la **definición de números primos**.\n",
    "2. Capacidad para **descomponer un número en factores primos**.\n",
    "3. Implementación de algoritmos de manera manuscrita y en Python, incluyendo la **Criba de Eratóstenes**.\n",
    "4. Determinación eficiente de si un número es primo o no utilizando **algoritmos actuales**.\n",
    "5. Determinación del **número de divisores** de un entero dado y sus **divisores**.\n"
   ]
  },
  {
   "cell_type": "code",
   "execution_count": null,
   "id": "a491523b",
   "metadata": {},
   "outputs": [
    {
     "data": {
      "text/plain": [
       "0"
      ]
     },
     "execution_count": 12,
     "metadata": {},
     "output_type": "execute_result"
    }
   ],
   "source": [
    "9997 % 13"
   ]
  },
  {
   "cell_type": "markdown",
   "id": "08c70f15",
   "metadata": {},
   "source": [
    "\n",
    "#### **Contenido de la Clase**\n",
    "\n",
    "1. **Introducción al Teorema Fundamental de la Aritmética**\n",
    "   - Enunciado: Todo entero positivo mayor que 1 se puede escribir de manera única (excepto por el orden de los factores) como producto de números primos.\n",
    "   - Explicación de la unicidad de la descomposición en factores primos.\n"
   ]
  },
  {
   "cell_type": "markdown",
   "id": "fb07b02b",
   "metadata": {},
   "source": [
    "\n",
    "2. **Relación de Divisibilidad en los Enteros**\n",
    "   - Definiciones básicas: divisores, múltiplos, y el significado de ser divisible.\n",
    "   - Propiedades de la divisibilidad.\n",
    "   - Introducción a los números primos: definición y ejemplos.\n"
   ]
  },
  {
   "cell_type": "markdown",
   "id": "cb370708",
   "metadata": {},
   "source": [
    "# Relación divide a: \n",
    "\n",
    "Decimos que de que un número \"$n$ divide a otro número entero $m$\", y escribimos: $n | m$,   si existe un entero $q$ tal que \n",
    "\n",
    "$$ m  = qn  $$"
   ]
  },
  {
   "cell_type": "markdown",
   "id": "3615b851",
   "metadata": {},
   "source": [
    "\n",
    "3. **Funciones en Python para Trabajar con Números Primos y Divisibilidad**\n",
    "   - Creación de una función para **verificar si un número es primo**.\n",
    "   - Función para **descomponer un entero en factores primos**.\n",
    "   - Implementación de la **Criba de Eratóstenes** para encontrar todos los números primos hasta un límite dado.\n",
    "     <img src = 'https://www.um.es/cepoat/radio/wp-content/uploads/2016/04/Erat%C3%B3stenes1.jpg' width = 200>\n",
    "   - Función para determinar si un número es primo usando **algoritmos actuales**.\n",
    "   - Función para encontrar el **número de divisores** y sus **divisores**.\n"
   ]
  },
  {
   "cell_type": "markdown",
   "id": "137b055c",
   "metadata": {},
   "source": [
    "\n",
    "#### **Actividades y Ejercicios**\n",
    "\n",
    "1. **Exploración de Números Primos**\n",
    "   - Investigar si números dados son primos o no utilizando la función creada.\n",
    "   - Implementar y probar la criba de Eratóstenes en Python.\n"
   ]
  },
  {
   "cell_type": "markdown",
   "id": "71aeeacd",
   "metadata": {},
   "source": [
    "\n",
    "2. **Descomposición en Factores Primos**\n",
    "   - Escribir un programa en Python que descomponga números en factores primos.\n",
    "   - Verificar la unicidad de la descomposición.\n"
   ]
  },
  {
   "cell_type": "markdown",
   "id": "e3067012",
   "metadata": {},
   "source": [
    "\n",
    "3. **Divisibilidad y Divisores**\n",
    "   - Escribir funciones para determinar todos los divisores de un número y contar cuántos son.\n",
    "   - Resolver ejercicios sobre la relación de divisibilidad.\n"
   ]
  },
  {
   "cell_type": "markdown",
   "id": "a13ef3e2",
   "metadata": {},
   "source": [
    "\n",
    "#### **Implementación en Python**\n",
    "\n",
    "1. **Función para Determinar si un Número es Primo**\n"
   ]
  },
  {
   "cell_type": "code",
   "execution_count": 13,
   "id": "ac4b8fe1",
   "metadata": {},
   "outputs": [],
   "source": [
    "def es_primo(n):\n",
    "    if n <= 1:\n",
    "       return False\n",
    "    if n <= 3:\n",
    "        return True\n",
    "    if n % 2 == 0 or n % 3 == 0:\n",
    "        return False\n",
    "    i = 5\n",
    "    while i * i <= n:\n",
    "        if n % i == 0 or n % (i + 2) == 0:\n",
    "            return False\n",
    "        i += 6\n",
    "    return True\n"
   ]
  },
  {
   "cell_type": "code",
   "execution_count": null,
   "id": "58ad8ce9",
   "metadata": {},
   "outputs": [
    {
     "data": {
      "text/plain": [
       "False"
      ]
     },
     "execution_count": 14,
     "metadata": {},
     "output_type": "execute_result"
    }
   ],
   "source": [
    "es_primo(9997)"
   ]
  },
  {
   "cell_type": "markdown",
   "id": "48243cf0",
   "metadata": {},
   "source": [
    "# Conclusiones de este algoritmo  \n",
    "\n",
    "* Los números enteros positivos mayores que 3 y menores que 25 y que no sean divisibles por 2 y or 3, son primos. \n",
    "\n",
    "[video de apoyo](https://www.youtube.com/watch?v=SKYRmcnzi64)\n"
   ]
  },
  {
   "cell_type": "markdown",
   "id": "4afaadb1",
   "metadata": {},
   "source": []
  },
  {
   "cell_type": "markdown",
   "id": "0aa31ebb",
   "metadata": {},
   "source": [
    "# Relación divide a: \n",
    "\n",
    "Decimos que $n | m$  si existe un entero $q$ tal que \n",
    "\n",
    "$$ m  = qn  $$"
   ]
  },
  {
   "cell_type": "code",
   "execution_count": null,
   "id": "678d1deb",
   "metadata": {},
   "outputs": [
    {
     "data": {
      "text/plain": [
       "12.454545454545455"
      ]
     },
     "execution_count": 19,
     "metadata": {},
     "output_type": "execute_result"
    }
   ],
   "source": [
    "137/11"
   ]
  },
  {
   "cell_type": "markdown",
   "id": "5a24e71b",
   "metadata": {},
   "source": [
    "\n",
    "2. **Función para Descomponer un Número en Factores Primos**\n"
   ]
  },
  {
   "cell_type": "code",
   "execution_count": null,
   "id": "d16f2e97",
   "metadata": {},
   "outputs": [],
   "source": [
    "def descomponer_en_primos(n):\n",
    "    factores = []\n",
    "    divisor = 2\n",
    "    while n > 1:\n",
    "        while n % divisor == 0:\n",
    "            factores.append(divisor)\n",
    "            n //= divisor\n",
    "        divisor += 1\n",
    "    return factores\n"
   ]
  },
  {
   "cell_type": "code",
   "execution_count": null,
   "id": "bc5e5566",
   "metadata": {},
   "outputs": [
    {
     "data": {
      "text/plain": [
       "[19, 67]"
      ]
     },
     "execution_count": 6,
     "metadata": {},
     "output_type": "execute_result"
    }
   ],
   "source": [
    "descomponer_en_primos(1273)"
   ]
  },
  {
   "cell_type": "markdown",
   "id": "141bb0f6",
   "metadata": {},
   "source": [
    "# Trabajo manual para los estudiantes en clase\n",
    "\n",
    "Para ayudar a tus estudiantes a seguir la ejecución de la función `descomponer_en_primos` en Python y realizar una **prueba de escritorio**, te ofrezco un formato detallado que pueden usar. "
   ]
  },
  {
   "cell_type": "markdown",
   "id": "0cb6dd37",
   "metadata": {},
   "source": [
    "La prueba de escritorio les permitirá entender paso a paso cómo se descompone un número en sus factores primos.\n"
   ]
  },
  {
   "cell_type": "markdown",
   "id": "bcc9e83c",
   "metadata": {},
   "source": [
    "\n",
    "### **Formato de Prueba de Escritorio**\n"
   ]
  },
  {
   "cell_type": "markdown",
   "id": "6477432a",
   "metadata": {},
   "source": [
    "\n",
    "#### **Datos de la función**\n",
    "- **Nombre de la función**: `descomponer_en_primos`\n",
    "- **Entrada**: Número entero `n`.\n",
    "- **Salida**: Lista de factores primos de `n`.\n"
   ]
  },
  {
   "cell_type": "markdown",
   "id": "e52251df",
   "metadata": {},
   "source": [
    "\n",
    "#### **Variables importantes**\n",
    "- `factores`: Lista que almacenará los factores primos.\n",
    "- `divisor`: Número entero que empieza en 2 y se incrementa para probar divisibilidad.\n",
    "- `n`: Número que se reduce sucesivamente al ser dividido por sus factores primos.\n"
   ]
  },
  {
   "cell_type": "markdown",
   "id": "7419aa5e",
   "metadata": {},
   "source": [
    "\n",
    "#### **Formato de Seguimiento**\n",
    "\n",
    "| Paso | `n` (entrada) | `divisor` | ¿Si el residuo de la division es cero?| `factores` | `n` (actualizado) | Comentario |\n",
    "|------|----------------|-----------|---------------------|------------|-------------------|------------|\n",
    "| 0    |  Inicial \\(n\\) | 2         |                     | `[]`       | Inicial \\(n\\)     | Inicializa variables |\n",
    "| 1    |                |           |                     |            |                   | Comienza el primer ciclo `while` (`n > 1`) |\n",
    "| 2    |                |           |                     |            |                   | Comienza el segundo ciclo `while` (`n % divisor == 0`) |\n",
    "| 3  |                |           |                     |            |                   | ... |\n",
    "| 4    |                |           |                     |            |                   | Incrementa el `divisor` |\n",
    "|5||||||  \n",
    "|6||||||\n",
    "|7||||||"
   ]
  },
  {
   "cell_type": "markdown",
   "id": "e468d3e4",
   "metadata": {},
   "source": [
    "\n",
    "#### **Indicaciones para el Estudiante**\n",
    "1. **Inicialización**: Escribe el valor inicial de `n` en la tabla.\n",
    "2. **Ciclo Externo (`while n > 1`)**: Indica cada vez que entras en el ciclo principal, verificando si `n` sigue siendo mayor que 1.\n",
    "3. **Ciclo Interno (`while n % divisor == 0`)**: \n",
    "   - Si la condición es verdadera (`n % divisor == 0`), añade el `divisor` a la lista de `factores`.\n",
    "   - Actualiza `n` dividiéndolo entre `divisor` y anota el nuevo valor de `n`.\n",
    "   - Repite hasta que `n % divisor` sea diferente de 0.\n",
    "4. **Actualización del `divisor`**: Una vez que `n % divisor` no sea 0, incrementa `divisor` en 1 y vuelve al ciclo principal.\n",
    "5. **Finalización**: La función termina cuando `n` llega a ser 1. Anota la lista final de `factores`.\n"
   ]
  },
  {
   "cell_type": "markdown",
   "id": "72b39a27",
   "metadata": {},
   "source": [
    "\n",
    "### **Ejemplo de Prueba de Escritorio: Entrada \\( n = 28 \\)**\n",
    "\n",
    "| Paso | `n` | `divisor` | ¿El residuo de la división es cero? | `factores`      | `n` (actualizado) | Comentario                        |\n",
    "|------|-----|-----------|--------------------|-----------------|-------------------|----------------------------------|\n",
    "| 0    | 28  | 2         |                    | `[]`            | 28                | Inicializa `n` y `divisor` en 2 |\n",
    "| 1    | 28  | 2         | 28 % 2 == 0 (True) | `[2]`           | 14                | `2` es factor, `n` ahora es 14  |\n",
    "| 2    | 14  | 2         | 14 % 2 == 0 (True) | `[2, 2]`        | 7                 | `2` es factor de nuevo, `n` ahora es 7 |\n",
    "| 3    | 7   | 2         | 7 % 2 == 0 (False) | `[2, 2]`        | 7                 | Incrementa `divisor` a 3        |\n",
    "| 4    | 7   | 3         | 7 % 3 == 0 (False) | `[2, 2]`        | 7                 | Incrementa `divisor` a 4        |\n",
    "| 5    | 7   | 4         | 7 % 4 == 0 (False) | `[2, 2]`        | 7                 | Incrementa `divisor` a 5        |\n",
    "| 6    | 7   | 5         | 7 % 5 == 0 (False) | `[2, 2]`        | 7                 | Incrementa `divisor` a 6        |\n",
    "| 7    | 7   | 6         | 7 % 6 == 0 (False) | `[2, 2]`        | 7                 | Incrementa `divisor` a 7        |\n",
    "| 8    | 7   | 7         | 7 % 7 == 0 (True)  | `[2, 2, 7]`     | 1                 | `7` es factor, `n` ahora es 1   |\n",
    "| 9    | 1   | -         |                    | `[2, 2, 7]`     | -                 | Fin del ciclo, `n` es 1         |\n",
    "\n",
    "### **Conclusión del Ejemplo**\n",
    "- Para `n = 28`, la lista final de factores primos es `[2, 2, 7]`.\n",
    "- La tabla muestra paso a paso cada decisión y cálculo que realiza la función.\n",
    "\n",
    "Este formato les proporcionará a tus estudiantes una guía clara para seguir la secuencia del algoritmo a mano y entender el proceso de descomposición en factores primos."
   ]
  },
  {
   "cell_type": "markdown",
   "id": "0d3969b7",
   "metadata": {},
   "source": [
    "\n",
    "3. **Función para Implementar la Criba de Eratóstenes**\n"
   ]
  },
  {
   "cell_type": "code",
   "execution_count": null,
   "id": "3e703919",
   "metadata": {},
   "outputs": [],
   "source": [
    "def criba_de_eratostenes(limite):\n",
    "    primos = [True] * (limite + 1)\n",
    "    p = 2\n",
    "    while p * p <= limite:\n",
    "        if primos[p]:\n",
    "            for i in range(p * p, limite + 1, p):\n",
    "                primos[i] = False\n",
    "        p += 1\n",
    "    return [p for p in range(2, limite + 1) if primos[p]]\n",
    "\n"
   ]
  },
  {
   "cell_type": "code",
   "execution_count": null,
   "id": "b7d8a32e",
   "metadata": {},
   "outputs": [
    {
     "data": {
      "text/plain": [
       "[2,\n",
       " 3,\n",
       " 5,\n",
       " 7,\n",
       " 11,\n",
       " 13,\n",
       " 17,\n",
       " 19,\n",
       " 23,\n",
       " 29,\n",
       " 31,\n",
       " 37,\n",
       " 41,\n",
       " 43,\n",
       " 47,\n",
       " 53,\n",
       " 59,\n",
       " 61,\n",
       " 67,\n",
       " 71,\n",
       " 73,\n",
       " 79]"
      ]
     },
     "execution_count": 39,
     "metadata": {},
     "output_type": "execute_result"
    }
   ],
   "source": [
    "criba_de_eratostenes(80)\n",
    "\n",
    "# https://es.wikipedia.org/wiki/Criba_de_Erat%C3%B3stenes#/media/Archivo:Sieve_of_Eratosthenes_animation.gif"
   ]
  },
  {
   "cell_type": "code",
   "execution_count": null,
   "id": "5ea35755",
   "metadata": {},
   "outputs": [
    {
     "data": {
      "text/plain": [
       "False"
      ]
     },
     "execution_count": 38,
     "metadata": {},
     "output_type": "execute_result"
    }
   ],
   "source": [
    "es_primo(91)"
   ]
  },
  {
   "cell_type": "markdown",
   "id": "bd8ebbac",
   "metadata": {},
   "source": [
    "\n",
    "4. **Función para Determinar si un Número es Primo (Algoritmo Eficiente)**\n"
   ]
  },
  {
   "cell_type": "code",
   "execution_count": 5,
   "id": "21ba4959",
   "metadata": {},
   "outputs": [],
   "source": [
    "import sympy\n",
    "\n",
    "def es_primo_eficiente(n):\n",
    "    return sympy.isprime(n)\n",
    "\n"
   ]
  },
  {
   "cell_type": "code",
   "execution_count": 6,
   "id": "b7d7e293",
   "metadata": {},
   "outputs": [
    {
     "data": {
      "text/plain": [
       "False"
      ]
     },
     "execution_count": 6,
     "metadata": {},
     "output_type": "execute_result"
    }
   ],
   "source": [
    "es_primo_eficiente(10)"
   ]
  },
  {
   "cell_type": "markdown",
   "id": "1290b7ce",
   "metadata": {},
   "source": [
    "\n",
    "5. **Función para Determinar el Número de Divisores de un Entero**\n"
   ]
  },
  {
   "cell_type": "code",
   "execution_count": 22,
   "id": "0e3d9fb0",
   "metadata": {},
   "outputs": [],
   "source": [
    "def numero_de_divisores(n):\n",
    "    count = 0\n",
    "    for i in range(1, int(n**0.5) + 1):\n",
    "        if n % i == 0:\n",
    "            count += 1 if i * i == n else 2\n",
    "    return count\n"
   ]
  },
  {
   "cell_type": "code",
   "execution_count": null,
   "id": "6684bef8",
   "metadata": {},
   "outputs": [
    {
     "data": {
      "text/plain": [
       "4"
      ]
     },
     "execution_count": 4,
     "metadata": {},
     "output_type": "execute_result"
    }
   ],
   "source": [
    "numero_de_divisores(10)"
   ]
  },
  {
   "cell_type": "markdown",
   "id": "f6105cd1",
   "metadata": {},
   "source": [
    "\n",
    "6. **Función para Encontrar Todos los Divisores de un Entero**\n"
   ]
  },
  {
   "cell_type": "code",
   "execution_count": 23,
   "id": "9f8352aa",
   "metadata": {},
   "outputs": [],
   "source": [
    "def divisores(n):\n",
    "    divs = []\n",
    "    for i in range(1, int(n**0.5) + 1):\n",
    "        if n % i == 0:\n",
    "            divs.append(i)\n",
    "            if i != n // i:\n",
    "                divs.append(n // i)\n",
    "    return sorted(divs)\n",
    "\n"
   ]
  },
  {
   "cell_type": "code",
   "execution_count": null,
   "id": "23daf7cd",
   "metadata": {},
   "outputs": [
    {
     "data": {
      "text/plain": [
       "[1, 2, 5, 10]"
      ]
     },
     "execution_count": 2,
     "metadata": {},
     "output_type": "execute_result"
    }
   ],
   "source": [
    "divisores(10)"
   ]
  },
  {
   "cell_type": "markdown",
   "id": "7b5bd8a0",
   "metadata": {},
   "source": [
    "\n",
    "#### **Evaluación y Cierre**\n",
    "- **Ejercicios Prácticos**: Los estudiantes deben usar las funciones implementadas para resolver una serie de problemas de números primos, descomposición en factores primos, y divisibilidad.\n",
    "- **Discusión en Grupo**: Reflexionar sobre la importancia de los números primos y su uso en diferentes áreas, como la criptografía.\n",
    "- **Proyecto Final**: Implementar un programa en Python que permita analizar números primos en un rango determinado y proporcione la descomposición en factores primos junto con los divisores de cualquier número dado.\n",
    "\n",
    "Este diseño integra teoría y práctica para que los estudiantes adquieran habilidades en matemáticas y programación al mismo tiempo."
   ]
  },
  {
   "cell_type": "markdown",
   "id": "64ac8d32",
   "metadata": {},
   "source": [
    "# Ejemplo ilustrativo"
   ]
  },
  {
   "cell_type": "markdown",
   "id": "a3e5e6ab",
   "metadata": {},
   "source": [
    "# 10 ejercicios de entrenamiento o adquisición de habilidades obtenido a través de ChatGPT para una formación personalizada y centrada en la habilidad que se quiere lograr con la enseñanza del ejemplo anterior"
   ]
  },
  {
   "cell_type": "markdown",
   "id": "cc539357",
   "metadata": {},
   "source": [
    "\n",
    "### Ejercicio 1: Comprender el Teorema Fundamental de la Aritmética\n",
    "**Instrucción**: Descompón los siguientes números en factores primos y verifica que cada descomposición es única (excepto por el orden de los factores):\n",
    "- a) 60\n",
    "- b) 84\n",
    "- c) 210\n",
    "- d) 315\n",
    "\n",
    "*Objetivo*: Aplicar el Teorema Fundamental de la Aritmética y entender la unicidad de la factorización en primos.\n",
    "\n",
    "---\n"
   ]
  },
  {
   "cell_type": "markdown",
   "id": "edcbbf6d",
   "metadata": {},
   "source": [
    "\n",
    "### Ejercicio 2: Identificar Números Primos\n",
    "**Instrucción**: Determine si los números naturales dados son son primos o no a mano y luego verifique con la función que python le provee. Los números son: 29, 57, 97 y 101 son primos.\n",
    "\n",
    "*Objetivo*: Comprender la definición de números primos y practicar la implementación de un algoritmo en Python.\n",
    "\n",
    "---\n"
   ]
  },
  {
   "cell_type": "code",
   "execution_count": 10,
   "id": "9f43883c",
   "metadata": {},
   "outputs": [
    {
     "data": {
      "text/plain": [
       "True"
      ]
     },
     "execution_count": 10,
     "metadata": {},
     "output_type": "execute_result"
    }
   ],
   "source": [
    "es_primo_eficiente(977)"
   ]
  },
  {
   "cell_type": "code",
   "execution_count": 15,
   "id": "23bbd4a5",
   "metadata": {},
   "outputs": [
    {
     "data": {
      "text/plain": [
       "[True, False, False, True, False, True, False, False, True, True]"
      ]
     },
     "execution_count": 15,
     "metadata": {},
     "output_type": "execute_result"
    }
   ],
   "source": [
    "import numpy as np \n",
    "numeros_para_ensayar = [101, 111, 121, 131, 141, 151, 161, 171, 181, 191]\n",
    "[es_primo(numero) for numero in numeros_para_ensayar]"
   ]
  },
  {
   "cell_type": "markdown",
   "id": "7ffa8225",
   "metadata": {},
   "source": [
    "\n",
    "### Ejercicio 3: Divisibilidad en los Números Enteros\n",
    "**Instrucción**: Determine, a mano, si $n | m$ con: \n",
    "  * la operación que me da el residuo de la división (es decir, la operación módulo)\n",
    "  * Verifique si un número $n$ es divisor de otro con la función módulo de python (%). \n",
    "   \n",
    "- a) 15 y 75\n",
    "- b) 24 y 100\n",
    "- c) 36 y 144\n",
    "- d) 101 y 202\n",
    "\n",
    "*Objetivo*: Comprender la relación de divisibilidad y practicar la implementación de algoritmos en Python para trabajar con divisibilidad.\n",
    "\n",
    "---\n"
   ]
  },
  {
   "cell_type": "code",
   "execution_count": 21,
   "id": "55782624",
   "metadata": {},
   "outputs": [
    {
     "data": {
      "text/plain": [
       "0"
      ]
     },
     "execution_count": 21,
     "metadata": {},
     "output_type": "execute_result"
    }
   ],
   "source": [
    "75 % 15"
   ]
  },
  {
   "cell_type": "code",
   "execution_count": 17,
   "id": "a6d54c34",
   "metadata": {},
   "outputs": [],
   "source": [
    "def es_divisor_de(divisor, dividendo):\n",
    "    if  dividendo % divisor == 0:\n",
    "        print(f'El número {divisor} si divide a {dividendo}')\n",
    "    else: \n",
    "        print(f'El número {divisor} No divide a {dividendo}')    \n"
   ]
  },
  {
   "cell_type": "code",
   "execution_count": 20,
   "id": "f4bf2c0c",
   "metadata": {},
   "outputs": [
    {
     "name": "stdout",
     "output_type": "stream",
     "text": [
      "El número 8 No divide a 10\n"
     ]
    }
   ],
   "source": [
    "es_divisor_de(8, 10)"
   ]
  },
  {
   "cell_type": "markdown",
   "id": "a6bcde62",
   "metadata": {},
   "source": [
    "\n",
    "### Ejercicio 4: Criba de Eratóstenes\n",
    "**Instrucción**: Implementa la **Criba de Eratóstenes** a mano en su cuaderno y luego verifique usando la siguiente función en Python para encontrar todos los números primos menores que 200. Imprime la lista de números primos obtenida y verifica su corrección.\n",
    "\n",
    "*Objetivo*: Aprender a utilizar la Criba de Eratóstenes y comprender su eficiencia para la generación de números primos.\n",
    "\n",
    "---\n"
   ]
  },
  {
   "cell_type": "code",
   "execution_count": 14,
   "id": "3a24d743",
   "metadata": {},
   "outputs": [
    {
     "data": {
      "text/plain": [
       "[2,\n",
       " 3,\n",
       " 5,\n",
       " 7,\n",
       " 11,\n",
       " 13,\n",
       " 17,\n",
       " 19,\n",
       " 23,\n",
       " 29,\n",
       " 31,\n",
       " 37,\n",
       " 41,\n",
       " 43,\n",
       " 47,\n",
       " 53,\n",
       " 59,\n",
       " 61,\n",
       " 67,\n",
       " 71,\n",
       " 73,\n",
       " 79,\n",
       " 83,\n",
       " 89,\n",
       " 97]"
      ]
     },
     "execution_count": 14,
     "metadata": {},
     "output_type": "execute_result"
    }
   ],
   "source": [
    "criba_de_eratostenes(100)"
   ]
  },
  {
   "cell_type": "markdown",
   "id": "98102750",
   "metadata": {},
   "source": [
    "\n",
    "### Ejercicio 5: Descomposición en Factores Primos\n",
    "**Instrucción**: Descomponga los siguientes números como producto de ponencias de primos y luego verifique su resultado usando la función en Python llamada `descomponer_en_primos()` que descompone cualquier número entero positivo en sus factores primos y devuelva una lista con estos factores. Los números que debe descomponer son: 120, 196, 210 y 256.\n",
    "\n",
    "*Objetivo*: Aplicar el Teorema Fundamental de la Aritmética y practicar la descomposición en factores primos a mano y verificando con Python.\n",
    "\n",
    "---\n"
   ]
  },
  {
   "cell_type": "code",
   "execution_count": 23,
   "id": "60e87dbb",
   "metadata": {},
   "outputs": [
    {
     "data": {
      "text/plain": [
       "[2, 2, 2, 3, 5]"
      ]
     },
     "execution_count": 23,
     "metadata": {},
     "output_type": "execute_result"
    }
   ],
   "source": [
    "descomponer_en_primos(120)"
   ]
  },
  {
   "cell_type": "markdown",
   "id": "86cdfc2d",
   "metadata": {},
   "source": [
    "\n",
    "### Ejercicio 6: Divisores y Número de Divisores de un Entero\n",
    "**Instrucción**: \n",
    "* Determina a mano, en su cuaderno, los divisores y la cantidad de divisores que tiene cada uno de los siguientes enteros positivos.\n",
    "  Lo hace desclomponiendo el número dado en factores primos y luego, tomando todas las posibles combinaciones de productos de ellos. \n",
    "* Luego usa la función `numero_de_divisores()` de python, para verificar el resultado al que llegaste. Los números enteros a los que debes determinar su número de divisores es: 36, 100, 121 y 180.\n",
    "\n",
    "*Objetivo*: Determinar la cantidad de divisores de un número y verificar la implementación del algoritmo con Python.\n",
    "\n",
    "---\n"
   ]
  },
  {
   "cell_type": "code",
   "execution_count": 24,
   "id": "c3f5108e",
   "metadata": {},
   "outputs": [
    {
     "data": {
      "text/plain": [
       "[1, 2, 3, 4, 6, 9, 12, 18, 36]"
      ]
     },
     "execution_count": 24,
     "metadata": {},
     "output_type": "execute_result"
    }
   ],
   "source": [
    "divisores(36)"
   ]
  },
  {
   "cell_type": "code",
   "execution_count": 25,
   "id": "db16c8eb",
   "metadata": {},
   "outputs": [
    {
     "data": {
      "text/plain": [
       "9"
      ]
     },
     "execution_count": 25,
     "metadata": {},
     "output_type": "execute_result"
    }
   ],
   "source": [
    "numero_de_divisores(36)"
   ]
  },
  {
   "cell_type": "markdown",
   "id": "4daa8fb0",
   "metadata": {},
   "source": [
    "\n",
    "### Ejercicio 7: Listar Divisores de un Entero\n",
    "**Instrucción**: Determine a mano, en su cuaderno, todos los divisores de los siguientes números enteros:  45, 56, 72 y 144. Verifique su resultado usando la función `obtener_divisores()`\n",
    "\n",
    "*Objetivo*: Listar los divisores de un número entero y fortalecer habilidades en programación con Python.\n",
    "\n",
    "---\n"
   ]
  },
  {
   "cell_type": "code",
   "execution_count": 24,
   "id": "5796a51b",
   "metadata": {},
   "outputs": [],
   "source": [
    "def obtener_divisores(n):\n",
    "    \"\"\"\n",
    "    Devuelve una lista de divisores de un número entero positivo n.\n",
    "    \n",
    "    Parámetros:\n",
    "    n (int): Número entero positivo para el cual se calcularán los divisores.\n",
    "\n",
    "    Retorna:\n",
    "    list: Lista de divisores de n.\n",
    "    \"\"\"\n",
    "    if n <= 0:\n",
    "        return \"El número debe ser entero positivo.\"\n",
    "    \n",
    "    divisores = []\n",
    "    for i in range(1, n + 1):\n",
    "        if n % i == 0:\n",
    "            divisores.append(i)\n",
    "    \n",
    "    return divisores\n",
    "\n"
   ]
  },
  {
   "cell_type": "code",
   "execution_count": 25,
   "id": "68eba374",
   "metadata": {},
   "outputs": [
    {
     "data": {
      "text/plain": [
       "[1, 3, 5, 9, 15, 45]"
      ]
     },
     "execution_count": 25,
     "metadata": {},
     "output_type": "execute_result"
    }
   ],
   "source": [
    "obtener_divisores(45)"
   ]
  },
  {
   "cell_type": "code",
   "execution_count": 26,
   "id": "1000199e",
   "metadata": {},
   "outputs": [
    {
     "data": {
      "text/plain": [
       "6"
      ]
     },
     "execution_count": 26,
     "metadata": {},
     "output_type": "execute_result"
    }
   ],
   "source": [
    "numero_de_divisores(45)"
   ]
  },
  {
   "cell_type": "markdown",
   "id": "144c695b",
   "metadata": {},
   "source": [
    "\n",
    "### Ejercicio 8: Verificación de la Unicidad de la Descomposición en Primos\n",
    "**Instrucción**: Dado un número compuesto, como 126, descompónlo en factores primos manualmente y después verifica tu respuesta utilizando la función de factorización creada en el ejercicio 5. Discute por qué la factorización es única.\n",
    "\n",
    "*Objetivo*: Reforzar el Teorema Fundamental de la Aritmética y la idea de unicidad en la factorización en primos.\n",
    "\n",
    "---\n"
   ]
  },
  {
   "cell_type": "code",
   "execution_count": 27,
   "id": "37196ef2",
   "metadata": {},
   "outputs": [
    {
     "data": {
      "text/plain": [
       "[2, 3, 3, 7]"
      ]
     },
     "execution_count": 27,
     "metadata": {},
     "output_type": "execute_result"
    }
   ],
   "source": [
    "descomponer_en_primos(126)"
   ]
  },
  {
   "cell_type": "markdown",
   "id": "1e1c8559",
   "metadata": {},
   "source": [
    "\n",
    "### Ejercicio 9: Números Primos Gemelos\n",
    "**Instrucción**: Encuentre a mano, en su cuaderno, todos los pares de números primos gemelos menores que 100. (Los números primos gemelos son pares de números primos que están separados por 1 entero, es decir, pares de primos cuya diferencia es 2, como 11 y 13).\n",
    "\n",
    "*Objetivo*: Explorar propiedades de los números primos y practicar algoritmos de búsqueda en Python.\n",
    "\n",
    "---\n"
   ]
  },
  {
   "cell_type": "code",
   "execution_count": 3,
   "id": "31d5dfa5",
   "metadata": {},
   "outputs": [],
   "source": [
    "def es_primo(n):\n",
    "    \"\"\"\n",
    "    Determina si un número es primo.\n",
    "    \n",
    "    Parámetros:\n",
    "    n (int): Número entero a verificar.\n",
    "\n",
    "    Retorna:\n",
    "    bool: True si n es primo, False en caso contrario.\n",
    "    \"\"\"\n",
    "    if n < 2:\n",
    "        return False\n",
    "    for i in range(2, int(n**0.5) + 1):\n",
    "        if n % i == 0:\n",
    "            return False\n",
    "    return True\n"
   ]
  },
  {
   "cell_type": "code",
   "execution_count": 1,
   "id": "9e8a8c1b",
   "metadata": {},
   "outputs": [],
   "source": [
    "\n",
    "def encontrar_pares_primos_con_diferencia(d):\n",
    "    if d < 1:\n",
    "        return \"La diferencia debe ser al menos 1.\"\n",
    "\n",
    "    pares_encontrados = []  # Lista para almacenar los pares encontrados\n",
    "    n = 2  # Primer número para verificar si es primo\n",
    "\n",
    "    # Continuar la búsqueda hasta encontrar al menos dos pares\n",
    "    while len(pares_encontrados) < 1:\n",
    "        # Verifica si n y n + d son primos y cumplen la condición\n",
    "        if es_primo(n) and es_primo(n + d):\n",
    "            pares_encontrados.append((n, n + d))  # Añade el par a la lista\n",
    "        n += 1  # Incrementa para verificar el siguiente número primo\n",
    "\n",
    "    return pares_encontrados\n"
   ]
  },
  {
   "cell_type": "code",
   "execution_count": 10,
   "id": "0da17967",
   "metadata": {},
   "outputs": [
    {
     "ename": "KeyboardInterrupt",
     "evalue": "",
     "output_type": "error",
     "traceback": [
      "\u001b[1;31m---------------------------------------------------------------------------\u001b[0m",
      "\u001b[1;31mKeyboardInterrupt\u001b[0m                         Traceback (most recent call last)",
      "Cell \u001b[1;32mIn[10], line 3\u001b[0m\n\u001b[0;32m      1\u001b[0m \u001b[38;5;66;03m# Ejemplo de uso:\u001b[39;00m\n\u001b[0;32m      2\u001b[0m diferencia \u001b[38;5;241m=\u001b[39m \u001b[38;5;241m13\u001b[39m\n\u001b[1;32m----> 3\u001b[0m resultado \u001b[38;5;241m=\u001b[39m \u001b[43mencontrar_pares_primos_con_diferencia\u001b[49m\u001b[43m(\u001b[49m\u001b[43mdiferencia\u001b[49m\u001b[43m)\u001b[49m\n\u001b[0;32m      4\u001b[0m \u001b[38;5;28;01mif\u001b[39;00m resultado:\n\u001b[0;32m      5\u001b[0m     \u001b[38;5;28mprint\u001b[39m(\u001b[38;5;124mf\u001b[39m\u001b[38;5;124m\"\u001b[39m\u001b[38;5;124mPares de primos con diferencia >= \u001b[39m\u001b[38;5;132;01m{\u001b[39;00mdiferencia\u001b[38;5;132;01m}\u001b[39;00m\u001b[38;5;124m: \u001b[39m\u001b[38;5;132;01m{\u001b[39;00mresultado\u001b[38;5;132;01m}\u001b[39;00m\u001b[38;5;124m\"\u001b[39m)\n",
      "Cell \u001b[1;32mIn[4], line 20\u001b[0m, in \u001b[0;36mencontrar_pares_primos_con_diferencia\u001b[1;34m(d)\u001b[0m\n\u001b[0;32m     17\u001b[0m \u001b[38;5;66;03m# Continuar la búsqueda hasta encontrar al menos dos pares\u001b[39;00m\n\u001b[0;32m     18\u001b[0m \u001b[38;5;28;01mwhile\u001b[39;00m \u001b[38;5;28mlen\u001b[39m(pares_encontrados) \u001b[38;5;241m<\u001b[39m \u001b[38;5;241m1\u001b[39m:\n\u001b[0;32m     19\u001b[0m     \u001b[38;5;66;03m# Verifica si n y n + d son primos y cumplen la condición\u001b[39;00m\n\u001b[1;32m---> 20\u001b[0m     \u001b[38;5;28;01mif\u001b[39;00m \u001b[43mes_primo\u001b[49m\u001b[43m(\u001b[49m\u001b[43mn\u001b[49m\u001b[43m)\u001b[49m \u001b[38;5;129;01mand\u001b[39;00m es_primo(n \u001b[38;5;241m+\u001b[39m d):\n\u001b[0;32m     21\u001b[0m         pares_encontrados\u001b[38;5;241m.\u001b[39mappend((n, n \u001b[38;5;241m+\u001b[39m d))  \u001b[38;5;66;03m# Añade el par a la lista\u001b[39;00m\n\u001b[0;32m     22\u001b[0m     n \u001b[38;5;241m+\u001b[39m\u001b[38;5;241m=\u001b[39m \u001b[38;5;241m1\u001b[39m  \u001b[38;5;66;03m# Incrementa para verificar el siguiente número primo\u001b[39;00m\n",
      "Cell \u001b[1;32mIn[3], line 14\u001b[0m, in \u001b[0;36mes_primo\u001b[1;34m(n)\u001b[0m\n\u001b[0;32m     12\u001b[0m     \u001b[38;5;28;01mreturn\u001b[39;00m \u001b[38;5;28;01mFalse\u001b[39;00m\n\u001b[0;32m     13\u001b[0m \u001b[38;5;28;01mfor\u001b[39;00m i \u001b[38;5;129;01min\u001b[39;00m \u001b[38;5;28mrange\u001b[39m(\u001b[38;5;241m2\u001b[39m, \u001b[38;5;28mint\u001b[39m(n\u001b[38;5;241m*\u001b[39m\u001b[38;5;241m*\u001b[39m\u001b[38;5;241m0.5\u001b[39m) \u001b[38;5;241m+\u001b[39m \u001b[38;5;241m1\u001b[39m):\n\u001b[1;32m---> 14\u001b[0m     \u001b[38;5;28;01mif\u001b[39;00m n \u001b[38;5;241m%\u001b[39m i \u001b[38;5;241m==\u001b[39m \u001b[38;5;241m0\u001b[39m:\n\u001b[0;32m     15\u001b[0m         \u001b[38;5;28;01mreturn\u001b[39;00m \u001b[38;5;28;01mFalse\u001b[39;00m\n\u001b[0;32m     16\u001b[0m \u001b[38;5;28;01mreturn\u001b[39;00m \u001b[38;5;28;01mTrue\u001b[39;00m\n",
      "\u001b[1;31mKeyboardInterrupt\u001b[0m: "
     ]
    }
   ],
   "source": [
    "\n",
    "# Ejemplo de uso:\n",
    "diferencia = 13\n",
    "resultado = encontrar_pares_primos_con_diferencia(diferencia)\n",
    "if resultado:\n",
    "    print(f\"Pares de primos con diferencia >= {diferencia}: {resultado}\")\n",
    "else:\n",
    "    print(f\"No se encontraron pares de primos con diferencia >= {diferencia}.\")\n"
   ]
  },
  {
   "cell_type": "code",
   "execution_count": 5,
   "id": "407428b1",
   "metadata": {},
   "outputs": [
    {
     "data": {
      "text/plain": [
       "0"
      ]
     },
     "execution_count": 5,
     "metadata": {},
     "output_type": "execute_result"
    }
   ],
   "source": [
    "len([])"
   ]
  },
  {
   "cell_type": "markdown",
   "id": "198afb95",
   "metadata": {},
   "source": [
    "\n",
    "### Ejercicio 10: Primos en un Rango de Números\n",
    "**Instrucción**: Encuentra a mano, en tú cuaderno, todos los números primos en el rango entre 50 y 150. Verifica tu resultado con la siguiente función en lenguaje Python:\n",
    "\n",
    "*Objetivo*: Aplicar algoritmos de generación de números primos y comprender cómo buscar primos en un intervalo determinado.\n",
    "\n",
    "---\n"
   ]
  },
  {
   "cell_type": "markdown",
   "id": "6a956f5d",
   "metadata": {},
   "source": [
    "\n",
    "Estos ejercicios cubren todos los objetivos de aprendizaje y permiten que los estudiantes exploren los conceptos de manera teórica y práctica, a mano y verificando con funciones de usuario en lenguaje Python."
   ]
  },
  {
   "cell_type": "code",
   "execution_count": 11,
   "id": "6fbb1d23",
   "metadata": {},
   "outputs": [],
   "source": [
    "def primos_en_rango(limite_inferior, limite_superior):\n",
    "    \"\"\"\n",
    "    Devuelve una lista de números primos en un rango dado.\n",
    "    \n",
    "    Parámetros:\n",
    "    limite_inferior (int): El límite inferior del rango (incluido).\n",
    "    limite_superior (int): El límite superior del rango (incluido).\n",
    "    \n",
    "    Retorna:\n",
    "    list: Lista de números primos dentro del rango especificado.\n",
    "    \"\"\"\n",
    "    def es_primo(n):\n",
    "        if n < 2:\n",
    "            return False\n",
    "        for i in range(2, int(n**0.5) + 1):\n",
    "            if n % i == 0:\n",
    "                return False\n",
    "        return True\n",
    "\n",
    "    primos = []\n",
    "    for num in range(limite_inferior, limite_superior + 1):\n",
    "        if es_primo(num):\n",
    "            primos.append(num)\n",
    "    \n",
    "    return primos\n",
    "\n"
   ]
  },
  {
   "cell_type": "code",
   "execution_count": 12,
   "id": "26c1e341",
   "metadata": {},
   "outputs": [
    {
     "data": {
      "text/plain": [
       "[53,\n",
       " 59,\n",
       " 61,\n",
       " 67,\n",
       " 71,\n",
       " 73,\n",
       " 79,\n",
       " 83,\n",
       " 89,\n",
       " 97,\n",
       " 101,\n",
       " 103,\n",
       " 107,\n",
       " 109,\n",
       " 113,\n",
       " 127,\n",
       " 131,\n",
       " 137,\n",
       " 139,\n",
       " 149]"
      ]
     },
     "execution_count": 12,
     "metadata": {},
     "output_type": "execute_result"
    }
   ],
   "source": [
    "primos_en_rango(50, 150)"
   ]
  },
  {
   "cell_type": "markdown",
   "id": "740f3401",
   "metadata": {
    "slideshow": {
     "slide_type": "slide"
    }
   },
   "source": [
    "# Componente de manejo de calculadora Casio asociado al objetivo de aprendizaje de esta clase  \n",
    "\n",
    "## Pasos para lograr el objetivo de aprendizaje con la experimentación en la calculadora casio 991LA cw  "
   ]
  },
  {
   "cell_type": "markdown",
   "id": "8d41fe58",
   "metadata": {
    "slideshow": {
     "slide_type": "slide"
    }
   },
   "source": [
    "# Horario de clases del profesor Marco\n",
    "\n",
    "* Lunes 8-12: Cálculo Vectorial\n",
    "* Martes 8-12 M: Fundamentos de Aritmética. \n",
    "* Miércoles 8 a 12 M: Fundamentos de la Lógica\n",
    "* Jueves 2 a 6PM: Desarrollo del pensamiento matemático en la infancia. \n",
    "* Viernes 8 - 12 M: Desarrollo del pensamiento matemático en la infancia. \n",
    "* Sábados 8-12 Asesorías "
   ]
  },
  {
   "cell_type": "markdown",
   "id": "ae114e14",
   "metadata": {
    "slideshow": {
     "slide_type": "slide"
    }
   },
   "source": [
    "# Horarios de monitoría y asesoría  \n",
    "\n",
    "Coordinador de los cursos de la Facultad de Educación para regiones:    \n",
    "\n",
    "Andrés Vélez: regioneducacion.fedu@udea.edu.co  \n",
    "Coordinador Regiones  \n",
    "Facultad de Educación  \n",
    "Universidad de Antioquia  "
   ]
  },
  {
   "cell_type": "markdown",
   "id": "b1db4b6c",
   "metadata": {
    "slideshow": {
     "slide_type": "slide"
    }
   },
   "source": [
    "## Monitor Manuel San Juan Serrano y Yeifry Uribe\n",
    "\n",
    "Contactar escribiendo a los correos:  \n",
    "manuel.serrano1@udea.edu.co\n",
    "yeifry.uribe@udea.edu.co. "
   ]
  },
  {
   "cell_type": "markdown",
   "id": "39559692",
   "metadata": {
    "slideshow": {
     "slide_type": "slide"
    }
   },
   "source": [
    "Martes y jueves de 8 - 12  \n",
    "Miércoles 10 - 12 y de 2 a 4 PM  \n",
    "Sábado: 8 - 12"
   ]
  },
  {
   "cell_type": "markdown",
   "id": "5a190057",
   "metadata": {},
   "source": [
    "## Monitoría virtual   \n",
    "\n",
    "Telefono del monitos en whatsApp: 3043936088  \n",
    "\n",
    "Juan David Cano Castrillón  \n",
    "Estudiante de Pregrado.  \n",
    "juan.canoc1@udea.edu.co  \n",
    "3043936088  \n"
   ]
  },
  {
   "cell_type": "markdown",
   "id": "10bce0d0",
   "metadata": {
    "slideshow": {
     "slide_type": "slide"
    }
   },
   "source": [
    "## Referentes "
   ]
  },
  {
   "cell_type": "markdown",
   "id": "1db3c468",
   "metadata": {
    "slideshow": {
     "slide_type": "slide"
    }
   },
   "source": [
    "* [Grajales Vanegas, L. M., Restrepo Estrada, C. E., Restrepo Ochoa, S. I., & Ruíz De Villalba, F. (2015). Matemáticas I para las ciencias económicas.](https://github.com/marco-canas/fundamentos_de_la_aritmetica/blob/main/referentes/2_grajales_logica/grajales_lina_matemticas.pdf)\n",
    "  \n",
    "* Duval, R. (2004). Semiosis y pensamiento humano: registros semióticos y aprendizajes intelectuales. Universidad del Valle.\n",
    "\n",
    "* [Aylwin, C. U. (2011). Lógica, conjuntos y números. Universidad de los Andes, Consejo de Publicaciones, Colección: Ciencias Básicas, Serie: Matemáticas.](chrome-extension://efaidnbmnnnibpcajpcglclefindmkaj/https://www.ciencias.ula.ve/matematica/publicaciones/libros/por_profesor/carlos_uzca/LoConNu.pdf)\n",
    "  \n",
    "* [Chollet, F. (2021). Deep learning with Python. Simon and Schuster.](https://github.com/marco-canas/didactica_ciencia_datos/blob/main/2_referentes/chollet/Fran%C3%A7ois%20Chollet%20-%20Deep%20Learning%20with%20Python-Manning%20(2018).pdf)  \n",
    "  \n",
    "* [Watson, S., Stewart, J., & Redlin, L. (2009). Precálculo. Matemáticas para el cálculo.](https://github.com/marco-canas/calculo/blob/main/referents/1_precalculo_stewart/stewart_precalculo.pdf)  \n",
    "\n",
    "* [Purcell, E. J., Varberg, D., & Rigdon, S. E. (2007). Cálculo diferencial e integral. Pearson Educación.](https://github.com/marco-canas/calculo/blob/main/referents/purcell/purcell_calculo.pdf)\n",
    "\n",
    "  \n",
    "\n",
    "* [stewart cálculo](https://udeaeduco-my.sharepoint.com/:b:/g/personal/marco_canas_udea_edu_co/EZgXZjAp8QxPqOAim2hs6LcBNPLGjSHf-xwYnUVYkwa04w?e=RZdTCy)  \n",
    "\n",
    "* [larson](https://udeaeduco-my.sharepoint.com/:b:/g/personal/marco_canas_udea_edu_co/ES71ChFeO9ZDhW3TwC5Ijk8BjxUK3Pdqz_fjHxTTFAfIAg?e=VDEjfu)\n",
    "\n",
    "\n",
    "\n",
    "* [Recomendación de la UNESCO sobre ciencia abierta](https://unesdoc.unesco.org/ark:/48223/pf0000379949_spa)\n",
    "\n",
    "* [chatGPT](https://openai.com/blog/chatgpt)  \n",
    "\n",
    "* [Géron, A. (2017). Hands-on machine learning with scikit-learn and tensorflow: Concepts. Tools, and Techniques to build intelligent systems.](https://github.com/marco-canas/didactica_ciencia_datos/blob/main/2_referentes/geron/Hands-On%20Machine%20Learning-3nd_Edition(2022).pdf)  \n",
    "\n",
    "* [McKinney, W. (2012). Python for data analysis: Data wrangling with Pandas, NumPy, and IPython. \" O'Reilly Media, Inc.\".](https://github.com/marco-canas/didactica_ciencia_datos/blob/main/2_referentes/mckinney/Wes_McKinney.pdf)  "
   ]
  },
  {
   "cell_type": "markdown",
   "id": "8e65d6f9",
   "metadata": {},
   "source": [
    "# Como estudiante, encuentro que...   \n",
    "\n",
    "F: Mis Fortalezas son:     \n",
    "O: Mis Oportunidades son:    \n",
    "D: Mis Debilidades son:    \n",
    "A: Lo que Amenazas mi aprendizaje es:  "
   ]
  },
  {
   "cell_type": "markdown",
   "id": "6b9e56a8",
   "metadata": {
    "slideshow": {
     "slide_type": "slide"
    }
   },
   "source": [
    "### [Evaluamos al profesor Marco Cañas Aquí](https://forms.office.com/Pages/ResponsePage.aspx?id=IefhmYRxjkmK_7KtTlPBwkanXIs1i1FEujpsZgO6dXpUREJPV1kxUk1JV1ozTFJIQVNIQjY5WEY3US4u)"
   ]
  },
  {
   "cell_type": "markdown",
   "id": "050b9508",
   "metadata": {},
   "source": [
    "# Aportes de mis estudiantes a la metodología del curso  \n",
    "1. \n",
    "\n",
    "Sus opiniones y aportes son muy importantes para mi. Pues esta es una investigación educativa y un servicio de enseñanza para ustedes. Ustedes son la razón de ser de mi actividad docente. Dios los bendiga. "
   ]
  },
  {
   "cell_type": "markdown",
   "id": "6c4af91f",
   "metadata": {},
   "source": [
    "# Aportes de mis colegas docentes a la metodología que estoy aplicando en mis cursos. "
   ]
  },
  {
   "cell_type": "markdown",
   "id": "071afa04",
   "metadata": {
    "slideshow": {
     "slide_type": "slide"
    }
   },
   "source": [
    "## [Evaluación luego de alcanzar estos objetivos de aprendizaje]()"
   ]
  },
  {
   "cell_type": "markdown",
   "id": "10f43536",
   "metadata": {
    "slideshow": {
     "slide_type": "slide"
    }
   },
   "source": [
    "### Continue su aprendizaje en la siguiente clase a través del siguiente [vínculo]()"
   ]
  },
  {
   "cell_type": "markdown",
   "id": "ba236f4d",
   "metadata": {},
   "source": [
    "### **Actividad de Clase: Expresar Ideas, Dudas y Emociones de Manera Respetuosa y Asertiva**\n"
   ]
  },
  {
   "cell_type": "markdown",
   "id": "33bcd185",
   "metadata": {},
   "source": [
    "\n",
    "**Objetivo:**  \n",
    "Desarrollar habilidades de comunicación efectiva en los estudiantes para que puedan expresar sus ideas, dudas y emociones de forma respetuosa y asertiva.\n"
   ]
  },
  {
   "cell_type": "markdown",
   "id": "3f264eff",
   "metadata": {},
   "source": [
    "\n",
    "**Duración:**  \n",
    "15-20 minutos\n",
    "\n",
    "---\n"
   ]
  },
  {
   "cell_type": "markdown",
   "id": "f61da648",
   "metadata": {},
   "source": [
    "\n",
    "### **1. Introducción (5 minutos)**  \n",
    "- **Tema:** Introducir a los estudiantes al concepto de la comunicación asertiva, explicando cómo expresar pensamientos y emociones de manera clara y respetuosa sin agredir o ser pasivo.\n",
    "- **Dinámica:** Mostrar dos ejemplos contrastantes: uno de comunicación pasiva/agresiva y otro de comunicación asertiva. Preguntar a los estudiantes cuál creen que es más efectivo y por qué.\n"
   ]
  },
  {
   "cell_type": "markdown",
   "id": "d64c182a",
   "metadata": {},
   "source": [
    "\n",
    "**Materiales:**  \n",
    "- Pizarra o diapositivas con ejemplos de frases pasivas, agresivas y asertivas.\n",
    "  \n",
    "**Ejemplo:**  \n",
    "- **Pasivo:** “Bueno… no sé si es una buena idea, pero… tal vez podrías intentarlo.”\n",
    "- **Agresivo:** “¡Tu idea es terrible, no va a funcionar!”\n",
    "- **Asertivo:** “Creo que podríamos mejorar esa idea si consideramos otro enfoque.”\n",
    "\n",
    "---\n"
   ]
  },
  {
   "cell_type": "markdown",
   "id": "c39f1049",
   "metadata": {},
   "source": [
    "\n",
    "### **2. Ejercicio en Parejas (10 minutos)**  \n",
    "- **Instrucciones:** Dividir a los estudiantes en parejas. Darles diferentes situaciones cotidianas en las que deben comunicarse (pedir ayuda, expresar desacuerdo, compartir una idea, etc.). Cada pareja debe crear una breve conversación donde practiquen la comunicación asertiva.\n",
    "  \n"
   ]
  },
  {
   "cell_type": "markdown",
   "id": "b0e7f191",
   "metadata": {},
   "source": [
    "**Situaciones propuestas:**\n",
    "  - Expresar desacuerdo con un compañero sobre una tarea de grupo.\n",
    "  - Pedirle ayuda al profesor sobre un concepto difícil.\n",
    "  - Expresar frustración por un malentendido en clase.\n"
   ]
  },
  {
   "cell_type": "markdown",
   "id": "50b7dadf",
   "metadata": {},
   "source": [
    "\n",
    "- **Reglas:** Cada estudiante debe asegurarse de usar lenguaje respetuoso y asertivo para expresar su posición y emociones. Al final, cada pareja debe compartir con la clase un ejemplo de lo que discutieron.\n",
    "\n",
    "---\n"
   ]
  },
  {
   "cell_type": "markdown",
   "id": "a1ffd1c0",
   "metadata": {},
   "source": [
    "\n",
    "### **3. Retroalimentación y Discusión (5 minutos)**  \n",
    "- **Discusión:** Invitar a algunos estudiantes a compartir sus experiencias de la actividad. \n",
    "- **Preguntas:** ¿Cómo se sintieron al intentar ser asertivos? ¿Les resultó difícil? ¿Cómo fue recibido el mensaje?\n",
    "  \n",
    "**Consejo:** Resaltar la importancia de practicar la asertividad como una herramienta para mejorar la comunicación interpersonal y reducir conflictos.\n",
    "\n",
    "---\n"
   ]
  },
  {
   "cell_type": "markdown",
   "id": "24a3bec7",
   "metadata": {},
   "source": [
    "\n",
    "### **Cierre**  \n",
    "- Resumir las características de la comunicación asertiva: uso de \"yo\" en lugar de \"tú\" para evitar culpabilizar, tono de voz calmado, y respeto hacia el interlocutor.\n",
    "- **Tarea opcional:** Pedirles que practiquen la comunicación asertiva en sus conversaciones durante la semana y escriban una reflexión breve sobre cómo les fue.\n",
    "\n",
    "**Material adicional:**  \n",
    "- Video corto o recurso digital sobre la importancia de la comunicación asertiva."
   ]
  },
  {
   "cell_type": "markdown",
   "id": "53cc9115",
   "metadata": {
    "slideshow": {
     "slide_type": "slide"
    }
   },
   "source": [
    "## Agradecimientos  \n",
    "\n",
    "Doy gracias a Dios por la vida de mi Hijo Joseph Cañas Osorio y la madurez que ha alcanzado.\n",
    "\n",
    "Y a mi esposa Yasmira por su apoyo, orientación y acompañamiento. "
   ]
  }
 ],
 "metadata": {
  "celltoolbar": "Slideshow",
  "kernelspec": {
   "display_name": "Python 3",
   "language": "python",
   "name": "python3"
  },
  "language_info": {
   "codemirror_mode": {
    "name": "ipython",
    "version": 3
   },
   "file_extension": ".py",
   "mimetype": "text/x-python",
   "name": "python",
   "nbconvert_exporter": "python",
   "pygments_lexer": "ipython3",
   "version": "3.12.7"
  },
  "rise": {
   "enable_chalkboard": true,
   "theme": "sky",
   "transition": "zoom"
  }
 },
 "nbformat": 4,
 "nbformat_minor": 5
}
