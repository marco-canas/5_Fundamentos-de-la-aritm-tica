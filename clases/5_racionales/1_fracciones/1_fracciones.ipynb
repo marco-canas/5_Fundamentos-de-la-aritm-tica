{
 "cells": [
  {
   "attachments": {},
   "cell_type": "markdown",
   "id": "dc06dec7",
   "metadata": {
    "slideshow": {
     "slide_type": "slide"
    }
   },
   "source": [
    "<table align=\"left\">\n",
    "  <td>\n",
    "    <a href=\"https://colab.research.google.com/github/marco-canas/4_didactica_aritmetica/blob/main/modelo_general_clase_aula_invertida.ipynb\" target=\"_parent\"><img src=\"https://colab.research.google.com/assets/colab-badge.svg\" alt=\"Open In Colab\"/></a>\n",
    "  </td>\n",
    "</table>"
   ]
  },
  {
   "attachments": {},
   "cell_type": "markdown",
   "id": "e0c5b198",
   "metadata": {
    "slideshow": {
     "slide_type": "slide"
    }
   },
   "source": [
    "### [Video de apoyo a la lectura interactiva y experimental de este cuaderno]()"
   ]
  },
  {
   "attachments": {},
   "cell_type": "markdown",
   "id": "41e82203",
   "metadata": {
    "slideshow": {
     "slide_type": "slide"
    }
   },
   "source": [
    "## [programas de todos los cursos de la licenciatura en matemáticas y física](https://drive.google.com/drive/folders/1dNHbB0Vd00qWRchty1TIRNQVvi7IzI21)\n"
   ]
  },
  {
   "cell_type": "markdown",
   "id": "dd91ed64",
   "metadata": {},
   "source": [
    "## [Vínculo al programa del curso contextualizado a la metodología de ula invertida:  ](https://github.com/marco-canas/fundamentos_de_la_aritmetica/blob/main/programa_fundamentos_aritmetica_aula_invertida.docx)\n"
   ]
  },
  {
   "attachments": {},
   "cell_type": "markdown",
   "id": "d11ab06d",
   "metadata": {
    "slideshow": {
     "slide_type": "slide"
    }
   },
   "source": [
    "Un reconocimiento a mis estudiantes que han construido conmigo este saber pedagógico:\n",
    "\n",
    "<img src = 'https://github.com/marco-canas/fundamentos_de_las_matematicas/blob/main/images/photos/estudiantes_lic_math_2023-08-01.jpeg?raw=true'> \n",
    "\n"
   ]
  },
  {
   "attachments": {},
   "cell_type": "markdown",
   "id": "5e3936d8",
   "metadata": {
    "slideshow": {
     "slide_type": "slide"
    }
   },
   "source": [
    "# Llamar a lista o tomar asistencia con python o llamar el equipo para la tarea con video y cuaderno Jupyter sobre medición indirecta de grandes alturas con imágenes"
   ]
  },
  {
   "cell_type": "code",
   "execution_count": 5,
   "id": "a359c096",
   "metadata": {
    "slideshow": {
     "slide_type": "slide"
    }
   },
   "outputs": [
    {
     "name": "stdout",
     "output_type": "stream",
     "text": [
      "Llamando a ARIAS ARRIETA FREDY...\n",
      "Nota de seguimiento registrada para ARIAS ARRIETA FREDY: 5.0\n"
     ]
    }
   ],
   "source": [
    "import pandas as pd\n",
    "import random\n",
    "\n",
    "# Cargar la lista de estudiantes desde la URL\n",
    "url = 'https://raw.githubusercontent.com/marco-canas/groups_list/main/fund_aritmetica.csv'\n",
    "estudiantes = pd.read_csv(url)\n",
    "\n",
    "# Función para llamar a un estudiante aleatoriamente y registrar su nota de seguimiento\n",
    "def llamar_estudiante():\n",
    "    estudiante_aleatorio = random.choice(estudiantes['Nombre'])\n",
    "    print(f\"Llamando a {estudiante_aleatorio}...\")\n",
    "    \n",
    "        \n",
    "# Llamar a la función para realizar el proceso\n",
    "llamar_estudiante()\n"
   ]
  },
  {
   "attachments": {},
   "cell_type": "markdown",
   "id": "4f9d8cf9",
   "metadata": {
    "slideshow": {
     "slide_type": "slide"
    }
   },
   "source": [
    "# Modelo general de clase: [aula invertida](https://www3.gobiernodecanarias.org/medusa/ecoescuela/pedagotic/aprendizaje-invertido-flipped-classroom/)"
   ]
  },
  {
   "attachments": {},
   "cell_type": "markdown",
   "id": "ca46c23b",
   "metadata": {
    "slideshow": {
     "slide_type": "fragment"
    }
   },
   "source": [
    "## Definición y características de este [modelo](https://udearroba.udea.edu.co/blog/aprendizaje-invertido-otras-formas-de-ensenar-y-aprender/)  \n"
   ]
  },
  {
   "cell_type": "markdown",
   "id": "fa713612",
   "metadata": {},
   "source": [
    "El aprendizaje invertido es un enfoque pedagógico que posibilita trascender del modelo tradicional de enseñanza. "
   ]
  },
  {
   "attachments": {},
   "cell_type": "markdown",
   "id": "760dd3a7",
   "metadata": {},
   "source": [
    "Dicho enfoque hace uso de entornos virtuales, en los cuales el docente dispone de una serie de recursos para abordar la enseñanza de los contenidos. "
   ]
  },
  {
   "attachments": {},
   "cell_type": "markdown",
   "id": "a8272cc0",
   "metadata": {},
   "source": [
    "Uno de los recursos más utilizados es la videoclase, pues permite que los estudiantes puedan escuchar y observar al docente mientras explica una temática, así como demostraciones y procedimientos específicos. "
   ]
  },
  {
   "attachments": {},
   "cell_type": "markdown",
   "id": "8d97dc80",
   "metadata": {
    "slideshow": {
     "slide_type": "slide"
    }
   },
   "source": [
    "## Fomento de la lectura literaria asociada a Ingeniería agropecuaria y licenciatura en Matemáticas\n",
    "\n"
   ]
  },
  {
   "attachments": {},
   "cell_type": "markdown",
   "id": "bff96119",
   "metadata": {
    "slideshow": {
     "slide_type": "slide"
    }
   },
   "source": [
    "### Introducción"
   ]
  },
  {
   "attachments": {},
   "cell_type": "markdown",
   "id": "c2ca8f2e",
   "metadata": {
    "slideshow": {
     "slide_type": "slide"
    }
   },
   "source": [
    "Como estoy plenamente convencido de que forma parte intrínseca de nuestra naturaleza sentirnos satisfechos cuando damos y recibimos algo de manera compasiva o solidaria, hay dos preguntas que me han preocupado durante la mayor parte de mi vida. "
   ]
  },
  {
   "attachments": {},
   "cell_type": "markdown",
   "id": "4e4614ff",
   "metadata": {
    "slideshow": {
     "slide_type": "slide"
    }
   },
   "source": [
    "¿Qué ocurre que nos desconecta de nuestra naturaleza solidaria y nos lleva a comportarnos de manera violenta y abusiva?"
   ]
  },
  {
   "attachments": {},
   "cell_type": "markdown",
   "id": "86dee509",
   "metadata": {
    "slideshow": {
     "slide_type": "slide"
    }
   },
   "source": [
    " Y a la inversa, ¿por qué algunas personas son consecuentes con esta actitud solidaria incluso en las circunstancias más adversas?"
   ]
  },
  {
   "attachments": {},
   "cell_type": "markdown",
   "id": "96775931",
   "metadata": {
    "slideshow": {
     "slide_type": "slide"
    }
   },
   "source": [
    "## Título de la clase: Fracciones \n"
   ]
  },
  {
   "cell_type": "markdown",
   "id": "bf8ab8b6",
   "metadata": {},
   "source": [
    "\n",
    "### Clase de Matemáticas: Fracciones con Diferentes Denominadores\n"
   ]
  },
  {
   "cell_type": "markdown",
   "id": "43950203",
   "metadata": {},
   "source": [
    "\n",
    "**Objetivo de la Clase:** Comprender y trabajar con fracciones que tienen diferentes denominadores utilizando cuadernos Jupyter y la librería Sympy en Python.\n"
   ]
  },
  {
   "cell_type": "markdown",
   "id": "78cd6ef1",
   "metadata": {},
   "source": [
    "\n",
    "**Duración de la Clase:** Aproximadamente 45 minutos.\n",
    "\n",
    "#### Introducción (10 minutos)\n",
    "\n",
    "1. **Presentación:**\n",
    "   - Saludo a los estudiantes y presentación del tema del día: \"Fracciones con Diferentes Denominadores\".\n",
    "   - Explicación breve sobre qué son las fracciones y cómo se usan en la vida cotidiana.\n"
   ]
  },
  {
   "cell_type": "markdown",
   "id": "6cf741ce",
   "metadata": {},
   "source": [
    "\n",
    "2. **Recapitulación:**\n",
    "   - Revisión rápida de fracciones con el mismo denominador para recordar los conceptos previos.\n"
   ]
  },
  {
   "cell_type": "markdown",
   "id": "ef7994ba",
   "metadata": {},
   "source": [
    "\n",
    "#### Desarrollo (25 minutos)\n",
    "\n",
    "3. **Introducción a Fracciones con Diferentes Denominadores:**\n",
    "   - Explicación sobre fracciones con diferentes denominadores y cómo compararlas.\n",
    "   - Ejemplos visuales en el pizarrón o utilizando material didáctico.\n"
   ]
  },
  {
   "cell_type": "markdown",
   "id": "83816b40",
   "metadata": {},
   "source": [
    "\n",
    "4. **Uso de Jupyter Notebook y Sympy:**\n",
    "   - Introducción a Jupyter Notebook y cómo abrir un nuevo cuaderno.\n",
    "   - Explicación sobre Sympy, una biblioteca de Python para matemáticas simbólicas.\n",
    "   - Demostración de cómo utilizar Sympy para trabajar con fracciones.\n"
   ]
  },
  {
   "cell_type": "code",
   "execution_count": 2,
   "id": "92e00112",
   "metadata": {},
   "outputs": [
    {
     "data": {
      "text/latex": [
       "$\\displaystyle \\left( 1, \\  0\\right)$"
      ],
      "text/plain": [
       "(1, 0)"
      ]
     },
     "execution_count": 2,
     "metadata": {},
     "output_type": "execute_result"
    }
   ],
   "source": [
    "\n",
    "from sympy import *\n",
    "init_printing()\n",
    "\n",
    " # Definir símbolos\n",
    "x, y = symbols('x y')\n",
    "\n",
    "   # Definir fracciones con diferentes denominadores\n",
    "fraccion1 = Rational(1, 2)\n",
    "fraccion2 = Rational(2, 4)\n",
    "\n",
    "   # Operaciones con fracciones\n",
    "suma_fracciones = fraccion1 + fraccion2\n",
    "resta_fracciones = fraccion1 - fraccion2\n",
    "\n",
    "   # Mostrar resultados\n",
    "suma_fracciones, resta_fracciones\n",
    "\n"
   ]
  },
  {
   "cell_type": "markdown",
   "id": "1cbd2ae0",
   "metadata": {},
   "source": [
    "\n",
    "5. **Ejercicios Prácticos en Jupyter Notebook:**\n",
    "   - Proporcionar a los estudiantes ejercicios prácticos para resolver fracciones con diferentes denominadores en Jupyter Notebook.\n",
    "   - Ayudar a los estudiantes a escribir código para resolver los problemas y verificar sus respuestas.\n"
   ]
  },
  {
   "cell_type": "markdown",
   "id": "cf1a09f8",
   "metadata": {},
   "source": [
    "\n",
    "#### Conclusión (10 minutos)\n",
    "\n",
    "6. **Revisión y Preguntas:**\n",
    "   - Revisar las respuestas de los ejercicios y abordar cualquier pregunta que los estudiantes puedan tener.\n"
   ]
  },
  {
   "cell_type": "markdown",
   "id": "a90fa598",
   "metadata": {},
   "source": [
    "\n",
    "7. **Tarea:**\n",
    "   - Asignar tareas adicionales en Jupyter Notebook para practicar fracciones con diferentes denominadores en casa.\n",
    "   - Proporcionar recursos en línea y ejercicios adicionales para practicar.\n"
   ]
  },
  {
   "cell_type": "markdown",
   "id": "0351782c",
   "metadata": {},
   "source": [
    "\n",
    "8. **Despedida:**\n",
    "   - Agradecer a los estudiantes por su participación y esfuerzo.\n",
    "   - Despedida y recordatorio de la próxima clase.\n"
   ]
  },
  {
   "cell_type": "markdown",
   "id": "82dd1fd9",
   "metadata": {},
   "source": [
    "\n",
    "Recuerda adaptar la clase según las necesidades y el nivel de los estudiantes. ¡Espero que esta estructura te sea útil para enseñar fracciones con diferentes denominadores usando Jupyter Notebook y Sympy en Python!"
   ]
  },
  {
   "cell_type": "markdown",
   "id": "98761999",
   "metadata": {},
   "source": [
    "# Desarrollo de la clase\n",
    "\n",
    "7. **Tarea:**\n",
    "   - Asignar tareas adicionales en Jupyter Notebook para practicar fracciones con diferentes denominadores en casa.\n",
    "   - Proporcionar recursos en línea y ejercicios adicionales para practicar.\n"
   ]
  },
  {
   "cell_type": "markdown",
   "id": "3688379b",
   "metadata": {},
   "source": [
    "\n",
    "# Tareas adicionales en Jupyter Notebook para que los niños de tercer grado de primaria practiquen operaciones de suma y resta de fracciones con diferentes denominadores en casa.  \n",
    "\n",
    "También te proporcionaré algunos recursos en línea y ejercicios adicionales para que los niños puedan practicar aún más.\n"
   ]
  },
  {
   "cell_type": "markdown",
   "id": "b9b01f94",
   "metadata": {},
   "source": [
    "\n",
    "### Tareas en Jupyter Notebook:\n",
    "\n",
    "#### 1. **Operaciones de Suma de Fracciones:**\n",
    "   - Cree un programa en Jupyter Notebook que permita a los niños practicar la suma de fracciones con diferentes denominadores.\n",
    "   - Proporcione al menos 10 ejercicios con diferentes fracciones y denominadores.\n",
    "   - Asegúrese de incluir retroalimentación para que los niños puedan verificar sus respuestas.\n"
   ]
  },
  {
   "cell_type": "code",
   "execution_count": 1,
   "id": "69ab7961",
   "metadata": {},
   "outputs": [
    {
     "name": "stdout",
     "output_type": "stream",
     "text": [
      "El resultado de la suma es: 2\n"
     ]
    }
   ],
   "source": [
    "# Ejercicio de suma de fracciones con diferentes denominadores\n",
    "from fractions import Fraction\n",
    "\n",
    "def suma_fracciones(num1, den1, num2, den2):\n",
    "    resultado = Fraction(num1, den1) + Fraction(num2, den2)\n",
    "    return resultado\n",
    "\n",
    "# Pide al usuario las fracciones\n",
    "num1 = int(input(\"Ingrese el numerador de la primera fracción: \"))\n",
    "den1 = int(input(\"Ingrese el denominador de la primera fracción: \"))\n",
    "num2 = int(input(\"Ingrese el numerador de la segunda fracción: \"))\n",
    "den2 = int(input(\"Ingrese el denominador de la segunda fracción: \"))\n",
    "\n",
    "# Calcula la suma y muestra el resultado\n",
    "resultado = suma_fracciones(num1, den1, num2, den2)\n",
    "print(\"El resultado de la suma es:\", resultado)\n",
    "\n"
   ]
  },
  {
   "cell_type": "markdown",
   "id": "29feac56",
   "metadata": {},
   "source": [
    "\n",
    "#### 2. **Operaciones de Resta de Fracciones:**\n",
    "   - Cree un programa en Jupyter Notebook que permita a los niños practicar la resta de fracciones con diferentes denominadores.\n",
    "   - Proporcione al menos 10 ejercicios con diferentes fracciones y denominadores.\n",
    "   - Asegúrese de incluir retroalimentación para que los niños puedan verificar sus respuestas.\n"
   ]
  },
  {
   "cell_type": "code",
   "execution_count": null,
   "id": "de4c335a",
   "metadata": {},
   "outputs": [],
   "source": [
    "\n",
    "# Ejercicio de resta de fracciones con diferentes denominadores\n",
    "from fractions import Fraction\n",
    "\n",
    "def resta_fracciones(num1, den1, num2, den2):\n",
    "    resultado = Fraction(num1, den1) - Fraction(num2, den2)\n",
    "    return resultado\n",
    "\n",
    "# Pide al usuario las fracciones\n",
    "num1 = int(input(\"Ingrese el numerador de la primera fracción: \"))\n",
    "den1 = int(input(\"Ingrese el denominador de la primera fracción: \"))\n",
    "num2 = int(input(\"Ingrese el numerador de la segunda fracción: \"))\n",
    "den2 = int(input(\"Ingrese el denominador de la segunda fracción: \"))\n",
    "\n",
    "# Calcula la resta y muestra el resultado\n",
    "resultado = resta_fracciones(num1, den1, num2, den2)\n",
    "print(\"El resultado de la resta es:\", resultado)\n",
    "\n"
   ]
  },
  {
   "cell_type": "markdown",
   "id": "0f188e3a",
   "metadata": {},
   "source": [
    "\n",
    "### Recursos en Línea y Ejercicios Adicionales:\n"
   ]
  },
  {
   "cell_type": "markdown",
   "id": "a7501bab",
   "metadata": {},
   "source": [
    "\n",
    "1. **Khan Academy:** Khan Academy ofrece lecciones interactivas y ejercicios prácticos sobre fracciones y operaciones con fracciones. Los niños pueden practicar sumas y restas de fracciones con diferentes denominadores. [Khan Academy - Fracciones](https://es.khanacademy.org/math/arithmetic/fraction-arithmetic)\n"
   ]
  },
  {
   "cell_type": "markdown",
   "id": "a8a1ae58",
   "metadata": {},
   "source": [
    "\n",
    "2. **IXL:** IXL es un recurso en línea que proporciona problemas de matemáticas específicos para cada grado. Tiene una sección dedicada a fracciones y operaciones con fracciones. [IXL - Fracciones](https://es.ixl.com/math/primero)\n"
   ]
  },
  {
   "cell_type": "markdown",
   "id": "7d758b25",
   "metadata": {},
   "source": [
    "\n",
    "3. **Mathway:** Mathway es una calculadora en línea que puede resolver problemas matemáticos, incluyendo operaciones con fracciones. Los niños pueden ingresar problemas y ver los pasos para llegar a la solución. [Mathway](https://www.mathway.com/es)\n"
   ]
  },
  {
   "cell_type": "markdown",
   "id": "fb9f6a7b",
   "metadata": {},
   "source": [
    "\n",
    "4. **Math Is Fun:** Math Is Fun es un sitio web educativo que ofrece explicaciones claras y ejemplos sobre matemáticas. Tiene una sección sobre fracciones y operaciones con fracciones. [Math Is Fun - Fracciones](https://www.mathsisfun.com/fracciones.html)\n"
   ]
  },
  {
   "cell_type": "markdown",
   "id": "133e89c6",
   "metadata": {},
   "source": [
    "\n",
    "Espero que estos recursos y tareas en Jupyter Notebook sean útiles para que los niños practiquen operaciones de suma y resta de fracciones con diferentes denominadores. ¡Buena suerte!"
   ]
  },
  {
   "cell_type": "markdown",
   "id": "6b092c2d",
   "metadata": {},
   "source": [
    "## [Video de apoyo](https://www.youtube.com/watch?v=G5okU6IrX_M)"
   ]
  },
  {
   "attachments": {},
   "cell_type": "markdown",
   "id": "12cb2994",
   "metadata": {
    "slideshow": {
     "slide_type": "slide"
    }
   },
   "source": [
    "## Fracciones equivalentes"
   ]
  },
  {
   "cell_type": "markdown",
   "id": "3c3d12e1",
   "metadata": {},
   "source": [
    "$$ \\frac{27}{30} = \\frac{9}{10} $$"
   ]
  },
  {
   "cell_type": "code",
   "execution_count": 7,
   "id": "b1871bd5",
   "metadata": {},
   "outputs": [
    {
     "data": {
      "text/latex": [
       "$\\displaystyle \\frac{5}{6}$"
      ],
      "text/plain": [
       "5/6"
      ]
     },
     "execution_count": 7,
     "metadata": {},
     "output_type": "execute_result"
    }
   ],
   "source": [
    "from sympy import * \n",
    "init_printing() \n",
    "\n",
    "x,y = symbols('x,y')\n",
    "\n",
    "fraccion1 = Rational(1,2)\n",
    "fraccion2 = Rational(1,3)\n",
    "\n",
    "fraccion1+fraccion2"
   ]
  },
  {
   "cell_type": "markdown",
   "id": "608e24bd",
   "metadata": {},
   "source": [
    "## [Video donde Alejando enseña a sumar fracciones con sympy](https://www.youtube.com/watch?v=OWdWgDtcY7k)"
   ]
  },
  {
   "cell_type": "markdown",
   "id": "a0caa905",
   "metadata": {},
   "source": [
    "### **Diseño de Clase: \"Los números racionales\"**\n"
   ]
  },
  {
   "cell_type": "markdown",
   "id": "91969147",
   "metadata": {},
   "source": [
    "\n",
    "#### **1. Objetivo General**  \n",
    "Desarrollar en los estudiantes la comprensión de los fundamentos de los números racionales, sus propiedades y operaciones básicas, utilizando herramientas de Python en Jupyter Notebooks para explorar de manera interactiva y visual sus características.\n",
    "\n",
    "---\n"
   ]
  },
  {
   "cell_type": "markdown",
   "id": "299fd6d4",
   "metadata": {},
   "source": [
    "\n",
    "### **2. Objetivos Específicos**  \n",
    "1. Comprender la definición de los números racionales como cociente de dos números enteros.  \n",
    "2. Saber hacer representaciones en diagramas de Venn de la clasificación de los racionales. y los reales\n",
    "3. Explorar propiedades fundamentales: densidad, equivalencia, y operaciones (suma, resta, multiplicación, división).  \n",
    "4. Implementar funciones en Python para verificar propiedades y operaciones.  \n",
    "5. Visualizar resultados de manera tabular usando pandas.  \n",
    "6. Representar gráficamente conceptos clave con matplotlib y plotly. En  esta representación se incluye la representación pictórica de los racionales y la representación en la recta real de los mismos. \n"
   ]
  },
  {
   "cell_type": "code",
   "execution_count": null,
   "id": "bfaa2164",
   "metadata": {},
   "outputs": [],
   "source": [
    "# Representación en diagrama de Venn de la clasificación de los conjuntos numéricos alcanzados hasta ahora  \n",
    "\n"
   ]
  },
  {
   "cell_type": "markdown",
   "id": "f2956922",
   "metadata": {},
   "source": [
    "\n",
    "---\n",
    "\n",
    "### **3. Contenidos**\n",
    "\n",
    "1. **Fundamentos teóricos**  \n",
    "   - Definición: Un número racional $r$ es de la forma $r = \\frac{p}{q}$ donde $p, q \\in \\mathbb{Z}$ y $q \\neq 0$.  \n",
    "   - Propiedades:  \n",
    "     - **Densidad**: Entre dos números racionales existe al menos otro número racional.  \n",
    "     - **Equivalencia**: $$ \\frac{p}{q} = \\frac{kp}{kq}, k \\neq 0.$$  \n",
    "     - Criterio de equivalencia: $$ \\frac{a}{b} = \\frac{c}{d} \\iff ad = bc$$  \n",
    "     - \n",
    "   - Operaciones básicas:  \n",
    "     - Suma: \n",
    "       $$ \\frac{p_1}{q_1} + \\frac{p_2}{q_2} = \\frac{p_1q_2 + p_2q_1}{q_1q_2}.$$  \n",
    "     - Multiplicación: \n",
    "     - $$ \\frac{p_1}{q_1} \\cdot \\frac{p_2}{q_2} = \\frac{p_1p_2}{q_1q_2} .$$\n"
   ]
  },
  {
   "cell_type": "markdown",
   "id": "9d8f0ea3",
   "metadata": {},
   "source": [
    "\n",
    "2. **Uso de Python en Jupyter Notebooks**  \n",
    "   - Definición de funciones de usuario.  \n",
    "   - Tablas con pandas.  \n",
    "   - Visualización gráfica con matplotlib y plotly.\n",
    "\n",
    "---\n"
   ]
  },
  {
   "cell_type": "markdown",
   "id": "fc0fd174",
   "metadata": {},
   "source": [
    "\n",
    "### **4. Desarrollo de la Clase**\n",
    "\n",
    "#### **4.1 Introducción Teórica**\n",
    "- Explica qué son los números racionales con ejemplos: $$\\frac{1}{2}, \\frac{-3}{4}, 2, \\frac{5}{1}.$$  \n",
    "- Discute propiedades como la densidad y la equivalencia.  \n",
    "- Presenta operaciones básicas.\n",
    "\n",
    "#### **4.2 Implementación en Python**\n"
   ]
  },
  {
   "cell_type": "markdown",
   "id": "7a5fa9c7",
   "metadata": {},
   "source": [
    "\n",
    "**1. Verificar si un número es racional**  \n"
   ]
  },
  {
   "cell_type": "code",
   "execution_count": 3,
   "id": "1a18a1f1",
   "metadata": {},
   "outputs": [],
   "source": [
    "from sympy import * \n",
    "def is_rational(p, q):\n",
    "    \"\"\"\n",
    "    Verifica si un número es racional.\n",
    "    p: numerador\n",
    "    q: denominador\n",
    "    Retorna True si es racional, False en caso contrario.\n",
    "    \"\"\"\n",
    "    if q == 0:\n",
    "        return False\n",
    "    return isinstance(p, int) and isinstance(q, int)\n"
   ]
  },
  {
   "cell_type": "code",
   "execution_count": 4,
   "id": "3d459ac4",
   "metadata": {},
   "outputs": [
    {
     "name": "stdout",
     "output_type": "stream",
     "text": [
      "False\n"
     ]
    }
   ],
   "source": [
    "\n",
    "# Ejemplo\n",
    "print(is_rational(sqrt(2), 4))  # True\n"
   ]
  },
  {
   "cell_type": "code",
   "execution_count": null,
   "id": "a583b5aa",
   "metadata": {},
   "outputs": [],
   "source": [
    "print(is_rational(5, 0))  # False\n",
    "\n"
   ]
  },
  {
   "cell_type": "markdown",
   "id": "442d870a",
   "metadata": {},
   "source": [
    "\n",
    "**2. Representar racionales equivalentes** "
   ]
  },
  {
   "cell_type": "code",
   "execution_count": 5,
   "id": "fd8820d3",
   "metadata": {},
   "outputs": [
    {
     "data": {
      "text/html": [
       "<div>\n",
       "<style scoped>\n",
       "    .dataframe tbody tr th:only-of-type {\n",
       "        vertical-align: middle;\n",
       "    }\n",
       "\n",
       "    .dataframe tbody tr th {\n",
       "        vertical-align: top;\n",
       "    }\n",
       "\n",
       "    .dataframe thead th {\n",
       "        text-align: right;\n",
       "    }\n",
       "</style>\n",
       "<table border=\"1\" class=\"dataframe\">\n",
       "  <thead>\n",
       "    <tr style=\"text-align: right;\">\n",
       "      <th></th>\n",
       "      <th>k</th>\n",
       "      <th>numerador</th>\n",
       "      <th>denominador</th>\n",
       "      <th>equivalente</th>\n",
       "    </tr>\n",
       "  </thead>\n",
       "  <tbody>\n",
       "    <tr>\n",
       "      <th>0</th>\n",
       "      <td>1</td>\n",
       "      <td>3</td>\n",
       "      <td>4</td>\n",
       "      <td>3/4</td>\n",
       "    </tr>\n",
       "    <tr>\n",
       "      <th>1</th>\n",
       "      <td>2</td>\n",
       "      <td>6</td>\n",
       "      <td>8</td>\n",
       "      <td>6/8</td>\n",
       "    </tr>\n",
       "    <tr>\n",
       "      <th>2</th>\n",
       "      <td>3</td>\n",
       "      <td>9</td>\n",
       "      <td>12</td>\n",
       "      <td>9/12</td>\n",
       "    </tr>\n",
       "    <tr>\n",
       "      <th>3</th>\n",
       "      <td>4</td>\n",
       "      <td>12</td>\n",
       "      <td>16</td>\n",
       "      <td>12/16</td>\n",
       "    </tr>\n",
       "    <tr>\n",
       "      <th>4</th>\n",
       "      <td>5</td>\n",
       "      <td>15</td>\n",
       "      <td>20</td>\n",
       "      <td>15/20</td>\n",
       "    </tr>\n",
       "  </tbody>\n",
       "</table>\n",
       "</div>"
      ],
      "text/plain": [
       "   k  numerador  denominador equivalente\n",
       "0  1          3            4         3/4\n",
       "1  2          6            8         6/8\n",
       "2  3          9           12        9/12\n",
       "3  4         12           16       12/16\n",
       "4  5         15           20       15/20"
      ]
     },
     "execution_count": 5,
     "metadata": {},
     "output_type": "execute_result"
    }
   ],
   "source": [
    "import pandas as pd\n",
    "\n",
    "def generate_equivalents(p, q, k_values):\n",
    "    \"\"\"\n",
    "    Genera equivalentes racionales multiplicando por valores de k.\n",
    "    p, q: fracción inicial\n",
    "    k_values: lista de valores para k\n",
    "    \"\"\"\n",
    "    data = {\n",
    "        'k': k_values,\n",
    "        'numerador': [k * p for k in k_values],\n",
    "        'denominador': [k * q for k in k_values],\n",
    "        'equivalente': [f\"{k*p}/{k*q}\" for k in k_values]\n",
    "    }\n",
    "    return pd.DataFrame(data)\n",
    "\n",
    "# Generar equivalentes\n",
    "equivalents = generate_equivalents(3, 4, range(1, 6))\n",
    "equivalents\n",
    "\n"
   ]
  },
  {
   "cell_type": "markdown",
   "id": "4fde9057",
   "metadata": {},
   "source": [
    "\n",
    "**3. Visualización gráfica con matplotlib**  \n"
   ]
  },
  {
   "cell_type": "code",
   "execution_count": 6,
   "id": "0aa50727",
   "metadata": {},
   "outputs": [
    {
     "data": {
      "image/png": "[encoded data removed]",
      "text/plain": [
       "<Figure size 640x480 with 1 Axes>"
      ]
     },
     "metadata": {},
     "output_type": "display_data"
    }
   ],
   "source": [
    "import numpy as np \n",
    "import matplotlib.pyplot as plt\n",
    "\n",
    "def plot_density():\n",
    "    \"\"\"\n",
    "    Grafica la densidad de los números racionales entre 0 y 1.\n",
    "    Alta densidad significa que hay muchos números racionales en un intervalo pequeño.\n",
    "    \"\"\"\n",
    "    q_values = np.arange(1,11)\n",
    "    p_values = np.ones_like(q_values)\n",
    "    rational_numbers = [p / q for p in p_values for q in q_values]\n",
    "    \n",
    "    plt.scatter(rational_numbers, [0] * len(rational_numbers), color='blue', label='Racionales')\n",
    "    plt.title('Densidad de los Números Racionales entre 0 y 1')\n",
    "    plt.xlabel('Número racional')\n",
    "    plt.yticks([])\n",
    "    plt.legend()\n",
    "    plt.grid()\n",
    "    plt.show()\n",
    "\n",
    "plot_density()\n",
    "\n"
   ]
  },
  {
   "cell_type": "markdown",
   "id": "b2834a1d",
   "metadata": {},
   "source": [
    "\n",
    "**4. Visualización interactiva con plotly**  \n"
   ]
  },
  {
   "cell_type": "code",
   "execution_count": 10,
   "id": "d1f47191",
   "metadata": {},
   "outputs": [
    {
     "data": {
      "application/vnd.plotly.v1+json": {
       "config": {
        "plotlyServerURL": "https://plot.ly"
       },
       "data": [
        {
         "hovertemplate": "Número=%{x}<br>Cuadrado=%{y}<extra></extra>",
         "legendgroup": "",
         "marker": {
          "color": "#636efa",
          "symbol": "circle"
         },
         "mode": "markers",
         "name": "",
         "orientation": "v",
         "showlegend": false,
         "type": "scatter",
         "x": [
          1,
          0.5,
          0.3333333333333333,
          0.25,
          0.2,
          0.16666666666666666,
          0.14285714285714285,
          0.125,
          0.1111111111111111,
          2,
          1,
          0.6666666666666666,
          0.5,
          0.4,
          0.3333333333333333,
          0.2857142857142857,
          0.25,
          0.2222222222222222,
          3,
          1.5,
          1,
          0.75,
          0.6,
          0.5,
          0.42857142857142855,
          0.375,
          0.3333333333333333,
          4,
          2,
          1.3333333333333333,
          1,
          0.8,
          0.6666666666666666,
          0.5714285714285714,
          0.5,
          0.4444444444444444,
          5,
          2.5,
          1.6666666666666667,
          1.25,
          1,
          0.8333333333333334,
          0.7142857142857143,
          0.625,
          0.5555555555555556,
          6,
          3,
          2,
          1.5,
          1.2,
          1,
          0.8571428571428571,
          0.75,
          0.6666666666666666,
          7,
          3.5,
          2.3333333333333335,
          1.75,
          1.4,
          1.1666666666666667,
          1,
          0.875,
          0.7777777777777778,
          8,
          4,
          2.6666666666666665,
          2,
          1.6,
          1.3333333333333333,
          1.1428571428571428,
          1,
          0.8888888888888888,
          9,
          4.5,
          3,
          2.25,
          1.8,
          1.5,
          1.2857142857142858,
          1.125,
          1
         ],
         "xaxis": "x",
         "y": [
          1,
          0.25,
          0.1111111111111111,
          0.0625,
          0.04000000000000001,
          0.027777777777777776,
          0.02040816326530612,
          0.015625,
          0.012345679012345678,
          4,
          1,
          0.4444444444444444,
          0.25,
          0.16000000000000003,
          0.1111111111111111,
          0.08163265306122448,
          0.0625,
          0.04938271604938271,
          9,
          2.25,
          1,
          0.5625,
          0.36,
          0.25,
          0.18367346938775508,
          0.140625,
          0.1111111111111111,
          16,
          4,
          1.7777777777777777,
          1,
          0.6400000000000001,
          0.4444444444444444,
          0.32653061224489793,
          0.25,
          0.19753086419753085,
          25,
          6.25,
          2.777777777777778,
          1.5625,
          1,
          0.6944444444444445,
          0.5102040816326531,
          0.390625,
          0.308641975308642,
          36,
          9,
          4,
          2.25,
          1.44,
          1,
          0.7346938775510203,
          0.5625,
          0.4444444444444444,
          49,
          12.25,
          5.4444444444444455,
          3.0625,
          1.9599999999999997,
          1.3611111111111114,
          1,
          0.765625,
          0.6049382716049383,
          64,
          16,
          7.111111111111111,
          4,
          2.5600000000000005,
          1.7777777777777777,
          1.3061224489795917,
          1,
          0.7901234567901234,
          81,
          20.25,
          9,
          5.0625,
          3.24,
          2.25,
          1.6530612244897962,
          1.265625,
          1
         ],
         "yaxis": "y"
        }
       ],
       "layout": {
        "legend": {
         "tracegroupgap": 0
        },
        "template": {
         "data": {
          "bar": [
           {
            "error_x": {
             "color": "#2a3f5f"
            },
            "error_y": {
             "color": "#2a3f5f"
            },
            "marker": {
             "line": {
              "color": "#E5ECF6",
              "width": 0.5
             },
             "pattern": {
              "fillmode": "overlay",
              "size": 10,
              "solidity": 0.2
             }
            },
            "type": "bar"
           }
          ],
          "barpolar": [
           {
            "marker": {
             "line": {
              "color": "#E5ECF6",
              "width": 0.5
             },
             "pattern": {
              "fillmode": "overlay",
              "size": 10,
              "solidity": 0.2
             }
            },
            "type": "barpolar"
           }
          ],
          "carpet": [
           {
            "aaxis": {
             "endlinecolor": "#2a3f5f",
             "gridcolor": "white",
             "linecolor": "white",
             "minorgridcolor": "white",
             "startlinecolor": "#2a3f5f"
            },
            "baxis": {
             "endlinecolor": "#2a3f5f",
             "gridcolor": "white",
             "linecolor": "white",
             "minorgridcolor": "white",
             "startlinecolor": "#2a3f5f"
            },
            "type": "carpet"
           }
          ],
          "choropleth": [
           {
            "colorbar": {
             "outlinewidth": 0,
             "ticks": ""
            },
            "type": "choropleth"
           }
          ],
          "contour": [
           {
            "colorbar": {
             "outlinewidth": 0,
             "ticks": ""
            },
            "colorscale": [
             [
              0,
              "#0d0887"
             ],
             [
              0.1111111111111111,
              "#46039f"
             ],
             [
              0.2222222222222222,
              "#7201a8"
             ],
             [
              0.3333333333333333,
              "#9c179e"
             ],
             [
              0.4444444444444444,
              "#bd3786"
             ],
             [
              0.5555555555555556,
              "#d8576b"
             ],
             [
              0.6666666666666666,
              "#ed7953"
             ],
             [
              0.7777777777777778,
              "#fb9f3a"
             ],
             [
              0.8888888888888888,
              "#fdca26"
             ],
             [
              1,
              "#f0f921"
             ]
            ],
            "type": "contour"
           }
          ],
          "contourcarpet": [
           {
            "colorbar": {
             "outlinewidth": 0,
             "ticks": ""
            },
            "type": "contourcarpet"
           }
          ],
          "heatmap": [
           {
            "colorbar": {
             "outlinewidth": 0,
             "ticks": ""
            },
            "colorscale": [
             [
              0,
              "#0d0887"
             ],
             [
              0.1111111111111111,
              "#46039f"
             ],
             [
              0.2222222222222222,
              "#7201a8"
             ],
             [
              0.3333333333333333,
              "#9c179e"
             ],
             [
              0.4444444444444444,
              "#bd3786"
             ],
             [
              0.5555555555555556,
              "#d8576b"
             ],
             [
              0.6666666666666666,
              "#ed7953"
             ],
             [
              0.7777777777777778,
              "#fb9f3a"
             ],
             [
              0.8888888888888888,
              "#fdca26"
             ],
             [
              1,
              "#f0f921"
             ]
            ],
            "type": "heatmap"
           }
          ],
          "heatmapgl": [
           {
            "colorbar": {
             "outlinewidth": 0,
             "ticks": ""
            },
            "colorscale": [
             [
              0,
              "#0d0887"
             ],
             [
              0.1111111111111111,
              "#46039f"
             ],
             [
              0.2222222222222222,
              "#7201a8"
             ],
             [
              0.3333333333333333,
              "#9c179e"
             ],
             [
              0.4444444444444444,
              "#bd3786"
             ],
             [
              0.5555555555555556,
              "#d8576b"
             ],
             [
              0.6666666666666666,
              "#ed7953"
             ],
             [
              0.7777777777777778,
              "#fb9f3a"
             ],
             [
              0.8888888888888888,
              "#fdca26"
             ],
             [
              1,
              "#f0f921"
             ]
            ],
            "type": "heatmapgl"
           }
          ],
          "histogram": [
           {
            "marker": {
             "pattern": {
              "fillmode": "overlay",
              "size": 10,
              "solidity": 0.2
             }
            },
            "type": "histogram"
           }
          ],
          "histogram2d": [
           {
            "colorbar": {
             "outlinewidth": 0,
             "ticks": ""
            },
            "colorscale": [
             [
              0,
              "#0d0887"
             ],
             [
              0.1111111111111111,
              "#46039f"
             ],
             [
              0.2222222222222222,
              "#7201a8"
             ],
             [
              0.3333333333333333,
              "#9c179e"
             ],
             [
              0.4444444444444444,
              "#bd3786"
             ],
             [
              0.5555555555555556,
              "#d8576b"
             ],
             [
              0.6666666666666666,
              "#ed7953"
             ],
             [
              0.7777777777777778,
              "#fb9f3a"
             ],
             [
              0.8888888888888888,
              "#fdca26"
             ],
             [
              1,
              "#f0f921"
             ]
            ],
            "type": "histogram2d"
           }
          ],
          "histogram2dcontour": [
           {
            "colorbar": {
             "outlinewidth": 0,
             "ticks": ""
            },
            "colorscale": [
             [
              0,
              "#0d0887"
             ],
             [
              0.1111111111111111,
              "#46039f"
             ],
             [
              0.2222222222222222,
              "#7201a8"
             ],
             [
              0.3333333333333333,
              "#9c179e"
             ],
             [
              0.4444444444444444,
              "#bd3786"
             ],
             [
              0.5555555555555556,
              "#d8576b"
             ],
             [
              0.6666666666666666,
              "#ed7953"
             ],
             [
              0.7777777777777778,
              "#fb9f3a"
             ],
             [
              0.8888888888888888,
              "#fdca26"
             ],
             [
              1,
              "#f0f921"
             ]
            ],
            "type": "histogram2dcontour"
           }
          ],
          "mesh3d": [
           {
            "colorbar": {
             "outlinewidth": 0,
             "ticks": ""
            },
            "type": "mesh3d"
           }
          ],
          "parcoords": [
           {
            "line": {
             "colorbar": {
              "outlinewidth": 0,
              "ticks": ""
             }
            },
            "type": "parcoords"
           }
          ],
          "pie": [
           {
            "automargin": true,
            "type": "pie"
           }
          ],
          "scatter": [
           {
            "fillpattern": {
             "fillmode": "overlay",
             "size": 10,
             "solidity": 0.2
            },
            "type": "scatter"
           }
          ],
          "scatter3d": [
           {
            "line": {
             "colorbar": {
              "outlinewidth": 0,
              "ticks": ""
             }
            },
            "marker": {
             "colorbar": {
              "outlinewidth": 0,
              "ticks": ""
             }
            },
            "type": "scatter3d"
           }
          ],
          "scattercarpet": [
           {
            "marker": {
             "colorbar": {
              "outlinewidth": 0,
              "ticks": ""
             }
            },
            "type": "scattercarpet"
           }
          ],
          "scattergeo": [
           {
            "marker": {
             "colorbar": {
              "outlinewidth": 0,
              "ticks": ""
             }
            },
            "type": "scattergeo"
           }
          ],
          "scattergl": [
           {
            "marker": {
             "colorbar": {
              "outlinewidth": 0,
              "ticks": ""
             }
            },
            "type": "scattergl"
           }
          ],
          "scattermapbox": [
           {
            "marker": {
             "colorbar": {
              "outlinewidth": 0,
              "ticks": ""
             }
            },
            "type": "scattermapbox"
           }
          ],
          "scatterpolar": [
           {
            "marker": {
             "colorbar": {
              "outlinewidth": 0,
              "ticks": ""
             }
            },
            "type": "scatterpolar"
           }
          ],
          "scatterpolargl": [
           {
            "marker": {
             "colorbar": {
              "outlinewidth": 0,
              "ticks": ""
             }
            },
            "type": "scatterpolargl"
           }
          ],
          "scatterternary": [
           {
            "marker": {
             "colorbar": {
              "outlinewidth": 0,
              "ticks": ""
             }
            },
            "type": "scatterternary"
           }
          ],
          "surface": [
           {
            "colorbar": {
             "outlinewidth": 0,
             "ticks": ""
            },
            "colorscale": [
             [
              0,
              "#0d0887"
             ],
             [
              0.1111111111111111,
              "#46039f"
             ],
             [
              0.2222222222222222,
              "#7201a8"
             ],
             [
              0.3333333333333333,
              "#9c179e"
             ],
             [
              0.4444444444444444,
              "#bd3786"
             ],
             [
              0.5555555555555556,
              "#d8576b"
             ],
             [
              0.6666666666666666,
              "#ed7953"
             ],
             [
              0.7777777777777778,
              "#fb9f3a"
             ],
             [
              0.8888888888888888,
              "#fdca26"
             ],
             [
              1,
              "#f0f921"
             ]
            ],
            "type": "surface"
           }
          ],
          "table": [
           {
            "cells": {
             "fill": {
              "color": "#EBF0F8"
             },
             "line": {
              "color": "white"
             }
            },
            "header": {
             "fill": {
              "color": "#C8D4E3"
             },
             "line": {
              "color": "white"
             }
            },
            "type": "table"
           }
          ]
         },
         "layout": {
          "annotationdefaults": {
           "arrowcolor": "#2a3f5f",
           "arrowhead": 0,
           "arrowwidth": 1
          },
          "autotypenumbers": "strict",
          "coloraxis": {
           "colorbar": {
            "outlinewidth": 0,
            "ticks": ""
           }
          },
          "colorscale": {
           "diverging": [
            [
             0,
             "#8e0152"
            ],
            [
             0.1,
             "#c51b7d"
            ],
            [
             0.2,
             "#de77ae"
            ],
            [
             0.3,
             "#f1b6da"
            ],
            [
             0.4,
             "#fde0ef"
            ],
            [
             0.5,
             "#f7f7f7"
            ],
            [
             0.6,
             "#e6f5d0"
            ],
            [
             0.7,
             "#b8e186"
            ],
            [
             0.8,
             "#7fbc41"
            ],
            [
             0.9,
             "#4d9221"
            ],
            [
             1,
             "#276419"
            ]
           ],
           "sequential": [
            [
             0,
             "#0d0887"
            ],
            [
             0.1111111111111111,
             "#46039f"
            ],
            [
             0.2222222222222222,
             "#7201a8"
            ],
            [
             0.3333333333333333,
             "#9c179e"
            ],
            [
             0.4444444444444444,
             "#bd3786"
            ],
            [
             0.5555555555555556,
             "#d8576b"
            ],
            [
             0.6666666666666666,
             "#ed7953"
            ],
            [
             0.7777777777777778,
             "#fb9f3a"
            ],
            [
             0.8888888888888888,
             "#fdca26"
            ],
            [
             1,
             "#f0f921"
            ]
           ],
           "sequentialminus": [
            [
             0,
             "#0d0887"
            ],
            [
             0.1111111111111111,
             "#46039f"
            ],
            [
             0.2222222222222222,
             "#7201a8"
            ],
            [
             0.3333333333333333,
             "#9c179e"
            ],
            [
             0.4444444444444444,
             "#bd3786"
            ],
            [
             0.5555555555555556,
             "#d8576b"
            ],
            [
             0.6666666666666666,
             "#ed7953"
            ],
            [
             0.7777777777777778,
             "#fb9f3a"
            ],
            [
             0.8888888888888888,
             "#fdca26"
            ],
            [
             1,
             "#f0f921"
            ]
           ]
          },
          "colorway": [
           "#636efa",
           "#EF553B",
           "#00cc96",
           "#ab63fa",
           "#FFA15A",
           "#19d3f3",
           "#FF6692",
           "#B6E880",
           "#FF97FF",
           "#FECB52"
          ],
          "font": {
           "color": "#2a3f5f"
          },
          "geo": {
           "bgcolor": "white",
           "lakecolor": "white",
           "landcolor": "#E5ECF6",
           "showlakes": true,
           "showland": true,
           "subunitcolor": "white"
          },
          "hoverlabel": {
           "align": "left"
          },
          "hovermode": "closest",
          "mapbox": {
           "style": "light"
          },
          "paper_bgcolor": "white",
          "plot_bgcolor": "#E5ECF6",
          "polar": {
           "angularaxis": {
            "gridcolor": "white",
            "linecolor": "white",
            "ticks": ""
           },
           "bgcolor": "#E5ECF6",
           "radialaxis": {
            "gridcolor": "white",
            "linecolor": "white",
            "ticks": ""
           }
          },
          "scene": {
           "xaxis": {
            "backgroundcolor": "#E5ECF6",
            "gridcolor": "white",
            "gridwidth": 2,
            "linecolor": "white",
            "showbackground": true,
            "ticks": "",
            "zerolinecolor": "white"
           },
           "yaxis": {
            "backgroundcolor": "#E5ECF6",
            "gridcolor": "white",
            "gridwidth": 2,
            "linecolor": "white",
            "showbackground": true,
            "ticks": "",
            "zerolinecolor": "white"
           },
           "zaxis": {
            "backgroundcolor": "#E5ECF6",
            "gridcolor": "white",
            "gridwidth": 2,
            "linecolor": "white",
            "showbackground": true,
            "ticks": "",
            "zerolinecolor": "white"
           }
          },
          "shapedefaults": {
           "line": {
            "color": "#2a3f5f"
           }
          },
          "ternary": {
           "aaxis": {
            "gridcolor": "white",
            "linecolor": "white",
            "ticks": ""
           },
           "baxis": {
            "gridcolor": "white",
            "linecolor": "white",
            "ticks": ""
           },
           "bgcolor": "#E5ECF6",
           "caxis": {
            "gridcolor": "white",
            "linecolor": "white",
            "ticks": ""
           }
          },
          "title": {
           "x": 0.05
          },
          "xaxis": {
           "automargin": true,
           "gridcolor": "white",
           "linecolor": "white",
           "ticks": "",
           "title": {
            "standoff": 15
           },
           "zerolinecolor": "white",
           "zerolinewidth": 2
          },
          "yaxis": {
           "automargin": true,
           "gridcolor": "white",
           "linecolor": "white",
           "ticks": "",
           "title": {
            "standoff": 15
           },
           "zerolinecolor": "white",
           "zerolinewidth": 2
          }
         }
        },
        "title": {
         "text": "Operaciones con Números Racionales"
        },
        "xaxis": {
         "anchor": "y",
         "domain": [
          0,
          1
         ],
         "title": {
          "text": "Número"
         }
        },
        "yaxis": {
         "anchor": "x",
         "domain": [
          0,
          1
         ],
         "title": {
          "text": "Cuadrado"
         }
        }
       }
      }
     },
     "metadata": {},
     "output_type": "display_data"
    }
   ],
   "source": [
    "import pandas as pd \n",
    "import plotly.express as px\n",
    "import numpy as np\n",
    "\n",
    "def plot_rational_operations():\n",
    "    \"\"\"\n",
    "    Visualiza operaciones con números racionales de forma interactiva.\n",
    "    \"\"\"\n",
    "    p_values = np.arange(1, 10)\n",
    "    q_values = np.arange(1, 10)\n",
    "    racionales = [p / q for p in p_values for q in q_values if q != 0]\n",
    "    operaciones = {\n",
    "        'Número': racionales,\n",
    "        'Cuadrado': [x**2 for x in racionales],\n",
    "        'Inverso': [1/x for x in racionales if x != 0]\n",
    "    }\n",
    "    df = pd.DataFrame(operaciones)\n",
    "    fig = px.scatter(df, x='Número', y='Cuadrado', title='Operaciones con Números Racionales')\n",
    "    fig.show()\n",
    "\n",
    "plot_rational_operations()\n",
    "\n"
   ]
  },
  {
   "cell_type": "markdown",
   "id": "711eaaa5",
   "metadata": {},
   "source": [
    "\n",
    "---\n"
   ]
  },
  {
   "cell_type": "markdown",
   "id": "406b27b5",
   "metadata": {},
   "source": [
    "\n",
    "### **5. Actividades**\n",
    "\n",
    "1. **Preguntas Teóricas**  \n",
    "   - Explica por qué $\\frac{0}{q}$ siempre es racional (si $q \\neq 0$).  \n",
    "   - Demuestra que la suma de dos números racionales siempre es racional.  \n",
    "\n",
    "2. **Ejercicios en Python**  \n",
    "   - Implementa una función que verifique si una fracción está simplificada.  \n",
    "   - Genera una tabla con pandas para visualizar racionales equivalentes de $\\frac{2}{3}$ usando $k = 1, 2, \\dots, 10$.  \n",
    "\n",
    "3. **Visualización Gráfica**  \n",
    "   - Grafica los números racionales equivalentes para $\\frac{p}{q} = \\frac{1}{2}, \\frac{2}{4}, \\frac{3}{6}$.  \n",
    "\n",
    "---\n"
   ]
  },
  {
   "cell_type": "markdown",
   "id": "4e0919b9",
   "metadata": {},
   "source": [
    "\n",
    "### **6. Evaluación**\n",
    "\n",
    "1. **Criterios de Evaluación**  \n",
    "   - Comprensión conceptual: Explicación clara de los números racionales y sus propiedades.  \n",
    "   - Precisión técnica: Implementación correcta de funciones en Python.  \n",
    "   - Creatividad: Uso efectivo de pandas, matplotlib y plotly para visualización.  \n"
   ]
  },
  {
   "cell_type": "markdown",
   "id": "2235ef51",
   "metadata": {},
   "source": [
    "\n",
    "2. **Producto Final**  \n",
    "   Los estudiantes presentarán un cuaderno Jupyter con:\n",
    "   - Explicaciones teóricas en Markdown.  \n",
    "   - Código para operaciones con números racionales.  \n",
    "   - Tablas y gráficos que ilustren propiedades de los racionales.\n",
    "\n",
    "¿Quieres profundizar en algún aspecto o agregar más ejemplos?"
   ]
  },
  {
   "cell_type": "markdown",
   "id": "cf78a6ea",
   "metadata": {},
   "source": [
    "### Diseño de Clase: **Fundamentos de la Matemática: Los Números Racionales**\n",
    "\n",
    "---\n"
   ]
  },
  {
   "cell_type": "markdown",
   "id": "a2f31cae",
   "metadata": {},
   "source": [
    "\n",
    "#### **1. Título de la Clase:**  \n",
    "**El sentido del número racional y su construcción formal**\n",
    "\n",
    "---\n",
    "\n",
    "#### **2. Objetivo de Aprendizaje:**  \n",
    "Al finalizar la clase, los estudiantes serán capaces de:  \n",
    "- Comprender el concepto de número racional y sus propiedades fundamentales.  \n",
    "- Explicar por qué los números racionales son densos pero no continuos.  \n",
    "- Analizar la diferencia entre números racionales e irracionales, con una breve referencia histórica.  \n",
    "- Construir el conjunto de los números racionales de manera formal utilizando Python para realizar visualizaciones tabulares y gráficas.\n",
    "\n",
    "---\n"
   ]
  },
  {
   "cell_type": "markdown",
   "id": "c04d7f37",
   "metadata": {},
   "source": [
    "\n",
    "#### **3. Contenido de la Clase:**  \n",
    "1. **El sentido del número racional**:  \n",
    "   - Definición de un número racional como una fracción $\\frac{a}{b}$ con $a, b \\in \\mathbb{Z}$ y $ b \\neq 0$.  \n",
    "   - Propiedades fundamentales de los números racionales.  \n"
   ]
  },
  {
   "cell_type": "markdown",
   "id": "8d393f00",
   "metadata": {},
   "source": [
    "### Contenido de la Clase: **El Sentido del Número Racional**\n",
    "\n",
    "#### **1. Definición de un Número Racional**  \n",
    "Un **número racional** es cualquier número que puede representarse como una fracción de la forma:  \n",
    "\n",
    "\\[\n",
    "\\frac{a}{b} \\quad \\text{donde } a, b \\in \\mathbb{Z} \\text{ (enteros) y } b \\neq 0.\n",
    "\\]\n",
    "\n",
    "- El numerador \\( a \\) representa la cantidad de partes tomadas.  \n",
    "- El denominador \\( b \\) indica en cuántas partes se divide la unidad.  \n",
    "\n",
    "Ejemplos de números racionales:  \n",
    "- \\( \\frac{1}{2}, \\frac{-3}{4}, 5 = \\frac{5}{1}, \\) y \\( 0 = \\frac{0}{1}. \\)\n"
   ]
  },
  {
   "cell_type": "markdown",
   "id": "2e89b28f",
   "metadata": {},
   "source": [
    "\n",
    "**Visualización en Python:**  \n",
    "Graficar fracciones comunes como puntos en la recta numérica.  \n"
   ]
  },
  {
   "cell_type": "code",
   "execution_count": 2,
   "id": "002fc91c",
   "metadata": {},
   "outputs": [
    {
     "data": {
      "image/png": "[encoded data removed]",
      "text/plain": [
       "<Figure size 640x480 with 1 Axes>"
      ]
     },
     "metadata": {},
     "output_type": "display_data"
    }
   ],
   "source": [
    "\n",
    "\n",
    "import numpy as np\n",
    "import matplotlib.pyplot as plt\n",
    "\n",
    "# Números racionales a graficar\n",
    "numeradores = np.array([1, -3, 5, 0])\n",
    "denominadores = np.array([2, 4, 1, 1])\n",
    "racionales = numeradores / denominadores\n",
    "\n",
    "# Crear gráfica\n",
    "plt.scatter(racionales, np.zeros_like(racionales), color='red', label='Racionales')\n",
    "for i, (n, d) in enumerate(zip(numeradores, denominadores)):\n",
    "    plt.text(racionales[i], 0.1, f\"{n}/{d}\", fontsize=10, ha='center')\n",
    "\n",
    "plt.axhline(0, color='black', linewidth=0.5)\n",
    "plt.title(\"Ejemplos de Números Racionales\")\n",
    "plt.xlabel(\"Recta numérica\")\n",
    "plt.yticks([])\n",
    "plt.legend()\n",
    "plt.grid(True, linestyle='--', alpha=0.7)\n",
    "plt.show()\n"
   ]
  },
  {
   "cell_type": "markdown",
   "id": "5160a7f9",
   "metadata": {},
   "source": [
    "\n",
    "#### **2. Propiedades Fundamentales de los Números Racionales**  \n",
    "1. **Cerradura**: Los números racionales son cerrados bajo las operaciones de suma, resta, multiplicación y división (excepto la división entre 0).  \n",
    "   - Ejemplo:  \n",
    "     $$\n",
    "     \\frac{1}{2} + \\frac{1}{3} = \\frac{3}{6} + \\frac{2}{6} = \\frac{5}{6}.\n",
    "     $$\n"
   ]
  },
  {
   "cell_type": "markdown",
   "id": "d9c12306",
   "metadata": {},
   "source": [
    "\n",
    "2. **Densidad**: Entre dos números racionales siempre existe otro número racional.  \n",
    "   - Ejemplo: Entre $\\frac{1}{2}$ y $\\frac{3}{4}$, podemos tomar el promedio:  \n",
    "     $$\n",
    "     \\frac{\\frac{1}{2} + \\frac{3}{4}}{2} = \\frac{2}{4} + \\frac{3}{4} = \\frac{5}{8}.\n",
    "     $$\n"
   ]
  },
  {
   "cell_type": "code",
   "execution_count": 4,
   "id": "64381602",
   "metadata": {},
   "outputs": [
    {
     "data": {
      "image/png": "[encoded data removed]",
      "text/plain": [
       "<Figure size 640x480 with 1 Axes>"
      ]
     },
     "metadata": {},
     "output_type": "display_data"
    }
   ],
   "source": [
    "plt.scatter([1/2, 5/8, 3/4], [0,0,0])\n",
    "plt.grid() "
   ]
  },
  {
   "cell_type": "markdown",
   "id": "eceba178",
   "metadata": {},
   "source": [
    "\n",
    "3. **Representación única**: Todo número racional puede escribirse en su forma irreducible, donde el numerador y denominador no tienen factores comunes excepto 1.  \n",
    "   - Ejemplo: $$ \\frac{4}{6} = \\frac{2}{3}. $$\n"
   ]
  },
  {
   "cell_type": "markdown",
   "id": "9c0864d0",
   "metadata": {},
   "source": [
    "\n",
    "4. **Inverso aditivo**: Si $ \\frac{a}{b} $ es un número racional, su inverso aditivo es $ -\\frac{a}{b} $.  \n",
    "   - Ejemplo: $$ \\frac{3}{4} + \\left(-\\frac{3}{4}\\right) = 0. $$\n"
   ]
  },
  {
   "cell_type": "markdown",
   "id": "e6a1ed18",
   "metadata": {},
   "source": [
    "\n",
    "5. **Inverso multiplicativo**: Si $ \\frac{a}{b} $ es un número racional, su inverso multiplicativo es $ \\frac{b}{a} $ (si $ a \\neq 0 $).  \n",
    "   - Ejemplo: $$ \\frac{2}{3} \\cdot \\frac{3}{2} = 1.$$\n",
    "\n",
    "---\n"
   ]
  },
  {
   "cell_type": "markdown",
   "id": "a603d8b5",
   "metadata": {},
   "source": [
    "\n",
    "**Visualización de la Propiedad de Densidad en Python:**  \n",
    "Graficar varios números racionales en un intervalo, mostrando cómo siempre pueden encontrarse racionales intermedios.\n"
   ]
  },
  {
   "cell_type": "code",
   "execution_count": 6,
   "id": "259cf9dc",
   "metadata": {},
   "outputs": [
    {
     "data": {
      "image/png": "[encoded data removed]",
      "text/plain": [
       "<Figure size 640x480 with 1 Axes>"
      ]
     },
     "metadata": {},
     "output_type": "display_data"
    }
   ],
   "source": [
    "\n",
    "\n",
    "# Generar números racionales en el intervalo [0, 1]\n",
    "denominadores = np.arange(1, 6)  # Denominadores del 1 al 5\n",
    "racionales = [(n/d) for d in denominadores for n in range(d+1)]\n",
    "\n",
    "# Ordenar para representación\n",
    "racionales = sorted(set(racionales))\n",
    "\n",
    "# Gráfica\n",
    "plt.scatter(racionales, np.zeros_like(racionales), color='blue', label='Racionales')\n",
    "plt.axhline(0, color='black', linewidth=0.5)\n",
    "plt.title(\"Densidad de los Números Racionales\")\n",
    "plt.xlabel(\"Recta numérica\")\n",
    "plt.yticks([])\n",
    "plt.legend()\n",
    "plt.grid(True, linestyle='--', alpha=0.7)\n",
    "plt.show()\n",
    "\n"
   ]
  },
  {
   "cell_type": "markdown",
   "id": "e7a7c51b",
   "metadata": {},
   "source": [
    "\n",
    "Este contenido establece las bases conceptuales y visuales de los números racionales para facilitar su comprensión y análisis."
   ]
  },
  {
   "cell_type": "markdown",
   "id": "021d886e",
   "metadata": {},
   "source": [
    "[Video hasta aquí]()"
   ]
  },
  {
   "cell_type": "markdown",
   "id": "022c1042",
   "metadata": {},
   "source": [
    "\n",
    "2. **Densidad de los números racionales y su discontinuidad**:  \n",
    "   - Explicación de la densidad: Entre dos números racionales siempre existe otro racional.  \n",
    "   - Ejemplo: Generación de un número racional intermedio entre $\\frac{p}{q}$ y $\\frac{r}{s}$.  \n",
    "   - Explicación de por qué los racionales no son continuos (introducción al concepto de números irracionales).  \n"
   ]
  },
  {
   "cell_type": "markdown",
   "id": "d95c3abd",
   "metadata": {},
   "source": [
    "### Contenido de la Clase: **Densidad de los Números Racionales y su Discontinuidad**\n",
    "\n",
    "---\n",
    "\n",
    "#### **1. Explicación de la Densidad de los Números Racionales**\n",
    "Los números racionales son **densos** en la recta numérica, lo que significa que entre dos números racionales distintos siempre existe al menos otro número racional.  \n"
   ]
  },
  {
   "cell_type": "markdown",
   "id": "744f435f",
   "metadata": {},
   "source": [
    "\n",
    "- Matemáticamente, si $\\frac{p}{q}$ y $\\frac{r}{s}$ son dos números racionales con $\\frac{p}{q} < \\frac{r}{s}$, podemos generar un número racional intermedio usando el promedio:  \n",
    "  $$\n",
    "  \\text{Número intermedio: } \\left(\\frac{p}{q} + \\frac{r}{s}\\right) \\div 2 = \\frac{p \\cdot s + r \\cdot q}{2 \\cdot q \\cdot s}.\n",
    "  $$\n"
   ]
  },
  {
   "cell_type": "markdown",
   "id": "fa094572",
   "metadata": {},
   "source": [
    "\n",
    "- **Propiedad de densidad**: Dada cualquier intervalo, por más pequeño que sea, hay infinitos números racionales dentro de ese intervalo.\n",
    "\n",
    "**Ejemplo Práctico**:  \n",
    "Encontrar un número racional intermedio entre $ \\frac{1}{3}$ y $\\frac{2}{3}$.  \n",
    "\n",
    "$$\n",
    "\\text{Número intermedio: } \\frac{\\frac{1}{3} + \\frac{2}{3}}{2} = \\frac{\\frac{3}{9} + \\frac{6}{9}}{2} = \\frac{9}{18} = \\frac{1}{2}.\n",
    "$$\n",
    "\n",
    "---\n"
   ]
  },
  {
   "cell_type": "markdown",
   "id": "d48c0359",
   "metadata": {},
   "source": [
    "\n",
    "#### **2. Visualización en Python: Generación de Números Racionales Intermedios**\n",
    "\n",
    "El siguiente código genera números racionales intermedios entre dos números dados y los grafica en la recta numérica.  \n"
   ]
  },
  {
   "cell_type": "code",
   "execution_count": 7,
   "id": "1572fd21",
   "metadata": {},
   "outputs": [
    {
     "data": {
      "image/png": "[encoded data removed]",
      "text/plain": [
       "<Figure size 640x480 with 1 Axes>"
      ]
     },
     "metadata": {},
     "output_type": "display_data"
    }
   ],
   "source": [
    "import numpy as np\n",
    "import matplotlib.pyplot as plt\n",
    "\n",
    "# Números racionales iniciales\n",
    "p, q = 1, 3  # Primer número racional: 1/3\n",
    "r, s = 2, 3  # Segundo número racional: 2/3\n",
    "\n",
    "# Calcular número racional intermedio\n",
    "numerador_intermedio = p * s + r * q\n",
    "denominador_intermedio = 2 * q * s\n",
    "intermedio = numerador_intermedio / denominador_intermedio\n",
    "\n",
    "# Crear lista de números a graficar\n",
    "racionales = [p/q, intermedio, r/s]\n",
    "\n",
    "# Graficar\n",
    "plt.scatter(racionales, np.zeros_like(racionales), color='blue', label='Números racionales')\n",
    "for i, num in enumerate([f\"{p}/{q}\", f\"{numerador_intermedio}/{denominador_intermedio}\", f\"{r}/{s}\"]):\n",
    "    plt.text(racionales[i], 0.1, num, fontsize=10, ha='center')\n",
    "\n",
    "plt.axhline(0, color='black', linewidth=0.5)\n",
    "plt.title(\"Densidad de los Números Racionales\")\n",
    "plt.xlabel(\"Recta numérica\")\n",
    "plt.yticks([])\n",
    "plt.legend()\n",
    "plt.grid(True, linestyle='--', alpha=0.7)\n",
    "plt.show()\n",
    "\n"
   ]
  },
  {
   "cell_type": "markdown",
   "id": "3aa5ec85",
   "metadata": {},
   "source": [
    "\n",
    "---\n",
    "\n",
    "#### **3. Explicación de la Discontinuidad de los Números Racionales**\n",
    "A pesar de ser densos, los números racionales **no son continuos**, ya que existen \"huecos\" en la recta numérica que no pueden llenarse con números racionales.  \n",
    "\n",
    "- Esto se debe a que no todos los números pueden expresarse como fracciones de la forma $\\frac{a}{b}$.  \n",
    "- Ejemplo: Raíces cuadradas como $\\sqrt{2}$, $ \\sqrt{3}$, o constantes como $\\pi$ y $e$ son números **irracionales**, que no pueden representarse como fracciones.\n"
   ]
  },
  {
   "cell_type": "markdown",
   "id": "1decf1be",
   "metadata": {},
   "source": [
    "\n",
    "#### **Introducción al Concepto de Números Irracionales**\n",
    "- Un **número irracional** es aquel que no puede representarse como una fracción $\\frac{a}{b}$ con $a, b \\in \\mathbb{Z}$.  \n",
    "- Los irracionales completan los \"huecos\" en la recta numérica, haciendo que esta sea **continua**.\n",
    "\n",
    "---\n"
   ]
  },
  {
   "cell_type": "markdown",
   "id": "51c5b6f8",
   "metadata": {},
   "source": [
    "\n",
    "#### **4. Visualización en Python: Densidad y Discontinuidad**\n",
    "Graficar números racionales e irracionales para mostrar cómo los irracionales completan la recta numérica.\n"
   ]
  },
  {
   "cell_type": "code",
   "execution_count": 13,
   "id": "38bb5e33",
   "metadata": {},
   "outputs": [
    {
     "data": {
      "image/png": "[encoded data removed]",
      "text/plain": [
       "<Figure size 640x480 with 1 Axes>"
      ]
     },
     "metadata": {},
     "output_type": "display_data"
    }
   ],
   "source": [
    "import matplotlib.pyplot as plt\n",
    "import numpy as np\n",
    "\n",
    "# Números racionales\n",
    "racionales = [0.5, 0.666, 0.75, 0.8]\n",
    "# Números irracionales (aproximados)\n",
    "irracionales = [np.sqrt(2), np.sqrt(3), np.pi, np.e]\n",
    "\n",
    "# Graficar números racionales\n",
    "plt.scatter(racionales, np.zeros_like(racionales), color='blue', label='Racionales')\n",
    "\n",
    "# Graficar números irracionales\n",
    "plt.scatter(irracionales, np.zeros_like(irracionales), color='red', label='Irracionales')\n",
    "\n",
    "for x in irracionales:\n",
    "    plt.text(x, 0.05, f\"{x:.2f}\", fontsize=9, ha='center', color='red')\n",
    "\n",
    "plt.axhline(0, color='black', linewidth=0.5)\n",
    "plt.title(\"Densidad y Discontinuidad en la Recta Numérica\")\n",
    "plt.xlabel(\"Recta numérica\")\n",
    "plt.yticks([])\n",
    "plt.legend()\n",
    "plt.grid(True, linestyle='--', alpha=0.7)\n",
    "plt.show()\n",
    "\n"
   ]
  },
  {
   "cell_type": "markdown",
   "id": "25a5bc88",
   "metadata": {},
   "source": [
    "\n",
    "---\n",
    "\n",
    "Este contenido ofrece una comprensión detallada de la densidad de los números racionales, su discontinuidad y cómo los números irracionales completan la recta numérica. Las visualizaciones en Python ayudan a clarificar estas propiedades abstractas."
   ]
  },
  {
   "cell_type": "markdown",
   "id": "82f6c98b",
   "metadata": {},
   "source": []
  },
  {
   "cell_type": "markdown",
   "id": "c02f1303",
   "metadata": {},
   "source": [
    "\n",
    "3. **Racionales e irracionales**:  \n",
    "   - Ejemplos de números racionales $\\left( \\frac{1}{2}, 3, -\\frac{7}{4} \\right)$ y de irracionales $\\left(\\sqrt{2}, \\pi, e \\right)$.  \n",
    "   - Comparación gráfica en Python: Representación de racionales e irracionales en la recta numérica.  \n"
   ]
  },
  {
   "cell_type": "markdown",
   "id": "3b73a281",
   "metadata": {},
   "source": [
    "### Contenido de la Clase: **Racionales e Irracionales**\n",
    "\n",
    "---\n",
    "\n",
    "#### **1. Ejemplos de Números Racionales e Irracionales**\n",
    "- **Números Racionales**: Aquellos que pueden expresarse como una fracción \\(\\frac{a}{b}\\) donde \\(a, b \\in \\mathbb{Z}\\) y \\(b \\neq 0\\). Ejemplos:  \n",
    "  \\[\n",
    "  \\frac{1}{2}, 3, -\\frac{7}{4}\n",
    "  \\]\n",
    "- **Números Irracionales**: Aquellos que no pueden expresarse como fracción, tienen una expansión decimal infinita no periódica. Ejemplos:  \n",
    "  \\[\n",
    "  \\sqrt{2}, \\pi, e\n",
    "  \\]\n",
    "\n",
    "---\n",
    "\n",
    "#### **2. Comparación Gráfica: Racionales e Irracionales en la Recta Numérica**\n",
    "El siguiente código en Python genera una gráfica que compara puntos racionales e irracionales en la recta numérica.\n",
    "\n",
    "```python\n",
    "import matplotlib.pyplot as plt\n",
    "import numpy as np\n",
    "\n",
    "# Definir números racionales e irracionales\n",
    "racionales = [1/2, 3, -7/4]\n",
    "irracionales = [np.sqrt(2), np.pi, np.e]\n",
    "\n",
    "# Crear la recta numérica\n",
    "plt.figure(figsize=(10, 2))\n",
    "plt.axhline(0, color='black', linewidth=0.8)\n",
    "\n",
    "# Graficar números racionales\n",
    "for r in racionales:\n",
    "    plt.scatter(r, 0, color='blue', label='Racional' if r == racionales[0] else \"\")\n",
    "    plt.text(r, 0.1, f\"{r:.2f}\", fontsize=10, ha='center', color='blue')\n",
    "\n",
    "# Graficar números irracionales\n",
    "for ir in irracionales:\n",
    "    plt.scatter(ir, 0, color='red', label='Irracional' if ir == irracionales[0] else \"\")\n",
    "    plt.text(ir, -0.1, f\"{ir:.2f}\", fontsize=10, ha='center', color='red')\n",
    "\n",
    "# Añadir leyenda y título\n",
    "plt.legend()\n",
    "plt.title(\"Comparación de Números Racionales e Irracionales en la Recta Numérica\")\n",
    "plt.yticks([])\n",
    "plt.xlabel(\"Recta Numérica\")\n",
    "plt.grid(True, linestyle='--', alpha=0.5)\n",
    "plt.show()\n",
    "```\n",
    "\n",
    "---\n",
    "\n",
    "#### **3. Animación: Algoritmo Geométrico para Trazar \\(\\sqrt{2}\\) en la Recta Numérica**\n",
    "El siguiente código utiliza `ipywidgets` para mostrar paso a paso cómo construir geométricamente \\(\\sqrt{2}\\) en la recta real, basado en el teorema de Pitágoras.\n",
    "\n",
    "```python\n",
    "import matplotlib.pyplot as plt\n",
    "from ipywidgets import interactive\n",
    "import numpy as np\n",
    "\n",
    "# Función para graficar la construcción geométrica de √2\n",
    "def construir_raiz2(paso):\n",
    "    fig, ax = plt.subplots(figsize=(6, 6))\n",
    "    ax.set_xlim(-1, 2)\n",
    "    ax.set_ylim(-1, 2)\n",
    "    ax.axhline(0, color=\"black\", linewidth=0.8)\n",
    "    ax.axvline(0, color=\"black\", linewidth=0.8)\n",
    "\n",
    "    # Paso 1: Dibujar 1 en la recta real\n",
    "    if paso >= 1:\n",
    "        ax.plot([0, 1], [0, 0], color=\"blue\", label=\"Segmento 1\")\n",
    "\n",
    "    # Paso 2: Levantar una perpendicular de longitud 1\n",
    "    if paso >= 2:\n",
    "        ax.plot([1, 1], [0, 1], color=\"green\", label=\"Segmento Perpendicular\")\n",
    "\n",
    "    # Paso 3: Dibujar la hipotenusa (longitud √2)\n",
    "    if paso >= 3:\n",
    "        ax.plot([0, 1], [0, 1], color=\"red\", label=\"Hipotenusa (√2)\")\n",
    "        ax.text(0.7, 0.5, r\"$\\sqrt{2}$\", fontsize=12, color=\"red\")\n",
    "\n",
    "    # Paso 4: Trazar la hipotenusa sobre la recta real\n",
    "    if paso >= 4:\n",
    "        ax.plot([0, np.sqrt(2)], [0, 0], linestyle=\"--\", color=\"purple\", label=\"Trazado en recta real\")\n",
    "        ax.scatter(np.sqrt(2), 0, color=\"purple\", zorder=5)\n",
    "        ax.text(np.sqrt(2), -0.1, r\"$\\sqrt{2}$\", fontsize=12, color=\"purple\", ha=\"center\")\n",
    "\n",
    "    ax.legend()\n",
    "    plt.title(\"Construcción Geométrica de √2\")\n",
    "    plt.grid(True, linestyle=\"--\", alpha=0.5)\n",
    "    plt.show()\n",
    "\n",
    "# Widget interactivo\n",
    "interactive_plot = interactive(construir_raiz2, paso=(1, 4))\n",
    "interactive_plot\n",
    "```\n",
    "\n",
    "---\n",
    "\n",
    "#### **Descripción de la Animación**\n",
    "1. **Paso 1**: Se traza un segmento de longitud 1 sobre la recta real.  \n",
    "2. **Paso 2**: Se levanta una perpendicular de longitud 1 en el extremo del primer segmento.  \n",
    "3. **Paso 3**: Se une el origen con el extremo superior del segmento perpendicular, formando una hipotenusa de longitud \\(\\sqrt{2}\\).  \n",
    "4. **Paso 4**: La longitud de \\(\\sqrt{2}\\) se transfiere a la recta numérica mediante un compás o una construcción análoga.  \n",
    "\n",
    "Esta actividad visual y dinámica facilita la comprensión de cómo representar geométricamente números irracionales como \\(\\sqrt{2}\\) en la recta numérica."
   ]
  },
  {
   "cell_type": "markdown",
   "id": "df70f325",
   "metadata": {},
   "source": []
  },
  {
   "cell_type": "markdown",
   "id": "b9673861",
   "metadata": {},
   "source": [
    "\n",
    "4. **Un poco de historia sobre los números racionales**:  \n",
    "   - Breve historia desde las fracciones egipcias hasta la formalización moderna.  \n"
   ]
  },
  {
   "cell_type": "markdown",
   "id": "ef456195",
   "metadata": {},
   "source": [
    "### Contenido de la Clase: **Un poco de historia sobre los números racionales**\n",
    "\n",
    "---\n",
    "\n",
    "#### **Breve Historia desde las Fracciones Egipcias hasta la Formalización Moderna**\n",
    "\n",
    "---\n",
    "\n",
    "1. **Fracciones Egipcias**:  \n",
    "   - Los números racionales tienen sus raíces en las civilizaciones antiguas.  \n",
    "   - En el Antiguo Egipto (alrededor de 2000 a.C.), se usaban **fracciones unitarias**, que son fracciones de la forma $\\frac{1}{n}$, donde $n \\in \\mathbb{N}$.  \n",
    "   - Ejemplo: Para expresar $\\frac{2}{3}$, los egipcios usaban la suma de fracciones unitarias, como $\\frac{1}{2} + \\frac{1}{6}$.  \n",
    "   - Los papiros matemáticos, como el **Papiro de Rhind**, contienen ejemplos de cálculos con estas fracciones.\n"
   ]
  },
  {
   "cell_type": "markdown",
   "id": "1470b1dc",
   "metadata": {},
   "source": [
    "\n",
    "   **Visualización en Python: Representación de Fracciones Egipcias**  \n",
    "   Este código descompone una fracción en la suma de fracciones unitarias, usando el método de fracciones egipcias:  \n"
   ]
  },
  {
   "cell_type": "code",
   "execution_count": 20,
   "id": "87824c23",
   "metadata": {},
   "outputs": [
    {
     "ename": "ValueError",
     "evalue": "Exceeds the limit (4300 digits) for integer string conversion; use sys.set_int_max_str_digits() to increase the limit",
     "output_type": "error",
     "traceback": [
      "\u001b[1;31m---------------------------------------------------------------------------\u001b[0m",
      "\u001b[1;31mValueError\u001b[0m                                Traceback (most recent call last)",
      "Cell \u001b[1;32mIn[20], line 29\u001b[0m\n\u001b[0;32m     27\u001b[0m numerador \u001b[38;5;241m=\u001b[39m \u001b[38;5;241m2\u001b[39m\n\u001b[0;32m     28\u001b[0m denominador \u001b[38;5;241m=\u001b[39m \u001b[38;5;241m3\u001b[39m\n\u001b[1;32m---> 29\u001b[0m egipcias \u001b[38;5;241m=\u001b[39m \u001b[43mfracciones_egipcias\u001b[49m\u001b[43m(\u001b[49m\u001b[43mnumerador\u001b[49m\u001b[43m,\u001b[49m\u001b[43m \u001b[49m\u001b[43mdenominador\u001b[49m\u001b[43m)\u001b[49m\n\u001b[0;32m     30\u001b[0m \u001b[38;5;66;03m#print(f\"La descomposición egipcia de {numerador}/{denominador} es: {' + '.join(egipcias)}\")\u001b[39;00m\n",
      "Cell \u001b[1;32mIn[20], line 20\u001b[0m, in \u001b[0;36mfracciones_egipcias\u001b[1;34m(numerador, denominador)\u001b[0m\n\u001b[0;32m     17\u001b[0m \u001b[38;5;28;01mwhile\u001b[39;00m fraccion\u001b[38;5;241m.\u001b[39mnumerator \u001b[38;5;241m!=\u001b[39m \u001b[38;5;241m0\u001b[39m:\n\u001b[0;32m     18\u001b[0m     \u001b[38;5;66;03m# Calcula la unidad más pequeña (fracción unitaria)\u001b[39;00m\n\u001b[0;32m     19\u001b[0m     unidad \u001b[38;5;241m=\u001b[39m Fraction(\u001b[38;5;241m1\u001b[39m, fraccion\u001b[38;5;241m.\u001b[39mdenominator \u001b[38;5;241m/\u001b[39m\u001b[38;5;241m/\u001b[39m fraccion\u001b[38;5;241m.\u001b[39mnumerator \u001b[38;5;241m+\u001b[39m \u001b[38;5;241m1\u001b[39m)\n\u001b[1;32m---> 20\u001b[0m     resultado\u001b[38;5;241m.\u001b[39mappend(\u001b[38;5;124mf\u001b[39m\u001b[38;5;124m\"\u001b[39m\u001b[38;5;124m1/\u001b[39m\u001b[38;5;132;43;01m{\u001b[39;49;00m\u001b[43munidad\u001b[49m\u001b[38;5;241;43m.\u001b[39;49m\u001b[43mdenominator\u001b[49m\u001b[38;5;132;43;01m}\u001b[39;49;00m\u001b[38;5;124m\"\u001b[39m)\n\u001b[0;32m     21\u001b[0m     \u001b[38;5;66;03m# Resta la fracción unitaria de la fracción original\u001b[39;00m\n\u001b[0;32m     22\u001b[0m     fraccion \u001b[38;5;241m-\u001b[39m\u001b[38;5;241m=\u001b[39m unidad\n",
      "\u001b[1;31mValueError\u001b[0m: Exceeds the limit (4300 digits) for integer string conversion; use sys.set_int_max_str_digits() to increase the limit"
     ]
    }
   ],
   "source": [
    "from fractions import Fraction\n",
    "\n",
    "def fracciones_egipcias(numerador, denominador):\n",
    "    \"\"\"\n",
    "    Descompone una fracción en fracciones unitarias usando el método de fracciones egipcias.\n",
    "\n",
    "    Args:\n",
    "        numerador (int): Numerador de la fracción.\n",
    "        denominador (int): Denominador de la fracción.\n",
    "\n",
    "    Returns:\n",
    "        list: Lista de fracciones unitarias en formato de cadena.\n",
    "    \"\"\"\n",
    "    resultado = []\n",
    "    fraccion = Fraction(numerador, denominador)\n",
    "    \n",
    "    while fraccion.numerator != 0:\n",
    "        # Calcula la unidad más pequeña (fracción unitaria)\n",
    "        unidad = Fraction(1, fraccion.denominator // fraccion.numerator + 1)\n",
    "        resultado.append(f\"1/{unidad.denominator}\")\n",
    "        # Resta la fracción unitaria de la fracción original\n",
    "        fraccion -= unidad\n",
    "    \n",
    "    return resultado\n",
    "\n",
    "# Ejemplo: Descomposición de 2/3\n",
    "numerador = 2\n",
    "denominador = 3\n",
    "egipcias = fracciones_egipcias(numerador, denominador)\n",
    "#print(f\"La descomposición egipcia de {numerador}/{denominador} es: {' + '.join(egipcias)}\")\n"
   ]
  },
  {
   "cell_type": "markdown",
   "id": "57936eb4",
   "metadata": {},
   "source": [
    "\n",
    "---\n",
    "\n",
    "2. **La Grecia Clásica y los Números Racionales**:  \n",
    "   - Los matemáticos griegos, como **Euclides**, usaron números racionales en sus desarrollos de proporciones y razones, importantes en geometría.  \n",
    "   - Sin embargo, los griegos descubrieron con **Pitágoras** que no todos los números podían expresarse como fracciones, como $\\sqrt{2}$, lo que llevó al desarrollo de los **irracionales**.\n",
    "\n",
    "---\n"
   ]
  },
  {
   "cell_type": "markdown",
   "id": "07140c66",
   "metadata": {},
   "source": [
    "\n",
    "3. **India y la Invención del Cero**:  \n",
    "   - En la India (alrededor del siglo VII), matemáticos como **Brahmagupta** formalizaron el uso del cero y las fracciones negativas, ampliando el conjunto de números racionales.\n",
    "\n",
    "---\n"
   ]
  },
  {
   "cell_type": "markdown",
   "id": "309921d1",
   "metadata": {},
   "source": [
    "\n",
    "4. **Formalización en la Edad Media y Renacimiento**:  \n",
    "   - Durante la Edad Media, matemáticos islámicos como **Al-Khwarizmi** desarrollaron álgebra y métodos para resolver ecuaciones, usando racionales.  \n",
    "   - En el Renacimiento, matemáticos europeos como **Simon Stevin** introdujeron los decimales, haciendo los racionales más accesibles.\n",
    "\n",
    "---\n"
   ]
  },
  {
   "cell_type": "markdown",
   "id": "0525bd2a",
   "metadata": {},
   "source": [
    "\n",
    "5. **Formalización Moderna (Siglos XIX y XX)**:  \n",
    "   - En el siglo XIX, matemáticos como **Richard Dedekind** y **Giuseppe Peano** definieron los números racionales formalmente como pares ordenados de enteros $(a, b)$, con $b \\neq 0$, y equivalencias entre fracciones.  \n",
    "   - Este enfoque sirvió como base para la construcción rigurosa del conjunto de los números reales.\n",
    "\n",
    "---\n"
   ]
  },
  {
   "cell_type": "markdown",
   "id": "b3c97fe1",
   "metadata": {},
   "source": [
    "\n",
    "#### **Actividad en Python: Línea del Tiempo**\n",
    "El siguiente código genera una línea del tiempo de los hitos históricos de los números racionales:\n"
   ]
  },
  {
   "cell_type": "code",
   "execution_count": 21,
   "id": "6e21204e",
   "metadata": {},
   "outputs": [
    {
     "data": {
      "image/png": "[encoded data removed]",
      "text/plain": [
       "<Figure size 1000x300 with 1 Axes>"
      ]
     },
     "metadata": {},
     "output_type": "display_data"
    }
   ],
   "source": [
    "import matplotlib.pyplot as plt\n",
    "\n",
    "# Datos de hitos históricos\n",
    "eventos = [\n",
    "    \"Fracciones Egipcias (~2000 a.C.)\",\n",
    "    \"Grecia: Proporciones (600 a.C.)\",\n",
    "    \"India: Fracciones Negativas (~600 d.C.)\",\n",
    "    \"Al-Khwarizmi: Álgebra (~800 d.C.)\",\n",
    "    \"Simon Stevin: Decimales (~1585)\",\n",
    "    \"Formalización: Dedekind (~1872)\"\n",
    "]\n",
    "años = [-2000, -600, 600, 800, 1585, 1872]\n",
    "\n",
    "# Crear la línea del tiempo\n",
    "plt.figure(figsize=(10, 3))\n",
    "plt.hlines(1, min(años) - 100, max(años) + 100, colors='gray', linestyles='dashed')\n",
    "plt.scatter(años, [1]*len(años), color='blue', zorder=5)\n",
    "for año, evento in zip(años, eventos):\n",
    "    plt.text(año, 1.02, evento, rotation=45, fontsize=10, ha='center')\n",
    "\n",
    "# Etiquetas\n",
    "plt.title(\"Línea del Tiempo: Historia de los Números Racionales\")\n",
    "plt.yticks([])\n",
    "plt.xlabel(\"Año\")\n",
    "plt.show()\n"
   ]
  },
  {
   "cell_type": "markdown",
   "id": "64bdb079",
   "metadata": {},
   "source": [
    "\n",
    "Esta representación visual permite a los estudiantes contextualizar el desarrollo histórico de los números racionales y su importancia en el pensamiento matemático a lo largo del tiempo."
   ]
  },
  {
   "cell_type": "markdown",
   "id": "ad90e14f",
   "metadata": {},
   "source": []
  },
  {
   "cell_type": "markdown",
   "id": "eb38717d",
   "metadata": {},
   "source": [
    "\n",
    "5. **Interpretación formal y construcción del conjunto de los racionales**:  \n",
    "   - Construcción formal: $ \\mathbb{Q} = \\{ \\frac{a}{b} : a, b \\in \\mathbb{Z}, b \\neq 0 \\} $.  \n",
    "   - Uso de Python para generar fracciones y construir el conjunto de números racionales en un intervalo dado.\n",
    "\n",
    "---\n"
   ]
  },
  {
   "cell_type": "markdown",
   "id": "f976b677",
   "metadata": {},
   "source": [
    "Aquí te presento el desarrollo del contenido sobre la **Interpretación formal y construcción del conjunto de los racionales**:\n",
    "\n",
    "### 5. **Interpretación formal y construcción del conjunto de los racionales**\n",
    "\n",
    "#### 5.1 **Construcción formal de los números racionales**\n",
    "\n",
    "Los **números racionales** son aquellos números que pueden expresarse como el cociente de dos enteros, es decir, de la forma \\( \\frac{a}{b} \\), donde \\( a \\in \\mathbb{Z} \\) (el conjunto de los números enteros) y \\( b \\in \\mathbb{Z} \\) con \\( b \\neq 0 \\). Esta es la **definición formal** de los números racionales, que denotamos por \\( \\mathbb{Q} \\):\n",
    "\n",
    "\\[\n",
    "\\mathbb{Q} = \\left\\{ \\frac{a}{b} : a, b \\in \\mathbb{Z}, b \\neq 0 \\right\\}\n",
    "\\]\n",
    "\n",
    "Es importante destacar que cada número racional tiene una representación única si se simplifican las fracciones a su forma más reducida, es decir, si se divide tanto el numerador como el denominador por su máximo común divisor (MCD).\n",
    "\n",
    "#### 5.2 **Generación de fracciones y construcción de \\( \\mathbb{Q} \\) en un intervalo dado**\n",
    "\n",
    "Para construir el conjunto de los números racionales en un intervalo determinado, podemos generar todas las fracciones \\( \\frac{a}{b} \\) para un rango dado de valores de \\( a \\) y \\( b \\), asegurándonos de que el denominador no sea cero.\n",
    "\n",
    "A continuación, se muestra cómo podemos hacer esto con **Python** para generar fracciones dentro de un intervalo \\([l, r]\\):\n",
    "\n",
    "#### 5.3 **Implementación en Python**\n",
    "\n",
    "Podemos usar la biblioteca `fractions` para representar y manipular fracciones de manera precisa. Además, podemos definir una función para generar fracciones dentro de un intervalo.\n"
   ]
  },
  {
   "cell_type": "code",
   "execution_count": 22,
   "id": "05fc7002",
   "metadata": {},
   "outputs": [
    {
     "name": "stdout",
     "output_type": "stream",
     "text": [
      "Fracciones racionales en el intervalo [0, 1] con denominadores hasta 10:\n",
      "0\n",
      "1/10\n",
      "1/9\n",
      "1/8\n",
      "1/7\n",
      "1/6\n",
      "1/5\n",
      "2/9\n",
      "1/4\n",
      "2/7\n",
      "3/10\n",
      "1/3\n",
      "3/8\n",
      "2/5\n",
      "3/7\n",
      "4/9\n",
      "1/2\n",
      "5/9\n",
      "4/7\n",
      "3/5\n",
      "5/8\n",
      "2/3\n",
      "7/10\n",
      "5/7\n",
      "3/4\n",
      "7/9\n",
      "4/5\n",
      "5/6\n",
      "6/7\n",
      "7/8\n",
      "8/9\n",
      "9/10\n",
      "1\n"
     ]
    }
   ],
   "source": [
    "\n",
    "\n",
    "from fractions import Fraction\n",
    "\n",
    "def generar_racionales_intervalo(l, r, max_denominador=10):\n",
    "    \"\"\"\n",
    "    Genera las fracciones racionales en el intervalo [l, r] con denominadores hasta max_denominador.\n",
    "\n",
    "    Args:\n",
    "        l (float): límite inferior del intervalo.\n",
    "        r (float): límite superior del intervalo.\n",
    "        max_denominador (int): valor máximo del denominador de las fracciones.\n",
    "\n",
    "    Returns:\n",
    "        list: Lista de fracciones racionales dentro del intervalo [l, r].\n",
    "    \"\"\"\n",
    "    racionales = set()\n",
    "    \n",
    "    # Recorremos todos los posibles numeradores y denominadores\n",
    "    for denominador in range(1, max_denominador + 1):\n",
    "        for numerador in range(int(l * denominador), int(r * denominador) + 1):\n",
    "            fraccion = Fraction(numerador, denominador)\n",
    "            if l <= float(fraccion) <= r:\n",
    "                racionales.add(fraccion)\n",
    "    \n",
    "    return sorted(racionales)\n",
    "\n",
    "# Definir un intervalo\n",
    "l = 0\n",
    "r = 1\n",
    "\n",
    "# Generar los números racionales dentro del intervalo [l, r]\n",
    "racionales = generar_racionales_intervalo(l, r, max_denominador=10)\n",
    "\n",
    "# Mostrar los resultados\n",
    "print(f\"Fracciones racionales en el intervalo [{l}, {r}] con denominadores hasta 10:\")\n",
    "for fraccion in racionales:\n",
    "    print(fraccion)\n",
    "\n"
   ]
  },
  {
   "cell_type": "markdown",
   "id": "c45e6945",
   "metadata": {},
   "source": [
    "\n",
    "### Explicación del código:\n",
    "\n",
    "- **Función `generar_racionales_intervalo(l, r, max_denominador)`**: Esta función genera todas las fracciones racionales \\( \\frac{a}{b} \\) en el intervalo \\([l, r]\\), con denominadores desde 1 hasta `max_denominador`. Se recorren todos los posibles numeradores y denominadores, se crean fracciones y se filtran aquellas que caen dentro del intervalo especificado.\n",
    "- **Uso de `Fraction`**: Usamos la clase `Fraction` para garantizar que los cálculos se realicen con fracciones exactas.\n",
    "- **Intervalo de ejemplo**: En este caso, se generan los números racionales entre 0 y 1, con denominadores hasta 10.\n",
    "\n",
    "### 5.4 **Salida del código**\n",
    "\n",
    "La salida del código podría ser algo así:\n",
    "\n",
    "```plaintext\n",
    "Fracciones racionales en el intervalo [0, 1] con denominadores hasta 10:\n",
    "0\n",
    "1/10\n",
    "1/9\n",
    "1/8\n",
    "1/7\n",
    "1/6\n",
    "1/5\n",
    "1/4\n",
    "1/3\n",
    "2/5\n",
    "1/2\n",
    "3/5\n",
    "2/3\n",
    "3/4\n",
    "4/5\n",
    "1\n",
    "```\n",
    "\n",
    "### Conclusión\n",
    "\n",
    "Este ejercicio ilustra cómo construir el conjunto de números racionales en un intervalo dado usando una representación formal, y cómo podemos generarlos mediante programación para explorar sus propiedades y entender mejor cómo se distribuyen en la recta real."
   ]
  },
  {
   "cell_type": "markdown",
   "id": "ac853c71",
   "metadata": {},
   "source": []
  },
  {
   "cell_type": "markdown",
   "id": "f2167f5c",
   "metadata": {},
   "source": [
    "\n",
    "#### **4. Actividades de Aprendizaje:**  \n"
   ]
  },
  {
   "cell_type": "markdown",
   "id": "5ca13f25",
   "metadata": {},
   "source": [
    "\n",
    "1. **Exploración grupal:**  \n",
    "   - Los estudiantes investigan ejemplos de racionales e irracionales presentes en la vida diaria (medidas, proporciones, constantes científicas).  \n",
    "\n",
    "2. **Actividad práctica en Python:**  \n",
    "   - Generar una tabla con fracciones racionales entre 0 y 1 con denominadores hasta 10.  \n",
    "   - Crear una gráfica que represente los números racionales generados en la recta numérica.  \n",
    "\n",
    "   **Código de ejemplo:**  \n"
   ]
  },
  {
   "cell_type": "code",
   "execution_count": 11,
   "id": "73e8d9d9",
   "metadata": {},
   "outputs": [
    {
     "name": "stdout",
     "output_type": "stream",
     "text": [
      "Números racionales entre 0 y 1:\n",
      "Valor | Numerador | Denominador\n",
      "0.00 | 0 | 1\n",
      "0.00 | 0 | 2\n",
      "0.00 | 0 | 3\n",
      "0.00 | 0 | 4\n",
      "0.00 | 0 | 5\n",
      "0.00 | 0 | 6\n",
      "0.00 | 0 | 7\n",
      "0.00 | 0 | 8\n",
      "0.00 | 0 | 9\n",
      "0.00 | 0 | 10\n",
      "0.10 | 1 | 10\n",
      "0.11 | 1 | 9\n",
      "0.12 | 1 | 8\n",
      "0.14 | 1 | 7\n",
      "0.17 | 1 | 6\n",
      "0.20 | 1 | 5\n",
      "0.20 | 2 | 10\n",
      "0.22 | 2 | 9\n",
      "0.25 | 1 | 4\n",
      "0.25 | 2 | 8\n",
      "0.29 | 2 | 7\n",
      "0.30 | 3 | 10\n",
      "0.33 | 1 | 3\n",
      "0.33 | 2 | 6\n",
      "0.33 | 3 | 9\n",
      "0.38 | 3 | 8\n",
      "0.40 | 2 | 5\n",
      "0.40 | 4 | 10\n",
      "0.43 | 3 | 7\n",
      "0.44 | 4 | 9\n",
      "0.50 | 1 | 2\n",
      "0.50 | 2 | 4\n",
      "0.50 | 3 | 6\n",
      "0.50 | 4 | 8\n",
      "0.50 | 5 | 10\n",
      "0.56 | 5 | 9\n",
      "0.57 | 4 | 7\n",
      "0.60 | 3 | 5\n",
      "0.60 | 6 | 10\n",
      "0.62 | 5 | 8\n",
      "0.67 | 2 | 3\n",
      "0.67 | 4 | 6\n",
      "0.67 | 6 | 9\n",
      "0.70 | 7 | 10\n",
      "0.71 | 5 | 7\n",
      "0.75 | 3 | 4\n",
      "0.75 | 6 | 8\n",
      "0.78 | 7 | 9\n",
      "0.80 | 4 | 5\n",
      "0.80 | 8 | 10\n",
      "0.83 | 5 | 6\n",
      "0.86 | 6 | 7\n",
      "0.88 | 7 | 8\n",
      "0.89 | 8 | 9\n",
      "0.90 | 9 | 10\n",
      "1.00 | 1 | 1\n",
      "1.00 | 2 | 2\n",
      "1.00 | 3 | 3\n",
      "1.00 | 4 | 4\n",
      "1.00 | 5 | 5\n",
      "1.00 | 6 | 6\n",
      "1.00 | 7 | 7\n",
      "1.00 | 8 | 8\n",
      "1.00 | 9 | 9\n",
      "1.00 | 10 | 10\n"
     ]
    },
    {
     "data": {
      "image/png": "[encoded data removed]",
      "text/plain": [
       "<Figure size 640x480 with 1 Axes>"
      ]
     },
     "metadata": {},
     "output_type": "display_data"
    }
   ],
   "source": [
    "\n",
    "import numpy as np\n",
    "import matplotlib.pyplot as plt\n",
    "   \n",
    "   # Generar números racionales entre 0 y 1\n",
    "denominadores = np.arange(1, 11)\n",
    "racionales = [(n/d, n, d) for d in denominadores for n in range(d+1)]\n",
    "racionales_ordenados = sorted(racionales, key=lambda x: x[0])\n",
    "   \n",
    "   # Crear tabla\n",
    "print(\"Números racionales entre 0 y 1:\")\n",
    "print(\"Valor | Numerador | Denominador\")\n",
    "for r in racionales_ordenados:\n",
    "    print(f\"{r[0]:.2f} | {r[1]} | {r[2]}\")\n",
    "   \n",
    "# Representar en la recta numérica\n",
    "valores = [r[0] for r in racionales_ordenados]\n",
    "plt.scatter(valores, np.zeros_like(valores), color='blue', label='Racionales')\n",
    "plt.title(\"Números racionales entre 0 y 1\")\n",
    "plt.yticks([])\n",
    "plt.xlabel(\"Recta numérica\")\n",
    "plt.legend()\n",
    "plt.grid(alpha = 0.5)\n",
    "plt.show()\n",
    "\n"
   ]
  },
  {
   "cell_type": "markdown",
   "id": "8e981a51",
   "metadata": {},
   "source": [
    "\n",
    "3. **Discusión grupal:**  \n",
    "   - Reflexionar sobre la densidad de los números racionales observada en la gráfica.  \n",
    "\n",
    "---\n"
   ]
  },
  {
   "cell_type": "markdown",
   "id": "b7aa306c",
   "metadata": {},
   "source": [
    "\n",
    "#### **5. Tarea o Actividades de Ejercitación y Fijación:**  \n",
    "1. Investigue tres aplicaciones de los números racionales en contextos como la agricultura, la economía o la ingeniería.  \n",
    "2. Utilizando Python, represente gráficamente:  \n",
    "   - Los racionales en el intervalo [0, 2] con denominadores hasta 15.  \n",
    "   - Un punto irracional destacado (\\( \\sqrt{2} \\)) en la misma gráfica.  \n",
    "3. Construya una tabla con 20 números racionales generados aleatoriamente y ordénelos.  \n",
    "\n",
    "---\n",
    "\n",
    "#### **6. Diseño de Actividad de Retroalimentación:**  \n"
   ]
  },
  {
   "cell_type": "markdown",
   "id": "6634184d",
   "metadata": {},
   "source": [
    "\n",
    "**Actividad en clase:**  \n",
    "1. Resolver conjuntamente el siguiente problema:  \n",
    "   - Entre los números $\\frac{2}{3}$ y $\\frac{3}{4}$, encuentre dos números racionales diferentes y justifique por qué ambos cumplen con la propiedad de densidad.  \n",
    "   - Verifique los resultados utilizando Python.  \n",
    "\n",
    "   **Código de ejemplo:**  \n"
   ]
  },
  {
   "cell_type": "code",
   "execution_count": 10,
   "id": "0b08dd0e",
   "metadata": {},
   "outputs": [
    {
     "name": "stdout",
     "output_type": "stream",
     "text": [
      "Intermedio 1: 0.7083333333333333\n",
      "Intermedio 2: 0.7222222222222222\n"
     ]
    }
   ],
   "source": [
    "# Generar dos números racionales intermedios\n",
    "a, b = 2, 3\n",
    "c, d = 3, 4\n",
    "intermedio1 = (a/b + c/d) / 2\n",
    "intermedio2 = (a/b + 2*(c/d)) / 3\n",
    "   \n",
    "print(f\"Intermedio 1: {intermedio1}\")\n",
    "print(f\"Intermedio 2: {intermedio2}\")\n"
   ]
  },
  {
   "cell_type": "markdown",
   "id": "9ef0ec74",
   "metadata": {},
   "source": [
    "\n",
    "2. Evaluación por pares: Cada estudiante presenta una breve explicación de un concepto visto en clase (densidad, historia o construcción de \\( \\mathbb{Q} \\)) a un compañero.  \n",
    "\n",
    "3. Retroalimentación grupal: Discusión sobre la utilidad de visualizar racionales e irracionales en gráficas y tablas.  \n",
    "\n",
    "---\n",
    "\n",
    "Este diseño fomenta el uso de herramientas tecnológicas (Python), la reflexión crítica sobre conceptos fundamentales y el trabajo colaborativo para fortalecer el aprendizaje."
   ]
  },
  {
   "cell_type": "code",
   "execution_count": null,
   "id": "70389397",
   "metadata": {},
   "outputs": [],
   "source": []
  },
  {
   "attachments": {},
   "cell_type": "markdown",
   "id": "740f3401",
   "metadata": {
    "slideshow": {
     "slide_type": "slide"
    }
   },
   "source": [
    "# Componente de manejo de calculadora Casio 991LA cw asociado al objetivo de aprendizaje de esta clase"
   ]
  },
  {
   "cell_type": "code",
   "execution_count": null,
   "id": "d8a111c4",
   "metadata": {
    "slideshow": {
     "slide_type": "slide"
    }
   },
   "outputs": [],
   "source": []
  },
  {
   "attachments": {},
   "cell_type": "markdown",
   "id": "8a6f7ef9",
   "metadata": {
    "slideshow": {
     "slide_type": "slide"
    }
   },
   "source": [
    "## Tareas para realizar antes de la clase"
   ]
  },
  {
   "attachments": {},
   "cell_type": "markdown",
   "id": "90cae469",
   "metadata": {
    "slideshow": {
     "slide_type": "slide"
    }
   },
   "source": [
    "1. Ver los videos respectivos []()\n",
    "2. Memorizar las definiciones []()\n",
    "3. Sintetizar o resumir la información en mapas conceptuales. []()\n",
    "4. Tareas para incentivar el uso de la calculadora Casio Para ingenieros y licenciados. "
   ]
  },
  {
   "attachments": {},
   "cell_type": "markdown",
   "id": "fccb447c",
   "metadata": {
    "slideshow": {
     "slide_type": "slide"
    }
   },
   "source": [
    "# Tareas para realizar en clase"
   ]
  },
  {
   "attachments": {},
   "cell_type": "markdown",
   "id": "e5c48edf",
   "metadata": {
    "slideshow": {
     "slide_type": "slide"
    }
   },
   "source": [
    "* Modelación matemática \n",
    "* Trabajo en equipos"
   ]
  },
  {
   "attachments": {},
   "cell_type": "markdown",
   "id": "8b6b0112",
   "metadata": {
    "slideshow": {
     "slide_type": "slide"
    }
   },
   "source": [
    "# Tareas para realizar después de la realización de la clase"
   ]
  },
  {
   "attachments": {},
   "cell_type": "markdown",
   "id": "947460e3",
   "metadata": {
    "slideshow": {
     "slide_type": "slide"
    }
   },
   "source": [
    "* Actividades de memorización: \n",
    "  - escucha reiterada de grabaciones de formulas y resultados científicos. \n",
    "  - relectura de notas. \n",
    "  - ejercicios de mayor complejidad.\n",
    "\n",
    "\n",
    "### No olvide asignar las tareas a los estudiantes a través de Google Colab y compartiendole el cuaderno de asignación a su correo institucional con fecha de entrega. [Google Colab](https://colab.research.google.com/?hl=es)   \n",
    "  "
   ]
  },
  {
   "attachments": {},
   "cell_type": "markdown",
   "id": "d34defb9",
   "metadata": {
    "slideshow": {
     "slide_type": "slide"
    }
   },
   "source": [
    "## Asignación individual de tareas semanales "
   ]
  },
  {
   "attachments": {},
   "cell_type": "markdown",
   "id": "8d41fe58",
   "metadata": {
    "slideshow": {
     "slide_type": "slide"
    }
   },
   "source": [
    "# Horario de clases del profesor Marco\n",
    "\n",
    "* Martes y jueves de 10 a 12: Fundamentos de las matemáticas\n",
    "* Martes y jueves de 2 a 4 PM: Fundamentos de la aritmética\n",
    "\n",
    "* Didáctica de la aritmética: Miércoles de 8 - 12\n",
    "\n"
   ]
  },
  {
   "attachments": {},
   "cell_type": "markdown",
   "id": "ae114e14",
   "metadata": {
    "slideshow": {
     "slide_type": "slide"
    }
   },
   "source": [
    "# Horarios de monitoría y asesoría"
   ]
  },
  {
   "attachments": {},
   "cell_type": "markdown",
   "id": "b1db4b6c",
   "metadata": {
    "slideshow": {
     "slide_type": "slide"
    }
   },
   "source": [
    "## Monitor Manuel"
   ]
  },
  {
   "attachments": {},
   "cell_type": "markdown",
   "id": "39559692",
   "metadata": {
    "slideshow": {
     "slide_type": "slide"
    }
   },
   "source": [
    "Martes y jueves de 8 - 12  \n",
    "Miércoles 10 - 12 y de 2 a 4 PM  \n",
    "Sábado: 8 - 12"
   ]
  },
  {
   "attachments": {},
   "cell_type": "markdown",
   "id": "935a5567",
   "metadata": {
    "slideshow": {
     "slide_type": "slide"
    }
   },
   "source": [
    "## Dificultades de aprendizaje detectados durante la clase"
   ]
  },
  {
   "attachments": {},
   "cell_type": "markdown",
   "id": "3bd7500d",
   "metadata": {
    "slideshow": {
     "slide_type": "slide"
    }
   },
   "source": []
  },
  {
   "cell_type": "markdown",
   "id": "72b0df44",
   "metadata": {},
   "source": [
    "# La DOFA del Grupo y el profesor Marco\n"
   ]
  },
  {
   "cell_type": "markdown",
   "id": "360b5519",
   "metadata": {},
   "source": [
    "* D:\n",
    "* O:\n",
    "* F:\n",
    "* A: "
   ]
  },
  {
   "cell_type": "markdown",
   "id": "80a5ea9d",
   "metadata": {},
   "source": [
    "# ¿Cómo te sentiste en este clase?\n",
    "\n",
    "Este es un servicio de enseñanza y aprendizaje. Dios te bendiga. "
   ]
  },
  {
   "attachments": {},
   "cell_type": "markdown",
   "id": "10bce0d0",
   "metadata": {
    "slideshow": {
     "slide_type": "slide"
    }
   },
   "source": [
    "## Referentes "
   ]
  },
  {
   "attachments": {},
   "cell_type": "markdown",
   "id": "1db3c468",
   "metadata": {
    "slideshow": {
     "slide_type": "slide"
    }
   },
   "source": [
    "* [stewart precálculo](https://udeaeduco-my.sharepoint.com/:b:/g/personal/marco_canas_udea_edu_co/ERHIq62I6qFNrmxy6LZb8ZMBci7kUsyNME1nIh9yCBMJ_w?e=0zMSla)  \n",
    "\n",
    "* [stewart cálculo](https://udeaeduco-my.sharepoint.com/:b:/g/personal/marco_canas_udea_edu_co/EZgXZjAp8QxPqOAim2hs6LcBNPLGjSHf-xwYnUVYkwa04w?e=RZdTCy)  \n",
    "\n",
    "* [larson](https://udeaeduco-my.sharepoint.com/:b:/g/personal/marco_canas_udea_edu_co/ES71ChFeO9ZDhW3TwC5Ijk8BjxUK3Pdqz_fjHxTTFAfIAg?e=VDEjfu)\n",
    "\n",
    "* [uzcategui](https://udeaeduco-my.sharepoint.com/:b:/g/personal/marco_canas_udea_edu_co/ETDikm-lVl1Or8XoEo9oyh0BEti9Zs8le-f0D-dBdtZmbA?e=bBsoyQ)\n",
    "\n",
    "* [Cálculo de Purcell](https://udeaeduco-my.sharepoint.com/:b:/g/personal/marco_canas_udea_edu_co/ES60UB4h-QFFqqRQUFmkpWcBIgoLBJeqTfZjNajWNWSeJA?e=9NxjKJ)\n",
    "\n",
    "* [Recomendación de la UNESCO sobre ciencia abierta](https://unesdoc.unesco.org/ark:/48223/pf0000379949_spa)\n",
    "\n",
    "* [Fórmulas más comunes en latex](https://wiki.geogebra.org/es/C%C3%B3digo_LaTeX_para_las_f%C3%B3rmulas_m%C3%A1s_comunes) \n",
    "\n",
    "* [chatGPT](https://openai.com/blog/chatgpt)  \n",
    "\n",
    "* Géron, A. (2017). Hands-on machine learning with scikit-learn and tensorflow: Concepts. Tools, and Techniques to build intelligent systems.[Geron, Aurelien. Hands on Machine Learning](https://udeaeduco-my.sharepoint.com/:b:/g/personal/marco_canas_udea_edu_co/Ecet27yjQzZIlT1Y_Bc2erkBUhbeYuIe6HG8i1FYZRlZww?e=dlvZ4v)  \n",
    "\n",
    "* McKinney, W. (2012). Python for data analysis: Data wrangling with Pandas, NumPy, and IPython. \" O'Reilly Media, Inc.\".[Wes Mackinney. ](https://udeaeduco-my.sharepoint.com/:b:/g/personal/marco_canas_udea_edu_co/EVbi5JIeBl9ErbiUnZfGe8YBhNTnZ8sxTK5hjIOPK4UpGw?e=fFclah)"
   ]
  },
  {
   "attachments": {},
   "cell_type": "markdown",
   "id": "6b9e56a8",
   "metadata": {
    "slideshow": {
     "slide_type": "slide"
    }
   },
   "source": [
    "### [Evaluamos al profesor Marco Cañas Aquí](https://forms.office.com/Pages/ResponsePage.aspx?id=IefhmYRxjkmK_7KtTlPBwkanXIs1i1FEujpsZgO6dXpUREJPV1kxUk1JV1ozTFJIQVNIQjY5WEY3US4u)"
   ]
  },
  {
   "attachments": {},
   "cell_type": "markdown",
   "id": "071afa04",
   "metadata": {
    "slideshow": {
     "slide_type": "slide"
    }
   },
   "source": [
    "## [Evaluación luego de alcanzar estos objetivos de aprendizaje]()"
   ]
  },
  {
   "attachments": {},
   "cell_type": "markdown",
   "id": "10f43536",
   "metadata": {
    "slideshow": {
     "slide_type": "slide"
    }
   },
   "source": [
    "### Continue su aprendizaje en la siguiente clase a través del siguiente [vínculo]()"
   ]
  },
  {
   "attachments": {},
   "cell_type": "markdown",
   "id": "af751e30",
   "metadata": {
    "slideshow": {
     "slide_type": "slide"
    }
   },
   "source": [
    "# Conjeturas pedagógicas fruto de la aplicación del modelo de aprendizaje invertido y del enfoque hacia la ciencia de datos con python\n",
    "\n",
    "1. Todo cálculo o resultado debe ser interpretado en una línea markdown del cuaderno Jupyter, inmediatamente después de la enunciación del resultado y después de la presentación de una tabla o gráfico bidimensional, de tal menera que el estudiante explicite la comprensión verbal del resultado y las inferencias o estrategias que este resultado le sugieren.  \n",
    "\n",
    "2. Debo colocar las conjeturas pedagógicas, que el uso en el aula de [ChatGPT](https://openai.com/blog/chatgpt/) traiga para la enseñanza y el aprendizaje de las matemáticas. \n",
    "\n",
    "3. Promover ciencia abierta en clase de matemáticas puede ser pidiendo a los estudiantes, tomar nota en clase pero en cuadernos Jupyter y entregar siempre al final de cada clase su cuaderno con todas las notas y experimentaciones de clase replicadas. "
   ]
  },
  {
   "attachments": {},
   "cell_type": "markdown",
   "id": "53cc9115",
   "metadata": {
    "slideshow": {
     "slide_type": "slide"
    }
   },
   "source": [
    "## Agradecimientos  \n",
    "\n",
    "Doy gracias a Dios por la vida de mi Hijo Joseph Cañas Osorio y la madurez que ha alcanzado.\n",
    "\n",
    "Y a mi esposa Yasmira por su apoyo, orientación y acompañamiento. "
   ]
  },
  {
   "cell_type": "markdown",
   "id": "8d34c984",
   "metadata": {},
   "source": [
    "# Modelo pedagógico que fundamenta la metodología de enseñanza del lenguaje Python y de los cuadernos Jupyter\n",
    "\n",
    "La pedagogía activa es un enfoque educativo que se centra en el estudiante como el protagonista de su propio aprendizaje, fomentando la participación activa, la colaboración y la resolución de problemas. En el contexto de la enseñanza del lenguaje Python a través de cuadernos Jupyter, la pedagogía activa se puede implementar de la siguiente manera:\n",
    "\n",
    "La pedagogía activa en la enseñanza de Python mediante cuadernos Jupyter implica proporcionar a los estudiantes un entorno interactivo donde puedan escribir código Python, ver los resultados de inmediato y experimentar con diferentes conceptos y algoritmos. Los cuadernos Jupyter permiten a los estudiantes no solo leer código, sino también escribirlo, ejecutarlo y observar cómo afecta a los resultados en tiempo real.\n",
    "\n",
    "Este enfoque activo implica:\n",
    "\n",
    "1. **Aprendizaje Autónomo:** Los estudiantes pueden explorar y aprender a su propio ritmo. Pueden seguir ejemplos, realizar experimentos y buscar soluciones de manera independiente.\n",
    "\n",
    "2. **Interactividad:** Los cuadernos Jupyter permiten a los estudiantes interactuar directamente con el código. Pueden modificar las celdas de código y ver cómo esos cambios afectan a los resultados.\n",
    "\n",
    "3. **Resolución de Problemas:** Los estudiantes pueden enfrentar problemas prácticos y aplicar conceptos de Python para resolverlos. Pueden trabajar en proyectos prácticos que les interesen, lo que fomenta la creatividad y la resolución de problemas del mundo real.\n",
    "\n",
    "4. **Colaboración:** Los cuadernos Jupyter se pueden compartir fácilmente. Los estudiantes pueden colaborar en proyectos, revisar y comentar el código de otros, lo que fomenta la colaboración y el trabajo en equipo.\n",
    "\n",
    "5. **Retroalimentación Inmediata:** Los estudiantes reciben retroalimentación inmediata sobre la corrección de su código y pueden realizar ajustes instantáneos. Esto facilita un ciclo de retroalimentación rápido que mejora el proceso de aprendizaje.\n",
    "\n",
    "6. **Visualización y Experimentación:** Python y los cuadernos Jupyter permiten la creación de visualizaciones interactivas y experimentos prácticos. Los estudiantes pueden ver gráficos, diagramas y resultados numéricos, lo que facilita la comprensión de conceptos complejos.\n",
    "\n",
    "En resumen, la pedagogía activa implementada a través de cuadernos Jupyter y la enseñanza del lenguaje Python implica un enfoque participativo donde los estudiantes pueden explorar, experimentar, colaborar y recibir retroalimentación inmediata, lo que mejora significativamente su proceso de aprendizaje y comprensión de la programación."
   ]
  },
  {
   "cell_type": "code",
   "execution_count": null,
   "id": "62b356f5",
   "metadata": {},
   "outputs": [],
   "source": []
  }
 ],
 "metadata": {
  "celltoolbar": "Slideshow",
  "kernelspec": {
   "display_name": "Python 3",
   "language": "python",
   "name": "python3"
  },
  "language_info": {
   "codemirror_mode": {
    "name": "ipython",
    "version": 3
   },
   "file_extension": ".py",
   "mimetype": "text/x-python",
   "name": "python",
   "nbconvert_exporter": "python",
   "pygments_lexer": "ipython3",
   "version": "3.12.7"
  },
  "rise": {
   "enable_chalkboard": true,
   "theme": "sky",
   "transition": "zoom"
  }
 },
 "nbformat": 4,
 "nbformat_minor": 5
}
