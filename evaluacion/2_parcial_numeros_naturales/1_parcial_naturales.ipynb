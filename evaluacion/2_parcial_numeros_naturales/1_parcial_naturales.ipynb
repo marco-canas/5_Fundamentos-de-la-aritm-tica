{
 "cells": [
  {
   "cell_type": "markdown",
   "id": "dc06dec7",
   "metadata": {
    "slideshow": {
     "slide_type": "slide"
    }
   },
   "source": [
    "<table align=\"left\">\n",
    "  <td>\n",
    "    <a href=\"https://colab.research.google.com/github/ageron/handson-ml3/blob/main/tools_numpy.ipynb\" target=\"_parent\"><img src=\"https://colab.research.google.com/assets/colab-badge.svg\" alt=\"Open In Colab\"/></a>\n",
    "  </td>\n",
    "  <td>\n",
    "    <a target=\"_blank\" href=\"https://kaggle.com/kernels/welcome?src=https://github.com/ageron/handson-ml3/blob/main/tools_numpy.ipynb\"><img src=\"https://kaggle.com/static/images/open-in-kaggle.svg\" /></a>\n",
    "  </td>\n",
    "</table>"
   ]
  },
  {
   "cell_type": "markdown",
   "id": "e0c5b198",
   "metadata": {
    "slideshow": {
     "slide_type": "slide"
    }
   },
   "source": [
    "### [Video de apoyo a la lectura interactiva y experimental de este cuaderno]()"
   ]
  },
  {
   "cell_type": "markdown",
   "id": "41e82203",
   "metadata": {
    "slideshow": {
     "slide_type": "slide"
    }
   },
   "source": [
    "## [Vínculo al programa del curso:  ]()\n",
    "\n"
   ]
  },
  {
   "cell_type": "markdown",
   "id": "d11ab06d",
   "metadata": {
    "slideshow": {
     "slide_type": "slide"
    }
   },
   "source": [
    "Un reconocimiento a mis estudiantes que han construido conmigo este saber pedagógico:\n",
    "\n",
    "<img src = ''> \n",
    "\n"
   ]
  },
  {
   "cell_type": "markdown",
   "id": "8a74a56c-0ce6-4ad6-b985-553fd7fb68bb",
   "metadata": {},
   "source": [
    "Reconocimiento a las profesoras destacadas en enseñanza de la matemática en Colombia\n",
    "\n",
    "Aquí tienes algunas mujeres destacadas en Colombia en la enseñanza de la matemática, junto con una breve biografía de cada una:"
   ]
  },
  {
   "cell_type": "code",
   "execution_count": null,
   "id": "7604880f",
   "metadata": {
    "slideshow": {
     "slide_type": "slide"
    }
   },
   "outputs": [],
   "source": [
    "import pandas as pd\n",
    "import numpy as np\n",
    "\n",
    "# Cargar la lista de estudiantes desde la URL\n",
    "path = '/home/marco/Documentos/docencia/groups_list/calculo_vectorial.csv'\n",
    "estudiantes = pd.read_csv(path)\n",
    "estudiantes['Parcial'] = estudiantes['Parcial'].astype(float) # hacer que todos los valores de la columna Parcial seen de tipo float\n",
    "\n",
    "# Convertir la columna 'Nombre' a una lista de Python\n",
    "lista_estudiantes = estudiantes['Nombre'].tolist()\n",
    "\n",
    "# Función para llamar a un estudiante aleatoriamente y registrar su nota de seguimiento\n",
    "def asistencia():\n",
    "    if lista_estudiantes:\n",
    "        estudiante_aleatorio = np.random.choice(lista_estudiantes)\n",
    "        print(f\"Llamando a {estudiante_aleatorio}...\")\n",
    "        asistencia = input(f\"¿Asistió {estudiante_aleatorio}? (s/n): \").strip().lower()\n",
    "        \n",
    "        if asistencia == 's':\n",
    "            # Obtener el índice del estudiante en el DataFrame\n",
    "            indice = estudiantes[estudiantes['Nombre'] == estudiante_aleatorio].index[0]\n",
    "            # Incrementar su valor en la columna 'Parcial'\n",
    "            estudiantes.at[indice, 'Parcial'] += 0.01\n",
    "            print(f\"Actualizado: {estudiante_aleatorio} ahora tiene {estudiantes.at[indice, 'Parcial']} en la columna 'Parcial'.\")\n",
    "        \n",
    "        lista_estudiantes.remove(estudiante_aleatorio)\n",
    "    else:\n",
    "        print(\"Se han llamado a todos los estudiantes del grupo completo.\")\n",
    "\n",
    "# Guardar los cambios en el archivo CSV\n",
    "def guardar_cambios():\n",
    "    estudiantes.to_csv(path, index=False)\n",
    "    print(\"Cambios guardados en el archivo CSV.\")\n",
    "\n",
    "# Ejemplo de uso\n",
    "while lista_estudiantes:\n",
    "    asistencia()\n",
    "    guardar_cambios()\n",
    "\n",
    "\n"
   ]
  },
  {
   "cell_type": "markdown",
   "id": "d7598d0a-d9b7-4ae0-b029-a0ed6ed1130b",
   "metadata": {},
   "source": [
    "\n",
    "# Principios de mi labor docente"
   ]
  },
  {
   "cell_type": "markdown",
   "id": "4f9d8cf9",
   "metadata": {
    "slideshow": {
     "slide_type": "slide"
    }
   },
   "source": [
    "# Modelo general de clase: [aula invertida](https://www3.gobiernodecanarias.org/medusa/ecoescuela/pedagotic/aprendizaje-invertido-flipped-classroom/)"
   ]
  },
  {
   "cell_type": "markdown",
   "id": "eb6ed03a",
   "metadata": {},
   "source": [
    "<img src = 'https://resources.maneuveringthemiddle.com/wp-content/uploads/2020/07/04212706/1-5.png' width = 400> "
   ]
  },
  {
   "cell_type": "markdown",
   "id": "34319cce-a71b-4f64-aab8-b53e521efa40",
   "metadata": {},
   "source": [
    "# Metodología de enseñanza basada en problemas (ABP)\n"
   ]
  },
  {
   "cell_type": "markdown",
   "id": "271ac3d0",
   "metadata": {},
   "source": [
    "\n",
    "<img src = 'https://www.unir.net/wp-content/uploads/2020/07/aprendizaje-problemas2-1-1-1-1.jpeg' width = 400>"
   ]
  },
  {
   "cell_type": "markdown",
   "id": "841a985c-bd9b-4dd3-8e4c-893983980af2",
   "metadata": {},
   "source": [
    "# Desarrollo del pensamiento computacional con python y cuadernos Jupyter  orientado a la formación en ciencia de datos \n"
   ]
  },
  {
   "cell_type": "markdown",
   "id": "c354bee9",
   "metadata": {},
   "source": [
    "\n",
    "\n",
    "<img src = 'https://i.ytimg.com/vi/mcG_wcR4e6M/maxresdefault.jpg' width = 400>"
   ]
  },
  {
   "cell_type": "markdown",
   "id": "65aa0404-f7ae-495e-864c-1aec01b4255e",
   "metadata": {},
   "source": [
    "# Principio de fomento a la ciencia abierta, enseñar en el acceso a los datos públicos y el uso de software de código abierto  \n"
   ]
  },
  {
   "cell_type": "markdown",
   "id": "dac1e0d2",
   "metadata": {},
   "source": [
    "\n",
    "<img src = 'https://unesdoc.unesco.org/in/rest/Thumb/image?id=p%3A%3Ausmarcdef_0000379949_spa&author=UNESCO&title=Recomendaci%C3%B3n+de+la+UNESCO+sobre+la+Ciencia+Abierta&year=2021&publisher=UNESCO&TypeOfDocument=UnescoPhysicalDocument&mat=PGD&ct=true&size=512&isPhysical=1' width = 200>"
   ]
  },
  {
   "cell_type": "markdown",
   "id": "8d97dc80",
   "metadata": {
    "slideshow": {
     "slide_type": "slide"
    }
   },
   "source": [
    "## Fomento de la lectura literaria asociada a Ingeniería agropecuaria y licenciatura en Matemáticas\n",
    "\n"
   ]
  },
  {
   "cell_type": "markdown",
   "id": "96775931",
   "metadata": {
    "slideshow": {
     "slide_type": "slide"
    }
   },
   "source": [
    "## Título de la clase: Parcial sobre números naturales    \n",
    "\n",
    "[]()"
   ]
  },
  {
   "cell_type": "markdown",
   "id": "1d38dd4e",
   "metadata": {
    "slideshow": {
     "slide_type": "slide"
    }
   },
   "source": [
    "### Objetivo de aprendizaje  \n",
    "\n",
    "\n",
    "1. Que el estudiante de licenciatura pueda interpretar en lenguaje natural, cada una de las propiedades algebraicas de las operaciones en N de suma, resta, multiiplicación y división. \n",
    "\n",
    " \n"
   ]
  },
  {
   "cell_type": "markdown",
   "id": "1365025c",
   "metadata": {},
   "source": [
    "1. Conocimiento Teórico de Matemáticas\n",
    "\n",
    "Indicadores:\n",
    "\n",
    "* Comprensión de conceptos fundamentales de los números naturales.\n",
    "* Capacidad para interpretar verbal y simbólicamente un resultado científico que tenga que ver con los números naturales.\n",
    "* Habilidad para verificar resultados científicos.\n",
    "* Capacidad de leer, escribir e interpretar utilizando la notación y terminología matemática propia de esta clase.\n",
    "* Capacidad para aplicar resultados científicos en problemas.\n"
   ]
  },
  {
   "cell_type": "markdown",
   "id": "97ab69df",
   "metadata": {},
   "source": [
    "\n",
    "2. Habilidad en Programación con Python\n",
    "\n",
    "Indicadores:\n",
    "\n",
    "* Capacidad para escribir y ejecutar scripts básicos en Python para verificar resultados científicos.\n",
    "* Comprensión y uso de estructuras de control (condicionales, bucles).\n",
    "* Uso de funciones y módulos en Python.\n",
    "* Manejo de estructuras de datos (listas, diccionarios, tuplas).\n",
    "* Habilidad para depurar y solucionar errores en el código.\n",
    "* Uso de bibliotecas matemáticas como NumPy y SymPy.\n"
   ]
  },
  {
   "cell_type": "markdown",
   "id": "0dd775aa",
   "metadata": {},
   "source": [
    "\n",
    "3. Pensamiento Computacional\n",
    "\n",
    "Indicadores:\n",
    "\n",
    "* Capacidad para descomponer problemas complejos en subproblemas manejables.\n",
    "* Habilidad para diseñar algoritmos eficientes para resolver problemas específicos.\n",
    "* Comprensión de la lógica detrás de las estructuras de control y su aplicación en la programación.\n",
    "* Capacidad para abstraer conceptos matemáticos en soluciones programables.\n",
    "* Habilidad para identificar y aplicar patrones en la resolución de problemas.\n"
   ]
  },
  {
   "cell_type": "markdown",
   "id": "1a57907e",
   "metadata": {},
   "source": [
    "\n",
    "4. Aplicación de Matemáticas en Problemas Reales\n",
    "\n",
    "Indicadores:\n",
    "\n",
    "* Capacidad para modelar situaciones reales utilizando funciones matemáticas.\n",
    "* Habilidad para implementar soluciones matemáticas en código Python para resolver problemas prácticos.\n",
    "* Comprensión de cómo interpretar los resultados obtenidos mediante simulaciones o cálculos computacionales.\n",
    "* Uso de Python para la visualización de datos y resultados matemáticos.\n",
    "* Capacidad para integrar conocimientos matemáticos y de programación en proyectos interdisciplinarios."
   ]
  },
  {
   "cell_type": "markdown",
   "id": "540f0ec1",
   "metadata": {
    "slideshow": {
     "slide_type": "slide"
    }
   },
   "source": [
    "## Cuestionario para realizar labores de memorización, observación y síntesis de la información (Además de diagnóstico)  \n",
    "[Realizar encuesta para participacion de todos los estudiantes para diagnosticar presaberes para la clase: mentimeter](https://www.mentimeter.com/es-ES/education/lectures)\n",
    "\n",
    "1. ¿?\n",
    "2. ¿?\n",
    "3. ¿?\n",
    "4. ¿?\n",
    "5. ¿?"
   ]
  },
  {
   "cell_type": "markdown",
   "id": "8e457ea2",
   "metadata": {},
   "source": [
    "# Definiciones y Resultados científicos a comprender y memorizar \n",
    "\n",
    "[Primera grabación en Vocaroo]()"
   ]
  },
  {
   "cell_type": "markdown",
   "id": "ca7261b1",
   "metadata": {
    "slideshow": {
     "slide_type": "slide"
    }
   },
   "source": [
    "## Establecimiento de prerrequisitos conceptuales para alcanzar el objetivo de aprendizaje trazado.   \n",
    "\n",
    "(Elabore una lista de preguntas al rededor de los conceptos que consideres necesarios para empezar la clase).  \n",
    "\n",
    "1. \n",
    "2. \n",
    "3. "
   ]
  },
  {
   "cell_type": "markdown",
   "id": "2298e976",
   "metadata": {
    "slideshow": {
     "slide_type": "slide"
    }
   },
   "source": [
    "# Para el diseño de la clase tenga en cuenta algunos problemas de aprendizaje"
   ]
  },
  {
   "cell_type": "markdown",
   "id": "523d3acf",
   "metadata": {
    "slideshow": {
     "slide_type": "slide"
    }
   },
   "source": []
  },
  {
   "cell_type": "markdown",
   "id": "a40a4704",
   "metadata": {
    "slideshow": {
     "slide_type": "slide"
    }
   },
   "source": [
    "## Secuencia conceptual introductoria a la clase"
   ]
  },
  {
   "cell_type": "markdown",
   "id": "8853d874",
   "metadata": {},
   "source": [
    "## El componente histórico y epistemológico"
   ]
  },
  {
   "cell_type": "markdown",
   "id": "e3ffa494",
   "metadata": {},
   "source": [
    "# Vocabulary   \n",
    "\n",
    "1. \n",
    "2.  \n",
    "3.  \n",
    "4.  main: \n",
    "5.  branch:  a part of a tree or a division of a company or organization. \n"
   ]
  },
  {
   "cell_type": "code",
   "execution_count": 4,
   "id": "6ff395c3",
   "metadata": {},
   "outputs": [],
   "source": [
    "# Traducción del inglés al español con python\n",
    "\n",
    "def traducir(texto):\n",
    "    from googletrans import Translator\n",
    "\n",
    "    translator = Translator() # instancia la clase \n",
    "\n",
    "    # Traducir al español\n",
    "    translation = translator.translate(texto, src='en', dest='es')\n",
    "    return translation.text"
   ]
  },
  {
   "cell_type": "code",
   "execution_count": null,
   "id": "b583f414-ac87-4912-8a86-b338234d83d7",
   "metadata": {},
   "outputs": [],
   "source": [
    "traducir('Hi')"
   ]
  },
  {
   "cell_type": "code",
   "execution_count": null,
   "id": "bc0addfe",
   "metadata": {},
   "outputs": [],
   "source": [
    "# mapa conceptual para cada clase  \n",
    "from graphviz import Digraph\n",
    "\n",
    "# Crear un nuevo grafo dirigido\n",
    "dot = Digraph()\n",
    "\n",
    "# Añadir nodos y relaciones al grafo\n",
    "main_concept = 'Números Naturales'\n",
    "dot.node('A', main_concept)\n",
    "dot.node('B', '')\n",
    "dot.node('C', '')\n",
    "\n",
    "dot.edges(['AB'])\n",
    "\n",
    "# Guardar el grafo como un archivo de imagen\n",
    "dot.render(filename=main_concept, format='png', cleanup=True)\n",
    "\n",
    "dot.view()\n"
   ]
  },
  {
   "cell_type": "markdown",
   "id": "10e55ccf",
   "metadata": {},
   "source": [
    "# Diseños de parcial sobre números naturales  "
   ]
  },
  {
   "cell_type": "markdown",
   "id": "239427f7",
   "metadata": {},
   "source": [
    "Este es un diseño de parcial que se ajusta a un enfoque de docencia de la matemática, en el que los estudiantes no solo resuelven ejercicios, sino que también deben analizar, interpretar, y justificar sus respuestas utilizando propiedades algebraicas y demostraciones. Este parcial se centra en los números naturales, sus operaciones, y la estructura que conforman con la suma y la multiplicación.\n",
    "\n",
    "---\n"
   ]
  },
  {
   "cell_type": "markdown",
   "id": "b1e1a3be",
   "metadata": {},
   "source": [
    "\n",
    "## **Retroalimentación al Parcial de Matemáticas I: Números Naturales y sus Operaciones**\n",
    "\n",
    "### **Instrucciones:**\n",
    "- Lee cuidadosamente cada una de las preguntas.\n",
    "- Responde con claridad, justificación y rigor matemático.\n",
    "- Puedes usar diagramas o tablas si lo consideras necesario.\n",
    "- En cada respuesta, procura destacar las propiedades algebraicas implicadas.\n",
    "\n",
    "---\n"
   ]
  },
  {
   "cell_type": "markdown",
   "id": "04fba355",
   "metadata": {},
   "source": [
    "\n",
    "### **Pregunta 1: Propiedades de la Suma y la Multiplicación en los Números Naturales (15 puntos)**\n",
    "\n",
    "a) Considera los números naturales $ a, b, c \\in \\mathbb{N} $. Muestra, con ejemplos y observaciones verbales, que las siguientes propiedades se cumplen para la suma y la multiplicación en los números naturales:\n",
    "   \n",
    "   - Conmutativa: $ a + b = b + a $ y $ a \\cdot b = b \\cdot a $\n",
    "   - Asociativa: $ (a + b) + c = a + (b + c) $ y $ (a \\cdot b) \\cdot c = a \\cdot (b \\cdot c) $\n",
    "   - Existencia del elemento neutro: $ 0 + a = a + 0 = a $ y $ a \\cdot 1 = 1 \\cdot a = a$.  \n",
    "\n",
    "\n",
    "\n",
    "\n",
    "\n",
    "No olvide resaltar el contexto numérico.  \n",
    "\n",
    "\n",
    "#### Las siguientes sin tres interpretaciones verbales posibles para la asociatividad de la suma en $N$.  \n",
    "\n",
    "Una interpretación verbal de la asociatividad de la suma en $N$ es que: la suma la podemos realizar de izquierda a derecha o de derecha a izquierda,  y el resultado es el mismo. \n",
    "\n",
    "La asociatividad de la suma en N nos permite omitir paréntesis, es decir,, nos permite realizar las sumas de 3 o más sumandos en el orden de ejecución que queramos. \n",
    "\n",
    "La asociatividad de la suma en N permite omitir el uso de paréntesis que indiquen lla secuencia de ejecución de operaciones, pues el orden de ejecución no cambia el resultado. \n"
   ]
  },
  {
   "cell_type": "markdown",
   "id": "ffb6bbe0",
   "metadata": {},
   "source": [
    "\n",
    "b) Explica, con ejemplos, por qué la suma y la multiplicación no tienen inversos en el conjunto de los números naturales. Es decir, ¿por qué no existe un número natural $ x $ tal que $ a + x = 0 $ o $ a \\cdot x = 1 $?\n",
    "\n",
    "---\n",
    "\n",
    "\n",
    "La suma en $\\mathbb{N}$ no es invertiva, ya que no existe pasa cada $a > 0$ en $\\mathbb{N}$  un $x \\in \\mathbb{N}$ tal que $a + x = 0. Por ejemplo , si $a = 1$, entonces $1 + x \\neq 0$ para todo número natural.   \n",
    "\n"
   ]
  },
  {
   "cell_type": "markdown",
   "id": "31b3932e",
   "metadata": {},
   "source": [
    "\n",
    "### **Pregunta 2: Propiedades de la Resta en los Números Naturales (15 puntos)**\n",
    "\n",
    "a) La resta de dos números naturales $ a - b $ no cumple algunas propiedades que sí tienen la suma y la multiplicación. Muestra con ejemplos que:\n",
    "\n",
    "   - La resta no es conmutativa: $ a - b \\neq b - a $\n",
    "   - La resta no es asociativa: $ (a - b) - c \\neq a - (b - c) $\n"
   ]
  },
  {
   "cell_type": "markdown",
   "id": "df7dff8c",
   "metadata": {},
   "source": [
    "\n",
    "b) ¿Existe un número neutro para la resta en los números naturales? Justifica tu respuesta.\n",
    "  \n",
    "Decimos que una operación $\\Delta$ es $\\mathbb{N}$ tiene elemento neutro o es modulativa, si existe $e  \\in \\mathbb{N}$ tal que para todo $a \\in \\mathbb{N}$ \n",
    "\n",
    "$$ a \\Delta e = e \\Delta a = a $$\n",
    "\n",
    "Es decir, se considera que una operación es modulativa si existe un elemento que al operarlo a izquierda o derecha, no cambia el resultado. Es decir, la existencia de un elemento neutro para la resta, implica la conmutatividad de esta cuando uno de los términos es el elemento neutro, lo cual es imposible que suceda para todo $a \\in \\N$ por la no conmutatividad de la resta en $N$: \n",
    "\n",
    "$$ 0 - 5  \\neq 5 - 0 $$  \n",
    "\n",
    "\n"
   ]
  },
  {
   "cell_type": "markdown",
   "id": "2294f116",
   "metadata": {},
   "source": [
    "\n",
    "\n",
    "\n",
    "c) ¿Por qué no siempre es posible restar dos números naturales $ a - b $ cuando $ a < b $? ¿Qué propiedad se rompe en este caso?\n",
    "\n",
    "Note que la resta en $N$ solo es posible para  $a \\geq b$. Por ejemplo, $5 - 3 = 2$; pues si $a < b$, entonces $a - b \\not\\in \\mathbb{N}$. Por tanto, la resta no es cerrada o clausurativa pues en el caso de que se sustraiga más de lo que se tiene, el resultado no pertenecesá o se saldrá del conjunto de los números naturales. Por ejemplo: \n",
    "\n",
    "$$ 1 - 2  = -1 \\not\\in \\mathbb{N} $$  \n",
    "\n",
    "\n",
    "\n",
    "Se encontró que hay que trabajar en la diferenciacióon entre negatividad y resta: \n",
    "\n",
    "Ser negativo, significa ser menor que cero. Es decir, la negatividad está asociada al orden lineal de los números. \n",
    "\n",
    "Mientras que la resta es una operación definida en las parejas de números naturales $(a, b)$ tal que $a \\leq b$. Más precisamente, podemos definir la resta así:\n",
    "\n",
    "Sean $a, b \\in \\mathbb{N} tal que $a \\geq b$, $a-b:=c$ tal que $b+c = a$. \n",
    "\n",
    "\n",
    "---\n"
   ]
  },
  {
   "cell_type": "markdown",
   "id": "50398b12",
   "metadata": {},
   "source": [
    "\n",
    "### **Pregunta 3: La División en los Números Naturales (20 puntos)**\n",
    "\n",
    "a) Considera dos números naturales $ a $ y $ b $. Muestra que la división $ a \\div b $ no siempre está definida en los números naturales. Explica cuándo $ a \\div b $ es un número natural y cuándo no lo es.\n",
    "\n",
    "b) Analiza si la división en los números naturales cumple las siguientes propiedades:\n",
    "\n",
    "   - Conmutativa: ¿Es cierto que $ a \\div b = b \\div a $?\n",
    "   - Asociativa: ¿Es cierto que $ (a \\div b) \\div c = a \\div (b \\div c) $?\n",
    "   - Existencia del elemento neutro: ¿Existe un número $ e $ tal que $ a \\div e = a $ para todo $ a $?\n",
    "\n",
    "\n",
    "Como no existe $e \\in \\mathbb{N}$ tal que para todo $a \\in \\mathbb{N}$ se cumpla que \n",
    "\n",
    "$$ a \\div e = e \\div a = a,  $$\n",
    "\n",
    "entonces, la división en los naturales no es modulativa, es decir, no tiene elemento neutro.   \n",
    "\n",
    "Lo que pasa, es que la modulatividad exige conmutatividad de la operación con respecto al elemento neutro, es decir, la modulatividad exige que el elemento neutroo conmute  con todo elemento de la estructura.  \n",
    "\n"
   ]
  },
  {
   "cell_type": "markdown",
   "id": "94dceb6a",
   "metadata": {},
   "source": [
    "\n",
    "c) Explica, con ejemplos, por qué la división en los números naturales no siempre tiene una solución exacta. ¿Qué sucede cuando hay residuo en una división?\n",
    "\n",
    "---\n"
   ]
  },
  {
   "cell_type": "markdown",
   "id": "fc55d579",
   "metadata": {},
   "source": [
    "Si $a, b \\in \\mathbb{N}$ son tales que $b = 0$, entonces $\\frac{a}{b}$ no tiene resultado definido en $\\mathbb{N}$. \n"
   ]
  },
  {
   "cell_type": "markdown",
   "id": "d5ae76d4",
   "metadata": {},
   "source": [
    "\n",
    "La división en $\\mathbb{N}$ solo está definida si $b$ divide a $a$ ($b \\mid a$), es decir, si $a$ es un múltiplo de $b$. \n",
    "\n",
    "Recomiendo definir a los estudiantes la relación $a \\mid b$ y poder utilizarla para expresar que $a$ no dovide a $b$  como $a \\nmid b$.\n",
    "\n"
   ]
  },
  {
   "cell_type": "markdown",
   "id": "456d1587",
   "metadata": {},
   "source": [
    "\n",
    "### **Pregunta 4: Demostración por Inducción Matemática (30 puntos)**\n",
    "\n",
    "Demuestra la siguiente proposición utilizando el método de inducción matemática:\n",
    "\n",
    "**Proposición**: Para todo $ n \\in \\mathbb{N} $, la suma de los primeros $ n $ números naturales es:\n",
    "\n",
    "$$ 1 + 2 + 3 + \\dots + n = \\frac{n(n+1)}{2} $$\n",
    "\n",
    "Expresión de este resultado como proposición cuantificada y haciendo uso del operador sumatoria: \n",
    "\n",
    "$$ \\sum_{i = 1}^{n} i = \\frac{n(n+1)}{2} $$\n",
    "\n",
    "donde $n$ es el último sumando. \n",
    "$n+1$ es el consecutivo de $n$.   \n",
    "\n"
   ]
  },
  {
   "cell_type": "markdown",
   "id": "15fa9228",
   "metadata": {},
   "source": [
    "\n",
    "a) **Base de la inducción**: Demuestra que la proposición es verdadera para $ n = 1 $.\n"
   ]
  },
  {
   "cell_type": "markdown",
   "id": "8dd722c4",
   "metadata": {},
   "source": []
  },
  {
   "cell_type": "markdown",
   "id": "5dc0525b",
   "metadata": {},
   "source": [
    "\n",
    "b) **Hipótesis de inducción**: Supón que la proposición es verdadera para algún $ n = k $, es decir, que se cumple que:\n",
    "\n",
    "$$ 1 + 2 + 3 + \\dots + k = \\frac{k(k+1)}{2} $$\n",
    "\n",
    "c) **Paso inductivo**: Usa la hipótesis de inducción para demostrar que la proposición es verdadera para $ n = k + 1 $. Es decir, demuestra que:\n",
    "\n",
    "$$ 1 + 2 + 3 + \\dots + (k+1) = \\frac{(k+1)((k+2)}{2} $$\n",
    "\n",
    "Para orientarlo en este proceso deductivo, propongo una estrategia de completación:  \n",
    "\n",
    "|Razón|Justificación|\n",
    "|-----|-------------|  \n",
    "||Hipótesis inductiva| \n",
    "||suma a ambos lados $k+1$. Por propiedades de las igualdades|\n",
    "||Factor común|\n",
    "||suma de fracciones|\n",
    "||Tesis inductiva| \n",
    "\n",
    "Cónclusión del paso inductivo. \n",
    "\n",
    "Conclusión de la demostración por inducción matemática:  \n",
    "\n",
    "\n",
    "\n",
    "---\n"
   ]
  },
  {
   "cell_type": "markdown",
   "id": "c2a79e16",
   "metadata": {},
   "source": [
    "\n",
    "\n",
    "# Problemas observados en la verificación y demostración de este resultado.\n",
    "\n",
    "1. Algunos estudiantes solo sustituyen en el lado derecho de la igualdad. "
   ]
  },
  {
   "cell_type": "markdown",
   "id": "a5c76d17",
   "metadata": {},
   "source": [
    "\n",
    "### **Pregunta 5: Interpretación y Verificación de una Proposición (20 puntos)**\n",
    "\n",
    "Lee la siguiente proposición y responde las preguntas.\n",
    "\n",
    "**Proposición**: \"Si $ a $ es un número natural impar, entonces $ a^2 $ también es impar.\"\n",
    "\n",
    "a) Verifica esta proposición para $ a = 3 $, $ a = 5 $, y $ a = 7 $.\n",
    "\n",
    "b) Escribe una demostración formal para esta proposición utilizando razonamiento matemático.\n",
    "\n",
    "c) ¿Qué sucede con $ a^2 $ si $ a $ es un número natural par? Justifica tu respuesta.\n",
    "\n",
    "---\n",
    "\n",
    "### **Puntuación Total: 100 puntos**\n",
    "\n",
    "---\n",
    "\n",
    "### **Criterios de evaluación:**\n",
    "1. **Claridad y precisión en la justificación de las respuestas.**\n",
    "2. **Correcta aplicación de propiedades algebraicas.**\n",
    "3. **Uso adecuado de ejemplos y contraejemplos.**\n",
    "4. **Razonamiento lógico en la demostración por inducción.**\n",
    "5. **Capacidad para interpretar y verificar proposiciones matemáticas.**\n",
    "\n",
    "---\n",
    "\n",
    "Este diseño de parcial te permitirá evaluar el entendimiento profundo de las propiedades de las operaciones en los números naturales, así como las diferencias entre suma, resta, multiplicación y división. También pondrá a prueba la capacidad de los estudiantes para trabajar con demostraciones matemáticas."
   ]
  },
  {
   "cell_type": "code",
   "execution_count": 1,
   "id": "dcc502cd",
   "metadata": {},
   "outputs": [
    {
     "name": "stdout",
     "output_type": "stream",
     "text": [
      "El archivo parcial_numeros_naturales.docx se ha generado correctamente.\n"
     ]
    }
   ],
   "source": [
    "from docx import Document\n",
    "from docx.shared import Pt\n",
    "from docx.enum.text import WD_ALIGN_PARAGRAPH\n",
    "\n",
    "# Crear un nuevo documento\n",
    "doc = Document()\n",
    "\n",
    "# Función para agregar títulos\n",
    "def agregar_titulo(texto, size=16):\n",
    "    titulo = doc.add_paragraph()\n",
    "    run = titulo.add_run(texto)\n",
    "    run.bold = True\n",
    "    run.font.size = Pt(size)\n",
    "    titulo.alignment = WD_ALIGN_PARAGRAPH.CENTER\n",
    "\n",
    "# Función para agregar preguntas\n",
    "def agregar_pregunta(texto, size=12):\n",
    "    parrafo = doc.add_paragraph()\n",
    "    run = parrafo.add_run(texto)\n",
    "    run.font.size = Pt(size)\n",
    "\n",
    "# Título del parcial\n",
    "agregar_titulo('Parcial de Matemáticas I: Números Naturales y sus Operaciones')\n",
    "\n",
    "# Instrucciones\n",
    "agregar_pregunta('Instrucciones:')\n",
    "agregar_pregunta('Lee cuidadosamente cada una de las preguntas.')\n",
    "agregar_pregunta('Responde con claridad, justificación y rigor matemático.')\n",
    "agregar_pregunta('Puedes usar diagramas o tablas si lo consideras necesario.')\n",
    "agregar_pregunta('En cada respuesta, procura destacar las propiedades algebraicas implicadas.')\n",
    "doc.add_paragraph()\n",
    "\n",
    "# Pregunta 1\n",
    "agregar_pregunta('Pregunta 1: Propiedades de la Suma y la Multiplicación en los Números Naturales (15 puntos)\\n', 14)\n",
    "agregar_pregunta('a) Considera los números naturales a, b, c ∈ ℕ. Muestra, con ejemplos, que las siguientes propiedades se cumplen para la suma y la multiplicación:')\n",
    "agregar_pregunta('   - Conmutativa: a + b = b + a  y  a * b = b * a')\n",
    "agregar_pregunta('   - Asociativa: (a + b) + c = a + (b + c)  y  (a * b) * c = a * (b * c)')\n",
    "agregar_pregunta('   - Existencia del elemento neutro: a + 0 = a  y  a * 1 = a\\n')\n",
    "agregar_pregunta('b) Explica, con ejemplos, por qué la suma y la multiplicación no tienen inversos en el conjunto de los números naturales.')\n",
    "\n",
    "# Pregunta 2\n",
    "agregar_pregunta('Pregunta 2: Propiedades de la Resta en los Números Naturales (15 puntos)\\n', 14)\n",
    "agregar_pregunta('a) La resta de dos números naturales a - b no cumple algunas propiedades que sí tienen la suma y la multiplicación. Muestra con ejemplos que:')\n",
    "agregar_pregunta('   - La resta no es conmutativa: a - b ≠ b - a')\n",
    "agregar_pregunta('   - La resta no es asociativa: (a - b) - c ≠ a - (b - c)\\n')\n",
    "agregar_pregunta('b) ¿Existe un número neutro para la resta en los números naturales? Justifica tu respuesta.')\n",
    "agregar_pregunta('c) ¿Por qué no siempre es posible restar dos números naturales a - b cuando a < b? ¿Qué propiedad se rompe en este caso?\\n')\n",
    "\n",
    "# Pregunta 3\n",
    "agregar_pregunta('Pregunta 3: La División en los Números Naturales (20 puntos)\\n', 14)\n",
    "agregar_pregunta('a) Considera dos números naturales a y b. Muestra que la división a ÷ b no siempre está definida en los números naturales. Explica cuándo a ÷ b es un número natural y cuándo no lo es.\\n')\n",
    "agregar_pregunta('b) Analiza si la división en los números naturales cumple las siguientes propiedades:')\n",
    "agregar_pregunta('   - Conmutativa: ¿Es cierto que a ÷ b = b ÷ a?')\n",
    "agregar_pregunta('   - Asociativa: ¿Es cierto que (a ÷ b) ÷ c = a ÷ (b ÷ c)?')\n",
    "agregar_pregunta('   - Existencia del elemento neutro: ¿Existe un número e tal que a ÷ e = a para todo a?\\n')\n",
    "agregar_pregunta('c) Explica, con ejemplos, por qué la división en los números naturales no siempre tiene una solución exacta. ¿Qué sucede cuando hay residuo en una división?\\n')\n",
    "\n",
    "# Pregunta 4\n",
    "agregar_pregunta('Pregunta 4: Demostración por Inducción Matemática (30 puntos)\\n', 14)\n",
    "agregar_pregunta('Demuestra la siguiente proposición utilizando el método de inducción matemática:')\n",
    "agregar_pregunta('Proposición: Para todo n ∈ ℕ, la suma de los primeros n números naturales es:')\n",
    "agregar_pregunta('   1 + 2 + 3 + ... + n = n(n + 1) / 2\\n')\n",
    "agregar_pregunta('a) Base de la inducción: Demuestra que la proposición es verdadera para n = 1.\\n')\n",
    "agregar_pregunta('b) Hipótesis de inducción: Supón que la proposición es verdadera para algún n = k, es decir, que se cumple que:')\n",
    "agregar_pregunta('   1 + 2 + 3 + ... + k = k(k + 1) / 2\\n')\n",
    "agregar_pregunta('c) Paso inductivo: Usa la hipótesis de inducción para demostrar que la proposición es verdadera para n = k + 1.')\n",
    "agregar_pregunta('   Demuestra que: 1 + 2 + 3 + ... + (k + 1) = (k + 1)((k + 1) + 1) / 2\\n')\n",
    "\n",
    "# Pregunta 5\n",
    "agregar_pregunta('Pregunta 5: Interpretación y Verificación de una Proposición (20 puntos)\\n', 14)\n",
    "agregar_pregunta('Lee la siguiente proposición y responde las preguntas.\\n')\n",
    "agregar_pregunta('Proposición: \"Si a es un número natural impar, entonces a² también es impar.\"\\n')\n",
    "agregar_pregunta('a) Verifica esta proposición para a = 3, a = 5, y a = 7.\\n')\n",
    "agregar_pregunta('b) Escribe una demostración formal para esta proposición utilizando razonamiento matemático.\\n')\n",
    "agregar_pregunta('c) ¿Qué sucede con a² si a es un número natural par? Justifica tu respuesta.')\n",
    "\n",
    "# Guardar el documento\n",
    "doc.save('parcial_numeros_naturales.docx')\n",
    "\n",
    "print(\"El archivo parcial_numeros_naturales.docx se ha generado correctamente.\")\n"
   ]
  },
  {
   "cell_type": "markdown",
   "id": "64ac8d32",
   "metadata": {},
   "source": [
    "# Ejemplo ilustrativo"
   ]
  },
  {
   "cell_type": "markdown",
   "id": "a3e5e6ab",
   "metadata": {},
   "source": [
    "# 10 ejercicios de entrenamiento o adquisición de habilidades obtenido a través de ChatGPT para una formación personalizada y centrada en la habilidad que se quiere lograr con la enseñanza del ejemplo anterior"
   ]
  },
  {
   "cell_type": "code",
   "execution_count": null,
   "id": "cc539357",
   "metadata": {},
   "outputs": [],
   "source": []
  },
  {
   "cell_type": "code",
   "execution_count": null,
   "id": "83d849ab",
   "metadata": {},
   "outputs": [],
   "source": [
    "# Tarea 1 de lectura de ejemplos y completación de procedimientos\n",
    "# asignación de tarea para realizar antes de clase\n",
    "# Consiste en leer y completar un ejemplo de texto guía\n",
    "\n",
    "import pandas as pd\n",
    "import numpy as np\n",
    "import requests\n",
    "np.random.seed(1213)  # establecer semilla aleatoria para hacer los resultados reproducibles\n",
    "\n",
    "\n",
    "\n",
    "grupo_estudiantes = 'calculo_vectorial'\n",
    "nombre_texto_guia = 'Purcell'\n",
    "pagina_y_seccion = 'Página_202_Sección_3.8'\n",
    "numero_ejemplos_de_la_seccion = 54\n",
    "numero_de_ejemplos_asignados = 3\n",
    "\n",
    "\n",
    "# Descargar la lista de  estudiantes\n",
    "students_path = \"/home/marco/Documentos/docencia/groups_list/\" + grupo_estudiantes + \".csv\"\n",
    "examples = list(range(1, numero_ejemplos_de_la_seccion))  \n",
    "\n",
    "students_data = pd.read_csv(students_path)\n",
    "\n",
    "# Crear una lista para almacenar las asignaciones\n",
    "assignments = []\n",
    "\n",
    "# Asignar ejercicios aleatorios a cada estudiante\n",
    "for index, student in students_data.iterrows():\n",
    "    # Seleccionar 5 ejercicios aleatorios sin repetición\n",
    "    random_exercises = np.random.choice(examples, numero_de_ejemplos_asignados, replace = False)+ 1 \n",
    "    assignments.append([students_data[\"Nombre\"][index], *random_exercises])  # Agregar asignación a la lista\n",
    "\n",
    "# Crear un DataFrame con las asignaciones\n",
    "columns = [\"Student\"] + [ \"Example\" + str(i+1) for i in range(numero_de_ejemplos_asignados)]\n",
    "assignment_df = pd.DataFrame(assignments, columns=columns)\n",
    "\n",
    "# Guardar el DataFrame en un archivo CSV\n",
    "assignment_csv = \"tarea_1_lectura_y_completacion_ejemplos\" + \"_\" + nombre_texto_guia + \"_\"+ pagina_y_seccion + \".csv\"\n",
    "assignment_df.to_csv(assignment_csv, index=False)\n",
    "\n",
    "print(\"\"\"Tarea 1 de lectura de ejemplos y completación de procedimientos: \n",
    "     Si faltan los enunciados de los problemas, no se valora la tarea\n",
    "      Si faltan de la conclusión verbales, no se valora la tarea \n",
    "      \"\"\", assignment_csv)\n",
    "assignment_df"
   ]
  },
  {
   "cell_type": "markdown",
   "id": "740f3401",
   "metadata": {
    "slideshow": {
     "slide_type": "slide"
    }
   },
   "source": [
    "# Componente de manejo de calculadora Casio asociado al objetivo de aprendizaje de esta clase  \n",
    "\n",
    "## Pasos para lograr el objetivo de aprendizaje con la experimentación en la calculadora casio 991LA cw  \n",
    "\n"
   ]
  },
  {
   "cell_type": "markdown",
   "id": "fccb447c",
   "metadata": {
    "slideshow": {
     "slide_type": "slide"
    }
   },
   "source": [
    "# Tareas para realizar en clase"
   ]
  },
  {
   "cell_type": "code",
   "execution_count": null,
   "id": "0f1f0ab2",
   "metadata": {},
   "outputs": [],
   "source": [
    "# Tarea 2 de solución de problemas \n",
    "# asignación de ejercicios de un seccion del texto guía\n",
    "\n",
    "# numpy.random.choice() obten la documentación de esta función en: \n",
    "# https://numpy.org/doc/stable/reference/random/generated/numpy.random.choice.html\n",
    "\n",
    "import pandas as pd\n",
    "import numpy as np\n",
    "import requests\n",
    "np.random.seed(424)  # establecer semilla aleatoria para hacer los resultados reproducibles\n",
    "\n",
    "\n",
    "\n",
    "grupo_estudiantes = 'calculo_vectorial'\n",
    "nombre_texto_guia = 'Purcell'\n",
    "pagina_y_seccion = 'Página_202_Sección_3.8'\n",
    "numero_ejercicios_taller = 54\n",
    "numero_de_ejercicios_asignados = 10\n",
    "\n",
    "\n",
    "# Descargar la lista de  estudiantes\n",
    "students_path = \"/home/marco/Documentos/docencia/groups_list/\" + grupo_estudiantes + \".csv\"\n",
    "exercises = list(range(1, numero_ejercicios_taller))  \n",
    "\n",
    "students_data = pd.read_csv(students_path)\n",
    "\n",
    "# Crear una lista para almacenar las asignaciones\n",
    "assignments = []\n",
    "\n",
    "# Asignar ejercicios aleatorios a cada estudiante\n",
    "for index, student in students_data.iterrows():\n",
    "    # Seleccionar 5 ejercicios aleatorios sin repetición\n",
    "    random_exercises = np.random.choice(exercises, numero_de_ejercicios_asignados, replace = False)+ 1 \n",
    "    assignments.append([students_data[\"Nombre\"][index], *random_exercises])  # Agregar asignación a la lista\n",
    "\n",
    "# Crear un DataFrame con las asignaciones\n",
    "columns = [\"Student\"] + [ \"Exer\" + str(i+1) for i in range(numero_de_ejercicios_asignados)]\n",
    "assignment_df = pd.DataFrame(assignments, columns=columns)\n",
    "\n",
    "# Guardar el DataFrame en un archivo CSV\n",
    "assignment_csv = \"tarea\" + \"_\" + nombre_texto_guia + \"_\"+ pagina_y_seccion + \".csv\"\n",
    "assignment_df.to_csv(assignment_csv, index=False)\n",
    "\n",
    "print(\"\"\"Tarea 2 de solución de problemas:\n",
    "      Si faltan los enunciados de los problemas, no se valora la tarea\n",
    "      Si faltan de la conclusión verbales, no se valora la tarea \n",
    "        \"\"\", assignment_csv)\n",
    "assignment_df"
   ]
  },
  {
   "cell_type": "markdown",
   "id": "d34defb9",
   "metadata": {
    "slideshow": {
     "slide_type": "slide"
    }
   },
   "source": [
    "## Asignación individual de tareas semanales "
   ]
  },
  {
   "cell_type": "code",
   "execution_count": null,
   "id": "0406f442",
   "metadata": {
    "slideshow": {
     "slide_type": "slide"
    }
   },
   "outputs": [],
   "source": [
    "# Tarea 3 de solución de problemas describiendo procedimientos y justificándolos\n",
    "\n",
    "# asignación de ejercicios de un seccion del texto guía\n",
    "\n",
    "# numpy.random.choice() obten la documentación de esta función en: \n",
    "# https://numpy.org/doc/stable/reference/random/generated/numpy.random.choice.html\n",
    "\n",
    "import pandas as pd\n",
    "import numpy as np\n",
    "import requests\n",
    "np.random.seed(126)  # establecer semilla aleatoria para hacer los resultados reproducibles\n",
    "\n",
    "\n",
    "\n",
    "grupo_estudiantes = 'calculo_vectorial'\n",
    "nombre_texto_guia = 'Purcell'\n",
    "pagina_y_seccion = 'Página_202_Sección_3.8'\n",
    "numero_ejercicios_taller = 54\n",
    "numero_de_ejercicios_asignados = 10\n",
    "\n",
    "\n",
    "# Descargar la lista de  estudiantes\n",
    "students_path = \"/home/marco/Documentos/docencia/groups_list/\" + grupo_estudiantes + \".csv\"\n",
    "exercises = list(range(1, numero_ejercicios_taller))  \n",
    "\n",
    "students_data = pd.read_csv(students_path)\n",
    "\n",
    "# Crear una lista para almacenar las asignaciones\n",
    "assignments = []\n",
    "\n",
    "# Asignar ejercicios aleatorios a cada estudiante\n",
    "for index, student in students_data.iterrows():\n",
    "    # Seleccionar 5 ejercicios aleatorios sin repetición\n",
    "    random_exercises = np.random.choice(exercises, numero_de_ejercicios_asignados, replace = False)+ 1 \n",
    "    assignments.append([students_data[\"Nombre\"][index], *random_exercises])  # Agregar asignación a la lista\n",
    "\n",
    "# Crear un DataFrame con las asignaciones\n",
    "columns = [\"Student\"] + [ \"Exer\" + str(i+1) for i in range(numero_de_ejercicios_asignados)]\n",
    "assignment_df = pd.DataFrame(assignments, columns=columns)\n",
    "\n",
    "# Guardar el DataFrame en un archivo CSV\n",
    "assignment_csv = \"tarea\" + \"_\" + nombre_texto_guia + \"_\"+ pagina_y_seccion + \".csv\"\n",
    "assignment_df.to_csv(assignment_csv, index=False)\n",
    "\n",
    "print(\"\"\"Tarea 3 Solución problemas describiendo y justificando verbalmente: \n",
    "      Si faltan los enunciados de los problemas, no se valora la tarea\n",
    "      Si faltan de la conclusión verbales, no se valora la tarea \"\"\", assignment_csv)\n",
    "assignment_df"
   ]
  },
  {
   "cell_type": "markdown",
   "id": "742281f4",
   "metadata": {},
   "source": [
    "# No olvide la tarea de realizar la foda para autoevaluarse\n",
    "\n",
    "Fortalezas: F  \n",
    "Oportuniudades O:  \n",
    "Debilidades: D:   \n",
    "Amenazas: A:     "
   ]
  },
  {
   "cell_type": "markdown",
   "id": "8d41fe58",
   "metadata": {
    "slideshow": {
     "slide_type": "slide"
    }
   },
   "source": [
    "# Horario de clases del profesor Marco\n",
    "\n",
    "* Lunes 8-12: Cálculo Vectorial\n",
    "* Martes 8-12 M: Fundamentos de Aritmética. \n",
    "* Miércoles 8 a 12 M: Fundamentos de la Lógica\n",
    "* Jueves 2 a 6PM: Desarrollo del pensamiento matemático en la infancia. \n",
    "* Viernes 8 - 12 M: Desarrollo del pensamiento matemático en la infancia. "
   ]
  },
  {
   "cell_type": "markdown",
   "id": "ae114e14",
   "metadata": {
    "slideshow": {
     "slide_type": "slide"
    }
   },
   "source": [
    "# Horarios de monitoría y asesoría"
   ]
  },
  {
   "cell_type": "markdown",
   "id": "b1db4b6c",
   "metadata": {
    "slideshow": {
     "slide_type": "slide"
    }
   },
   "source": [
    "## Monitor Manuel"
   ]
  },
  {
   "cell_type": "markdown",
   "id": "39559692",
   "metadata": {
    "slideshow": {
     "slide_type": "slide"
    }
   },
   "source": [
    "Martes y jueves de 8 - 12  \n",
    "Miércoles 10 - 12 y de 2 a 4 PM  \n",
    "Sábado: 8 - 12"
   ]
  },
  {
   "cell_type": "markdown",
   "id": "5a190057",
   "metadata": {},
   "source": [
    "## Monitoría virtual   \n",
    "\n",
    "Telefono del monitos en whatsApp: 3043936088  \n",
    "\n",
    "Juan David Cano Castrillón  \n",
    "Estudiante de Pregrado.  \n",
    "juan.canoc1@udea.edu.co  \n",
    "3043936088  \n"
   ]
  },
  {
   "cell_type": "markdown",
   "id": "10bce0d0",
   "metadata": {
    "slideshow": {
     "slide_type": "slide"
    }
   },
   "source": [
    "## Referentes "
   ]
  },
  {
   "cell_type": "markdown",
   "id": "1db3c468",
   "metadata": {
    "slideshow": {
     "slide_type": "slide"
    }
   },
   "source": [
    "* [Grajales Vanegas, L. M., Restrepo Estrada, C. E., Restrepo Ochoa, S. I., & Ruíz De Villalba, F. (2015). Matemáticas I para las ciencias económicas.](https://github.com/marco-canas/fundamentos_de_la_aritmetica/blob/main/referentes/2_grajales_logica/grajales_lina_matemticas.pdf)\n",
    "  \n",
    "* Duval, R. (2004). Semiosis y pensamiento humano: registros semióticos y aprendizajes intelectuales. Universidad del Valle.\n",
    "\n",
    "* [Aylwin, C. U. (2011). Lógica, conjuntos y números. Universidad de los Andes, Consejo de Publicaciones, Colección: Ciencias Básicas, Serie: Matemáticas.](https://github.com/marco-canas/fundamentos_logica/blob/main/referentes/2_uzcategui/uscategui.pdf)\n",
    "  \n",
    "* [Chollet, F. (2021). Deep learning with Python. Simon and Schuster.](https://github.com/marco-canas/didactica_ciencia_datos/blob/main/2_referentes/chollet/Fran%C3%A7ois%20Chollet%20-%20Deep%20Learning%20with%20Python-Manning%20(2018).pdf)  \n",
    "  \n",
    "* [Watson, S., Stewart, J., & Redlin, L. (2009). Precálculo. Matemáticas para el cálculo.](https://github.com/marco-canas/calculo/blob/main/referents/1_precalculo_stewart/stewart_precalculo.pdf)  \n",
    "\n",
    "* [Purcell, E. J., Varberg, D., & Rigdon, S. E. (2007). Cálculo diferencial e integral. Pearson Educación.](https://github.com/marco-canas/calculo/blob/main/referents/purcell/purcell_calculo.pdf)\n",
    "\n",
    "  \n",
    "\n",
    "* [stewart cálculo](https://udeaeduco-my.sharepoint.com/:b:/g/personal/marco_canas_udea_edu_co/EZgXZjAp8QxPqOAim2hs6LcBNPLGjSHf-xwYnUVYkwa04w?e=RZdTCy)  \n",
    "\n",
    "* [larson](https://udeaeduco-my.sharepoint.com/:b:/g/personal/marco_canas_udea_edu_co/ES71ChFeO9ZDhW3TwC5Ijk8BjxUK3Pdqz_fjHxTTFAfIAg?e=VDEjfu)\n",
    "\n",
    "\n",
    "\n",
    "* [Recomendación de la UNESCO sobre ciencia abierta](https://unesdoc.unesco.org/ark:/48223/pf0000379949_spa)\n",
    "\n",
    "* [chatGPT](https://openai.com/blog/chatgpt)  \n",
    "\n",
    "* [Géron, A. (2017). Hands-on machine learning with scikit-learn and tensorflow: Concepts. Tools, and Techniques to build intelligent systems.](https://github.com/marco-canas/didactica_ciencia_datos/blob/main/2_referentes/geron/Hands-On%20Machine%20Learning-3nd_Edition(2022).pdf)  \n",
    "\n",
    "* [McKinney, W. (2012). Python for data analysis: Data wrangling with Pandas, NumPy, and IPython. \" O'Reilly Media, Inc.\".](https://github.com/marco-canas/didactica_ciencia_datos/blob/main/2_referentes/mckinney/Wes_McKinney.pdf)  "
   ]
  },
  {
   "cell_type": "markdown",
   "id": "8e65d6f9",
   "metadata": {},
   "source": [
    "# Como estudiante, encuentro que...   \n",
    "\n",
    "F: Mis Fortalezas son:     \n",
    "O: Mis Oportunidades son:    \n",
    "D: Mis Debilidades son:    \n",
    "A: Lo que Amenazas mi aprendizaje es:  "
   ]
  },
  {
   "cell_type": "markdown",
   "id": "6b9e56a8",
   "metadata": {
    "slideshow": {
     "slide_type": "slide"
    }
   },
   "source": [
    "### [Evaluamos al profesor Marco Cañas Aquí](https://forms.office.com/Pages/ResponsePage.aspx?id=IefhmYRxjkmK_7KtTlPBwkanXIs1i1FEujpsZgO6dXpUREJPV1kxUk1JV1ozTFJIQVNIQjY5WEY3US4u)"
   ]
  },
  {
   "cell_type": "markdown",
   "id": "050b9508",
   "metadata": {},
   "source": [
    "# Aportes de mis estudiantes a la metodología del curso  \n",
    "1. \n",
    "\n",
    "Sus opiniones y aportes son muy importantes para mi. Pues esta es una investigación educativa y un servicio de enseñanza para ustedes. Ustedes son la razón de ser de mi actividad docente. Dios los bendiga. "
   ]
  },
  {
   "cell_type": "markdown",
   "id": "6c4af91f",
   "metadata": {},
   "source": [
    "# Aportes de mis colegas docentes a la metodología que estoy aplicando en mis cursos. "
   ]
  },
  {
   "cell_type": "markdown",
   "id": "071afa04",
   "metadata": {
    "slideshow": {
     "slide_type": "slide"
    }
   },
   "source": [
    "## [Evaluación luego de alcanzar estos objetivos de aprendizaje]()"
   ]
  },
  {
   "cell_type": "markdown",
   "id": "10f43536",
   "metadata": {
    "slideshow": {
     "slide_type": "slide"
    }
   },
   "source": [
    "### Continue su aprendizaje en la siguiente clase a través del siguiente [vínculo]()"
   ]
  },
  {
   "cell_type": "markdown",
   "id": "53cc9115",
   "metadata": {
    "slideshow": {
     "slide_type": "slide"
    }
   },
   "source": [
    "## Agradecimientos  \n",
    "\n",
    "Doy gracias a Dios por la vida de mi Hijo Joseph Cañas Osorio y la madurez que ha alcanzado.\n",
    "\n",
    "Y a mi esposa Yasmira por su apoyo, orientación y acompañamiento. "
   ]
  }
 ],
 "metadata": {
  "celltoolbar": "Slideshow",
  "kernelspec": {
   "display_name": "Python 3",
   "language": "python",
   "name": "python3"
  },
  "language_info": {
   "codemirror_mode": {
    "name": "ipython",
    "version": 3
   },
   "file_extension": ".py",
   "mimetype": "text/x-python",
   "name": "python",
   "nbconvert_exporter": "python",
   "pygments_lexer": "ipython3",
   "version": "3.12.7"
  },
  "rise": {
   "enable_chalkboard": true,
   "theme": "sky",
   "transition": "zoom"
  }
 },
 "nbformat": 4,
 "nbformat_minor": 5
}
