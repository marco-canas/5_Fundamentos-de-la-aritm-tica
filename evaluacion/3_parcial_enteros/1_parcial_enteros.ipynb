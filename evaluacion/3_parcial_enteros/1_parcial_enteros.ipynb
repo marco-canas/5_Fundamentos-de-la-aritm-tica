{
 "cells": [
  {
   "cell_type": "markdown",
   "id": "dc06dec7",
   "metadata": {
    "slideshow": {
     "slide_type": "slide"
    }
   },
   "source": [
    "<table align=\"left\">\n",
    "  <td>\n",
    "    <a href=\"https://colab.research.google.com/github/ageron/handson-ml3/blob/main/tools_numpy.ipynb\" target=\"_parent\"><img src=\"https://colab.research.google.com/assets/colab-badge.svg\" alt=\"Open In Colab\"/></a>\n",
    "  </td>\n",
    "  <td>\n",
    "    <a target=\"_blank\" href=\"https://kaggle.com/kernels/welcome?src=https://github.com/ageron/handson-ml3/blob/main/tools_numpy.ipynb\"><img src=\"https://kaggle.com/static/images/open-in-kaggle.svg\" /></a>\n",
    "  </td>\n",
    "</table>"
   ]
  },
  {
   "cell_type": "markdown",
   "id": "e0c5b198",
   "metadata": {
    "slideshow": {
     "slide_type": "slide"
    }
   },
   "source": [
    "### [Video de apoyo a la lectura interactiva y experimental de este cuaderno]()"
   ]
  },
  {
   "cell_type": "markdown",
   "id": "41e82203",
   "metadata": {
    "slideshow": {
     "slide_type": "slide"
    }
   },
   "source": [
    "## [Vínculo al programa del curso:  ]()\n",
    "\n"
   ]
  },
  {
   "cell_type": "markdown",
   "id": "d11ab06d",
   "metadata": {
    "slideshow": {
     "slide_type": "slide"
    }
   },
   "source": [
    "Un reconocimiento a mis estudiantes que han construido conmigo este saber pedagógico:\n",
    "\n",
    "<img src = ''> \n",
    "\n"
   ]
  },
  {
   "cell_type": "markdown",
   "id": "8a74a56c-0ce6-4ad6-b985-553fd7fb68bb",
   "metadata": {},
   "source": [
    "Reconocimiento a las profesoras destacadas en enseñanza de la matemática en Colombia\n",
    "\n",
    "Aquí tienes algunas mujeres destacadas en Colombia en la enseñanza de la matemática, junto con una breve biografía de cada una:"
   ]
  },
  {
   "cell_type": "code",
   "execution_count": 1,
   "id": "7604880f",
   "metadata": {
    "slideshow": {
     "slide_type": "slide"
    }
   },
   "outputs": [
    {
     "name": "stdout",
     "output_type": "stream",
     "text": [
      "Llamando a ROSILLO TEJADA VANESA...\n",
      "Cambios guardados en el archivo CSV.\n",
      "Llamando a QUINONEZ CERVANTES MARIANA...\n"
     ]
    }
   ],
   "source": [
    "import pandas as pd\n",
    "import numpy as np\n",
    "\n",
    "# Cargar la lista de estudiantes desde la URL\n",
    "path = '/home/marco/Documentos/docencia/groups_list/calculo_vectorial.csv'\n",
    "estudiantes = pd.read_csv(path)\n",
    "estudiantes['Parcial'] = estudiantes['Parcial'].astype(float) # hacer que todos los valores de la columna Parcial seen de tipo float\n",
    "\n",
    "# Convertir la columna 'Nombre' a una lista de Python\n",
    "lista_estudiantes = estudiantes['Nombre'].tolist()\n",
    "\n",
    "# Función para llamar a un estudiante aleatoriamente y registrar su nota de seguimiento\n",
    "def asistencia():\n",
    "    if lista_estudiantes:\n",
    "        estudiante_aleatorio = np.random.choice(lista_estudiantes)\n",
    "        print(f\"Llamando a {estudiante_aleatorio}...\")\n",
    "        asistencia = input(f\"¿Asistió {estudiante_aleatorio}? (s/n): \").strip().lower()\n",
    "        \n",
    "        if asistencia == 's':\n",
    "            # Obtener el índice del estudiante en el DataFrame\n",
    "            indice = estudiantes[estudiantes['Nombre'] == estudiante_aleatorio].index[0]\n",
    "            # Incrementar su valor en la columna 'Parcial'\n",
    "            estudiantes.at[indice, 'Parcial'] += 0.01\n",
    "            print(f\"Actualizado: {estudiante_aleatorio} ahora tiene {estudiantes.at[indice, 'Parcial']} en la columna 'Parcial'.\")\n",
    "        \n",
    "        lista_estudiantes.remove(estudiante_aleatorio)\n",
    "    else:\n",
    "        print(\"Se han llamado a todos los estudiantes del grupo completo.\")\n",
    "\n",
    "# Guardar los cambios en el archivo CSV\n",
    "def guardar_cambios():\n",
    "    estudiantes.to_csv(path, index=False)\n",
    "    print(\"Cambios guardados en el archivo CSV.\")\n",
    "\n",
    "# Ejemplo de uso\n",
    "while lista_estudiantes:\n",
    "    asistencia()\n",
    "    guardar_cambios()\n",
    "\n",
    "\n"
   ]
  },
  {
   "cell_type": "markdown",
   "id": "d7598d0a-d9b7-4ae0-b029-a0ed6ed1130b",
   "metadata": {},
   "source": [
    "\n",
    "# Principios de mi labor docente"
   ]
  },
  {
   "cell_type": "markdown",
   "id": "4f9d8cf9",
   "metadata": {
    "slideshow": {
     "slide_type": "slide"
    }
   },
   "source": [
    "# Modelo general de clase: [aula invertida](https://www3.gobiernodecanarias.org/medusa/ecoescuela/pedagotic/aprendizaje-invertido-flipped-classroom/)"
   ]
  },
  {
   "cell_type": "markdown",
   "id": "eb6ed03a",
   "metadata": {},
   "source": [
    "![Definamos flipped learning de manera gráfica](https://resources.maneuveringthemiddle.com/wp-content/uploads/2020/07/04212706/1-5.png)"
   ]
  },
  {
   "cell_type": "markdown",
   "id": "34319cce-a71b-4f64-aab8-b53e521efa40",
   "metadata": {},
   "source": [
    "# Metodología de enseñanza basada en problemas (ABP)\n",
    "\n",
    "<img src = 'https://www.unir.net/wp-content/uploads/2020/07/aprendizaje-problemas2-1-1-1-1.jpeg'>"
   ]
  },
  {
   "cell_type": "markdown",
   "id": "841a985c-bd9b-4dd3-8e4c-893983980af2",
   "metadata": {},
   "source": [
    "# Desarrollo del pensamiento coomputacional con python y cuadernos Jupyter  orientado a la formación en ciencia de datos \n",
    "\n",
    "\n",
    "<img src = 'https://i.ytimg.com/vi/mcG_wcR4e6M/maxresdefault.jpg'>"
   ]
  },
  {
   "cell_type": "markdown",
   "id": "65aa0404-f7ae-495e-864c-1aec01b4255e",
   "metadata": {},
   "source": [
    "# Proncipio de fomento a la ciencia abierta, enseñar en el acceso a los datos públicos y el uso de software de código abierto  \n",
    "\n",
    "<img src = 'https://unesdoc.unesco.org/in/rest/Thumb/image?id=p%3A%3Ausmarcdef_0000379949_spa&author=UNESCO&title=Recomendaci%C3%B3n+de+la+UNESCO+sobre+la+Ciencia+Abierta&year=2021&publisher=UNESCO&TypeOfDocument=UnescoPhysicalDocument&mat=PGD&ct=true&size=512&isPhysical=1'>"
   ]
  },
  {
   "cell_type": "markdown",
   "id": "8d97dc80",
   "metadata": {
    "slideshow": {
     "slide_type": "slide"
    }
   },
   "source": [
    "## Fomento de la lectura literaria asociada a Ingeniería agropecuaria y licenciatura en Matemáticas\n",
    "\n"
   ]
  },
  {
   "cell_type": "markdown",
   "id": "96775931",
   "metadata": {
    "slideshow": {
     "slide_type": "slide"
    }
   },
   "source": [
    "## Título de la clase:   \n",
    "\n",
    "[]()"
   ]
  },
  {
   "cell_type": "markdown",
   "id": "1d38dd4e",
   "metadata": {
    "slideshow": {
     "slide_type": "slide"
    }
   },
   "source": [
    "### Objetivo de aprendizaje (Enunciar, de manera corta sencilla y clara para todos los asistentes)\n",
    " De ahora en adelante, las clase tendran 4 objetivos de clase de acuerdo a las 4 dimensiones de mi práctica pedagógica\n",
    "\n",
    " \n"
   ]
  },
  {
   "cell_type": "markdown",
   "id": "2298e976",
   "metadata": {
    "slideshow": {
     "slide_type": "slide"
    }
   },
   "source": [
    "# Para el diseño de la clase tenga en cuenta algunos problemas de aprendizaje"
   ]
  },
  {
   "cell_type": "markdown",
   "id": "523d3acf",
   "metadata": {
    "slideshow": {
     "slide_type": "slide"
    }
   },
   "source": []
  },
  {
   "cell_type": "markdown",
   "id": "8853d874",
   "metadata": {},
   "source": [
    "## El componente histórico y epistemológico"
   ]
  },
  {
   "cell_type": "markdown",
   "id": "e3ffa494",
   "metadata": {},
   "source": [
    "# Vocabulary   \n",
    "\n",
    "1. \n",
    "2.  \n",
    "3.  \n",
    "4.  \n",
    "5.  "
   ]
  },
  {
   "cell_type": "code",
   "execution_count": 4,
   "id": "6ff395c3",
   "metadata": {},
   "outputs": [],
   "source": [
    "# Traducción del inglés al español con python\n",
    "\n",
    "def traducir(texto):\n",
    "    from googletrans import Translator\n",
    "\n",
    "    translator = Translator() # instancia la clase \n",
    "\n",
    "    # Traducir al español\n",
    "    translation = translator.translate(texto, src='en', dest='es')\n",
    "    return translation.text"
   ]
  },
  {
   "cell_type": "code",
   "execution_count": 5,
   "id": "b583f414-ac87-4912-8a86-b338234d83d7",
   "metadata": {},
   "outputs": [
    {
     "data": {
      "text/plain": [
       "'Hola'"
      ]
     },
     "execution_count": 5,
     "metadata": {},
     "output_type": "execute_result"
    }
   ],
   "source": [
    "traducir('Hi')"
   ]
  },
  {
   "cell_type": "code",
   "execution_count": 1,
   "id": "bc0addfe",
   "metadata": {},
   "outputs": [
    {
     "data": {
      "text/plain": [
       "'/home/marco/Documentos/docencia/calculo/images/0_reales/ .pdf'"
      ]
     },
     "execution_count": 1,
     "metadata": {},
     "output_type": "execute_result"
    }
   ],
   "source": [
    "# mapa conceptual para cada clase  \n",
    "from graphviz import Digraph\n",
    "\n",
    "# Crear un nuevo grafo dirigido\n",
    "dot = Digraph()\n",
    "\n",
    "# Añadir nodos y relaciones al grafo\n",
    "main_concept = ' '\n",
    "dot.node('A', main_concept)\n",
    "dot.node('B', '')\n",
    "dot.node('C', '')\n",
    "dot.node('D', '')\n",
    "dot.node('E', '')\n",
    "dot.node('F', '')\n",
    "dot.node('G', '')\n",
    "dot.node('H', '')\n",
    "dot.node('I', '')\n",
    "dot.node('J', '')\n",
    "\n",
    "dot.edges(['AB'])\n",
    "dot.edges(['AC'])\n",
    "dot.edges(['CD'])\n",
    "dot.edges(['DJ'])\n",
    "dot.edges(['EF'])\n",
    "dot.edges(['FG'])\n",
    "dot.edges(['GH'])\n",
    "dot.edges(['HI'])\n",
    "dot.edges(['IJ'])\n",
    "\n",
    "# Guardar el grafo como un archivo de imagen\n",
    "dot.render(filename=main_concept, format='png', cleanup=True, \\\n",
    "           directory='/home/marco/Documentos/docencia/calculo/images/0_reales/')\n",
    "\n",
    "dot.view()\n"
   ]
  },
  {
   "cell_type": "markdown",
   "id": "10e55ccf",
   "metadata": {},
   "source": [
    "# Diseño Uno de parcial sobre enteros  \n",
    "## Objetivos a alcanzar   \n",
    "\n",
    "1. Saber descomponenr un número compuesto en factores primos \n",
    "2. Saber determinar si un número es primo o no por varios medios \n",
    "   * Con la Criba de Eratóstenes. (Saber describir el algoritmo de Eratóstenes)\n",
    "   * Revisamos si es divisibles por algún entero menor que el mayor entero más cerca a su raíz. \n",
    "   * Revisamos si el número $n$ se deja dividir por por algún entero entre 1 y $n$. \n",
    "\n",
    "3. Saber determinar si un número divide a otro. y La definición de que un número divide a otro. \n",
    "4. Saber determinar divisores y números de divisores.  "
   ]
  },
  {
   "cell_type": "markdown",
   "id": "09359069",
   "metadata": {},
   "source": [
    "\n",
    "### Parcial 1: Práctico\n",
    "\n",
    "1. **(1 punto)** Descompón el número 180 en factores primos. Explica cada paso.\n",
    "   \n",
    "2. **(1 punto)** Explica y utiliza la Criba de Eratóstenes para determinar si el número 31 es primo o no. Describe el algoritmo de Eratóstenes en tus propias palabras antes de aplicarlo.\n",
    "\n",
    "3. **(1 punto)** Explica con razones matemáticas si el número 45 divide al número 270. Usa la definición formal de divisibilidad en tu explicación.\n",
    "\n",
    "4. **(1 punto)** Encuentra todos los divisores del número 84 y calcula cuántos divisores tiene. Explica el método que usaste.\n",
    "\n",
    "---\n"
   ]
  },
  {
   "cell_type": "markdown",
   "id": "22ccc211",
   "metadata": {},
   "source": [
    "\n",
    "### Parcial 2: Teórico y Práctico Mixto\n",
    "\n",
    "1. **(1 punto)** Define el concepto de un número primo y explica cómo se puede determinar si un número es primo. Incluye una breve descripción del método de dividir entre enteros menores que su raíz cuadrada.\n",
    "\n",
    "2. **(1 punto)** Aplica la Criba de Eratóstenes para hallar todos los números primos menores o iguales a 50. Explica por qué este método es eficiente para esta tarea.\n",
    "\n",
    "3. **(1 punto)** Da la definición formal de divisibilidad y explica si el número 56 es divisible entre 7. Justifica tu respuesta usando la definición.\n",
    "\n",
    "4. **(1 punto)** Para el número 120, determina el número de divisores que tiene sin enumerarlos todos. Explica cómo llegaste a tu respuesta.\n",
    "\n",
    "---\n"
   ]
  },
  {
   "cell_type": "markdown",
   "id": "0aec6c70",
   "metadata": {},
   "source": [
    "\n",
    "### Parcial 3: Enfoque en Algoritmos y Razonamiento\n",
    "\n",
    "1. **(1 punto)** Escribe los pasos de un algoritmo para descomponer un número compuesto en factores primos y aplícalo al número 210.\n",
    "\n",
    "2. **(1 punto)** Describe el algoritmo de la Criba de Eratóstenes y explica cómo se aplicaría para determinar si el número 29 es primo. Luego, aplica el método a este número.\n",
    "\n",
    "3. **(1 punto)** Explica cómo podrías determinar si un número \\(a\\) divide a un número \\(b\\) usando la definición de divisibilidad. Aplica tu explicación a los números 18 y 252, e indica si 18 divide a 252.\n",
    "\n",
    "4. **(1 punto)** Encuentra los divisores de 90 y determina cuántos divisores tiene sin listarlos todos explícitamente. Explica tu método.\n",
    "\n",
    "---\n",
    "\n",
    "Estos parciales combinan preguntas prácticas, definiciones teóricas y la aplicación de algoritmos, de modo que los estudiantes puedan demostrar sus conocimientos de diversas maneras y en distintos niveles de profundidad."
   ]
  },
  {
   "cell_type": "markdown",
   "id": "51e163e5",
   "metadata": {},
   "source": [
    "\n",
    "## Parcial de Aritmética: Números Enteros\n",
    "\n",
    "### Instrucciones\n",
    "Responde cada pregunta con claridad y justifica tus respuestas en todas las preguntas de verdadero o falso. En los ejercicios de desarrollo, muestra el procedimiento completo.\n",
    "\n",
    "\n",
    "### 1. Punto Teórico: Relación \"divide a\", Teorema Fundamental de la Aritmética, y Números Primos\n",
    "**10 preguntas de verdadero o falso. Justifica tu respuesta en ambos casos.**\n",
    "\n",
    "1. Todo número entero mayor que 1 se puede expresar de manera única como producto de números primos.\n",
    "2. El número 1 es considerado un número primo.\n",
    "3. Si $p$ es un número primo y $p$ divide a $ab$, entonces $p$ divide a $a$ o $p$ divide a $b$. Muestre que la hipótesis de ser primo es necesaria. Por ejemplo, si $p$ no es primo, ¿qué sucede con $p=6$. \n",
    "\n",
    "3. Para cualquier número primo $p$, si $p \\mid a^2$, entonces $p \\mid a$.\n",
    "4. Si $a \\mid b$ y $b \\mid c$, entonces $a \\mid c$.\n",
    "5. Existen números compuestos que no pueden expresarse como producto de números primos.\n",
    "6. Un número primo tiene exactamente dos divisores: 1 y el número en sí mismo.\n",
    "7. La relación de divisibilidad es transitiva en el conjunto de los números enteros.\n",
    "8. Si $p$ es un número primo, entonces no existe ningún número entero $k$ tal que $1 < k < p$ y $k \\mid p$.\n",
    "9.  La factorización de un número en primos es única, independientemente del orden de los factores.\n",
    "\n",
    "---\n",
    "\n",
    "### 2. Ejercicios Prácticos\n",
    "\n",
    "Realiza los siguientes ejercicios con el procedimiento completo.\n",
    "\n",
    "1. Determina todos los divisores del número 180 y encuentra el número total de divisores usando la descomposición en factores primos.\n",
    "2. Expresa el número 315 como un producto de números primos.\n",
    "3. Sea el número $x = 2^3 \\cdot 3^2 \\cdot 5$. Verifica que el número total de divisores de $x$ es $N(x) = (3+1)(2+1)(1+1)$. Justifica tu respuesta mostrando el procedimiento.\n",
    "4. Determina todos los divisores de 420 y calcula el número total de divisores utilizando su descomposición en factores primos.\n",
    "5. Encuentra la descomposición en factores primos del número 504 y calcula su número total de divisores usando la fórmula $N(x) = (a+1)(b+1)(c+1)(d+1)$.\n",
    "\n",
    "---\n",
    "\n",
    "### 3. Uso de la Función Módulo para Determinar el Residuo de la División de Dos Números Enteros\n",
    "**5 preguntas de verdadero o falso. Justifica tu respuesta en ambos casos.**\n",
    "\n",
    "1. El residuo de dividir cualquier número entero por 1 siempre es 0.\n",
    "2. Si $a \\equiv b \\pmod{m}$, entonces $m \\mid (a - b)$.\n",
    "3. Si $a \\mod b = 0$, entonces $a$ es múltiplo de $b$.\n",
    "4. Para cualquier número entero $a$, se cumple que $a \\mod a = 1$.\n",
    "5. Si el residuo de $a \\mod m$ es 0, entonces $a$ es divisible por $m$.\n",
    "\n",
    "---\n",
    "\n",
    "### 4. Uso de la Notación $\\mid$ y $\\not\\mid$ para Describir la Relación \"Divide a\" entre Dos Números Enteros\n",
    "**5 preguntas de verdadero o falso. Justifica tu respuesta en ambos casos.**\n",
    "\n",
    "1. Si $5 \\mid 20$, entonces $5$ divide a cualquier múltiplo de $20$.\n",
    "2. Para cualquier número entero $a$, se cumple que $a \\mid a$.\n",
    "3. Si $a \\mid b$ y $a \\mid c$, entonces $a \\mid (b + c)$.\n",
    "4. El número 7 no divide a ningún número par.\n",
    "5. Si $a \\mid b$ y $a \\mid c$, entonces $a \\mid (b - c)$.\n",
    "\n",
    "---\n",
    "\n",
    "### 5. Criba de Eratóstenes para Determinar Números Primos\n",
    "**5 preguntas de verdadero o falso. Justifica tu respuesta en ambos casos.**\n",
    "\n",
    "1. La Criba de Eratóstenes permite identificar todos los números primos menores que un número dado $n$ al eliminar los múltiplos de cada número primo.\n",
    "2. En la Criba de Eratóstenes, es suficiente marcar los múltiplos de los números primos menores o iguales a $\\sqrt{n}$.\n",
    "3. El número 2 es el único número primo par y no se elimina en la Criba de Eratóstenes.\n",
    "4. Al aplicar la Criba de Eratóstenes hasta el número 30, obtenemos exactamente 11 números primos.\n",
    "5. En la Criba de Eratóstenes, si un número no es múltiplo de ningún número menor que él mismo (excepto 1), entonces es primo.\n",
    "\n",
    "\n",
    "\n"
   ]
  },
  {
   "cell_type": "code",
   "execution_count": 1,
   "id": "ec048afb",
   "metadata": {},
   "outputs": [],
   "source": [
    "from docx import Document\n",
    "\n",
    "# Crear un nuevo documento\n",
    "doc = Document()\n",
    "\n",
    "# Título del examen\n",
    "doc.add_heading('Parcial de Aritmética: Números Enteros', level=1)\n",
    "\n",
    "# Instrucciones\n",
    "doc.add_paragraph(\"Instrucciones: Responde cada pregunta con claridad y justifica tus respuestas en todas las preguntas de verdadero o falso. En los ejercicios de desarrollo, muestra el procedimiento completo.\")\n",
    "\n",
    "# Sección 1\n",
    "doc.add_heading('1. Punto Teórico: Relación \"divide a\", Teorema Fundamental de la Aritmética, y Números Primos', level=2)\n",
    "doc.add_paragraph(\"10 preguntas de verdadero o falso. Justifica tu respuesta en ambos casos.\")\n",
    "preguntas_teoricas = [\n",
    "    \"Todo número entero mayor que 1 se puede expresar de manera única como producto de números primos.\",\n",
    "    \"Si p es un número primo y p divide a ab, entonces p divide a a o p divide a b.\",\n",
    "    \"El número 1 es considerado un número primo.\",\n",
    "    \"Para cualquier número primo p, si p divide a a^2, entonces p divide a a.\",\n",
    "    \"Si a divide a b y b divide a c, entonces a divide a c.\",\n",
    "    \"Existen números compuestos que no pueden expresarse como producto de números primos.\",\n",
    "    \"Un número primo tiene exactamente dos divisores: 1 y el número en sí mismo.\",\n",
    "    \"La relación de divisibilidad es transitiva en el conjunto de los números enteros.\",\n",
    "    \"Si p es un número primo, entonces no existe ningún número entero k tal que 1 < k < p y k divide a p.\",\n",
    "    \"La factorización de un número en primos es única, independientemente del orden de los factores.\"\n",
    "]\n",
    "for i, pregunta in enumerate(preguntas_teoricas, 1):\n",
    "    doc.add_paragraph(f\"{i}. {pregunta}\")\n",
    "\n",
    "# Sección 2\n",
    "doc.add_heading('2. Ejercicios Prácticos', level=2)\n",
    "doc.add_paragraph(\"Realiza los siguientes ejercicios con el procedimiento completo.\")\n",
    "ejercicios_practicos = [\n",
    "    \"Determina todos los divisores del número 180 y encuentra el número total de divisores.\",\n",
    "    \"Expresa el número 315 como un producto de números primos.\",\n",
    "    \"Sea el número x = 2^3 * 3^2 * 5. Verifica que el número total de divisores de x es N(x) = (3+1)(2+1)(1+1). Justifica tu respuesta mostrando el procedimiento.\",\n",
    "    \"Determina todos los divisores de 420 y calcula el número total de divisores utilizando su descomposición en factores primos.\",\n",
    "    \"Encuentra la descomposición en factores primos del número 504 y calcula su número total de divisores usando la fórmula N(x) = (a+1)(b+1)(c+1)(d+1).\"\n",
    "]\n",
    "for i, ejercicio in enumerate(ejercicios_practicos, 1):\n",
    "    doc.add_paragraph(f\"{i}. {ejercicio}\")\n",
    "\n",
    "# Sección 3\n",
    "doc.add_heading('3. Uso de la Función Módulo para Determinar el Residuo de la División de Dos Números Enteros', level=2)\n",
    "doc.add_paragraph(\"5 preguntas de verdadero o falso. Justifica tu respuesta en ambos casos.\")\n",
    "preguntas_modulo = [\n",
    "    \"El residuo de dividir cualquier número entero por 1 siempre es 0.\",\n",
    "    \"Si a es congruente con b módulo m, entonces m divide a (a - b).\",\n",
    "    \"Si a mod b = 0, entonces a es múltiplo de b.\",\n",
    "    \"Para cualquier número entero a, se cumple que a mod a = 1.\",\n",
    "    \"Si el residuo de a mod m es 0, entonces a es divisible por m.\"\n",
    "]\n",
    "for i, pregunta in enumerate(preguntas_modulo, 1):\n",
    "    doc.add_paragraph(f\"{i}. {pregunta}\")\n",
    "\n",
    "# Sección 4\n",
    "doc.add_heading('4. Uso de la Notación | y no divide para Describir la Relación \"Divide a\" entre Dos Números Enteros', level=2)\n",
    "doc.add_paragraph(\"5 preguntas de verdadero o falso. Justifica tu respuesta en ambos casos.\")\n",
    "preguntas_division = [\n",
    "    \"Si 5 divide a 20, entonces 5 divide a cualquier múltiplo de 20.\",\n",
    "    \"Para cualquier número entero a, se cumple que a divide a sí mismo.\",\n",
    "    \"Si a divide a b y a divide a c, entonces a divide a (b + c).\",\n",
    "    \"El número 7 no divide a ningún número par.\",\n",
    "    \"Si a divide a b y a divide a c, entonces a divide a (b - c).\"\n",
    "]\n",
    "for i, pregunta in enumerate(preguntas_division, 1):\n",
    "    doc.add_paragraph(f\"{i}. {pregunta}\")\n",
    "\n",
    "# Sección 5\n",
    "doc.add_heading('5. Criba de Eratóstenes para Determinar Números Primos', level=2)\n",
    "doc.add_paragraph(\"5 preguntas de verdadero o falso. Justifica tu respuesta en ambos casos.\")\n",
    "preguntas_criba = [\n",
    "    \"La Criba de Eratóstenes permite identificar todos los números primos menores que un número dado n al eliminar los múltiplos de cada número primo.\",\n",
    "    \"En la Criba de Eratóstenes, es suficiente marcar los múltiplos de los números primos menores o iguales a la raíz cuadrada de n.\",\n",
    "    \"El número 2 es el único número primo par y no se elimina en la Criba de Eratóstenes.\",\n",
    "    \"Al aplicar la Criba de Eratóstenes hasta el número 30, obtenemos exactamente 11 números primos.\",\n",
    "    \"En la Criba de Eratóstenes, si un número no es múltiplo de ningún número menor que él mismo (excepto 1), entonces es primo.\"\n",
    "]\n",
    "for i, pregunta in enumerate(preguntas_criba, 1):\n",
    "    doc.add_paragraph(f\"{i}. {pregunta}\")\n",
    "\n",
    "# Guardar el documento\n",
    "doc.save(\"Parcial_Aritmetica_Numeros_Enteros.docx\")\n"
   ]
  },
  {
   "cell_type": "markdown",
   "id": "64ac8d32",
   "metadata": {},
   "source": [
    "# Ejemplo ilustrativo"
   ]
  },
  {
   "cell_type": "markdown",
   "id": "a3e5e6ab",
   "metadata": {},
   "source": [
    "# 10 ejercicios de entrenamiento o adquisición de habilidades obtenido a través de ChatGPT para una formación personalizada y centrada en la habilidad que se quiere lograr con la enseñanza del ejemplo anterior"
   ]
  },
  {
   "cell_type": "code",
   "execution_count": null,
   "id": "cc539357",
   "metadata": {},
   "outputs": [],
   "source": []
  },
  {
   "cell_type": "markdown",
   "id": "740f3401",
   "metadata": {
    "slideshow": {
     "slide_type": "slide"
    }
   },
   "source": [
    "## Pasos para lograr el objetivo de aprendizaje con la experimentación en la calculadora casio 991LA cw "
   ]
  },
  {
   "cell_type": "markdown",
   "id": "fccb447c",
   "metadata": {
    "slideshow": {
     "slide_type": "slide"
    }
   },
   "source": [
    "# Tareas para realizar en clase"
   ]
  },
  {
   "cell_type": "markdown",
   "id": "d34defb9",
   "metadata": {
    "slideshow": {
     "slide_type": "slide"
    }
   },
   "source": [
    "## Asignación individual de tareas semanales "
   ]
  },
  {
   "cell_type": "markdown",
   "id": "742281f4",
   "metadata": {},
   "source": [
    "# No olvide la tarea de realizar la foda para autoevaluarse\n",
    "\n",
    "Fortalezas: F  \n",
    "Oportuniudades O:  \n",
    "Debilidades: D:   \n",
    "Amenazas: A:     "
   ]
  },
  {
   "cell_type": "markdown",
   "id": "8d41fe58",
   "metadata": {
    "slideshow": {
     "slide_type": "slide"
    }
   },
   "source": [
    "# Horario de clases del profesor Marco\n",
    "\n",
    "* Lunes 8-12: Cálculo Vectorial\n",
    "* Martes 8-12 M: Fundamentos de Aritmética. \n",
    "* Miércoles 8 a 12 M: Fundamentos de la Lógica\n",
    "* Jueves 2 a 6PM: Desarrollo del pensamiento matemático en la infancia. \n",
    "* Viernes 8 - 12 M: Desarrollo del pensamiento matemático en la infancia. "
   ]
  },
  {
   "cell_type": "markdown",
   "id": "ae114e14",
   "metadata": {
    "slideshow": {
     "slide_type": "slide"
    }
   },
   "source": [
    "# Horarios de monitoría y asesoría"
   ]
  },
  {
   "cell_type": "markdown",
   "id": "b1db4b6c",
   "metadata": {
    "slideshow": {
     "slide_type": "slide"
    }
   },
   "source": [
    "## Monitor Manuel"
   ]
  },
  {
   "cell_type": "markdown",
   "id": "39559692",
   "metadata": {
    "slideshow": {
     "slide_type": "slide"
    }
   },
   "source": [
    "Martes y jueves de 8 - 12  \n",
    "Miércoles 10 - 12 y de 2 a 4 PM  \n",
    "Sábado: 8 - 12"
   ]
  },
  {
   "cell_type": "markdown",
   "id": "5a190057",
   "metadata": {},
   "source": [
    "## Monitoría virtual   \n",
    "\n",
    "Telefono del monitos en whatsApp: 3043936088  \n",
    "\n",
    "Juan David Cano Castrillón  \n",
    "Estudiante de Pregrado.  \n",
    "juan.canoc1@udea.edu.co  \n",
    "3043936088  \n"
   ]
  },
  {
   "cell_type": "markdown",
   "id": "10bce0d0",
   "metadata": {
    "slideshow": {
     "slide_type": "slide"
    }
   },
   "source": [
    "## Referentes "
   ]
  },
  {
   "cell_type": "markdown",
   "id": "1db3c468",
   "metadata": {
    "slideshow": {
     "slide_type": "slide"
    }
   },
   "source": [
    "* [Grajales Vanegas, L. M., Restrepo Estrada, C. E., Restrepo Ochoa, S. I., & Ruíz De Villalba, F. (2015). Matemáticas I para las ciencias económicas.](https://github.com/marco-canas/fundamentos_de_la_aritmetica/blob/main/referentes/2_grajales_logica/grajales_lina_matemticas.pdf)\n",
    "  \n",
    "* Duval, R. (2004). Semiosis y pensamiento humano: registros semióticos y aprendizajes intelectuales. Universidad del Valle.\n",
    "\n",
    "* [Aylwin, C. U. (2011). Lógica, conjuntos y números. Universidad de los Andes, Consejo de Publicaciones, Colección: Ciencias Básicas, Serie: Matemáticas.](https://github.com/marco-canas/fundamentos_logica/blob/main/referentes/2_uzcategui/uscategui.pdf)\n",
    "  \n",
    "* [Chollet, F. (2021). Deep learning with Python. Simon and Schuster.](https://github.com/marco-canas/didactica_ciencia_datos/blob/main/2_referentes/chollet/Fran%C3%A7ois%20Chollet%20-%20Deep%20Learning%20with%20Python-Manning%20(2018).pdf)  \n",
    "  \n",
    "* [Watson, S., Stewart, J., & Redlin, L. (2009). Precálculo. Matemáticas para el cálculo.](https://github.com/marco-canas/calculo/blob/main/referents/1_precalculo_stewart/stewart_precalculo.pdf)  \n",
    "\n",
    "* [Purcell, E. J., Varberg, D., & Rigdon, S. E. (2007). Cálculo diferencial e integral. Pearson Educación.](https://github.com/marco-canas/calculo/blob/main/referents/purcell/purcell_calculo.pdf)\n",
    "\n",
    "  \n",
    "\n",
    "* [stewart cálculo](https://udeaeduco-my.sharepoint.com/:b:/g/personal/marco_canas_udea_edu_co/EZgXZjAp8QxPqOAim2hs6LcBNPLGjSHf-xwYnUVYkwa04w?e=RZdTCy)  \n",
    "\n",
    "* [larson](https://udeaeduco-my.sharepoint.com/:b:/g/personal/marco_canas_udea_edu_co/ES71ChFeO9ZDhW3TwC5Ijk8BjxUK3Pdqz_fjHxTTFAfIAg?e=VDEjfu)\n",
    "\n",
    "\n",
    "\n",
    "* [Recomendación de la UNESCO sobre ciencia abierta](https://unesdoc.unesco.org/ark:/48223/pf0000379949_spa)\n",
    "\n",
    "* [chatGPT](https://openai.com/blog/chatgpt)  \n",
    "\n",
    "* [Géron, A. (2017). Hands-on machine learning with scikit-learn and tensorflow: Concepts. Tools, and Techniques to build intelligent systems.](https://github.com/marco-canas/didactica_ciencia_datos/blob/main/2_referentes/geron/Hands-On%20Machine%20Learning-3nd_Edition(2022).pdf)  \n",
    "\n",
    "* [McKinney, W. (2012). Python for data analysis: Data wrangling with Pandas, NumPy, and IPython. \" O'Reilly Media, Inc.\".](https://github.com/marco-canas/didactica_ciencia_datos/blob/main/2_referentes/mckinney/Wes_McKinney.pdf)  "
   ]
  },
  {
   "cell_type": "markdown",
   "id": "8e65d6f9",
   "metadata": {},
   "source": [
    "# Como estudiante, encuentro que...   \n",
    "\n",
    "F: Mis Fortalezas son:     \n",
    "O: Mis Oportunidades son:    \n",
    "D: Mis Debilidades son:    \n",
    "A: Lo que Amenazas mi aprendizaje es:  "
   ]
  },
  {
   "cell_type": "markdown",
   "id": "6b9e56a8",
   "metadata": {
    "slideshow": {
     "slide_type": "slide"
    }
   },
   "source": [
    "### [Evaluamos al profesor Marco Cañas Aquí](https://forms.office.com/Pages/ResponsePage.aspx?id=IefhmYRxjkmK_7KtTlPBwkanXIs1i1FEujpsZgO6dXpUREJPV1kxUk1JV1ozTFJIQVNIQjY5WEY3US4u)"
   ]
  },
  {
   "cell_type": "markdown",
   "id": "050b9508",
   "metadata": {},
   "source": [
    "# Aportes de mis estudiantes a la metodología del curso  \n",
    "1. \n",
    "\n",
    "Sus opiniones y aportes son muy importantes para mi. Pues esta es una investigación educativa y un servicio de enseñanza para ustedes. Ustedes son la razón de ser de mi actividad docente. Dios los bendiga. "
   ]
  },
  {
   "cell_type": "markdown",
   "id": "6c4af91f",
   "metadata": {},
   "source": [
    "# Aportes de mis colegas docentes a la metodología que estoy aplicando en mis cursos. "
   ]
  },
  {
   "cell_type": "markdown",
   "id": "071afa04",
   "metadata": {
    "slideshow": {
     "slide_type": "slide"
    }
   },
   "source": [
    "## [Evaluación luego de alcanzar estos objetivos de aprendizaje]()"
   ]
  },
  {
   "cell_type": "markdown",
   "id": "10f43536",
   "metadata": {
    "slideshow": {
     "slide_type": "slide"
    }
   },
   "source": [
    "### Continue su aprendizaje en la siguiente clase a través del siguiente [vínculo]()"
   ]
  },
  {
   "cell_type": "markdown",
   "id": "53cc9115",
   "metadata": {
    "slideshow": {
     "slide_type": "slide"
    }
   },
   "source": [
    "## Agradecimientos  \n",
    "\n",
    "Doy gracias a Dios por la vida de mi Hijo Joseph Cañas Osorio y la madurez que ha alcanzado.\n",
    "\n",
    "Y a mi esposa Yasmira por su apoyo, orientación y acompañamiento. "
   ]
  }
 ],
 "metadata": {
  "celltoolbar": "Slideshow",
  "kernelspec": {
   "display_name": "Python 3",
   "language": "python",
   "name": "python3"
  },
  "language_info": {
   "codemirror_mode": {
    "name": "ipython",
    "version": 3
   },
   "file_extension": ".py",
   "mimetype": "text/x-python",
   "name": "python",
   "nbconvert_exporter": "python",
   "pygments_lexer": "ipython3",
   "version": "3.12.7"
  },
  "rise": {
   "enable_chalkboard": true,
   "theme": "sky",
   "transition": "zoom"
  }
 },
 "nbformat": 4,
 "nbformat_minor": 5
}
