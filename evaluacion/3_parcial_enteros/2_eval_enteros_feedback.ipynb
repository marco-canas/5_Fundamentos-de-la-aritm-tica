{
 "cells": [
  {
   "cell_type": "markdown",
   "id": "dc06dec7",
   "metadata": {
    "slideshow": {
     "slide_type": "slide"
    }
   },
   "source": [
    "<table align=\"left\">\n",
    "  <td>\n",
    "    <a href=\"https://colab.research.google.com/github/marco-canas/fundamentos_aritmetica/blob/main/2_eval_enteros_feedback.ipynb\" target=\"_parent\"><img src=\"https://colab.research.google.com/assets/colab-badge.svg\" alt=\"Open In Colab\"/></a>\n",
    "  </td>\n",
    "</table>"
   ]
  },
  {
   "cell_type": "markdown",
   "id": "e0c5b198",
   "metadata": {
    "slideshow": {
     "slide_type": "slide"
    }
   },
   "source": [
    "### [Video de apoyo a la lectura interactiva y experimental de este cuaderno]()"
   ]
  },
  {
   "cell_type": "markdown",
   "id": "41e82203",
   "metadata": {
    "slideshow": {
     "slide_type": "slide"
    }
   },
   "source": [
    "## [Vínculo al programa del curso:  ]()"
   ]
  },
  {
   "cell_type": "markdown",
   "id": "ca46c23b",
   "metadata": {
    "slideshow": {
     "slide_type": "slide"
    }
   },
   "source": [
    "# Modelo general de clase: [aula invertida](https://www3.gobiernodecanarias.org/medusa/ecoescuela/pedagotic/aprendizaje-invertido-flipped-classroom/)\n"
   ]
  },
  {
   "cell_type": "markdown",
   "id": "7f9be90f",
   "metadata": {
    "slideshow": {
     "slide_type": "slide"
    }
   },
   "source": [
    "# Fomento de la lectura literaria asociada a Ingeniería agropecuaria y licenciatura en Matemáticas y administración de empresas\n",
    "\n",
    "[Hábitos atómicos](https://github.com/marco-canas/habitos_atomicos/blob/main/13_como_dejar_de_postergar_usando_la_regla_de_los_dos_minutos/1_13_como_dejar_de_postergar_usando_la_regla_de_los_dos_minutos.ipynb)"
   ]
  },
  {
   "cell_type": "markdown",
   "id": "96775931",
   "metadata": {
    "slideshow": {
     "slide_type": "slide"
    }
   },
   "source": [
    "# Título de la clase: Feedback de la evaluación sobre números enteros\n"
   ]
  },
  {
   "cell_type": "markdown",
   "id": "1d38dd4e",
   "metadata": {
    "slideshow": {
     "slide_type": "slide"
    }
   },
   "source": [
    "### Objetivo de aprendizaje (Enunciar, de manera corta sencilla y clara para todos los asistentes)\n"
   ]
  },
  {
   "cell_type": "markdown",
   "id": "2b678ec8",
   "metadata": {},
   "source": [
    "\n",
    "* [Hipervínculo para el cuaderno de enseñanza]()\n",
    "1. Evaluar las tareas realizadas de manera manúscrita\n",
    "2. Evaluar las tareas realizadas en los cuadernos Jupyter. (Solo realizar la tercera parte de las tareas asignadas de manera manuscrita)\n",
    "3. Evaluar con un quiz escrito\n",
    "4. Evaluar con un parcial escrito.\n",
    "5. Evaluar la capacidad de describir un problema y su solución de manera oral. "
   ]
  },
  {
   "cell_type": "markdown",
   "id": "ca7261b1",
   "metadata": {
    "slideshow": {
     "slide_type": "slide"
    }
   },
   "source": [
    "## Establecimiento de prerrequisitos conceptuales para alcanzar el objetivo de aprendizaje trazado.   \n",
    "\n",
    "(Elabore una lista de preguntas al rededor de los conceptos que consideres necesarios para empezar la clase).  \n",
    "\n",
    "1. \n",
    "2. \n",
    "3. "
   ]
  },
  {
   "cell_type": "markdown",
   "id": "2298e976",
   "metadata": {
    "slideshow": {
     "slide_type": "slide"
    }
   },
   "source": [
    "# Para el diseño de la clase tenga en cuenta algunos problemas de aprendizaje"
   ]
  },
  {
   "cell_type": "markdown",
   "id": "2d46be3a",
   "metadata": {},
   "source": [
    "# Diseño de evaluación oral de si se alcanzaron los objetivos de aprendizaje planteados\n",
    "\n",
    "* Describa verbalmente el objetivo de aprendizaje y evidencie de forma oral si lo logró o no. "
   ]
  },
  {
   "cell_type": "markdown",
   "id": "4566108f",
   "metadata": {},
   "source": [
    "## Cuestionario para realizar labores de memorización, observación y síntesis de la información (Además de diagnóstico)\n",
    "\n",
    "1. ¿?\n",
    "2. ¿?\n",
    "3. ¿?\n",
    "4. ¿?\n",
    "5. ¿?"
   ]
  },
  {
   "cell_type": "markdown",
   "id": "7ee3abc5",
   "metadata": {},
   "source": [
    "# Vocabulary \n",
    "\n",
    "1. length: longitud\n",
    "2. width: ancho. \n",
    "\n",
    "[length, width](https://voca.ro/1of14ffdXnZI)"
   ]
  },
  {
   "cell_type": "code",
   "execution_count": null,
   "id": "ad098f40",
   "metadata": {},
   "outputs": [],
   "source": [
    "# algoritmo para llamar a evaluación oral individual\n",
    "import pandas as pd\n",
    "import numpy as np\n",
    "\n",
    "# Cargar la lista de estudiantes desde la URL\n",
    "path = '/home/marco/Documentos/docencia/groups_list/fundamentos_aritmetica.csv'\n",
    "estudiantes = pd.read_csv(path)\n",
    "estudiantes['Parcial'] = estudiantes['Parcial'].astype(float) \n",
    "\n",
    "# Convertir la columna 'Nombre' a una lista de Python\n",
    "lista_estudiantes = estudiantes['Nombre'].tolist()\n",
    "\n",
    "# Función para llamar a un estudiante aleatoriamente y registrar su nota de seguimiento\n",
    "def eval_oral():\n",
    "    if lista_estudiantes:\n",
    "        estudiante_aleatorio = np.random.choice(lista_estudiantes)\n",
    "        print(f\"Llamando a {estudiante_aleatorio}...\")\n",
    "        asistencia = input(f\"¿Se expresó bien y correco {estudiante_aleatorio}? (s/n): \").strip().lower()\n",
    "        \n",
    "        if asistencia == 's':\n",
    "            # Obtener el índice del estudiante en el DataFrame\n",
    "            indice = estudiantes[estudiantes['Nombre'] == estudiante_aleatorio].index[0]\n",
    "            # Incrementar su valor en la columna 'Parcial'\n",
    "            estudiantes.at[indice, 'Parcial'] += 0.2\n",
    "            print(f\"Actualizado: {estudiante_aleatorio} ahora tiene {estudiantes.at[indice, 'Parcial']} en la columna 'Parcial'.\")\n",
    "        \n",
    "        lista_estudiantes.remove(estudiante_aleatorio)\n",
    "    else:\n",
    "        print(\"Se han llamado a todos los estudiantes del grupo completo.\")\n",
    "\n",
    "# Guardar los cambios en el archivo CSV\n",
    "def guardar_cambios():\n",
    "    estudiantes.to_csv(path, index=False)\n",
    "    print(\"Cambios guardados en el archivo CSV.\")\n",
    "\n",
    "# Ejemplo de uso\n",
    "#while lista_estudiantes:\n",
    "#    eval_oral()\n",
    "#    guardar_cambios()\n",
    "\n",
    "\n"
   ]
  },
  {
   "cell_type": "markdown",
   "id": "2abc6a71",
   "metadata": {},
   "source": [
    "# 1. Evaluar las tareas realizadas de manera manúscrita\n"
   ]
  },
  {
   "cell_type": "code",
   "execution_count": 1,
   "id": "e1f297cd",
   "metadata": {},
   "outputs": [
    {
     "name": "stdout",
     "output_type": "stream",
     "text": [
      "Tarea 1 asignada:  tarea_1_lectura_y_completacion_de_ejemplos_Purcell_Página_202_Sección_3.8.csv\n",
      "Debe transcribir el ejemplo \n",
      "      en su cuaderno manuscrito y Jupyter\n",
      "       y completar los procedimientos\n",
      "      Si no incluye el enunciado o planteamiento del problema de cada ejercicio, \n",
      "      no se le valora la tarea rebaja  \n",
      "       Si no incluye de la conclusión verbal de cada ejercicio, \n",
      "      entonces no se le valora la tarea\n"
     ]
    },
    {
     "data": {
      "text/html": [
       "<div>\n",
       "<style scoped>\n",
       "    .dataframe tbody tr th:only-of-type {\n",
       "        vertical-align: middle;\n",
       "    }\n",
       "\n",
       "    .dataframe tbody tr th {\n",
       "        vertical-align: top;\n",
       "    }\n",
       "\n",
       "    .dataframe thead th {\n",
       "        text-align: right;\n",
       "    }\n",
       "</style>\n",
       "<table border=\"1\" class=\"dataframe\">\n",
       "  <thead>\n",
       "    <tr style=\"text-align: right;\">\n",
       "      <th></th>\n",
       "      <th>Student</th>\n",
       "      <th>Example1</th>\n",
       "      <th>Example2</th>\n",
       "      <th>Example3</th>\n",
       "      <th>Example4</th>\n",
       "    </tr>\n",
       "  </thead>\n",
       "  <tbody>\n",
       "    <tr>\n",
       "      <th>0</th>\n",
       "      <td>AMARIS FERNANDEZ SEBASTIAN CAMILO</td>\n",
       "      <td>3</td>\n",
       "      <td>4</td>\n",
       "      <td>6</td>\n",
       "      <td>7</td>\n",
       "    </tr>\n",
       "    <tr>\n",
       "      <th>1</th>\n",
       "      <td>ARENAS HERAZO GABRIEL ENRIQUE</td>\n",
       "      <td>3</td>\n",
       "      <td>4</td>\n",
       "      <td>5</td>\n",
       "      <td>6</td>\n",
       "    </tr>\n",
       "    <tr>\n",
       "      <th>2</th>\n",
       "      <td>AYALA MENDOZA MARISOL YACIRA</td>\n",
       "      <td>2</td>\n",
       "      <td>3</td>\n",
       "      <td>5</td>\n",
       "      <td>7</td>\n",
       "    </tr>\n",
       "    <tr>\n",
       "      <th>3</th>\n",
       "      <td>BERTEL RODELO MICHELL SMIT</td>\n",
       "      <td>4</td>\n",
       "      <td>5</td>\n",
       "      <td>6</td>\n",
       "      <td>7</td>\n",
       "    </tr>\n",
       "    <tr>\n",
       "      <th>4</th>\n",
       "      <td>BULA VERGARA MARIA PAULA</td>\n",
       "      <td>2</td>\n",
       "      <td>3</td>\n",
       "      <td>4</td>\n",
       "      <td>5</td>\n",
       "    </tr>\n",
       "    <tr>\n",
       "      <th>5</th>\n",
       "      <td>CANTILLO ENSUCHO DANIEL</td>\n",
       "      <td>2</td>\n",
       "      <td>4</td>\n",
       "      <td>6</td>\n",
       "      <td>7</td>\n",
       "    </tr>\n",
       "    <tr>\n",
       "      <th>6</th>\n",
       "      <td>CERVANTES DURAN ANGELICA</td>\n",
       "      <td>2</td>\n",
       "      <td>3</td>\n",
       "      <td>4</td>\n",
       "      <td>6</td>\n",
       "    </tr>\n",
       "    <tr>\n",
       "      <th>7</th>\n",
       "      <td>GUERRA NORIEGA YONATHAN</td>\n",
       "      <td>2</td>\n",
       "      <td>3</td>\n",
       "      <td>5</td>\n",
       "      <td>7</td>\n",
       "    </tr>\n",
       "    <tr>\n",
       "      <th>8</th>\n",
       "      <td>HINCAPIE CASTRO JOHAN SEBASTIAN</td>\n",
       "      <td>2</td>\n",
       "      <td>4</td>\n",
       "      <td>5</td>\n",
       "      <td>7</td>\n",
       "    </tr>\n",
       "    <tr>\n",
       "      <th>9</th>\n",
       "      <td>HUMANEZ SANCHEZ CAMILO</td>\n",
       "      <td>2</td>\n",
       "      <td>3</td>\n",
       "      <td>4</td>\n",
       "      <td>5</td>\n",
       "    </tr>\n",
       "    <tr>\n",
       "      <th>10</th>\n",
       "      <td>IBAÑEZ MORENO FRANCISCO LUIS</td>\n",
       "      <td>2</td>\n",
       "      <td>4</td>\n",
       "      <td>6</td>\n",
       "      <td>7</td>\n",
       "    </tr>\n",
       "    <tr>\n",
       "      <th>11</th>\n",
       "      <td>MASS MIRANDA RIVALDO JOSE</td>\n",
       "      <td>4</td>\n",
       "      <td>5</td>\n",
       "      <td>6</td>\n",
       "      <td>7</td>\n",
       "    </tr>\n",
       "    <tr>\n",
       "      <th>12</th>\n",
       "      <td>MIRANDA MARTINEZ CARLOS ANDRES</td>\n",
       "      <td>2</td>\n",
       "      <td>5</td>\n",
       "      <td>6</td>\n",
       "      <td>7</td>\n",
       "    </tr>\n",
       "    <tr>\n",
       "      <th>13</th>\n",
       "      <td>MONTERROSA SOTO ABRIL</td>\n",
       "      <td>2</td>\n",
       "      <td>4</td>\n",
       "      <td>5</td>\n",
       "      <td>6</td>\n",
       "    </tr>\n",
       "    <tr>\n",
       "      <th>14</th>\n",
       "      <td>NORIEGA JIMENEZ GABRIELA</td>\n",
       "      <td>3</td>\n",
       "      <td>4</td>\n",
       "      <td>5</td>\n",
       "      <td>6</td>\n",
       "    </tr>\n",
       "    <tr>\n",
       "      <th>15</th>\n",
       "      <td>PEREZ REYES IVAN DARIO</td>\n",
       "      <td>2</td>\n",
       "      <td>4</td>\n",
       "      <td>5</td>\n",
       "      <td>7</td>\n",
       "    </tr>\n",
       "    <tr>\n",
       "      <th>16</th>\n",
       "      <td>PEREZ THERAN ERLINDA</td>\n",
       "      <td>2</td>\n",
       "      <td>3</td>\n",
       "      <td>4</td>\n",
       "      <td>7</td>\n",
       "    </tr>\n",
       "    <tr>\n",
       "      <th>17</th>\n",
       "      <td>PINEDA ROMERO YOSMERI</td>\n",
       "      <td>2</td>\n",
       "      <td>3</td>\n",
       "      <td>4</td>\n",
       "      <td>7</td>\n",
       "    </tr>\n",
       "    <tr>\n",
       "      <th>18</th>\n",
       "      <td>QUINONEZ CERVANTES MARIANA</td>\n",
       "      <td>2</td>\n",
       "      <td>4</td>\n",
       "      <td>6</td>\n",
       "      <td>7</td>\n",
       "    </tr>\n",
       "    <tr>\n",
       "      <th>19</th>\n",
       "      <td>RAMOS PEREZ YANINE</td>\n",
       "      <td>2</td>\n",
       "      <td>3</td>\n",
       "      <td>5</td>\n",
       "      <td>7</td>\n",
       "    </tr>\n",
       "    <tr>\n",
       "      <th>20</th>\n",
       "      <td>RIVAS HOYOS ESTEFANIA</td>\n",
       "      <td>4</td>\n",
       "      <td>5</td>\n",
       "      <td>6</td>\n",
       "      <td>7</td>\n",
       "    </tr>\n",
       "    <tr>\n",
       "      <th>21</th>\n",
       "      <td>ROSILLO TEJADA VANESA</td>\n",
       "      <td>3</td>\n",
       "      <td>4</td>\n",
       "      <td>6</td>\n",
       "      <td>7</td>\n",
       "    </tr>\n",
       "    <tr>\n",
       "      <th>22</th>\n",
       "      <td>SANCHEZ PADILLA SILVESTRE</td>\n",
       "      <td>2</td>\n",
       "      <td>3</td>\n",
       "      <td>5</td>\n",
       "      <td>6</td>\n",
       "    </tr>\n",
       "    <tr>\n",
       "      <th>23</th>\n",
       "      <td>SILVA ROYERO MAILY CRISTINA</td>\n",
       "      <td>2</td>\n",
       "      <td>3</td>\n",
       "      <td>6</td>\n",
       "      <td>7</td>\n",
       "    </tr>\n",
       "    <tr>\n",
       "      <th>24</th>\n",
       "      <td>USUGA GEORGE JHON ESTIVEN</td>\n",
       "      <td>2</td>\n",
       "      <td>3</td>\n",
       "      <td>4</td>\n",
       "      <td>5</td>\n",
       "    </tr>\n",
       "  </tbody>\n",
       "</table>\n",
       "</div>"
      ],
      "text/plain": [
       "                              Student  Example1  Example2  Example3  Example4\n",
       "0   AMARIS FERNANDEZ SEBASTIAN CAMILO         3         4         6         7\n",
       "1       ARENAS HERAZO GABRIEL ENRIQUE         3         4         5         6\n",
       "2        AYALA MENDOZA MARISOL YACIRA         2         3         5         7\n",
       "3          BERTEL RODELO MICHELL SMIT         4         5         6         7\n",
       "4            BULA VERGARA MARIA PAULA         2         3         4         5\n",
       "5             CANTILLO ENSUCHO DANIEL         2         4         6         7\n",
       "6            CERVANTES DURAN ANGELICA         2         3         4         6\n",
       "7             GUERRA NORIEGA YONATHAN         2         3         5         7\n",
       "8     HINCAPIE CASTRO JOHAN SEBASTIAN         2         4         5         7\n",
       "9              HUMANEZ SANCHEZ CAMILO         2         3         4         5\n",
       "10       IBAÑEZ MORENO FRANCISCO LUIS         2         4         6         7\n",
       "11          MASS MIRANDA RIVALDO JOSE         4         5         6         7\n",
       "12     MIRANDA MARTINEZ CARLOS ANDRES         2         5         6         7\n",
       "13              MONTERROSA SOTO ABRIL         2         4         5         6\n",
       "14           NORIEGA JIMENEZ GABRIELA         3         4         5         6\n",
       "15             PEREZ REYES IVAN DARIO         2         4         5         7\n",
       "16               PEREZ THERAN ERLINDA         2         3         4         7\n",
       "17              PINEDA ROMERO YOSMERI         2         3         4         7\n",
       "18         QUINONEZ CERVANTES MARIANA         2         4         6         7\n",
       "19                 RAMOS PEREZ YANINE         2         3         5         7\n",
       "20              RIVAS HOYOS ESTEFANIA         4         5         6         7\n",
       "21              ROSILLO TEJADA VANESA         3         4         6         7\n",
       "22          SANCHEZ PADILLA SILVESTRE         2         3         5         6\n",
       "23        SILVA ROYERO MAILY CRISTINA         2         3         6         7\n",
       "24          USUGA GEORGE JHON ESTIVEN         2         3         4         5"
      ]
     },
     "execution_count": 1,
     "metadata": {},
     "output_type": "execute_result"
    }
   ],
   "source": [
    "# Tarea 1 de lectura y completación de ejemplos del texto guia \n",
    "# Consiste en la lectura y completación de un ejemplo del texto guía\n",
    "\n",
    "import pandas as pd\n",
    "import numpy as np\n",
    "import requests\n",
    "np.random.seed(1213)  # establecer semilla aleatoria para hacer los resultados reproducibles\n",
    "\n",
    "\n",
    "\n",
    "grupo_estudiantes = 'calculo_vectorial'\n",
    "nombre_texto_guia = 'Purcell'\n",
    "pagina_y_seccion = 'Página_202_Sección_3.8'\n",
    "numero_ejemplos_texto = 7\n",
    "numero_ejemplos_asignados = int(0.5*numero_ejemplos_texto)+1\n",
    "\n",
    "\n",
    "# Descargar la lista de  estudiantes\n",
    "students_path = \"/home/marco/Documentos/docencia/groups_list/\" + grupo_estudiantes + \".csv\"\n",
    "examples = list(range(1, numero_ejemplos_texto))  \n",
    "\n",
    "students_data = pd.read_csv(students_path)\n",
    "\n",
    "# Crear una lista para almacenar las asignaciones\n",
    "assignments = []\n",
    "\n",
    "# Asignar ejercicios aleatorios a cada estudiante\n",
    "for index, student in students_data.iterrows():\n",
    "    # Seleccionar 5 ejercicios aleatorios sin repetición\n",
    "    random_exercises = np.sort(np.random.choice(examples, numero_ejemplos_asignados, \\\n",
    "                                                replace = False)+ 1 )\n",
    "    assignments.append([students_data[\"Nombre\"][index], *random_exercises])  # Agregar asignación a la lista\n",
    "\n",
    "# Crear un DataFrame con las asignaciones\n",
    "columns = [\"Student\"] + [ \"Example\" + str(i+1) for i in range(numero_ejemplos_asignados)]\n",
    "assignment_df = pd.DataFrame(assignments, columns=columns)\n",
    "\n",
    "# Guardar el DataFrame en un archivo CSV\n",
    "assignment_csv = \"tarea_1_lectura_y_completacion_de_ejemplos\" + \"_\" + nombre_texto_guia + \"_\"+ pagina_y_seccion + \".csv\"\n",
    "assignment_df.to_csv(assignment_csv, index=False)\n",
    "\n",
    "print(\"Tarea 1 asignada: \", assignment_csv)\n",
    "print('''Debe transcribir el ejemplo \n",
    "      en su cuaderno manuscrito y Jupyter\n",
    "       y completar los procedimientos\n",
    "      Si no incluye el enunciado o planteamiento del problema de cada ejercicio, \n",
    "      no se le valora la tarea rebaja  \n",
    "       Si no incluye de la conclusión verbal de cada ejercicio, \n",
    "      entonces no se le valora la tarea''')\n",
    "assignment_df"
   ]
  },
  {
   "cell_type": "code",
   "execution_count": 6,
   "id": "1da17798",
   "metadata": {},
   "outputs": [
    {
     "name": "stdout",
     "output_type": "stream",
     "text": [
      "Llamando a PINEDA ROMERO YOSMERI...\n",
      "Cambios guardados en el archivo CSV.\n"
     ]
    }
   ],
   "source": [
    "eval_oral()\n",
    "guardar_cambios()"
   ]
  },
  {
   "cell_type": "code",
   "execution_count": 2,
   "id": "30b8ec1e",
   "metadata": {},
   "outputs": [
    {
     "name": "stdout",
     "output_type": "stream",
     "text": [
      "Tarea 2 Solución de problemas\n",
      "      para adquirir la metodología: \n",
      "      La no inclusión del enunciado o planteamiento del problema de cada ejercicio rebaja 1.0\n",
      "      La no inclusión de la conclusión verbal de cada ejercicio rebaja 1.0 \n",
      "       tarea_2_solucion_de_problemas_Purcell_Página_202_Sección_3.8.csv\n"
     ]
    },
    {
     "data": {
      "text/html": [
       "<div>\n",
       "<style scoped>\n",
       "    .dataframe tbody tr th:only-of-type {\n",
       "        vertical-align: middle;\n",
       "    }\n",
       "\n",
       "    .dataframe tbody tr th {\n",
       "        vertical-align: top;\n",
       "    }\n",
       "\n",
       "    .dataframe thead th {\n",
       "        text-align: right;\n",
       "    }\n",
       "</style>\n",
       "<table border=\"1\" class=\"dataframe\">\n",
       "  <thead>\n",
       "    <tr style=\"text-align: right;\">\n",
       "      <th></th>\n",
       "      <th>Student</th>\n",
       "      <th>Exer1</th>\n",
       "      <th>Exer2</th>\n",
       "      <th>Exer3</th>\n",
       "      <th>Exer4</th>\n",
       "      <th>Exer5</th>\n",
       "      <th>Exer6</th>\n",
       "      <th>Exer7</th>\n",
       "      <th>Exer8</th>\n",
       "      <th>Exer9</th>\n",
       "      <th>Exer10</th>\n",
       "    </tr>\n",
       "  </thead>\n",
       "  <tbody>\n",
       "    <tr>\n",
       "      <th>0</th>\n",
       "      <td>AMARIS FERNANDEZ SEBASTIAN CAMILO</td>\n",
       "      <td>2</td>\n",
       "      <td>4</td>\n",
       "      <td>21</td>\n",
       "      <td>29</td>\n",
       "      <td>35</td>\n",
       "      <td>36</td>\n",
       "      <td>47</td>\n",
       "      <td>52</td>\n",
       "      <td>53</td>\n",
       "      <td>54</td>\n",
       "    </tr>\n",
       "    <tr>\n",
       "      <th>1</th>\n",
       "      <td>ARENAS HERAZO GABRIEL ENRIQUE</td>\n",
       "      <td>2</td>\n",
       "      <td>8</td>\n",
       "      <td>20</td>\n",
       "      <td>23</td>\n",
       "      <td>34</td>\n",
       "      <td>37</td>\n",
       "      <td>42</td>\n",
       "      <td>43</td>\n",
       "      <td>44</td>\n",
       "      <td>45</td>\n",
       "    </tr>\n",
       "    <tr>\n",
       "      <th>2</th>\n",
       "      <td>AYALA MENDOZA MARISOL YACIRA</td>\n",
       "      <td>10</td>\n",
       "      <td>12</td>\n",
       "      <td>20</td>\n",
       "      <td>23</td>\n",
       "      <td>26</td>\n",
       "      <td>29</td>\n",
       "      <td>31</td>\n",
       "      <td>35</td>\n",
       "      <td>36</td>\n",
       "      <td>45</td>\n",
       "    </tr>\n",
       "    <tr>\n",
       "      <th>3</th>\n",
       "      <td>BERTEL RODELO MICHELL SMIT</td>\n",
       "      <td>5</td>\n",
       "      <td>18</td>\n",
       "      <td>19</td>\n",
       "      <td>24</td>\n",
       "      <td>28</td>\n",
       "      <td>30</td>\n",
       "      <td>38</td>\n",
       "      <td>39</td>\n",
       "      <td>41</td>\n",
       "      <td>54</td>\n",
       "    </tr>\n",
       "    <tr>\n",
       "      <th>4</th>\n",
       "      <td>BULA VERGARA MARIA PAULA</td>\n",
       "      <td>9</td>\n",
       "      <td>10</td>\n",
       "      <td>18</td>\n",
       "      <td>21</td>\n",
       "      <td>23</td>\n",
       "      <td>32</td>\n",
       "      <td>33</td>\n",
       "      <td>34</td>\n",
       "      <td>46</td>\n",
       "      <td>48</td>\n",
       "    </tr>\n",
       "    <tr>\n",
       "      <th>5</th>\n",
       "      <td>CANTILLO ENSUCHO DANIEL</td>\n",
       "      <td>5</td>\n",
       "      <td>18</td>\n",
       "      <td>21</td>\n",
       "      <td>23</td>\n",
       "      <td>34</td>\n",
       "      <td>36</td>\n",
       "      <td>40</td>\n",
       "      <td>43</td>\n",
       "      <td>44</td>\n",
       "      <td>51</td>\n",
       "    </tr>\n",
       "    <tr>\n",
       "      <th>6</th>\n",
       "      <td>CERVANTES DURAN ANGELICA</td>\n",
       "      <td>2</td>\n",
       "      <td>7</td>\n",
       "      <td>11</td>\n",
       "      <td>12</td>\n",
       "      <td>20</td>\n",
       "      <td>22</td>\n",
       "      <td>23</td>\n",
       "      <td>32</td>\n",
       "      <td>34</td>\n",
       "      <td>43</td>\n",
       "    </tr>\n",
       "    <tr>\n",
       "      <th>7</th>\n",
       "      <td>GUERRA NORIEGA YONATHAN</td>\n",
       "      <td>12</td>\n",
       "      <td>19</td>\n",
       "      <td>20</td>\n",
       "      <td>23</td>\n",
       "      <td>25</td>\n",
       "      <td>34</td>\n",
       "      <td>36</td>\n",
       "      <td>39</td>\n",
       "      <td>42</td>\n",
       "      <td>46</td>\n",
       "    </tr>\n",
       "    <tr>\n",
       "      <th>8</th>\n",
       "      <td>HINCAPIE CASTRO JOHAN SEBASTIAN</td>\n",
       "      <td>6</td>\n",
       "      <td>7</td>\n",
       "      <td>11</td>\n",
       "      <td>18</td>\n",
       "      <td>19</td>\n",
       "      <td>24</td>\n",
       "      <td>30</td>\n",
       "      <td>34</td>\n",
       "      <td>37</td>\n",
       "      <td>41</td>\n",
       "    </tr>\n",
       "    <tr>\n",
       "      <th>9</th>\n",
       "      <td>HUMANEZ SANCHEZ CAMILO</td>\n",
       "      <td>2</td>\n",
       "      <td>7</td>\n",
       "      <td>9</td>\n",
       "      <td>11</td>\n",
       "      <td>23</td>\n",
       "      <td>31</td>\n",
       "      <td>34</td>\n",
       "      <td>35</td>\n",
       "      <td>46</td>\n",
       "      <td>54</td>\n",
       "    </tr>\n",
       "    <tr>\n",
       "      <th>10</th>\n",
       "      <td>IBAÑEZ MORENO FRANCISCO LUIS</td>\n",
       "      <td>4</td>\n",
       "      <td>13</td>\n",
       "      <td>30</td>\n",
       "      <td>36</td>\n",
       "      <td>42</td>\n",
       "      <td>46</td>\n",
       "      <td>47</td>\n",
       "      <td>50</td>\n",
       "      <td>53</td>\n",
       "      <td>54</td>\n",
       "    </tr>\n",
       "    <tr>\n",
       "      <th>11</th>\n",
       "      <td>MASS MIRANDA RIVALDO JOSE</td>\n",
       "      <td>2</td>\n",
       "      <td>5</td>\n",
       "      <td>8</td>\n",
       "      <td>14</td>\n",
       "      <td>16</td>\n",
       "      <td>28</td>\n",
       "      <td>33</td>\n",
       "      <td>41</td>\n",
       "      <td>43</td>\n",
       "      <td>52</td>\n",
       "    </tr>\n",
       "    <tr>\n",
       "      <th>12</th>\n",
       "      <td>MIRANDA MARTINEZ CARLOS ANDRES</td>\n",
       "      <td>3</td>\n",
       "      <td>16</td>\n",
       "      <td>25</td>\n",
       "      <td>26</td>\n",
       "      <td>27</td>\n",
       "      <td>31</td>\n",
       "      <td>32</td>\n",
       "      <td>40</td>\n",
       "      <td>47</td>\n",
       "      <td>48</td>\n",
       "    </tr>\n",
       "    <tr>\n",
       "      <th>13</th>\n",
       "      <td>MONTERROSA SOTO ABRIL</td>\n",
       "      <td>4</td>\n",
       "      <td>7</td>\n",
       "      <td>13</td>\n",
       "      <td>14</td>\n",
       "      <td>19</td>\n",
       "      <td>23</td>\n",
       "      <td>25</td>\n",
       "      <td>26</td>\n",
       "      <td>30</td>\n",
       "      <td>33</td>\n",
       "    </tr>\n",
       "    <tr>\n",
       "      <th>14</th>\n",
       "      <td>NORIEGA JIMENEZ GABRIELA</td>\n",
       "      <td>11</td>\n",
       "      <td>13</td>\n",
       "      <td>19</td>\n",
       "      <td>21</td>\n",
       "      <td>29</td>\n",
       "      <td>33</td>\n",
       "      <td>38</td>\n",
       "      <td>43</td>\n",
       "      <td>47</td>\n",
       "      <td>50</td>\n",
       "    </tr>\n",
       "    <tr>\n",
       "      <th>15</th>\n",
       "      <td>PEREZ REYES IVAN DARIO</td>\n",
       "      <td>10</td>\n",
       "      <td>13</td>\n",
       "      <td>14</td>\n",
       "      <td>15</td>\n",
       "      <td>21</td>\n",
       "      <td>29</td>\n",
       "      <td>30</td>\n",
       "      <td>36</td>\n",
       "      <td>42</td>\n",
       "      <td>45</td>\n",
       "    </tr>\n",
       "    <tr>\n",
       "      <th>16</th>\n",
       "      <td>PEREZ THERAN ERLINDA</td>\n",
       "      <td>5</td>\n",
       "      <td>10</td>\n",
       "      <td>11</td>\n",
       "      <td>15</td>\n",
       "      <td>21</td>\n",
       "      <td>32</td>\n",
       "      <td>35</td>\n",
       "      <td>39</td>\n",
       "      <td>46</td>\n",
       "      <td>52</td>\n",
       "    </tr>\n",
       "    <tr>\n",
       "      <th>17</th>\n",
       "      <td>PINEDA ROMERO YOSMERI</td>\n",
       "      <td>6</td>\n",
       "      <td>7</td>\n",
       "      <td>10</td>\n",
       "      <td>18</td>\n",
       "      <td>21</td>\n",
       "      <td>24</td>\n",
       "      <td>26</td>\n",
       "      <td>41</td>\n",
       "      <td>50</td>\n",
       "      <td>52</td>\n",
       "    </tr>\n",
       "    <tr>\n",
       "      <th>18</th>\n",
       "      <td>QUINONEZ CERVANTES MARIANA</td>\n",
       "      <td>12</td>\n",
       "      <td>17</td>\n",
       "      <td>22</td>\n",
       "      <td>27</td>\n",
       "      <td>34</td>\n",
       "      <td>38</td>\n",
       "      <td>39</td>\n",
       "      <td>47</td>\n",
       "      <td>52</td>\n",
       "      <td>53</td>\n",
       "    </tr>\n",
       "    <tr>\n",
       "      <th>19</th>\n",
       "      <td>RAMOS PEREZ YANINE</td>\n",
       "      <td>3</td>\n",
       "      <td>20</td>\n",
       "      <td>23</td>\n",
       "      <td>25</td>\n",
       "      <td>35</td>\n",
       "      <td>39</td>\n",
       "      <td>46</td>\n",
       "      <td>50</td>\n",
       "      <td>51</td>\n",
       "      <td>52</td>\n",
       "    </tr>\n",
       "    <tr>\n",
       "      <th>20</th>\n",
       "      <td>RIVAS HOYOS ESTEFANIA</td>\n",
       "      <td>6</td>\n",
       "      <td>15</td>\n",
       "      <td>18</td>\n",
       "      <td>20</td>\n",
       "      <td>24</td>\n",
       "      <td>25</td>\n",
       "      <td>33</td>\n",
       "      <td>37</td>\n",
       "      <td>43</td>\n",
       "      <td>49</td>\n",
       "    </tr>\n",
       "    <tr>\n",
       "      <th>21</th>\n",
       "      <td>ROSILLO TEJADA VANESA</td>\n",
       "      <td>11</td>\n",
       "      <td>17</td>\n",
       "      <td>21</td>\n",
       "      <td>24</td>\n",
       "      <td>27</td>\n",
       "      <td>37</td>\n",
       "      <td>41</td>\n",
       "      <td>42</td>\n",
       "      <td>50</td>\n",
       "      <td>51</td>\n",
       "    </tr>\n",
       "    <tr>\n",
       "      <th>22</th>\n",
       "      <td>SANCHEZ PADILLA SILVESTRE</td>\n",
       "      <td>3</td>\n",
       "      <td>6</td>\n",
       "      <td>7</td>\n",
       "      <td>10</td>\n",
       "      <td>12</td>\n",
       "      <td>14</td>\n",
       "      <td>32</td>\n",
       "      <td>38</td>\n",
       "      <td>45</td>\n",
       "      <td>47</td>\n",
       "    </tr>\n",
       "    <tr>\n",
       "      <th>23</th>\n",
       "      <td>SILVA ROYERO MAILY CRISTINA</td>\n",
       "      <td>2</td>\n",
       "      <td>3</td>\n",
       "      <td>4</td>\n",
       "      <td>11</td>\n",
       "      <td>13</td>\n",
       "      <td>14</td>\n",
       "      <td>18</td>\n",
       "      <td>22</td>\n",
       "      <td>32</td>\n",
       "      <td>38</td>\n",
       "    </tr>\n",
       "    <tr>\n",
       "      <th>24</th>\n",
       "      <td>USUGA GEORGE JHON ESTIVEN</td>\n",
       "      <td>11</td>\n",
       "      <td>12</td>\n",
       "      <td>13</td>\n",
       "      <td>15</td>\n",
       "      <td>18</td>\n",
       "      <td>28</td>\n",
       "      <td>31</td>\n",
       "      <td>43</td>\n",
       "      <td>45</td>\n",
       "      <td>49</td>\n",
       "    </tr>\n",
       "  </tbody>\n",
       "</table>\n",
       "</div>"
      ],
      "text/plain": [
       "                              Student  Exer1  Exer2  Exer3  Exer4  Exer5  \\\n",
       "0   AMARIS FERNANDEZ SEBASTIAN CAMILO      2      4     21     29     35   \n",
       "1       ARENAS HERAZO GABRIEL ENRIQUE      2      8     20     23     34   \n",
       "2        AYALA MENDOZA MARISOL YACIRA     10     12     20     23     26   \n",
       "3          BERTEL RODELO MICHELL SMIT      5     18     19     24     28   \n",
       "4            BULA VERGARA MARIA PAULA      9     10     18     21     23   \n",
       "5             CANTILLO ENSUCHO DANIEL      5     18     21     23     34   \n",
       "6            CERVANTES DURAN ANGELICA      2      7     11     12     20   \n",
       "7             GUERRA NORIEGA YONATHAN     12     19     20     23     25   \n",
       "8     HINCAPIE CASTRO JOHAN SEBASTIAN      6      7     11     18     19   \n",
       "9              HUMANEZ SANCHEZ CAMILO      2      7      9     11     23   \n",
       "10       IBAÑEZ MORENO FRANCISCO LUIS      4     13     30     36     42   \n",
       "11          MASS MIRANDA RIVALDO JOSE      2      5      8     14     16   \n",
       "12     MIRANDA MARTINEZ CARLOS ANDRES      3     16     25     26     27   \n",
       "13              MONTERROSA SOTO ABRIL      4      7     13     14     19   \n",
       "14           NORIEGA JIMENEZ GABRIELA     11     13     19     21     29   \n",
       "15             PEREZ REYES IVAN DARIO     10     13     14     15     21   \n",
       "16               PEREZ THERAN ERLINDA      5     10     11     15     21   \n",
       "17              PINEDA ROMERO YOSMERI      6      7     10     18     21   \n",
       "18         QUINONEZ CERVANTES MARIANA     12     17     22     27     34   \n",
       "19                 RAMOS PEREZ YANINE      3     20     23     25     35   \n",
       "20              RIVAS HOYOS ESTEFANIA      6     15     18     20     24   \n",
       "21              ROSILLO TEJADA VANESA     11     17     21     24     27   \n",
       "22          SANCHEZ PADILLA SILVESTRE      3      6      7     10     12   \n",
       "23        SILVA ROYERO MAILY CRISTINA      2      3      4     11     13   \n",
       "24          USUGA GEORGE JHON ESTIVEN     11     12     13     15     18   \n",
       "\n",
       "    Exer6  Exer7  Exer8  Exer9  Exer10  \n",
       "0      36     47     52     53      54  \n",
       "1      37     42     43     44      45  \n",
       "2      29     31     35     36      45  \n",
       "3      30     38     39     41      54  \n",
       "4      32     33     34     46      48  \n",
       "5      36     40     43     44      51  \n",
       "6      22     23     32     34      43  \n",
       "7      34     36     39     42      46  \n",
       "8      24     30     34     37      41  \n",
       "9      31     34     35     46      54  \n",
       "10     46     47     50     53      54  \n",
       "11     28     33     41     43      52  \n",
       "12     31     32     40     47      48  \n",
       "13     23     25     26     30      33  \n",
       "14     33     38     43     47      50  \n",
       "15     29     30     36     42      45  \n",
       "16     32     35     39     46      52  \n",
       "17     24     26     41     50      52  \n",
       "18     38     39     47     52      53  \n",
       "19     39     46     50     51      52  \n",
       "20     25     33     37     43      49  \n",
       "21     37     41     42     50      51  \n",
       "22     14     32     38     45      47  \n",
       "23     14     18     22     32      38  \n",
       "24     28     31     43     45      49  "
      ]
     },
     "execution_count": 2,
     "metadata": {},
     "output_type": "execute_result"
    }
   ],
   "source": [
    "# Tarea 2: Asignación de ejercicio\n",
    "# Ejercicios para adquirir habilidades de solución de problemas\n",
    "\n",
    "import pandas as pd\n",
    "import numpy as np\n",
    "import requests\n",
    "np.random.seed(424)  # establecer semilla aleatoria para hacer los resultados reproducibles\n",
    "\n",
    "\n",
    "\n",
    "grupo_estudiantes = 'calculo_vectorial'\n",
    "nombre_texto_guia = 'Purcell'\n",
    "pagina_y_seccion = 'Página_202_Sección_3.8'\n",
    "numero_ejercicios_taller = 54\n",
    "numero_de_ejercicios_asignados = 10\n",
    "\n",
    "\n",
    "# Descargar la lista de  estudiantes\n",
    "students_path = \"/home/marco/Documentos/docencia/groups_list/\" + grupo_estudiantes + \".csv\"\n",
    "exercises = list(range(1, numero_ejercicios_taller))  \n",
    "\n",
    "students_data = pd.read_csv(students_path)\n",
    "\n",
    "# Crear una lista para almacenar las asignaciones\n",
    "assignments = []\n",
    "\n",
    "# Asignar ejercicios aleatorios a cada estudiante\n",
    "for index, student in students_data.iterrows():\n",
    "    # Seleccionar 5 ejercicios aleatorios sin repetición\n",
    "    random_exercises = np.sort(np.random.choice(exercises, numero_de_ejercicios_asignados, \\\n",
    "                                                replace = False)+ 1 )\n",
    "    assignments.append([students_data[\"Nombre\"][index], *random_exercises])  # Agregar asignación a la lista\n",
    "\n",
    "# Crear un DataFrame con las asignaciones\n",
    "columns = [\"Student\"] + [ \"Exer\" + str(i+1) for i in range(numero_de_ejercicios_asignados)]\n",
    "assignment_df = pd.DataFrame(assignments, columns=columns)\n",
    "\n",
    "# Guardar el DataFrame en un archivo CSV\n",
    "assignment_csv = \"tarea_2_solucion_de_problemas\" + \"_\" + nombre_texto_guia + \"_\"+ pagina_y_seccion + \".csv\"\n",
    "assignment_df.to_csv(assignment_csv, index=False)\n",
    "\n",
    "print(\"\"\"Tarea 2 Solución de problemas\n",
    "      para adquirir la metodología: \n",
    "      La no inclusión del enunciado o planteamiento del problema de cada ejercicio rebaja 1.0\n",
    "      La no inclusión de la conclusión verbal de cada ejercicio rebaja 1.0 \n",
    "      \"\"\", assignment_csv)\n",
    "assignment_df"
   ]
  },
  {
   "cell_type": "code",
   "execution_count": 7,
   "id": "22b59f0b",
   "metadata": {},
   "outputs": [
    {
     "name": "stdout",
     "output_type": "stream",
     "text": [
      "Llamando a PEREZ REYES IVAN DARIO...\n",
      "Cambios guardados en el archivo CSV.\n"
     ]
    }
   ],
   "source": [
    "eval_oral()\n",
    "guardar_cambios()"
   ]
  },
  {
   "cell_type": "code",
   "execution_count": 5,
   "id": "e647d34e",
   "metadata": {},
   "outputs": [
    {
     "name": "stdout",
     "output_type": "stream",
     "text": [
      "Tarea 3 Descripción y Justificación:\n",
      "      La no inclusión del enunciado de cada ejercicio rebaja 1.0 \n",
      "    La no inclusión de la conclusión verbal de cada ejercicio rebaja 1.0  tarea_3_solucion_describiendo_justificando_Purcell_Página_202_Sección_3.8.csv\n"
     ]
    },
    {
     "data": {
      "text/html": [
       "<div>\n",
       "<style scoped>\n",
       "    .dataframe tbody tr th:only-of-type {\n",
       "        vertical-align: middle;\n",
       "    }\n",
       "\n",
       "    .dataframe tbody tr th {\n",
       "        vertical-align: top;\n",
       "    }\n",
       "\n",
       "    .dataframe thead th {\n",
       "        text-align: right;\n",
       "    }\n",
       "</style>\n",
       "<table border=\"1\" class=\"dataframe\">\n",
       "  <thead>\n",
       "    <tr style=\"text-align: right;\">\n",
       "      <th></th>\n",
       "      <th>Student</th>\n",
       "      <th>Exer1</th>\n",
       "      <th>Exer2</th>\n",
       "      <th>Exer3</th>\n",
       "      <th>Exer4</th>\n",
       "      <th>Exer5</th>\n",
       "      <th>Exer6</th>\n",
       "      <th>Exer7</th>\n",
       "      <th>Exer8</th>\n",
       "      <th>Exer9</th>\n",
       "      <th>Exer10</th>\n",
       "    </tr>\n",
       "  </thead>\n",
       "  <tbody>\n",
       "    <tr>\n",
       "      <th>0</th>\n",
       "      <td>AMARIS FERNANDEZ SEBASTIAN CAMILO</td>\n",
       "      <td>4</td>\n",
       "      <td>7</td>\n",
       "      <td>9</td>\n",
       "      <td>17</td>\n",
       "      <td>21</td>\n",
       "      <td>30</td>\n",
       "      <td>39</td>\n",
       "      <td>44</td>\n",
       "      <td>51</td>\n",
       "      <td>54</td>\n",
       "    </tr>\n",
       "    <tr>\n",
       "      <th>1</th>\n",
       "      <td>ARENAS HERAZO GABRIEL ENRIQUE</td>\n",
       "      <td>2</td>\n",
       "      <td>5</td>\n",
       "      <td>11</td>\n",
       "      <td>17</td>\n",
       "      <td>26</td>\n",
       "      <td>28</td>\n",
       "      <td>32</td>\n",
       "      <td>40</td>\n",
       "      <td>46</td>\n",
       "      <td>50</td>\n",
       "    </tr>\n",
       "    <tr>\n",
       "      <th>2</th>\n",
       "      <td>AYALA MENDOZA MARISOL YACIRA</td>\n",
       "      <td>10</td>\n",
       "      <td>18</td>\n",
       "      <td>21</td>\n",
       "      <td>37</td>\n",
       "      <td>39</td>\n",
       "      <td>45</td>\n",
       "      <td>46</td>\n",
       "      <td>47</td>\n",
       "      <td>51</td>\n",
       "      <td>52</td>\n",
       "    </tr>\n",
       "    <tr>\n",
       "      <th>3</th>\n",
       "      <td>BERTEL RODELO MICHELL SMIT</td>\n",
       "      <td>4</td>\n",
       "      <td>8</td>\n",
       "      <td>20</td>\n",
       "      <td>26</td>\n",
       "      <td>28</td>\n",
       "      <td>33</td>\n",
       "      <td>40</td>\n",
       "      <td>41</td>\n",
       "      <td>42</td>\n",
       "      <td>47</td>\n",
       "    </tr>\n",
       "    <tr>\n",
       "      <th>4</th>\n",
       "      <td>BULA VERGARA MARIA PAULA</td>\n",
       "      <td>12</td>\n",
       "      <td>13</td>\n",
       "      <td>20</td>\n",
       "      <td>23</td>\n",
       "      <td>25</td>\n",
       "      <td>27</td>\n",
       "      <td>29</td>\n",
       "      <td>30</td>\n",
       "      <td>34</td>\n",
       "      <td>48</td>\n",
       "    </tr>\n",
       "    <tr>\n",
       "      <th>5</th>\n",
       "      <td>CANTILLO ENSUCHO DANIEL</td>\n",
       "      <td>2</td>\n",
       "      <td>4</td>\n",
       "      <td>5</td>\n",
       "      <td>7</td>\n",
       "      <td>15</td>\n",
       "      <td>25</td>\n",
       "      <td>27</td>\n",
       "      <td>33</td>\n",
       "      <td>46</td>\n",
       "      <td>51</td>\n",
       "    </tr>\n",
       "    <tr>\n",
       "      <th>6</th>\n",
       "      <td>CERVANTES DURAN ANGELICA</td>\n",
       "      <td>2</td>\n",
       "      <td>4</td>\n",
       "      <td>5</td>\n",
       "      <td>14</td>\n",
       "      <td>17</td>\n",
       "      <td>19</td>\n",
       "      <td>22</td>\n",
       "      <td>24</td>\n",
       "      <td>34</td>\n",
       "      <td>52</td>\n",
       "    </tr>\n",
       "    <tr>\n",
       "      <th>7</th>\n",
       "      <td>GUERRA NORIEGA YONATHAN</td>\n",
       "      <td>3</td>\n",
       "      <td>20</td>\n",
       "      <td>24</td>\n",
       "      <td>26</td>\n",
       "      <td>28</td>\n",
       "      <td>35</td>\n",
       "      <td>39</td>\n",
       "      <td>48</td>\n",
       "      <td>49</td>\n",
       "      <td>53</td>\n",
       "    </tr>\n",
       "    <tr>\n",
       "      <th>8</th>\n",
       "      <td>HINCAPIE CASTRO JOHAN SEBASTIAN</td>\n",
       "      <td>10</td>\n",
       "      <td>17</td>\n",
       "      <td>27</td>\n",
       "      <td>28</td>\n",
       "      <td>29</td>\n",
       "      <td>32</td>\n",
       "      <td>36</td>\n",
       "      <td>44</td>\n",
       "      <td>48</td>\n",
       "      <td>54</td>\n",
       "    </tr>\n",
       "    <tr>\n",
       "      <th>9</th>\n",
       "      <td>HUMANEZ SANCHEZ CAMILO</td>\n",
       "      <td>3</td>\n",
       "      <td>16</td>\n",
       "      <td>19</td>\n",
       "      <td>24</td>\n",
       "      <td>33</td>\n",
       "      <td>41</td>\n",
       "      <td>43</td>\n",
       "      <td>44</td>\n",
       "      <td>47</td>\n",
       "      <td>49</td>\n",
       "    </tr>\n",
       "    <tr>\n",
       "      <th>10</th>\n",
       "      <td>IBAÑEZ MORENO FRANCISCO LUIS</td>\n",
       "      <td>3</td>\n",
       "      <td>8</td>\n",
       "      <td>13</td>\n",
       "      <td>16</td>\n",
       "      <td>21</td>\n",
       "      <td>27</td>\n",
       "      <td>28</td>\n",
       "      <td>31</td>\n",
       "      <td>42</td>\n",
       "      <td>43</td>\n",
       "    </tr>\n",
       "    <tr>\n",
       "      <th>11</th>\n",
       "      <td>MASS MIRANDA RIVALDO JOSE</td>\n",
       "      <td>2</td>\n",
       "      <td>3</td>\n",
       "      <td>12</td>\n",
       "      <td>13</td>\n",
       "      <td>23</td>\n",
       "      <td>24</td>\n",
       "      <td>31</td>\n",
       "      <td>35</td>\n",
       "      <td>46</td>\n",
       "      <td>52</td>\n",
       "    </tr>\n",
       "    <tr>\n",
       "      <th>12</th>\n",
       "      <td>MIRANDA MARTINEZ CARLOS ANDRES</td>\n",
       "      <td>10</td>\n",
       "      <td>12</td>\n",
       "      <td>21</td>\n",
       "      <td>24</td>\n",
       "      <td>25</td>\n",
       "      <td>26</td>\n",
       "      <td>27</td>\n",
       "      <td>29</td>\n",
       "      <td>39</td>\n",
       "      <td>50</td>\n",
       "    </tr>\n",
       "    <tr>\n",
       "      <th>13</th>\n",
       "      <td>MONTERROSA SOTO ABRIL</td>\n",
       "      <td>10</td>\n",
       "      <td>14</td>\n",
       "      <td>16</td>\n",
       "      <td>18</td>\n",
       "      <td>28</td>\n",
       "      <td>30</td>\n",
       "      <td>35</td>\n",
       "      <td>36</td>\n",
       "      <td>42</td>\n",
       "      <td>50</td>\n",
       "    </tr>\n",
       "    <tr>\n",
       "      <th>14</th>\n",
       "      <td>NORIEGA JIMENEZ GABRIELA</td>\n",
       "      <td>4</td>\n",
       "      <td>13</td>\n",
       "      <td>14</td>\n",
       "      <td>16</td>\n",
       "      <td>19</td>\n",
       "      <td>22</td>\n",
       "      <td>36</td>\n",
       "      <td>37</td>\n",
       "      <td>46</td>\n",
       "      <td>51</td>\n",
       "    </tr>\n",
       "    <tr>\n",
       "      <th>15</th>\n",
       "      <td>PEREZ REYES IVAN DARIO</td>\n",
       "      <td>17</td>\n",
       "      <td>19</td>\n",
       "      <td>23</td>\n",
       "      <td>26</td>\n",
       "      <td>30</td>\n",
       "      <td>33</td>\n",
       "      <td>34</td>\n",
       "      <td>40</td>\n",
       "      <td>46</td>\n",
       "      <td>53</td>\n",
       "    </tr>\n",
       "    <tr>\n",
       "      <th>16</th>\n",
       "      <td>PEREZ THERAN ERLINDA</td>\n",
       "      <td>3</td>\n",
       "      <td>6</td>\n",
       "      <td>19</td>\n",
       "      <td>21</td>\n",
       "      <td>25</td>\n",
       "      <td>30</td>\n",
       "      <td>32</td>\n",
       "      <td>39</td>\n",
       "      <td>42</td>\n",
       "      <td>45</td>\n",
       "    </tr>\n",
       "    <tr>\n",
       "      <th>17</th>\n",
       "      <td>PINEDA ROMERO YOSMERI</td>\n",
       "      <td>2</td>\n",
       "      <td>30</td>\n",
       "      <td>31</td>\n",
       "      <td>32</td>\n",
       "      <td>35</td>\n",
       "      <td>36</td>\n",
       "      <td>37</td>\n",
       "      <td>42</td>\n",
       "      <td>47</td>\n",
       "      <td>50</td>\n",
       "    </tr>\n",
       "    <tr>\n",
       "      <th>18</th>\n",
       "      <td>QUINONEZ CERVANTES MARIANA</td>\n",
       "      <td>5</td>\n",
       "      <td>6</td>\n",
       "      <td>8</td>\n",
       "      <td>13</td>\n",
       "      <td>15</td>\n",
       "      <td>32</td>\n",
       "      <td>33</td>\n",
       "      <td>42</td>\n",
       "      <td>46</td>\n",
       "      <td>49</td>\n",
       "    </tr>\n",
       "    <tr>\n",
       "      <th>19</th>\n",
       "      <td>RAMOS PEREZ YANINE</td>\n",
       "      <td>11</td>\n",
       "      <td>20</td>\n",
       "      <td>21</td>\n",
       "      <td>28</td>\n",
       "      <td>29</td>\n",
       "      <td>37</td>\n",
       "      <td>39</td>\n",
       "      <td>44</td>\n",
       "      <td>46</td>\n",
       "      <td>52</td>\n",
       "    </tr>\n",
       "    <tr>\n",
       "      <th>20</th>\n",
       "      <td>RIVAS HOYOS ESTEFANIA</td>\n",
       "      <td>7</td>\n",
       "      <td>10</td>\n",
       "      <td>12</td>\n",
       "      <td>14</td>\n",
       "      <td>17</td>\n",
       "      <td>25</td>\n",
       "      <td>28</td>\n",
       "      <td>30</td>\n",
       "      <td>37</td>\n",
       "      <td>48</td>\n",
       "    </tr>\n",
       "    <tr>\n",
       "      <th>21</th>\n",
       "      <td>ROSILLO TEJADA VANESA</td>\n",
       "      <td>12</td>\n",
       "      <td>22</td>\n",
       "      <td>23</td>\n",
       "      <td>27</td>\n",
       "      <td>28</td>\n",
       "      <td>30</td>\n",
       "      <td>34</td>\n",
       "      <td>36</td>\n",
       "      <td>40</td>\n",
       "      <td>44</td>\n",
       "    </tr>\n",
       "    <tr>\n",
       "      <th>22</th>\n",
       "      <td>SANCHEZ PADILLA SILVESTRE</td>\n",
       "      <td>4</td>\n",
       "      <td>7</td>\n",
       "      <td>15</td>\n",
       "      <td>22</td>\n",
       "      <td>32</td>\n",
       "      <td>34</td>\n",
       "      <td>38</td>\n",
       "      <td>43</td>\n",
       "      <td>48</td>\n",
       "      <td>53</td>\n",
       "    </tr>\n",
       "    <tr>\n",
       "      <th>23</th>\n",
       "      <td>SILVA ROYERO MAILY CRISTINA</td>\n",
       "      <td>4</td>\n",
       "      <td>5</td>\n",
       "      <td>12</td>\n",
       "      <td>13</td>\n",
       "      <td>20</td>\n",
       "      <td>25</td>\n",
       "      <td>30</td>\n",
       "      <td>35</td>\n",
       "      <td>42</td>\n",
       "      <td>54</td>\n",
       "    </tr>\n",
       "    <tr>\n",
       "      <th>24</th>\n",
       "      <td>USUGA GEORGE JHON ESTIVEN</td>\n",
       "      <td>5</td>\n",
       "      <td>7</td>\n",
       "      <td>8</td>\n",
       "      <td>10</td>\n",
       "      <td>22</td>\n",
       "      <td>37</td>\n",
       "      <td>39</td>\n",
       "      <td>42</td>\n",
       "      <td>44</td>\n",
       "      <td>51</td>\n",
       "    </tr>\n",
       "  </tbody>\n",
       "</table>\n",
       "</div>"
      ],
      "text/plain": [
       "                              Student  Exer1  Exer2  Exer3  Exer4  Exer5  \\\n",
       "0   AMARIS FERNANDEZ SEBASTIAN CAMILO      4      7      9     17     21   \n",
       "1       ARENAS HERAZO GABRIEL ENRIQUE      2      5     11     17     26   \n",
       "2        AYALA MENDOZA MARISOL YACIRA     10     18     21     37     39   \n",
       "3          BERTEL RODELO MICHELL SMIT      4      8     20     26     28   \n",
       "4            BULA VERGARA MARIA PAULA     12     13     20     23     25   \n",
       "5             CANTILLO ENSUCHO DANIEL      2      4      5      7     15   \n",
       "6            CERVANTES DURAN ANGELICA      2      4      5     14     17   \n",
       "7             GUERRA NORIEGA YONATHAN      3     20     24     26     28   \n",
       "8     HINCAPIE CASTRO JOHAN SEBASTIAN     10     17     27     28     29   \n",
       "9              HUMANEZ SANCHEZ CAMILO      3     16     19     24     33   \n",
       "10       IBAÑEZ MORENO FRANCISCO LUIS      3      8     13     16     21   \n",
       "11          MASS MIRANDA RIVALDO JOSE      2      3     12     13     23   \n",
       "12     MIRANDA MARTINEZ CARLOS ANDRES     10     12     21     24     25   \n",
       "13              MONTERROSA SOTO ABRIL     10     14     16     18     28   \n",
       "14           NORIEGA JIMENEZ GABRIELA      4     13     14     16     19   \n",
       "15             PEREZ REYES IVAN DARIO     17     19     23     26     30   \n",
       "16               PEREZ THERAN ERLINDA      3      6     19     21     25   \n",
       "17              PINEDA ROMERO YOSMERI      2     30     31     32     35   \n",
       "18         QUINONEZ CERVANTES MARIANA      5      6      8     13     15   \n",
       "19                 RAMOS PEREZ YANINE     11     20     21     28     29   \n",
       "20              RIVAS HOYOS ESTEFANIA      7     10     12     14     17   \n",
       "21              ROSILLO TEJADA VANESA     12     22     23     27     28   \n",
       "22          SANCHEZ PADILLA SILVESTRE      4      7     15     22     32   \n",
       "23        SILVA ROYERO MAILY CRISTINA      4      5     12     13     20   \n",
       "24          USUGA GEORGE JHON ESTIVEN      5      7      8     10     22   \n",
       "\n",
       "    Exer6  Exer7  Exer8  Exer9  Exer10  \n",
       "0      30     39     44     51      54  \n",
       "1      28     32     40     46      50  \n",
       "2      45     46     47     51      52  \n",
       "3      33     40     41     42      47  \n",
       "4      27     29     30     34      48  \n",
       "5      25     27     33     46      51  \n",
       "6      19     22     24     34      52  \n",
       "7      35     39     48     49      53  \n",
       "8      32     36     44     48      54  \n",
       "9      41     43     44     47      49  \n",
       "10     27     28     31     42      43  \n",
       "11     24     31     35     46      52  \n",
       "12     26     27     29     39      50  \n",
       "13     30     35     36     42      50  \n",
       "14     22     36     37     46      51  \n",
       "15     33     34     40     46      53  \n",
       "16     30     32     39     42      45  \n",
       "17     36     37     42     47      50  \n",
       "18     32     33     42     46      49  \n",
       "19     37     39     44     46      52  \n",
       "20     25     28     30     37      48  \n",
       "21     30     34     36     40      44  \n",
       "22     34     38     43     48      53  \n",
       "23     25     30     35     42      54  \n",
       "24     37     39     42     44      51  "
      ]
     },
     "execution_count": 5,
     "metadata": {},
     "output_type": "execute_result"
    }
   ],
   "source": [
    "# Tarea 3 para después de la clase: asignación de ejercicios de un seccion del texto guía\n",
    "\n",
    "# Tarea para adquisición de habilidades solución, descripción y justificación\n",
    "\n",
    "\n",
    "import pandas as pd\n",
    "import numpy as np\n",
    "import requests\n",
    "np.random.seed(126)  # establecer semilla aleatoria para hacer los resultados reproducibles\n",
    "\n",
    "\n",
    "\n",
    "grupo_estudiantes = 'calculo_vectorial'\n",
    "nombre_texto_guia = 'Purcell'\n",
    "pagina_y_seccion = 'Página_202_Sección_3.8'\n",
    "numero_ejercicios_taller = 54\n",
    "numero_de_ejercicios_asignados = 10\n",
    "\n",
    "\n",
    "# Descargar la lista de  estudiantes\n",
    "students_path = \"/home/marco/Documentos/docencia/groups_list/\" + grupo_estudiantes + \".csv\"\n",
    "exercises = list(range(1, numero_ejercicios_taller))  \n",
    "\n",
    "students_data = pd.read_csv(students_path)\n",
    "\n",
    "# Crear una lista para almacenar las asignaciones\n",
    "assignments = []\n",
    "\n",
    "# Asignar ejercicios aleatorios a cada estudiante\n",
    "for index, student in students_data.iterrows():\n",
    "    # Seleccionar 5 ejercicios aleatorios sin repetición\n",
    "    random_exercises = np.sort(np.random.choice(exercises, numero_de_ejercicios_asignados, \\\n",
    "                                                replace = False)+ 1 )\n",
    "    assignments.append([students_data[\"Nombre\"][index], *random_exercises])  # Agregar asignación a la lista\n",
    "\n",
    "# Crear un DataFrame con las asignaciones\n",
    "columns = [\"Student\"] + [ \"Exer\" + str(i+1) for i in range(numero_de_ejercicios_asignados)]\n",
    "assignment_df = pd.DataFrame(assignments, columns=columns)\n",
    "\n",
    "# Guardar el DataFrame en un archivo CSV\n",
    "assignment_csv = \"tarea_3_solucion_describiendo_justificando\" + \"_\" + nombre_texto_guia + \"_\"+ pagina_y_seccion + \".csv\"\n",
    "assignment_df.to_csv(assignment_csv, index=False)\n",
    "\n",
    "print(\"\"\"Tarea 3 Descripción y Justificación:\n",
    "      La no inclusión del enunciado de cada ejercicio rebaja 1.0 \n",
    "    La no inclusión de la conclusión verbal de cada ejercicio rebaja 1.0 \"\"\", assignment_csv)\n",
    "assignment_df"
   ]
  },
  {
   "cell_type": "code",
   "execution_count": null,
   "id": "994cc338",
   "metadata": {},
   "outputs": [
    {
     "name": "stdout",
     "output_type": "stream",
     "text": [
      "Llamando a MIRANDA MARTINEZ CARLOS ANDRES...\n",
      "Actualizado: MIRANDA MARTINEZ CARLOS ANDRES ahora tiene 0.31 en la columna 'Parcial'.\n",
      "Cambios guardados en el archivo CSV.\n"
     ]
    }
   ],
   "source": [
    "eval_oral()\n",
    "guardar_cambios() "
   ]
  },
  {
   "cell_type": "markdown",
   "id": "9377611e",
   "metadata": {},
   "source": [
    "\n",
    "# 3. Evaluar con un quiz escrito\n"
   ]
  },
  {
   "cell_type": "code",
   "execution_count": null,
   "id": "2fcbc55d",
   "metadata": {},
   "outputs": [],
   "source": [
    "# definición de los parámetros personalizados para el quiz\n",
    "import numpy as np \n",
    "import pandas as pd \n",
    "\n",
    "url = 'https://raw.githubusercontent.com/marco-canas/groups_list/main/calculo_integral_documento_identidad.csv'\n",
    "\n",
    "df = pd.read_csv(url)\n",
    "#df.head()\n",
    "#df.info()\n",
    "df['Cédula'] = df.Cédula.astype(str)\n",
    "#type(df.Cédula[0])\n",
    "# tomar los seis primeros o los seis ultimos dígitos \n",
    "# para fomentar el trabajo concentrado en las pruebas escribas\n",
    "\n",
    "seleccionar_primeros_seis_digitos_o_los_ultimos = True\n",
    "\n",
    "indice_asociado_al_estudiante = 0\n",
    "\n",
    "if seleccionar_primeros_seis_digitos_o_los_ultimos:\n",
    "    seis_digitos_documento_identidad = df.Cédula.iloc[indice_asociado_al_estudiante][:6]\n",
    "else:\n",
    "    seis_digitos_documento_identidad = df.Cédula.iloc[indice_asociado_al_estudiante][-6:]    \n",
    "df.Cédula.iloc[indice_asociado_al_estudiante], seis_digitos_documento_identidad\n",
    "  \n",
    "\n"
   ]
  },
  {
   "cell_type": "code",
   "execution_count": null,
   "id": "abd0c6cd",
   "metadata": {},
   "outputs": [],
   "source": [
    "eval_oral()\n",
    "guardar_cambios() "
   ]
  },
  {
   "cell_type": "code",
   "execution_count": null,
   "id": "365c4a8a",
   "metadata": {},
   "outputs": [],
   "source": [
    "# Quiz escrito: \n",
    "\n",
    "\n",
    "\n",
    "import pandas as pd\n",
    "import numpy as np\n",
    "import requests\n",
    "np.random.seed(1213)  # establecer semilla aleatoria para hacer los resultados reproducibles\n",
    "\n",
    "\n",
    "\n",
    "grupo_estudiantes = 'calculo_integral'\n",
    "nombre_texto_guia = 'Purcell'\n",
    "pagina_y_seccion = 'Página_202_Sección_3.8'\n",
    "numero_ejercicios_taller = 54\n",
    "numero_de_ejercicios_asignados = 3\n",
    "\n",
    "\n",
    "# Asignar ejercicios aleatorios a cada estudiante\n",
    "\n",
    "random_exercises = np.random.choice(exercises, numero_de_ejercicios_asignados, replace = False)+1 \n",
    "random_exercises    \n"
   ]
  },
  {
   "cell_type": "markdown",
   "id": "af3c0708",
   "metadata": {},
   "source": [
    "# 4. Evaluar con un parcial escrito.\n"
   ]
  },
  {
   "cell_type": "code",
   "execution_count": null,
   "id": "7f26d672",
   "metadata": {},
   "outputs": [],
   "source": [
    "# definición de los parámetros personalizados para el parcial\n",
    "import numpy as np \n",
    "import pandas as pd \n",
    "\n",
    "url = 'https://raw.githubusercontent.com/marco-canas/groups_list/main/calculo_integral_documento_identidad.csv'\n",
    "\n",
    "df = pd.read_csv(url)\n",
    "#df.head()\n",
    "#df.info()\n",
    "df['Cédula'] = df.Cédula.astype(str)\n",
    "#type(df.Cédula[0])\n",
    "# tomar los seis primeros o los seis ultimos dígitos \n",
    "# para fomentar el trabajo concentrado en las pruebas escribas\n",
    "\n",
    "seleccionar_primeros_seis_digitos_o_los_ultimos = True\n",
    "\n",
    "indice_asociado_al_estudiante = 0\n",
    "\n",
    "if seleccionar_primeros_seis_digitos_o_los_ultimos:\n",
    "    seis_digitos_documento_identidad = df.Cédula.iloc[indice_asociado_al_estudiante][:6]\n",
    "else:\n",
    "    seis_digitos_documento_identidad = df.Cédula.iloc[indice_asociado_al_estudiante][-6:]    \n",
    "df.Cédula.iloc[indice_asociado_al_estudiante], seis_digitos_documento_identidad"
   ]
  },
  {
   "cell_type": "code",
   "execution_count": null,
   "id": "0df5ca5e",
   "metadata": {},
   "outputs": [],
   "source": [
    "# Parcial escrito: \n",
    "\n",
    "\n",
    "\n",
    "import pandas as pd\n",
    "import numpy as np\n",
    "import requests\n",
    "np.random.seed(1213)  # establecer semilla aleatoria para hacer los resultados reproducibles\n",
    "\n",
    "\n",
    "\n",
    "grupo_estudiantes = 'calculo_integral'\n",
    "nombre_texto_guia = 'Purcell'\n",
    "pagina_y_seccion = 'Página_202_Sección_3.8'\n",
    "numero_ejercicios_taller = 54\n",
    "numero_de_ejercicios_asignados = 5\n",
    "\n",
    "\n",
    "# Asignar ejercicios aleatorios a cada estudiante\n",
    "\n",
    "random_exercises = np.random.choice(exercises, numero_de_ejercicios_asignados, replace = False)+1 \n",
    "random_exercises    "
   ]
  },
  {
   "cell_type": "code",
   "execution_count": null,
   "id": "0d6c42ea",
   "metadata": {},
   "outputs": [],
   "source": [
    "eval_oral()\n",
    "guardar_cambios() "
   ]
  },
  {
   "cell_type": "markdown",
   "id": "c9b870ce",
   "metadata": {},
   "source": [
    "# Retroalimentación del parcial sobre enteros  "
   ]
  },
  {
   "cell_type": "markdown",
   "id": "9070e16c",
   "metadata": {},
   "source": [
    "\n",
    "## Parcial de Aritmética: Números Enteros\n"
   ]
  },
  {
   "cell_type": "markdown",
   "id": "b04c76fe",
   "metadata": {},
   "source": [
    "\n",
    "### Instrucciones\n",
    "Responde cada pregunta con claridad y justifica tus respuestas en todas las preguntas de verdadero o falso. En los ejercicios de desarrollo, muestra el procedimiento completo.\n",
    "\n",
    "Justificar que una implicación es verdadera significa en este examen, mostrar con ejemplos, que cuando el antecedente es verdadero, el consecuente también es verdadero.\n",
    "\n",
    "\n"
   ]
  },
  {
   "cell_type": "markdown",
   "id": "fb9d3d0f",
   "metadata": {},
   "source": [
    "\n",
    "### 1. Punto Teórico: Relación \"divide a\", Teorema Fundamental de la Aritmética, y Números Primos\n",
    "**10 preguntas de verdadero o falso. Justifica tu respuesta en ambos casos.**\n"
   ]
  },
  {
   "cell_type": "markdown",
   "id": "befb56fc",
   "metadata": {},
   "source": [
    "\n",
    "1. Todo número entero mayor que 1 se puede expresar de manera única como producto de números primos.\n"
   ]
  },
  {
   "cell_type": "code",
   "execution_count": 1,
   "id": "9e252cdc",
   "metadata": {},
   "outputs": [
    {
     "name": "stdout",
     "output_type": "stream",
     "text": [
      "La factorización prima de 180 es:\n",
      "2^2 * 3^2 * 5^1\n"
     ]
    }
   ],
   "source": [
    "from sympy import factorint\n",
    "\n",
    "# Número que quieres descomponer\n",
    "n = 180\n",
    "\n",
    "# Descomposición en factores primos\n",
    "factorization = factorint(n)\n",
    "\n",
    "# Muestra la factorización\n",
    "print(\"La factorización prima de\", n, \"es:\")\n",
    "print(\" * \".join(f\"{p}^{e}\" for p, e in factorization.items()))\n"
   ]
  },
  {
   "cell_type": "code",
   "execution_count": null,
   "id": "6797dda8",
   "metadata": {},
   "outputs": [
    {
     "name": "stdout",
     "output_type": "stream",
     "text": [
      "La factorización prima de 180 es:\n",
      "2^2 * 3^2 * 5^1\n"
     ]
    }
   ],
   "source": [
    "def prime_factors(n):\n",
    "    factors = {}\n",
    "    # Dividir por 2 hasta que no sea divisible\n",
    "    while n % 2 == 0:\n",
    "        factors[2] = factors.get(2, 0) + 1\n",
    "        n //= 2\n",
    "    # Dividir por números impares desde 3 en adelante\n",
    "    factor = 3\n",
    "    while factor * factor <= n:\n",
    "        while n % factor == 0:\n",
    "            factors[factor] = factors.get(factor, 0) + 1\n",
    "            n //= factor\n",
    "        factor += 2\n",
    "    # Si n es un número primo mayor que 2\n",
    "    if n > 2:\n",
    "        factors[n] = factors.get(n, 0) + 1\n",
    "    return factors\n"
   ]
  },
  {
   "cell_type": "code",
   "execution_count": null,
   "id": "afcd659a",
   "metadata": {},
   "outputs": [],
   "source": [
    "\n",
    "# Ejemplo de uso\n",
    "n = 180\n",
    "factorization = prime_factors(n)\n",
    "print(\"La factorización prima de\", n, \"es:\")\n",
    "print(\" * \".join(f\"{p}^{e}\" for p, e in factorization.items()))\n"
   ]
  },
  {
   "cell_type": "code",
   "execution_count": 4,
   "id": "40f2c58a",
   "metadata": {},
   "outputs": [
    {
     "data": {
      "application/vnd.plotly.v1+json": {
       "config": {
        "plotlyServerURL": "https://plot.ly"
       },
       "data": [
        {
         "marker": {
          "color": "skyblue"
         },
         "text": [
          "2",
          "2",
          "1"
         ],
         "textposition": "auto",
         "type": "bar",
         "x": [
          "2^2",
          "3^2",
          "5^1"
         ],
         "y": [
          2,
          2,
          1
         ]
        }
       ],
       "layout": {
        "template": {
         "data": {
          "bar": [
           {
            "error_x": {
             "color": "#2a3f5f"
            },
            "error_y": {
             "color": "#2a3f5f"
            },
            "marker": {
             "line": {
              "color": "#E5ECF6",
              "width": 0.5
             },
             "pattern": {
              "fillmode": "overlay",
              "size": 10,
              "solidity": 0.2
             }
            },
            "type": "bar"
           }
          ],
          "barpolar": [
           {
            "marker": {
             "line": {
              "color": "#E5ECF6",
              "width": 0.5
             },
             "pattern": {
              "fillmode": "overlay",
              "size": 10,
              "solidity": 0.2
             }
            },
            "type": "barpolar"
           }
          ],
          "carpet": [
           {
            "aaxis": {
             "endlinecolor": "#2a3f5f",
             "gridcolor": "white",
             "linecolor": "white",
             "minorgridcolor": "white",
             "startlinecolor": "#2a3f5f"
            },
            "baxis": {
             "endlinecolor": "#2a3f5f",
             "gridcolor": "white",
             "linecolor": "white",
             "minorgridcolor": "white",
             "startlinecolor": "#2a3f5f"
            },
            "type": "carpet"
           }
          ],
          "choropleth": [
           {
            "colorbar": {
             "outlinewidth": 0,
             "ticks": ""
            },
            "type": "choropleth"
           }
          ],
          "contour": [
           {
            "colorbar": {
             "outlinewidth": 0,
             "ticks": ""
            },
            "colorscale": [
             [
              0,
              "#0d0887"
             ],
             [
              0.1111111111111111,
              "#46039f"
             ],
             [
              0.2222222222222222,
              "#7201a8"
             ],
             [
              0.3333333333333333,
              "#9c179e"
             ],
             [
              0.4444444444444444,
              "#bd3786"
             ],
             [
              0.5555555555555556,
              "#d8576b"
             ],
             [
              0.6666666666666666,
              "#ed7953"
             ],
             [
              0.7777777777777778,
              "#fb9f3a"
             ],
             [
              0.8888888888888888,
              "#fdca26"
             ],
             [
              1,
              "#f0f921"
             ]
            ],
            "type": "contour"
           }
          ],
          "contourcarpet": [
           {
            "colorbar": {
             "outlinewidth": 0,
             "ticks": ""
            },
            "type": "contourcarpet"
           }
          ],
          "heatmap": [
           {
            "colorbar": {
             "outlinewidth": 0,
             "ticks": ""
            },
            "colorscale": [
             [
              0,
              "#0d0887"
             ],
             [
              0.1111111111111111,
              "#46039f"
             ],
             [
              0.2222222222222222,
              "#7201a8"
             ],
             [
              0.3333333333333333,
              "#9c179e"
             ],
             [
              0.4444444444444444,
              "#bd3786"
             ],
             [
              0.5555555555555556,
              "#d8576b"
             ],
             [
              0.6666666666666666,
              "#ed7953"
             ],
             [
              0.7777777777777778,
              "#fb9f3a"
             ],
             [
              0.8888888888888888,
              "#fdca26"
             ],
             [
              1,
              "#f0f921"
             ]
            ],
            "type": "heatmap"
           }
          ],
          "heatmapgl": [
           {
            "colorbar": {
             "outlinewidth": 0,
             "ticks": ""
            },
            "colorscale": [
             [
              0,
              "#0d0887"
             ],
             [
              0.1111111111111111,
              "#46039f"
             ],
             [
              0.2222222222222222,
              "#7201a8"
             ],
             [
              0.3333333333333333,
              "#9c179e"
             ],
             [
              0.4444444444444444,
              "#bd3786"
             ],
             [
              0.5555555555555556,
              "#d8576b"
             ],
             [
              0.6666666666666666,
              "#ed7953"
             ],
             [
              0.7777777777777778,
              "#fb9f3a"
             ],
             [
              0.8888888888888888,
              "#fdca26"
             ],
             [
              1,
              "#f0f921"
             ]
            ],
            "type": "heatmapgl"
           }
          ],
          "histogram": [
           {
            "marker": {
             "pattern": {
              "fillmode": "overlay",
              "size": 10,
              "solidity": 0.2
             }
            },
            "type": "histogram"
           }
          ],
          "histogram2d": [
           {
            "colorbar": {
             "outlinewidth": 0,
             "ticks": ""
            },
            "colorscale": [
             [
              0,
              "#0d0887"
             ],
             [
              0.1111111111111111,
              "#46039f"
             ],
             [
              0.2222222222222222,
              "#7201a8"
             ],
             [
              0.3333333333333333,
              "#9c179e"
             ],
             [
              0.4444444444444444,
              "#bd3786"
             ],
             [
              0.5555555555555556,
              "#d8576b"
             ],
             [
              0.6666666666666666,
              "#ed7953"
             ],
             [
              0.7777777777777778,
              "#fb9f3a"
             ],
             [
              0.8888888888888888,
              "#fdca26"
             ],
             [
              1,
              "#f0f921"
             ]
            ],
            "type": "histogram2d"
           }
          ],
          "histogram2dcontour": [
           {
            "colorbar": {
             "outlinewidth": 0,
             "ticks": ""
            },
            "colorscale": [
             [
              0,
              "#0d0887"
             ],
             [
              0.1111111111111111,
              "#46039f"
             ],
             [
              0.2222222222222222,
              "#7201a8"
             ],
             [
              0.3333333333333333,
              "#9c179e"
             ],
             [
              0.4444444444444444,
              "#bd3786"
             ],
             [
              0.5555555555555556,
              "#d8576b"
             ],
             [
              0.6666666666666666,
              "#ed7953"
             ],
             [
              0.7777777777777778,
              "#fb9f3a"
             ],
             [
              0.8888888888888888,
              "#fdca26"
             ],
             [
              1,
              "#f0f921"
             ]
            ],
            "type": "histogram2dcontour"
           }
          ],
          "mesh3d": [
           {
            "colorbar": {
             "outlinewidth": 0,
             "ticks": ""
            },
            "type": "mesh3d"
           }
          ],
          "parcoords": [
           {
            "line": {
             "colorbar": {
              "outlinewidth": 0,
              "ticks": ""
             }
            },
            "type": "parcoords"
           }
          ],
          "pie": [
           {
            "automargin": true,
            "type": "pie"
           }
          ],
          "scatter": [
           {
            "fillpattern": {
             "fillmode": "overlay",
             "size": 10,
             "solidity": 0.2
            },
            "type": "scatter"
           }
          ],
          "scatter3d": [
           {
            "line": {
             "colorbar": {
              "outlinewidth": 0,
              "ticks": ""
             }
            },
            "marker": {
             "colorbar": {
              "outlinewidth": 0,
              "ticks": ""
             }
            },
            "type": "scatter3d"
           }
          ],
          "scattercarpet": [
           {
            "marker": {
             "colorbar": {
              "outlinewidth": 0,
              "ticks": ""
             }
            },
            "type": "scattercarpet"
           }
          ],
          "scattergeo": [
           {
            "marker": {
             "colorbar": {
              "outlinewidth": 0,
              "ticks": ""
             }
            },
            "type": "scattergeo"
           }
          ],
          "scattergl": [
           {
            "marker": {
             "colorbar": {
              "outlinewidth": 0,
              "ticks": ""
             }
            },
            "type": "scattergl"
           }
          ],
          "scattermapbox": [
           {
            "marker": {
             "colorbar": {
              "outlinewidth": 0,
              "ticks": ""
             }
            },
            "type": "scattermapbox"
           }
          ],
          "scatterpolar": [
           {
            "marker": {
             "colorbar": {
              "outlinewidth": 0,
              "ticks": ""
             }
            },
            "type": "scatterpolar"
           }
          ],
          "scatterpolargl": [
           {
            "marker": {
             "colorbar": {
              "outlinewidth": 0,
              "ticks": ""
             }
            },
            "type": "scatterpolargl"
           }
          ],
          "scatterternary": [
           {
            "marker": {
             "colorbar": {
              "outlinewidth": 0,
              "ticks": ""
             }
            },
            "type": "scatterternary"
           }
          ],
          "surface": [
           {
            "colorbar": {
             "outlinewidth": 0,
             "ticks": ""
            },
            "colorscale": [
             [
              0,
              "#0d0887"
             ],
             [
              0.1111111111111111,
              "#46039f"
             ],
             [
              0.2222222222222222,
              "#7201a8"
             ],
             [
              0.3333333333333333,
              "#9c179e"
             ],
             [
              0.4444444444444444,
              "#bd3786"
             ],
             [
              0.5555555555555556,
              "#d8576b"
             ],
             [
              0.6666666666666666,
              "#ed7953"
             ],
             [
              0.7777777777777778,
              "#fb9f3a"
             ],
             [
              0.8888888888888888,
              "#fdca26"
             ],
             [
              1,
              "#f0f921"
             ]
            ],
            "type": "surface"
           }
          ],
          "table": [
           {
            "cells": {
             "fill": {
              "color": "#EBF0F8"
             },
             "line": {
              "color": "white"
             }
            },
            "header": {
             "fill": {
              "color": "#C8D4E3"
             },
             "line": {
              "color": "white"
             }
            },
            "type": "table"
           }
          ]
         },
         "layout": {
          "annotationdefaults": {
           "arrowcolor": "#2a3f5f",
           "arrowhead": 0,
           "arrowwidth": 1
          },
          "autotypenumbers": "strict",
          "coloraxis": {
           "colorbar": {
            "outlinewidth": 0,
            "ticks": ""
           }
          },
          "colorscale": {
           "diverging": [
            [
             0,
             "#8e0152"
            ],
            [
             0.1,
             "#c51b7d"
            ],
            [
             0.2,
             "#de77ae"
            ],
            [
             0.3,
             "#f1b6da"
            ],
            [
             0.4,
             "#fde0ef"
            ],
            [
             0.5,
             "#f7f7f7"
            ],
            [
             0.6,
             "#e6f5d0"
            ],
            [
             0.7,
             "#b8e186"
            ],
            [
             0.8,
             "#7fbc41"
            ],
            [
             0.9,
             "#4d9221"
            ],
            [
             1,
             "#276419"
            ]
           ],
           "sequential": [
            [
             0,
             "#0d0887"
            ],
            [
             0.1111111111111111,
             "#46039f"
            ],
            [
             0.2222222222222222,
             "#7201a8"
            ],
            [
             0.3333333333333333,
             "#9c179e"
            ],
            [
             0.4444444444444444,
             "#bd3786"
            ],
            [
             0.5555555555555556,
             "#d8576b"
            ],
            [
             0.6666666666666666,
             "#ed7953"
            ],
            [
             0.7777777777777778,
             "#fb9f3a"
            ],
            [
             0.8888888888888888,
             "#fdca26"
            ],
            [
             1,
             "#f0f921"
            ]
           ],
           "sequentialminus": [
            [
             0,
             "#0d0887"
            ],
            [
             0.1111111111111111,
             "#46039f"
            ],
            [
             0.2222222222222222,
             "#7201a8"
            ],
            [
             0.3333333333333333,
             "#9c179e"
            ],
            [
             0.4444444444444444,
             "#bd3786"
            ],
            [
             0.5555555555555556,
             "#d8576b"
            ],
            [
             0.6666666666666666,
             "#ed7953"
            ],
            [
             0.7777777777777778,
             "#fb9f3a"
            ],
            [
             0.8888888888888888,
             "#fdca26"
            ],
            [
             1,
             "#f0f921"
            ]
           ]
          },
          "colorway": [
           "#636efa",
           "#EF553B",
           "#00cc96",
           "#ab63fa",
           "#FFA15A",
           "#19d3f3",
           "#FF6692",
           "#B6E880",
           "#FF97FF",
           "#FECB52"
          ],
          "font": {
           "color": "#2a3f5f"
          },
          "geo": {
           "bgcolor": "white",
           "lakecolor": "white",
           "landcolor": "#E5ECF6",
           "showlakes": true,
           "showland": true,
           "subunitcolor": "white"
          },
          "hoverlabel": {
           "align": "left"
          },
          "hovermode": "closest",
          "mapbox": {
           "style": "light"
          },
          "paper_bgcolor": "white",
          "plot_bgcolor": "#E5ECF6",
          "polar": {
           "angularaxis": {
            "gridcolor": "white",
            "linecolor": "white",
            "ticks": ""
           },
           "bgcolor": "#E5ECF6",
           "radialaxis": {
            "gridcolor": "white",
            "linecolor": "white",
            "ticks": ""
           }
          },
          "scene": {
           "xaxis": {
            "backgroundcolor": "#E5ECF6",
            "gridcolor": "white",
            "gridwidth": 2,
            "linecolor": "white",
            "showbackground": true,
            "ticks": "",
            "zerolinecolor": "white"
           },
           "yaxis": {
            "backgroundcolor": "#E5ECF6",
            "gridcolor": "white",
            "gridwidth": 2,
            "linecolor": "white",
            "showbackground": true,
            "ticks": "",
            "zerolinecolor": "white"
           },
           "zaxis": {
            "backgroundcolor": "#E5ECF6",
            "gridcolor": "white",
            "gridwidth": 2,
            "linecolor": "white",
            "showbackground": true,
            "ticks": "",
            "zerolinecolor": "white"
           }
          },
          "shapedefaults": {
           "line": {
            "color": "#2a3f5f"
           }
          },
          "ternary": {
           "aaxis": {
            "gridcolor": "white",
            "linecolor": "white",
            "ticks": ""
           },
           "baxis": {
            "gridcolor": "white",
            "linecolor": "white",
            "ticks": ""
           },
           "bgcolor": "#E5ECF6",
           "caxis": {
            "gridcolor": "white",
            "linecolor": "white",
            "ticks": ""
           }
          },
          "title": {
           "x": 0.05
          },
          "xaxis": {
           "automargin": true,
           "gridcolor": "white",
           "linecolor": "white",
           "ticks": "",
           "title": {
            "standoff": 15
           },
           "zerolinecolor": "white",
           "zerolinewidth": 2
          },
          "yaxis": {
           "automargin": true,
           "gridcolor": "white",
           "linecolor": "white",
           "ticks": "",
           "title": {
            "standoff": 15
           },
           "zerolinecolor": "white",
           "zerolinewidth": 2
          }
         }
        },
        "title": {
         "text": "Descomposición en factores primos de 180"
        },
        "xaxis": {
         "tickmode": "array",
         "tickvals": [
          "2^2",
          "3^2",
          "5^1"
         ],
         "title": {
          "text": "Factores Primos"
         }
        },
        "yaxis": {
         "dtick": 1,
         "tickmode": "linear",
         "title": {
          "text": "Exponentes"
         }
        }
       }
      }
     },
     "metadata": {},
     "output_type": "display_data"
    },
    {
     "data": {
      "application/vnd.jupyter.widget-view+json": {
       "model_id": "9987b49549514b5ea1780c6b73516b74",
       "version_major": 2,
       "version_minor": 0
      },
      "text/plain": [
       "interactive(children=(IntSlider(value=180, description='Número:', max=1000, min=2), Output()), _dom_classes=('…"
      ]
     },
     "metadata": {},
     "output_type": "display_data"
    }
   ],
   "source": [
    "import sympy as sp\n",
    "import plotly.graph_objects as go\n",
    "import ipywidgets as widgets\n",
    "from ipywidgets import interact\n",
    "\n",
    "def prime_factors(n):\n",
    "    # Factorización prima usando sympy\n",
    "    factorization = sp.factorint(n)\n",
    "    return factorization\n",
    "\n",
    "def plot_prime_factorization(n):\n",
    "    # Obtener la factorización prima\n",
    "    factors = prime_factors(n)\n",
    "    \n",
    "    # Preparar datos para la visualización\n",
    "    primes = list(factors.keys())\n",
    "    exponents = list(factors.values())\n",
    "    labels = [f\"{p}^{e}\" for p, e in factors.items()]\n",
    "    \n",
    "    # Crear gráfico de barras\n",
    "    fig = go.Figure(data=[go.Bar(\n",
    "        x=labels,\n",
    "        y=exponents,\n",
    "        text=exponents,\n",
    "        textposition='auto',\n",
    "        marker=dict(color='skyblue')\n",
    "    )])\n",
    "\n",
    "    # Configuración del gráfico\n",
    "    fig.update_layout(\n",
    "        title=f\"Descomposición en factores primos de {n}\",\n",
    "        xaxis_title=\"Factores Primos\",\n",
    "        yaxis_title=\"Exponentes\",\n",
    "        xaxis=dict(tickmode=\"array\", tickvals=labels),\n",
    "        yaxis=dict(tickmode=\"linear\", dtick=1)\n",
    "    )\n",
    "    fig.show()\n",
    "\n",
    "# Crear widget interactivo\n",
    "interact(plot_prime_factorization, n=widgets.IntSlider(value=180, min=2, max=1000, step=1, description=\"Número:\"));\n"
   ]
  },
  {
   "cell_type": "markdown",
   "id": "70bcff29",
   "metadata": {},
   "source": [
    "# 2. Si $p$ es un número primo y $p$ divide a $ab$, entonces $p$ divide a $a$ o $p$ divide a $b$.\n"
   ]
  },
  {
   "cell_type": "markdown",
   "id": "0e678330",
   "metadata": {},
   "source": [
    "Para justificar esta implicación, vamos a usar Python y sus bibliotecas como `pandas`, `matplotlib`, y `plotly` para ilustrar el teorema mediante un análisis numérico y gráfico de ejemplos específicos.\n"
   ]
  },
  {
   "cell_type": "markdown",
   "id": "0daecfc4",
   "metadata": {},
   "source": [
    "\n",
    "La implicación que queremos verificar es la siguiente:\n",
    "\n",
    "**Si $p$ es un número primo y $p$ divide a $ab$, entonces $p$ divide a $a$ o $p$ divide a $b$.**\n",
    "\n",
    "Esto es conocido como el **criterio de divisibilidad** en teoría de números, y se basa en el hecho de que, para que un primo divida el producto de dos números, debe dividir al menos uno de ellos.\n"
   ]
  },
  {
   "cell_type": "markdown",
   "id": "d1c6fd2b",
   "metadata": {},
   "source": [
    "\n",
    "### Plan de justificación con Python:  \n",
    "\n",
    "1. **Generar ejemplos de divisibilidad**: Escoger varios números primos $p$ y parejas de enteros $a$ y $b$ donde se cumpla $p | ab$.\n",
    "2. **Verificación de la implicación**: Para cada ejemplo, verificar si $p$ divide a $a$ o $p$ divide a $b$.\n",
    "3. **Visualización de resultados**: Mostrar los resultados en un gráfico o tabla usando `pandas`, `matplotlib`, y `plotly` para ilustrar que la implicación es siempre verdadera en los ejemplos elegidos.\n"
   ]
  },
  {
   "cell_type": "markdown",
   "id": "812d3e8e",
   "metadata": {},
   "source": [
    "\n",
    "Este es un código necesario para verificar y visualizar esta implicación en ejemplos específicos usando Python. \n"
   ]
  },
  {
   "cell_type": "markdown",
   "id": "28a4ef14",
   "metadata": {},
   "source": [
    "\n",
    "### Código\n",
    "\n",
    "Veammos el código a continuación para ejemplificar el análisis numérico.\n"
   ]
  },
  {
   "cell_type": "code",
   "execution_count": 2,
   "id": "c9f7a92a",
   "metadata": {},
   "outputs": [
    {
     "data": {
      "text/html": [
       "<div>\n",
       "<style scoped>\n",
       "    .dataframe tbody tr th:only-of-type {\n",
       "        vertical-align: middle;\n",
       "    }\n",
       "\n",
       "    .dataframe tbody tr th {\n",
       "        vertical-align: top;\n",
       "    }\n",
       "\n",
       "    .dataframe thead th {\n",
       "        text-align: right;\n",
       "    }\n",
       "</style>\n",
       "<table border=\"1\" class=\"dataframe\">\n",
       "  <thead>\n",
       "    <tr style=\"text-align: right;\">\n",
       "      <th></th>\n",
       "      <th>Primo p</th>\n",
       "      <th>a</th>\n",
       "      <th>b</th>\n",
       "      <th>a*b</th>\n",
       "      <th>p_divide_a_ab</th>\n",
       "      <th>p divide a</th>\n",
       "      <th>p divide b</th>\n",
       "      <th>Implica</th>\n",
       "    </tr>\n",
       "  </thead>\n",
       "  <tbody>\n",
       "    <tr>\n",
       "      <th>0</th>\n",
       "      <td>2</td>\n",
       "      <td>6</td>\n",
       "      <td>2</td>\n",
       "      <td>12</td>\n",
       "      <td>True</td>\n",
       "      <td>True</td>\n",
       "      <td>True</td>\n",
       "      <td>True</td>\n",
       "    </tr>\n",
       "    <tr>\n",
       "      <th>1</th>\n",
       "      <td>2</td>\n",
       "      <td>14</td>\n",
       "      <td>7</td>\n",
       "      <td>98</td>\n",
       "      <td>True</td>\n",
       "      <td>True</td>\n",
       "      <td>False</td>\n",
       "      <td>True</td>\n",
       "    </tr>\n",
       "    <tr>\n",
       "      <th>2</th>\n",
       "      <td>2</td>\n",
       "      <td>21</td>\n",
       "      <td>10</td>\n",
       "      <td>210</td>\n",
       "      <td>True</td>\n",
       "      <td>False</td>\n",
       "      <td>True</td>\n",
       "      <td>True</td>\n",
       "    </tr>\n",
       "    <tr>\n",
       "      <th>3</th>\n",
       "      <td>2</td>\n",
       "      <td>20</td>\n",
       "      <td>25</td>\n",
       "      <td>500</td>\n",
       "      <td>True</td>\n",
       "      <td>True</td>\n",
       "      <td>False</td>\n",
       "      <td>True</td>\n",
       "    </tr>\n",
       "    <tr>\n",
       "      <th>4</th>\n",
       "      <td>3</td>\n",
       "      <td>6</td>\n",
       "      <td>2</td>\n",
       "      <td>12</td>\n",
       "      <td>True</td>\n",
       "      <td>True</td>\n",
       "      <td>False</td>\n",
       "      <td>True</td>\n",
       "    </tr>\n",
       "    <tr>\n",
       "      <th>5</th>\n",
       "      <td>3</td>\n",
       "      <td>15</td>\n",
       "      <td>9</td>\n",
       "      <td>135</td>\n",
       "      <td>True</td>\n",
       "      <td>True</td>\n",
       "      <td>True</td>\n",
       "      <td>True</td>\n",
       "    </tr>\n",
       "    <tr>\n",
       "      <th>6</th>\n",
       "      <td>3</td>\n",
       "      <td>21</td>\n",
       "      <td>10</td>\n",
       "      <td>210</td>\n",
       "      <td>True</td>\n",
       "      <td>True</td>\n",
       "      <td>False</td>\n",
       "      <td>True</td>\n",
       "    </tr>\n",
       "    <tr>\n",
       "      <th>7</th>\n",
       "      <td>5</td>\n",
       "      <td>15</td>\n",
       "      <td>9</td>\n",
       "      <td>135</td>\n",
       "      <td>True</td>\n",
       "      <td>True</td>\n",
       "      <td>False</td>\n",
       "      <td>True</td>\n",
       "    </tr>\n",
       "    <tr>\n",
       "      <th>8</th>\n",
       "      <td>5</td>\n",
       "      <td>21</td>\n",
       "      <td>10</td>\n",
       "      <td>210</td>\n",
       "      <td>True</td>\n",
       "      <td>False</td>\n",
       "      <td>True</td>\n",
       "      <td>True</td>\n",
       "    </tr>\n",
       "    <tr>\n",
       "      <th>9</th>\n",
       "      <td>5</td>\n",
       "      <td>20</td>\n",
       "      <td>25</td>\n",
       "      <td>500</td>\n",
       "      <td>True</td>\n",
       "      <td>True</td>\n",
       "      <td>True</td>\n",
       "      <td>True</td>\n",
       "    </tr>\n",
       "    <tr>\n",
       "      <th>10</th>\n",
       "      <td>7</td>\n",
       "      <td>14</td>\n",
       "      <td>7</td>\n",
       "      <td>98</td>\n",
       "      <td>True</td>\n",
       "      <td>True</td>\n",
       "      <td>True</td>\n",
       "      <td>True</td>\n",
       "    </tr>\n",
       "    <tr>\n",
       "      <th>11</th>\n",
       "      <td>7</td>\n",
       "      <td>21</td>\n",
       "      <td>10</td>\n",
       "      <td>210</td>\n",
       "      <td>True</td>\n",
       "      <td>True</td>\n",
       "      <td>False</td>\n",
       "      <td>True</td>\n",
       "    </tr>\n",
       "  </tbody>\n",
       "</table>\n",
       "</div>"
      ],
      "text/plain": [
       "    Primo p   a   b  a*b  p_divide_a_ab  p divide a  p divide b  Implica\n",
       "0         2   6   2   12           True        True        True     True\n",
       "1         2  14   7   98           True        True       False     True\n",
       "2         2  21  10  210           True       False        True     True\n",
       "3         2  20  25  500           True        True       False     True\n",
       "4         3   6   2   12           True        True       False     True\n",
       "5         3  15   9  135           True        True        True     True\n",
       "6         3  21  10  210           True        True       False     True\n",
       "7         5  15   9  135           True        True       False     True\n",
       "8         5  21  10  210           True       False        True     True\n",
       "9         5  20  25  500           True        True        True     True\n",
       "10        7  14   7   98           True        True        True     True\n",
       "11        7  21  10  210           True        True       False     True"
      ]
     },
     "execution_count": 2,
     "metadata": {},
     "output_type": "execute_result"
    }
   ],
   "source": [
    "import pandas as pd\n",
    "import matplotlib.pyplot as plt\n",
    "import plotly.express as px\n",
    "from sympy import isprime\n",
    "\n",
    "# Función para verificar si p divide a x\n",
    "def divides(p, x):\n",
    "    return x % p == 0\n",
    "\n",
    "# Ejemplos de números primos p y pares (a, b) donde p divide ab\n",
    "primes = [2, 3, 5, 7]  # Ejemplos de números primos\n",
    "examples = [(6, 2), (15, 9), (14, 7), (21, 10), (20, 25)]  # Pares (a, b)\n",
    "\n",
    "# Crear un DataFrame para almacenar los resultados\n",
    "results = []\n",
    "\n",
    "for p in primes:\n",
    "    for a, b in examples:\n",
    "        ab = a * b\n",
    "        if divides(p, ab):  # Si p divide a ab\n",
    "            p_divide_a_ab = divides(p,ab)\n",
    "            p_divides_a = divides(p, a)\n",
    "            p_divides_b = divides(p, b)\n",
    "            implication = p_divides_a or p_divides_b  # La implicación se cumple si p divide a a o b\n",
    "            results.append((p, a, b, ab, p_divide_a_ab, p_divides_a, p_divides_b, implication))\n",
    "\n",
    "# Crear un DataFrame de los resultados\n",
    "df = pd.DataFrame(results, columns=['Primo p', 'a', 'b', 'a*b', 'p_divide_a_ab','p divide a', 'p divide b', 'Implica'])\n",
    "\n",
    "# Visualización de resultados\n",
    "# Tabla con pandas\n",
    "df\n"
   ]
  },
  {
   "cell_type": "code",
   "execution_count": 3,
   "id": "cc9748a8",
   "metadata": {},
   "outputs": [
    {
     "data": {
      "image/png": "[encoded data removed]",
      "text/plain": [
       "<Figure size 1000x500 with 1 Axes>"
      ]
     },
     "metadata": {},
     "output_type": "display_data"
    },
    {
     "data": {
      "application/vnd.plotly.v1+json": {
       "config": {
        "plotlyServerURL": "https://plot.ly"
       },
       "data": [
        {
         "hovertemplate": "Resultado de la Implicación (1 = Verdadero)=%{y}<br>Número primo p=%{x}<extra></extra>",
         "legendgroup": "True",
         "marker": {
          "color": "#636efa",
          "symbol": "circle"
         },
         "mode": "markers",
         "name": "True",
         "orientation": "h",
         "showlegend": true,
         "type": "scatter",
         "x": [
          2,
          2,
          2,
          2,
          3,
          3,
          3,
          5,
          5,
          5,
          7,
          7
         ],
         "xaxis": "x",
         "y": [
          true,
          true,
          true,
          true,
          true,
          true,
          true,
          true,
          true,
          true,
          true,
          true
         ],
         "yaxis": "y"
        }
       ],
       "layout": {
        "legend": {
         "title": {
          "text": "Resultado de la Implicación (1 = Verdadero)"
         },
         "tracegroupgap": 0
        },
        "template": {
         "data": {
          "bar": [
           {
            "error_x": {
             "color": "#2a3f5f"
            },
            "error_y": {
             "color": "#2a3f5f"
            },
            "marker": {
             "line": {
              "color": "#E5ECF6",
              "width": 0.5
             },
             "pattern": {
              "fillmode": "overlay",
              "size": 10,
              "solidity": 0.2
             }
            },
            "type": "bar"
           }
          ],
          "barpolar": [
           {
            "marker": {
             "line": {
              "color": "#E5ECF6",
              "width": 0.5
             },
             "pattern": {
              "fillmode": "overlay",
              "size": 10,
              "solidity": 0.2
             }
            },
            "type": "barpolar"
           }
          ],
          "carpet": [
           {
            "aaxis": {
             "endlinecolor": "#2a3f5f",
             "gridcolor": "white",
             "linecolor": "white",
             "minorgridcolor": "white",
             "startlinecolor": "#2a3f5f"
            },
            "baxis": {
             "endlinecolor": "#2a3f5f",
             "gridcolor": "white",
             "linecolor": "white",
             "minorgridcolor": "white",
             "startlinecolor": "#2a3f5f"
            },
            "type": "carpet"
           }
          ],
          "choropleth": [
           {
            "colorbar": {
             "outlinewidth": 0,
             "ticks": ""
            },
            "type": "choropleth"
           }
          ],
          "contour": [
           {
            "colorbar": {
             "outlinewidth": 0,
             "ticks": ""
            },
            "colorscale": [
             [
              0,
              "#0d0887"
             ],
             [
              0.1111111111111111,
              "#46039f"
             ],
             [
              0.2222222222222222,
              "#7201a8"
             ],
             [
              0.3333333333333333,
              "#9c179e"
             ],
             [
              0.4444444444444444,
              "#bd3786"
             ],
             [
              0.5555555555555556,
              "#d8576b"
             ],
             [
              0.6666666666666666,
              "#ed7953"
             ],
             [
              0.7777777777777778,
              "#fb9f3a"
             ],
             [
              0.8888888888888888,
              "#fdca26"
             ],
             [
              1,
              "#f0f921"
             ]
            ],
            "type": "contour"
           }
          ],
          "contourcarpet": [
           {
            "colorbar": {
             "outlinewidth": 0,
             "ticks": ""
            },
            "type": "contourcarpet"
           }
          ],
          "heatmap": [
           {
            "colorbar": {
             "outlinewidth": 0,
             "ticks": ""
            },
            "colorscale": [
             [
              0,
              "#0d0887"
             ],
             [
              0.1111111111111111,
              "#46039f"
             ],
             [
              0.2222222222222222,
              "#7201a8"
             ],
             [
              0.3333333333333333,
              "#9c179e"
             ],
             [
              0.4444444444444444,
              "#bd3786"
             ],
             [
              0.5555555555555556,
              "#d8576b"
             ],
             [
              0.6666666666666666,
              "#ed7953"
             ],
             [
              0.7777777777777778,
              "#fb9f3a"
             ],
             [
              0.8888888888888888,
              "#fdca26"
             ],
             [
              1,
              "#f0f921"
             ]
            ],
            "type": "heatmap"
           }
          ],
          "heatmapgl": [
           {
            "colorbar": {
             "outlinewidth": 0,
             "ticks": ""
            },
            "colorscale": [
             [
              0,
              "#0d0887"
             ],
             [
              0.1111111111111111,
              "#46039f"
             ],
             [
              0.2222222222222222,
              "#7201a8"
             ],
             [
              0.3333333333333333,
              "#9c179e"
             ],
             [
              0.4444444444444444,
              "#bd3786"
             ],
             [
              0.5555555555555556,
              "#d8576b"
             ],
             [
              0.6666666666666666,
              "#ed7953"
             ],
             [
              0.7777777777777778,
              "#fb9f3a"
             ],
             [
              0.8888888888888888,
              "#fdca26"
             ],
             [
              1,
              "#f0f921"
             ]
            ],
            "type": "heatmapgl"
           }
          ],
          "histogram": [
           {
            "marker": {
             "pattern": {
              "fillmode": "overlay",
              "size": 10,
              "solidity": 0.2
             }
            },
            "type": "histogram"
           }
          ],
          "histogram2d": [
           {
            "colorbar": {
             "outlinewidth": 0,
             "ticks": ""
            },
            "colorscale": [
             [
              0,
              "#0d0887"
             ],
             [
              0.1111111111111111,
              "#46039f"
             ],
             [
              0.2222222222222222,
              "#7201a8"
             ],
             [
              0.3333333333333333,
              "#9c179e"
             ],
             [
              0.4444444444444444,
              "#bd3786"
             ],
             [
              0.5555555555555556,
              "#d8576b"
             ],
             [
              0.6666666666666666,
              "#ed7953"
             ],
             [
              0.7777777777777778,
              "#fb9f3a"
             ],
             [
              0.8888888888888888,
              "#fdca26"
             ],
             [
              1,
              "#f0f921"
             ]
            ],
            "type": "histogram2d"
           }
          ],
          "histogram2dcontour": [
           {
            "colorbar": {
             "outlinewidth": 0,
             "ticks": ""
            },
            "colorscale": [
             [
              0,
              "#0d0887"
             ],
             [
              0.1111111111111111,
              "#46039f"
             ],
             [
              0.2222222222222222,
              "#7201a8"
             ],
             [
              0.3333333333333333,
              "#9c179e"
             ],
             [
              0.4444444444444444,
              "#bd3786"
             ],
             [
              0.5555555555555556,
              "#d8576b"
             ],
             [
              0.6666666666666666,
              "#ed7953"
             ],
             [
              0.7777777777777778,
              "#fb9f3a"
             ],
             [
              0.8888888888888888,
              "#fdca26"
             ],
             [
              1,
              "#f0f921"
             ]
            ],
            "type": "histogram2dcontour"
           }
          ],
          "mesh3d": [
           {
            "colorbar": {
             "outlinewidth": 0,
             "ticks": ""
            },
            "type": "mesh3d"
           }
          ],
          "parcoords": [
           {
            "line": {
             "colorbar": {
              "outlinewidth": 0,
              "ticks": ""
             }
            },
            "type": "parcoords"
           }
          ],
          "pie": [
           {
            "automargin": true,
            "type": "pie"
           }
          ],
          "scatter": [
           {
            "fillpattern": {
             "fillmode": "overlay",
             "size": 10,
             "solidity": 0.2
            },
            "type": "scatter"
           }
          ],
          "scatter3d": [
           {
            "line": {
             "colorbar": {
              "outlinewidth": 0,
              "ticks": ""
             }
            },
            "marker": {
             "colorbar": {
              "outlinewidth": 0,
              "ticks": ""
             }
            },
            "type": "scatter3d"
           }
          ],
          "scattercarpet": [
           {
            "marker": {
             "colorbar": {
              "outlinewidth": 0,
              "ticks": ""
             }
            },
            "type": "scattercarpet"
           }
          ],
          "scattergeo": [
           {
            "marker": {
             "colorbar": {
              "outlinewidth": 0,
              "ticks": ""
             }
            },
            "type": "scattergeo"
           }
          ],
          "scattergl": [
           {
            "marker": {
             "colorbar": {
              "outlinewidth": 0,
              "ticks": ""
             }
            },
            "type": "scattergl"
           }
          ],
          "scattermapbox": [
           {
            "marker": {
             "colorbar": {
              "outlinewidth": 0,
              "ticks": ""
             }
            },
            "type": "scattermapbox"
           }
          ],
          "scatterpolar": [
           {
            "marker": {
             "colorbar": {
              "outlinewidth": 0,
              "ticks": ""
             }
            },
            "type": "scatterpolar"
           }
          ],
          "scatterpolargl": [
           {
            "marker": {
             "colorbar": {
              "outlinewidth": 0,
              "ticks": ""
             }
            },
            "type": "scatterpolargl"
           }
          ],
          "scatterternary": [
           {
            "marker": {
             "colorbar": {
              "outlinewidth": 0,
              "ticks": ""
             }
            },
            "type": "scatterternary"
           }
          ],
          "surface": [
           {
            "colorbar": {
             "outlinewidth": 0,
             "ticks": ""
            },
            "colorscale": [
             [
              0,
              "#0d0887"
             ],
             [
              0.1111111111111111,
              "#46039f"
             ],
             [
              0.2222222222222222,
              "#7201a8"
             ],
             [
              0.3333333333333333,
              "#9c179e"
             ],
             [
              0.4444444444444444,
              "#bd3786"
             ],
             [
              0.5555555555555556,
              "#d8576b"
             ],
             [
              0.6666666666666666,
              "#ed7953"
             ],
             [
              0.7777777777777778,
              "#fb9f3a"
             ],
             [
              0.8888888888888888,
              "#fdca26"
             ],
             [
              1,
              "#f0f921"
             ]
            ],
            "type": "surface"
           }
          ],
          "table": [
           {
            "cells": {
             "fill": {
              "color": "#EBF0F8"
             },
             "line": {
              "color": "white"
             }
            },
            "header": {
             "fill": {
              "color": "#C8D4E3"
             },
             "line": {
              "color": "white"
             }
            },
            "type": "table"
           }
          ]
         },
         "layout": {
          "annotationdefaults": {
           "arrowcolor": "#2a3f5f",
           "arrowhead": 0,
           "arrowwidth": 1
          },
          "autotypenumbers": "strict",
          "coloraxis": {
           "colorbar": {
            "outlinewidth": 0,
            "ticks": ""
           }
          },
          "colorscale": {
           "diverging": [
            [
             0,
             "#8e0152"
            ],
            [
             0.1,
             "#c51b7d"
            ],
            [
             0.2,
             "#de77ae"
            ],
            [
             0.3,
             "#f1b6da"
            ],
            [
             0.4,
             "#fde0ef"
            ],
            [
             0.5,
             "#f7f7f7"
            ],
            [
             0.6,
             "#e6f5d0"
            ],
            [
             0.7,
             "#b8e186"
            ],
            [
             0.8,
             "#7fbc41"
            ],
            [
             0.9,
             "#4d9221"
            ],
            [
             1,
             "#276419"
            ]
           ],
           "sequential": [
            [
             0,
             "#0d0887"
            ],
            [
             0.1111111111111111,
             "#46039f"
            ],
            [
             0.2222222222222222,
             "#7201a8"
            ],
            [
             0.3333333333333333,
             "#9c179e"
            ],
            [
             0.4444444444444444,
             "#bd3786"
            ],
            [
             0.5555555555555556,
             "#d8576b"
            ],
            [
             0.6666666666666666,
             "#ed7953"
            ],
            [
             0.7777777777777778,
             "#fb9f3a"
            ],
            [
             0.8888888888888888,
             "#fdca26"
            ],
            [
             1,
             "#f0f921"
            ]
           ],
           "sequentialminus": [
            [
             0,
             "#0d0887"
            ],
            [
             0.1111111111111111,
             "#46039f"
            ],
            [
             0.2222222222222222,
             "#7201a8"
            ],
            [
             0.3333333333333333,
             "#9c179e"
            ],
            [
             0.4444444444444444,
             "#bd3786"
            ],
            [
             0.5555555555555556,
             "#d8576b"
            ],
            [
             0.6666666666666666,
             "#ed7953"
            ],
            [
             0.7777777777777778,
             "#fb9f3a"
            ],
            [
             0.8888888888888888,
             "#fdca26"
            ],
            [
             1,
             "#f0f921"
            ]
           ]
          },
          "colorway": [
           "#636efa",
           "#EF553B",
           "#00cc96",
           "#ab63fa",
           "#FFA15A",
           "#19d3f3",
           "#FF6692",
           "#B6E880",
           "#FF97FF",
           "#FECB52"
          ],
          "font": {
           "color": "#2a3f5f"
          },
          "geo": {
           "bgcolor": "white",
           "lakecolor": "white",
           "landcolor": "#E5ECF6",
           "showlakes": true,
           "showland": true,
           "subunitcolor": "white"
          },
          "hoverlabel": {
           "align": "left"
          },
          "hovermode": "closest",
          "mapbox": {
           "style": "light"
          },
          "paper_bgcolor": "white",
          "plot_bgcolor": "#E5ECF6",
          "polar": {
           "angularaxis": {
            "gridcolor": "white",
            "linecolor": "white",
            "ticks": ""
           },
           "bgcolor": "#E5ECF6",
           "radialaxis": {
            "gridcolor": "white",
            "linecolor": "white",
            "ticks": ""
           }
          },
          "scene": {
           "xaxis": {
            "backgroundcolor": "#E5ECF6",
            "gridcolor": "white",
            "gridwidth": 2,
            "linecolor": "white",
            "showbackground": true,
            "ticks": "",
            "zerolinecolor": "white"
           },
           "yaxis": {
            "backgroundcolor": "#E5ECF6",
            "gridcolor": "white",
            "gridwidth": 2,
            "linecolor": "white",
            "showbackground": true,
            "ticks": "",
            "zerolinecolor": "white"
           },
           "zaxis": {
            "backgroundcolor": "#E5ECF6",
            "gridcolor": "white",
            "gridwidth": 2,
            "linecolor": "white",
            "showbackground": true,
            "ticks": "",
            "zerolinecolor": "white"
           }
          },
          "shapedefaults": {
           "line": {
            "color": "#2a3f5f"
           }
          },
          "ternary": {
           "aaxis": {
            "gridcolor": "white",
            "linecolor": "white",
            "ticks": ""
           },
           "baxis": {
            "gridcolor": "white",
            "linecolor": "white",
            "ticks": ""
           },
           "bgcolor": "#E5ECF6",
           "caxis": {
            "gridcolor": "white",
            "linecolor": "white",
            "ticks": ""
           }
          },
          "title": {
           "x": 0.05
          },
          "xaxis": {
           "automargin": true,
           "gridcolor": "white",
           "linecolor": "white",
           "ticks": "",
           "title": {
            "standoff": 15
           },
           "zerolinecolor": "white",
           "zerolinewidth": 2
          },
          "yaxis": {
           "automargin": true,
           "gridcolor": "white",
           "linecolor": "white",
           "ticks": "",
           "title": {
            "standoff": 15
           },
           "zerolinecolor": "white",
           "zerolinewidth": 2
          }
         }
        },
        "title": {
         "text": "Verificación de la implicación (p divide a*b implica que p divide a o p divide b)"
        },
        "xaxis": {
         "anchor": "y",
         "domain": [
          0,
          1
         ],
         "title": {
          "text": "Número primo p"
         }
        },
        "yaxis": {
         "anchor": "x",
         "categoryarray": [
          true
         ],
         "categoryorder": "array",
         "domain": [
          0,
          1
         ],
         "title": {
          "text": "Resultado de la Implicación (1 = Verdadero)"
         }
        }
       }
      }
     },
     "metadata": {},
     "output_type": "display_data"
    }
   ],
   "source": [
    "\n",
    "# Gráfica usando matplotlib para ilustrar que la implicación es siempre verdadera\n",
    "fig, ax = plt.subplots(figsize=(10, 5))\n",
    "ax.plot(df['Primo p'], df['Implica'], 'o', label='Implica (True = 1, False = 0)')\n",
    "ax.set_xlabel('Número primo p')\n",
    "ax.set_ylabel('Resultado de la Implicación')\n",
    "ax.set_title('Verificación de la implicación para diferentes valores de p y (a, b)')\n",
    "plt.grid(alpha = 0.4)\n",
    "plt.legend()\n",
    "plt.show()\n",
    "\n",
    "# Visualización interactiva con plotly\n",
    "fig_plotly = px.scatter(df, x='Primo p', y='Implica', color='Implica',\n",
    "                        title='Verificación de la implicación (p divide a*b implica que p divide a o p divide b)',\n",
    "                        labels={'Primo p':'Número primo p', 'Implica':'Resultado de la Implicación (1 = Verdadero)'})\n",
    "fig_plotly.show()\n"
   ]
  },
  {
   "cell_type": "markdown",
   "id": "6100ce58",
   "metadata": {},
   "source": [
    "\n",
    "Hemos completado el análisis de los datos y generado una tabla para ilustrar la verificación de la implicación en distintos ejemplos. A continuación, describo los resultados.\n",
    "\n",
    "### Descripción de los Resultados\n",
    "\n",
    "1. **DataFrame**: La tabla muestra varios valores de $p$ (primos), así como pares $(a, b)$ para los cuales se cumple $p | ab$. Además, para cada caso se indica si $p$ divide a $a$, $b$, o a ambos.\n",
    "   \n",
    "2. **Conclusión**: Observamos en los ejemplos que cada vez que \\( p \\) divide \\( ab \\), efectivamente, $p$ divide a \\( a \\) o \\( p \\) divide a $b$, confirmando la implicación. Esto está reflejado en la columna de la implicación, que muestra valores `True` en todos los casos.\n",
    "\n",
    "3. **Gráfico en matplotlib**: La visualización muestra que la implicación es válida en todos los ejemplos, con la marca `True` para todos los puntos.\n"
   ]
  },
  {
   "cell_type": "markdown",
   "id": "5cd2c015",
   "metadata": {},
   "source": [
    "\n",
    "[Video de apoyo para aprender a justificar la veracidad de una relación de causalidad](https://www.youtube.com/watch?v=rJRrDFM3bRs)"
   ]
  },
  {
   "cell_type": "markdown",
   "id": "54781e08",
   "metadata": {},
   "source": [
    "3. El número 1 es considerado un número primo.\n",
    "4. Para cualquier número primo $p$, si $p \\mid a^2$, entonces $p \\mid a$.\n"
   ]
  },
  {
   "cell_type": "code",
   "execution_count": 2,
   "id": "e886b572",
   "metadata": {},
   "outputs": [
    {
     "data": {
      "text/html": [
       "<div>\n",
       "<style scoped>\n",
       "    .dataframe tbody tr th:only-of-type {\n",
       "        vertical-align: middle;\n",
       "    }\n",
       "\n",
       "    .dataframe tbody tr th {\n",
       "        vertical-align: top;\n",
       "    }\n",
       "\n",
       "    .dataframe thead th {\n",
       "        text-align: right;\n",
       "    }\n",
       "</style>\n",
       "<table border=\"1\" class=\"dataframe\">\n",
       "  <thead>\n",
       "    <tr style=\"text-align: right;\">\n",
       "      <th></th>\n",
       "      <th>Primo p</th>\n",
       "      <th>$a^{2}$</th>\n",
       "      <th>a</th>\n",
       "      <th>p_divide_a_cuadrado</th>\n",
       "      <th>p divide a</th>\n",
       "      <th>Implica</th>\n",
       "    </tr>\n",
       "  </thead>\n",
       "  <tbody>\n",
       "    <tr>\n",
       "      <th>0</th>\n",
       "      <td>2</td>\n",
       "      <td>4</td>\n",
       "      <td>2</td>\n",
       "      <td>True</td>\n",
       "      <td>True</td>\n",
       "      <td>True</td>\n",
       "    </tr>\n",
       "    <tr>\n",
       "      <th>1</th>\n",
       "      <td>2</td>\n",
       "      <td>16</td>\n",
       "      <td>4</td>\n",
       "      <td>True</td>\n",
       "      <td>True</td>\n",
       "      <td>True</td>\n",
       "    </tr>\n",
       "    <tr>\n",
       "      <th>2</th>\n",
       "      <td>2</td>\n",
       "      <td>36</td>\n",
       "      <td>6</td>\n",
       "      <td>True</td>\n",
       "      <td>True</td>\n",
       "      <td>True</td>\n",
       "    </tr>\n",
       "    <tr>\n",
       "      <th>3</th>\n",
       "      <td>3</td>\n",
       "      <td>9</td>\n",
       "      <td>3</td>\n",
       "      <td>True</td>\n",
       "      <td>True</td>\n",
       "      <td>True</td>\n",
       "    </tr>\n",
       "    <tr>\n",
       "      <th>4</th>\n",
       "      <td>3</td>\n",
       "      <td>36</td>\n",
       "      <td>6</td>\n",
       "      <td>True</td>\n",
       "      <td>True</td>\n",
       "      <td>True</td>\n",
       "    </tr>\n",
       "    <tr>\n",
       "      <th>5</th>\n",
       "      <td>5</td>\n",
       "      <td>25</td>\n",
       "      <td>5</td>\n",
       "      <td>True</td>\n",
       "      <td>True</td>\n",
       "      <td>True</td>\n",
       "    </tr>\n",
       "  </tbody>\n",
       "</table>\n",
       "</div>"
      ],
      "text/plain": [
       "   Primo p  $a^{2}$  a  p_divide_a_cuadrado  p divide a  Implica\n",
       "0        2        4  2                 True        True     True\n",
       "1        2       16  4                 True        True     True\n",
       "2        2       36  6                 True        True     True\n",
       "3        3        9  3                 True        True     True\n",
       "4        3       36  6                 True        True     True\n",
       "5        5       25  5                 True        True     True"
      ]
     },
     "execution_count": 2,
     "metadata": {},
     "output_type": "execute_result"
    }
   ],
   "source": [
    "import pandas as pd\n",
    "import matplotlib.pyplot as plt\n",
    "import plotly.express as px\n",
    "from sympy import isprime\n",
    "\n",
    "# Función para verificar si p divide a x\n",
    "def divide_a(p, x):\n",
    "    return x % p == 0\n",
    "\n",
    "# Ejemplos de números primos p y pares (a, b) donde p divide ab\n",
    "primes = [2, 3, 5, 7, 11]  # Ejemplos de números primos\n",
    "examples_aCuadrado_a = [(1, 1), (4, 2), (9, 3), (16, 4), (25, 5), (36, 6)]  # cuadrados a^2\n",
    "\n",
    "# Crear un DataFrame para almacenar los resultados\n",
    "results = []\n",
    "\n",
    "for p in primes:\n",
    "    for a_cuadrado, a in examples_aCuadrado_a:\n",
    "        if divide_a(p, a_cuadrado):  # Si p divide a ab\n",
    "            p_divide_a_cuadrado = divide_a(p,a_cuadrado)\n",
    "            p_divide_a_a = divide_a(p, a)\n",
    "            implication = p_divide_a_a  # La implicación se cumple si p divide a a o b\n",
    "            results.append((p, a_cuadrado, a, p_divide_a_cuadrado, p_divide_a_a, implication))\n",
    "\n",
    "# Crear un DataFrame de los resultados\n",
    "df = pd.DataFrame(results, columns=['Primo p', r'$a^{2}$', 'a', 'p_divide_a_cuadrado','p divide a', 'Implica'])\n",
    "\n",
    "# Visualización de resultados\n",
    "# Tabla con pandas\n",
    "df"
   ]
  },
  {
   "cell_type": "code",
   "execution_count": 3,
   "id": "985e5f51",
   "metadata": {},
   "outputs": [
    {
     "data": {
      "image/png": "[encoded data removed]",
      "text/plain": [
       "<Figure size 1000x500 with 1 Axes>"
      ]
     },
     "metadata": {},
     "output_type": "display_data"
    },
    {
     "data": {
      "application/vnd.plotly.v1+json": {
       "config": {
        "plotlyServerURL": "https://plot.ly"
       },
       "data": [
        {
         "hovertemplate": "Resultado de la Implicación (1 = Verdadero)=%{y}<br>Número primo p=%{x}<extra></extra>",
         "legendgroup": "True",
         "marker": {
          "color": "#636efa",
          "symbol": "circle"
         },
         "mode": "markers",
         "name": "True",
         "orientation": "h",
         "showlegend": true,
         "type": "scatter",
         "x": [
          2,
          2,
          2,
          3,
          3,
          5
         ],
         "xaxis": "x",
         "y": [
          true,
          true,
          true,
          true,
          true,
          true
         ],
         "yaxis": "y"
        }
       ],
       "layout": {
        "legend": {
         "title": {
          "text": "Resultado de la Implicación (1 = Verdadero)"
         },
         "tracegroupgap": 0
        },
        "template": {
         "data": {
          "bar": [
           {
            "error_x": {
             "color": "#2a3f5f"
            },
            "error_y": {
             "color": "#2a3f5f"
            },
            "marker": {
             "line": {
              "color": "#E5ECF6",
              "width": 0.5
             },
             "pattern": {
              "fillmode": "overlay",
              "size": 10,
              "solidity": 0.2
             }
            },
            "type": "bar"
           }
          ],
          "barpolar": [
           {
            "marker": {
             "line": {
              "color": "#E5ECF6",
              "width": 0.5
             },
             "pattern": {
              "fillmode": "overlay",
              "size": 10,
              "solidity": 0.2
             }
            },
            "type": "barpolar"
           }
          ],
          "carpet": [
           {
            "aaxis": {
             "endlinecolor": "#2a3f5f",
             "gridcolor": "white",
             "linecolor": "white",
             "minorgridcolor": "white",
             "startlinecolor": "#2a3f5f"
            },
            "baxis": {
             "endlinecolor": "#2a3f5f",
             "gridcolor": "white",
             "linecolor": "white",
             "minorgridcolor": "white",
             "startlinecolor": "#2a3f5f"
            },
            "type": "carpet"
           }
          ],
          "choropleth": [
           {
            "colorbar": {
             "outlinewidth": 0,
             "ticks": ""
            },
            "type": "choropleth"
           }
          ],
          "contour": [
           {
            "colorbar": {
             "outlinewidth": 0,
             "ticks": ""
            },
            "colorscale": [
             [
              0,
              "#0d0887"
             ],
             [
              0.1111111111111111,
              "#46039f"
             ],
             [
              0.2222222222222222,
              "#7201a8"
             ],
             [
              0.3333333333333333,
              "#9c179e"
             ],
             [
              0.4444444444444444,
              "#bd3786"
             ],
             [
              0.5555555555555556,
              "#d8576b"
             ],
             [
              0.6666666666666666,
              "#ed7953"
             ],
             [
              0.7777777777777778,
              "#fb9f3a"
             ],
             [
              0.8888888888888888,
              "#fdca26"
             ],
             [
              1,
              "#f0f921"
             ]
            ],
            "type": "contour"
           }
          ],
          "contourcarpet": [
           {
            "colorbar": {
             "outlinewidth": 0,
             "ticks": ""
            },
            "type": "contourcarpet"
           }
          ],
          "heatmap": [
           {
            "colorbar": {
             "outlinewidth": 0,
             "ticks": ""
            },
            "colorscale": [
             [
              0,
              "#0d0887"
             ],
             [
              0.1111111111111111,
              "#46039f"
             ],
             [
              0.2222222222222222,
              "#7201a8"
             ],
             [
              0.3333333333333333,
              "#9c179e"
             ],
             [
              0.4444444444444444,
              "#bd3786"
             ],
             [
              0.5555555555555556,
              "#d8576b"
             ],
             [
              0.6666666666666666,
              "#ed7953"
             ],
             [
              0.7777777777777778,
              "#fb9f3a"
             ],
             [
              0.8888888888888888,
              "#fdca26"
             ],
             [
              1,
              "#f0f921"
             ]
            ],
            "type": "heatmap"
           }
          ],
          "heatmapgl": [
           {
            "colorbar": {
             "outlinewidth": 0,
             "ticks": ""
            },
            "colorscale": [
             [
              0,
              "#0d0887"
             ],
             [
              0.1111111111111111,
              "#46039f"
             ],
             [
              0.2222222222222222,
              "#7201a8"
             ],
             [
              0.3333333333333333,
              "#9c179e"
             ],
             [
              0.4444444444444444,
              "#bd3786"
             ],
             [
              0.5555555555555556,
              "#d8576b"
             ],
             [
              0.6666666666666666,
              "#ed7953"
             ],
             [
              0.7777777777777778,
              "#fb9f3a"
             ],
             [
              0.8888888888888888,
              "#fdca26"
             ],
             [
              1,
              "#f0f921"
             ]
            ],
            "type": "heatmapgl"
           }
          ],
          "histogram": [
           {
            "marker": {
             "pattern": {
              "fillmode": "overlay",
              "size": 10,
              "solidity": 0.2
             }
            },
            "type": "histogram"
           }
          ],
          "histogram2d": [
           {
            "colorbar": {
             "outlinewidth": 0,
             "ticks": ""
            },
            "colorscale": [
             [
              0,
              "#0d0887"
             ],
             [
              0.1111111111111111,
              "#46039f"
             ],
             [
              0.2222222222222222,
              "#7201a8"
             ],
             [
              0.3333333333333333,
              "#9c179e"
             ],
             [
              0.4444444444444444,
              "#bd3786"
             ],
             [
              0.5555555555555556,
              "#d8576b"
             ],
             [
              0.6666666666666666,
              "#ed7953"
             ],
             [
              0.7777777777777778,
              "#fb9f3a"
             ],
             [
              0.8888888888888888,
              "#fdca26"
             ],
             [
              1,
              "#f0f921"
             ]
            ],
            "type": "histogram2d"
           }
          ],
          "histogram2dcontour": [
           {
            "colorbar": {
             "outlinewidth": 0,
             "ticks": ""
            },
            "colorscale": [
             [
              0,
              "#0d0887"
             ],
             [
              0.1111111111111111,
              "#46039f"
             ],
             [
              0.2222222222222222,
              "#7201a8"
             ],
             [
              0.3333333333333333,
              "#9c179e"
             ],
             [
              0.4444444444444444,
              "#bd3786"
             ],
             [
              0.5555555555555556,
              "#d8576b"
             ],
             [
              0.6666666666666666,
              "#ed7953"
             ],
             [
              0.7777777777777778,
              "#fb9f3a"
             ],
             [
              0.8888888888888888,
              "#fdca26"
             ],
             [
              1,
              "#f0f921"
             ]
            ],
            "type": "histogram2dcontour"
           }
          ],
          "mesh3d": [
           {
            "colorbar": {
             "outlinewidth": 0,
             "ticks": ""
            },
            "type": "mesh3d"
           }
          ],
          "parcoords": [
           {
            "line": {
             "colorbar": {
              "outlinewidth": 0,
              "ticks": ""
             }
            },
            "type": "parcoords"
           }
          ],
          "pie": [
           {
            "automargin": true,
            "type": "pie"
           }
          ],
          "scatter": [
           {
            "fillpattern": {
             "fillmode": "overlay",
             "size": 10,
             "solidity": 0.2
            },
            "type": "scatter"
           }
          ],
          "scatter3d": [
           {
            "line": {
             "colorbar": {
              "outlinewidth": 0,
              "ticks": ""
             }
            },
            "marker": {
             "colorbar": {
              "outlinewidth": 0,
              "ticks": ""
             }
            },
            "type": "scatter3d"
           }
          ],
          "scattercarpet": [
           {
            "marker": {
             "colorbar": {
              "outlinewidth": 0,
              "ticks": ""
             }
            },
            "type": "scattercarpet"
           }
          ],
          "scattergeo": [
           {
            "marker": {
             "colorbar": {
              "outlinewidth": 0,
              "ticks": ""
             }
            },
            "type": "scattergeo"
           }
          ],
          "scattergl": [
           {
            "marker": {
             "colorbar": {
              "outlinewidth": 0,
              "ticks": ""
             }
            },
            "type": "scattergl"
           }
          ],
          "scattermapbox": [
           {
            "marker": {
             "colorbar": {
              "outlinewidth": 0,
              "ticks": ""
             }
            },
            "type": "scattermapbox"
           }
          ],
          "scatterpolar": [
           {
            "marker": {
             "colorbar": {
              "outlinewidth": 0,
              "ticks": ""
             }
            },
            "type": "scatterpolar"
           }
          ],
          "scatterpolargl": [
           {
            "marker": {
             "colorbar": {
              "outlinewidth": 0,
              "ticks": ""
             }
            },
            "type": "scatterpolargl"
           }
          ],
          "scatterternary": [
           {
            "marker": {
             "colorbar": {
              "outlinewidth": 0,
              "ticks": ""
             }
            },
            "type": "scatterternary"
           }
          ],
          "surface": [
           {
            "colorbar": {
             "outlinewidth": 0,
             "ticks": ""
            },
            "colorscale": [
             [
              0,
              "#0d0887"
             ],
             [
              0.1111111111111111,
              "#46039f"
             ],
             [
              0.2222222222222222,
              "#7201a8"
             ],
             [
              0.3333333333333333,
              "#9c179e"
             ],
             [
              0.4444444444444444,
              "#bd3786"
             ],
             [
              0.5555555555555556,
              "#d8576b"
             ],
             [
              0.6666666666666666,
              "#ed7953"
             ],
             [
              0.7777777777777778,
              "#fb9f3a"
             ],
             [
              0.8888888888888888,
              "#fdca26"
             ],
             [
              1,
              "#f0f921"
             ]
            ],
            "type": "surface"
           }
          ],
          "table": [
           {
            "cells": {
             "fill": {
              "color": "#EBF0F8"
             },
             "line": {
              "color": "white"
             }
            },
            "header": {
             "fill": {
              "color": "#C8D4E3"
             },
             "line": {
              "color": "white"
             }
            },
            "type": "table"
           }
          ]
         },
         "layout": {
          "annotationdefaults": {
           "arrowcolor": "#2a3f5f",
           "arrowhead": 0,
           "arrowwidth": 1
          },
          "autotypenumbers": "strict",
          "coloraxis": {
           "colorbar": {
            "outlinewidth": 0,
            "ticks": ""
           }
          },
          "colorscale": {
           "diverging": [
            [
             0,
             "#8e0152"
            ],
            [
             0.1,
             "#c51b7d"
            ],
            [
             0.2,
             "#de77ae"
            ],
            [
             0.3,
             "#f1b6da"
            ],
            [
             0.4,
             "#fde0ef"
            ],
            [
             0.5,
             "#f7f7f7"
            ],
            [
             0.6,
             "#e6f5d0"
            ],
            [
             0.7,
             "#b8e186"
            ],
            [
             0.8,
             "#7fbc41"
            ],
            [
             0.9,
             "#4d9221"
            ],
            [
             1,
             "#276419"
            ]
           ],
           "sequential": [
            [
             0,
             "#0d0887"
            ],
            [
             0.1111111111111111,
             "#46039f"
            ],
            [
             0.2222222222222222,
             "#7201a8"
            ],
            [
             0.3333333333333333,
             "#9c179e"
            ],
            [
             0.4444444444444444,
             "#bd3786"
            ],
            [
             0.5555555555555556,
             "#d8576b"
            ],
            [
             0.6666666666666666,
             "#ed7953"
            ],
            [
             0.7777777777777778,
             "#fb9f3a"
            ],
            [
             0.8888888888888888,
             "#fdca26"
            ],
            [
             1,
             "#f0f921"
            ]
           ],
           "sequentialminus": [
            [
             0,
             "#0d0887"
            ],
            [
             0.1111111111111111,
             "#46039f"
            ],
            [
             0.2222222222222222,
             "#7201a8"
            ],
            [
             0.3333333333333333,
             "#9c179e"
            ],
            [
             0.4444444444444444,
             "#bd3786"
            ],
            [
             0.5555555555555556,
             "#d8576b"
            ],
            [
             0.6666666666666666,
             "#ed7953"
            ],
            [
             0.7777777777777778,
             "#fb9f3a"
            ],
            [
             0.8888888888888888,
             "#fdca26"
            ],
            [
             1,
             "#f0f921"
            ]
           ]
          },
          "colorway": [
           "#636efa",
           "#EF553B",
           "#00cc96",
           "#ab63fa",
           "#FFA15A",
           "#19d3f3",
           "#FF6692",
           "#B6E880",
           "#FF97FF",
           "#FECB52"
          ],
          "font": {
           "color": "#2a3f5f"
          },
          "geo": {
           "bgcolor": "white",
           "lakecolor": "white",
           "landcolor": "#E5ECF6",
           "showlakes": true,
           "showland": true,
           "subunitcolor": "white"
          },
          "hoverlabel": {
           "align": "left"
          },
          "hovermode": "closest",
          "mapbox": {
           "style": "light"
          },
          "paper_bgcolor": "white",
          "plot_bgcolor": "#E5ECF6",
          "polar": {
           "angularaxis": {
            "gridcolor": "white",
            "linecolor": "white",
            "ticks": ""
           },
           "bgcolor": "#E5ECF6",
           "radialaxis": {
            "gridcolor": "white",
            "linecolor": "white",
            "ticks": ""
           }
          },
          "scene": {
           "xaxis": {
            "backgroundcolor": "#E5ECF6",
            "gridcolor": "white",
            "gridwidth": 2,
            "linecolor": "white",
            "showbackground": true,
            "ticks": "",
            "zerolinecolor": "white"
           },
           "yaxis": {
            "backgroundcolor": "#E5ECF6",
            "gridcolor": "white",
            "gridwidth": 2,
            "linecolor": "white",
            "showbackground": true,
            "ticks": "",
            "zerolinecolor": "white"
           },
           "zaxis": {
            "backgroundcolor": "#E5ECF6",
            "gridcolor": "white",
            "gridwidth": 2,
            "linecolor": "white",
            "showbackground": true,
            "ticks": "",
            "zerolinecolor": "white"
           }
          },
          "shapedefaults": {
           "line": {
            "color": "#2a3f5f"
           }
          },
          "ternary": {
           "aaxis": {
            "gridcolor": "white",
            "linecolor": "white",
            "ticks": ""
           },
           "baxis": {
            "gridcolor": "white",
            "linecolor": "white",
            "ticks": ""
           },
           "bgcolor": "#E5ECF6",
           "caxis": {
            "gridcolor": "white",
            "linecolor": "white",
            "ticks": ""
           }
          },
          "title": {
           "x": 0.05
          },
          "xaxis": {
           "automargin": true,
           "gridcolor": "white",
           "linecolor": "white",
           "ticks": "",
           "title": {
            "standoff": 15
           },
           "zerolinecolor": "white",
           "zerolinewidth": 2
          },
          "yaxis": {
           "automargin": true,
           "gridcolor": "white",
           "linecolor": "white",
           "ticks": "",
           "title": {
            "standoff": 15
           },
           "zerolinecolor": "white",
           "zerolinewidth": 2
          }
         }
        },
        "title": {
         "text": "Verificación de la implicación (p divide a**2 implica que p divide a)"
        },
        "xaxis": {
         "anchor": "y",
         "domain": [
          0,
          1
         ],
         "title": {
          "text": "Número primo p"
         }
        },
        "yaxis": {
         "anchor": "x",
         "categoryarray": [
          true
         ],
         "categoryorder": "array",
         "domain": [
          0,
          1
         ],
         "title": {
          "text": "Resultado de la Implicación (1 = Verdadero)"
         }
        }
       }
      }
     },
     "metadata": {},
     "output_type": "display_data"
    }
   ],
   "source": [
    "# Gráfica usando matplotlib para ilustrar que la implicación es siempre verdadera\n",
    "fig, ax = plt.subplots(figsize=(10, 5))\n",
    "ax.plot(df['Primo p'], df['Implica'], 'o', label='Implica (True = 1, False = 0)')\n",
    "ax.set_xlabel('Número primo p')\n",
    "ax.set_ylabel('Resultado de la Implicación')\n",
    "ax.set_title('Verificación de la implicación para diferentes valores de p y (a^2, a)')\n",
    "plt.grid(alpha = 0.4)\n",
    "plt.legend()\n",
    "plt.show()\n",
    "\n",
    "# Visualización interactiva con plotly\n",
    "fig_plotly = px.scatter(df, x='Primo p', y='Implica', color='Implica',\n",
    "                        title='Verificación de la implicación (p divide a**2 implica que p divide a)',\n",
    "                        labels={'Primo p':'Número primo p', 'Implica':'Resultado de la Implicación (1 = Verdadero)'})\n",
    "fig_plotly.show()\n"
   ]
  },
  {
   "cell_type": "markdown",
   "id": "efaba34c",
   "metadata": {},
   "source": [
    "# 5. Si $a \\mid b$ y $b \\mid c$, entonces $a \\mid c$.\n"
   ]
  },
  {
   "cell_type": "markdown",
   "id": "74ba1a1a",
   "metadata": {},
   "source": [
    "Para visualizar la implicación **\"Si $a \\mid b$ y $b \\mid c$, entonces $a \\mid c$\"**, aquí tienes un script en Python que simula esta relación con algunos ejemplos de valores para $a$, $b$, y $c$, verificando si la implicación se cumple y mostrando los resultados en un `DataFrame`."
   ]
  },
  {
   "cell_type": "markdown",
   "id": "04c6e09c",
   "metadata": {},
   "source": [
    " Luego se visualizan los resultados en una tabla y una gráfica.\n",
    "\n",
    "### Código Python\n"
   ]
  },
  {
   "cell_type": "code",
   "execution_count": 17,
   "id": "e1247f26",
   "metadata": {},
   "outputs": [
    {
     "data": {
      "text/html": [
       "<div>\n",
       "<style scoped>\n",
       "    .dataframe tbody tr th:only-of-type {\n",
       "        vertical-align: middle;\n",
       "    }\n",
       "\n",
       "    .dataframe tbody tr th {\n",
       "        vertical-align: top;\n",
       "    }\n",
       "\n",
       "    .dataframe thead th {\n",
       "        text-align: right;\n",
       "    }\n",
       "</style>\n",
       "<table border=\"1\" class=\"dataframe\">\n",
       "  <thead>\n",
       "    <tr style=\"text-align: right;\">\n",
       "      <th></th>\n",
       "      <th>a</th>\n",
       "      <th>b</th>\n",
       "      <th>c</th>\n",
       "      <th>a divide b</th>\n",
       "      <th>b divide c</th>\n",
       "      <th>a divide c</th>\n",
       "      <th>Implica</th>\n",
       "    </tr>\n",
       "  </thead>\n",
       "  <tbody>\n",
       "    <tr>\n",
       "      <th>0</th>\n",
       "      <td>2</td>\n",
       "      <td>4</td>\n",
       "      <td>8</td>\n",
       "      <td>True</td>\n",
       "      <td>True</td>\n",
       "      <td>True</td>\n",
       "      <td>True</td>\n",
       "    </tr>\n",
       "    <tr>\n",
       "      <th>1</th>\n",
       "      <td>3</td>\n",
       "      <td>6</td>\n",
       "      <td>12</td>\n",
       "      <td>True</td>\n",
       "      <td>True</td>\n",
       "      <td>True</td>\n",
       "      <td>True</td>\n",
       "    </tr>\n",
       "    <tr>\n",
       "      <th>2</th>\n",
       "      <td>5</td>\n",
       "      <td>15</td>\n",
       "      <td>45</td>\n",
       "      <td>True</td>\n",
       "      <td>True</td>\n",
       "      <td>True</td>\n",
       "      <td>True</td>\n",
       "    </tr>\n",
       "    <tr>\n",
       "      <th>3</th>\n",
       "      <td>4</td>\n",
       "      <td>16</td>\n",
       "      <td>64</td>\n",
       "      <td>True</td>\n",
       "      <td>True</td>\n",
       "      <td>True</td>\n",
       "      <td>True</td>\n",
       "    </tr>\n",
       "  </tbody>\n",
       "</table>\n",
       "</div>"
      ],
      "text/plain": [
       "   a   b   c  a divide b  b divide c  a divide c  Implica\n",
       "0  2   4   8        True        True        True     True\n",
       "1  3   6  12        True        True        True     True\n",
       "2  5  15  45        True        True        True     True\n",
       "3  4  16  64        True        True        True     True"
      ]
     },
     "execution_count": 17,
     "metadata": {},
     "output_type": "execute_result"
    }
   ],
   "source": [
    "import pandas as pd\n",
    "import matplotlib.pyplot as plt\n",
    "import plotly.express as px\n",
    "\n",
    "# Función para verificar si a divide a b\n",
    "def divide_a(a, b):\n",
    "    return b % a == 0\n",
    "\n",
    "# Ejemplos de valores para (a, b, c)\n",
    "examples_abc = [\n",
    "    (2, 4, 8),   # Caso donde a | b y b | c, entonces a | c\n",
    "    (3, 6, 12),  # Caso donde a | b y b | c, entonces a | c\n",
    "    (2, 4, 10),  # Caso donde a | b pero b no divide a c, entonces a no divide a c\n",
    "    (5, 15, 45), # Caso donde a | b y b | c, entonces a | c\n",
    "    (3, 9, 20),   # Caso donde a | b pero b no divide a c, entonces a no divide a c\n",
    "(4,16, 64)\n",
    "]\n",
    "\n",
    "# Crear un DataFrame para almacenar los resultados\n",
    "results = []\n",
    "\n",
    "for a, b, c in examples_abc:\n",
    "    if (divide_a(a,b)) and (divide_a(b,c)):\n",
    "        a_divide_c = divide_a(a, c)\n",
    "        implication = a_divide_c  # Se cumple si todos son True\n",
    "        results.append((a, b, c, divide_a(a,b), divide_a(b,c), divide_a(a,c), implication))\n",
    "\n",
    "# Crear un DataFrame de los resultados\n",
    "df = pd.DataFrame(results, columns=['a', 'b', 'c', 'a divide b', 'b divide c', 'a divide c', 'Implica'])\n",
    "\n",
    "# Mostrar la tabla con pandas\n",
    "df\n"
   ]
  },
  {
   "cell_type": "markdown",
   "id": "350c481e",
   "metadata": {},
   "source": [
    "## Conclusión: \n",
    "\n",
    "La relación \"divide a\" es transitiva.   "
   ]
  },
  {
   "cell_type": "markdown",
   "id": "f591597d",
   "metadata": {},
   "source": [
    "[Video de apoyo a la orientación para justificar implicaciones](https://www.youtube.com/watch?v=lC7L8ouVYaM)"
   ]
  },
  {
   "cell_type": "markdown",
   "id": "69cc85cd",
   "metadata": {},
   "source": [
    "\n",
    "### Explicación del Código\n",
    "\n",
    "1. **Definición de la Función**:\n",
    "   - `divide_a(a, b)`: Verifica si $a$ divide a $b$.\n"
   ]
  },
  {
   "cell_type": "markdown",
   "id": "d99615d4",
   "metadata": {},
   "source": [
    "\n",
    "2. **Ejemplos**:\n",
    "   - La lista `examples_abc` contiene varios ejemplos de valores para $a$, $b$, y $c$ para probar la implicación.\n",
    "\n",
    "3. **Cálculo y Verificación de la Implicación**:\n",
    "   - Para cada tripleta de valores, el código verifica si $a \\mid b$ y $b \\mid c$, y en el caso de que esta condición se cumpla, pasa a evaluar si se cumple el consecuente de la implicación $a \\mid c$ se cumple.\n"
   ]
  },
  {
   "cell_type": "markdown",
   "id": "0fd19b1e",
   "metadata": {},
   "source": [
    "\n",
    "4. **Creación y Visualización del `DataFrame`**:\n",
    "   - Se crea un `DataFrame` con los resultados y se muestra la tabla.\n",
    "   \n",
    "\n",
    "Este código proporciona una verificación básica de la implicación y permite visualizar si los ejemplos cumplen con la relación de divisibilidad propuesta."
   ]
  },
  {
   "cell_type": "markdown",
   "id": "0a6d9ad7",
   "metadata": {},
   "source": [
    "6. Existen números compuestos que no pueden expresarse como producto de números primos.\n",
    "7. Un número primo tiene exactamente dos divisores: 1 y el número en sí mismo.\n",
    "8. La relación de divisibilidad es transitiva en el conjunto de los números enteros.\n"
   ]
  },
  {
   "cell_type": "markdown",
   "id": "555c0b43",
   "metadata": {},
   "source": [
    "9. Si $p$ es un número primo, entonces no existe ningún número entero $k$ tal que $1 < k < p$ y $k \\mid p$.\n",
    "10. La factorización de un número en primos es única, independientemente del orden de los factores.\n",
    "\n",
    "---\n"
   ]
  },
  {
   "cell_type": "markdown",
   "id": "ec6a3176",
   "metadata": {},
   "source": [
    "\n",
    "### 2. Ejercicios Prácticos\n",
    "\n",
    "Realiza los siguientes ejercicios con el procedimiento completo.\n",
    "\n",
    "1. Determina todos los divisores del número 180 y encuentra el número total de divisores.\n"
   ]
  },
  {
   "cell_type": "code",
   "execution_count": 20,
   "id": "cd41a92d",
   "metadata": {},
   "outputs": [],
   "source": [
    "def obtener_divisores(n):\n",
    "    \"\"\"\n",
    "    Devuelve una lista de divisores de un número entero positivo n.\n",
    "    \n",
    "    Parámetros:\n",
    "    n (int): Número entero positivo para el cual se calcularán los divisores.\n",
    "\n",
    "    Retorna:\n",
    "    list: Lista de divisores de n.\n",
    "    \"\"\"\n",
    "    if n <= 0:\n",
    "        return \"El número debe ser entero positivo.\"\n",
    "    \n",
    "    divisores = []\n",
    "    for i in range(1, n + 1):\n",
    "        if n % i == 0:\n",
    "            divisores.append(i)\n",
    "    \n",
    "    return divisores\n"
   ]
  },
  {
   "cell_type": "code",
   "execution_count": 21,
   "id": "e1685c6d",
   "metadata": {},
   "outputs": [
    {
     "data": {
      "text/plain": [
       "[1, 2, 3, 4, 5, 6, 9, 10, 12, 15, 18, 20, 30, 36, 45, 60, 90, 180]"
      ]
     },
     "execution_count": 21,
     "metadata": {},
     "output_type": "execute_result"
    }
   ],
   "source": [
    "obtener_divisores(180)"
   ]
  },
  {
   "cell_type": "code",
   "execution_count": 22,
   "id": "56bff3a5",
   "metadata": {},
   "outputs": [
    {
     "data": {
      "text/plain": [
       "18"
      ]
     },
     "execution_count": 22,
     "metadata": {},
     "output_type": "execute_result"
    }
   ],
   "source": [
    "len(obtener_divisores(180))"
   ]
  },
  {
   "cell_type": "markdown",
   "id": "bc5e7c7d",
   "metadata": {},
   "source": [
    "2. Expresa el número 315 como un producto de números primos.\n"
   ]
  },
  {
   "cell_type": "code",
   "execution_count": null,
   "id": "d7fc18d7",
   "metadata": {},
   "outputs": [],
   "source": []
  },
  {
   "cell_type": "code",
   "execution_count": null,
   "id": "1bdf00f9",
   "metadata": {},
   "outputs": [],
   "source": []
  },
  {
   "cell_type": "markdown",
   "id": "ce032aec",
   "metadata": {},
   "source": [
    "3. Sea el número $x = 2^3 \\cdot 3^2 \\cdot 5$. Verifica que el número total de divisores de $x$ es $N(x) = (3+1)(2+1)(1+1)$. Justifica tu respuesta mostrando el procedimiento.\n",
    "4. Determina todos los divisores de 420 y calcula el número total de divisores utilizando su descomposición en factores primos.\n",
    "5. Encuentra la descomposición en factores primos del número 504 y calcula su número total de divisores usando la fórmula $N(x) = (a+1)(b+1)(c+1)(d+1)$.\n",
    "\n",
    "---\n"
   ]
  },
  {
   "cell_type": "markdown",
   "id": "bc11ee7c",
   "metadata": {},
   "source": [
    "\n",
    "### 3. Uso de la Función Módulo para Determinar el Residuo de la División de Dos Números Enteros\n",
    "**5 preguntas de verdadero o falso. Justifica tu respuesta en ambos casos.**\n",
    "\n",
    "1. El residuo de dividir cualquier número entero por 1 siempre es 0.\n",
    "2. Si $a \\equiv b \\pmod{m}$, entonces $m \\mid (a - b)$.\n",
    "3. Si $a \\mod b = 0$, entonces $a$ es múltiplo de $b$.\n",
    "4. Para cualquier número entero $a$, se cumple que $a \\mod a = 1$.\n",
    "5. Si el residuo de $a \\mod m$ es 0, entonces $a$ es divisible por $m$.\n",
    "\n",
    "---\n"
   ]
  },
  {
   "cell_type": "markdown",
   "id": "d0b76065",
   "metadata": {},
   "source": [
    "\n",
    "### 4. Uso de la Notación $\\mid$ y $\\not\\mid$ para Describir la Relación \"Divide a\" entre Dos Números Enteros\n",
    "**5 preguntas de verdadero o falso. Justifica tu respuesta en ambos casos.**\n"
   ]
  },
  {
   "cell_type": "markdown",
   "id": "db1cd840",
   "metadata": {},
   "source": [
    "\n",
    "1. Si $5 \\mid 20$, entonces $5$ divide a cualquier múltiplo de $20$.\n",
    "2. Para cualquier número entero $a$, se cumple que $a \\mid a$.\n",
    "3. Si $a \\mid b$ y $a \\mid c$, entonces $a \\mid (b + c)$.\n",
    "4. El número 7 no divide a ningún número par.\n",
    "5. Si $a \\mid b$ y $a \\mid c$, entonces $a \\mid (b - c)$.\n",
    "\n",
    "---\n"
   ]
  },
  {
   "cell_type": "markdown",
   "id": "428138cb",
   "metadata": {},
   "source": [
    "\n",
    "### 5. Criba de Eratóstenes para Determinar Números Primos\n",
    "**5 preguntas de verdadero o falso. Justifica tu respuesta en ambos casos.**\n"
   ]
  },
  {
   "cell_type": "markdown",
   "id": "02f257b1",
   "metadata": {},
   "source": [
    "\n",
    "1. La Criba de Eratóstenes permite identificar todos los números primos menores que un número dado $n$ al eliminar los múltiplos de cada número primo.\n",
    "2. En la Criba de Eratóstenes, es suficiente marcar los múltiplos de los números primos menores o iguales a $\\sqrt{n}$.\n",
    "3. El número 2 es el único número primo par y no se elimina en la Criba de Eratóstenes.\n",
    "4. Al aplicar la Criba de Eratóstenes hasta el número 30, obtenemos exactamente 11 números primos.\n",
    "5. En la Criba de Eratóstenes, si un número no es múltiplo de ningún número menor que él mismo (excepto 1), entonces es primo.\n",
    "\n",
    "\n"
   ]
  },
  {
   "cell_type": "markdown",
   "id": "544defd6",
   "metadata": {},
   "source": [
    "# Implementación de python y latex para la retroalimentación y construcción de instrumentos para apoyar la visualización de conceptos de la aritmética  "
   ]
  },
  {
   "cell_type": "markdown",
   "id": "0d4c10f4",
   "metadata": {},
   "source": [
    "## Parcial de Aritmética: Números Enteros\n",
    "\n",
    "### Instrucciones\n",
    "Responde cada pregunta con claridad y justifica tus respuestas en todas las preguntas de verdadero o falso. En los ejercicios de desarrollo, muestra el procedimiento completo.\n",
    "\n",
    "Para Justificar implicaciones, muestre que cuando se satisface la hipótesis, se satisface la tesis. Es decir, tome valores adecuados que satisfagan la hipótesis y luego revise si estos fatisfacen la tesis y finalmente concluya. \n",
    "\n"
   ]
  },
  {
   "cell_type": "markdown",
   "id": "ee17a60c",
   "metadata": {},
   "source": [
    "\n",
    "### 1. Punto Teórico: Relación \"divide a\", Teorema Fundamental de la Aritmética, y Números Primos\n",
    "**10 preguntas de verdadero o falso. Justifica tu respuesta en ambos casos.**\n",
    "\n",
    "1. Todo número entero mayor que 1 se puede expresar de manera única como producto de números primos.\n",
    "2. Si $p$ es un número primo y $p$ divide a $ab$, entonces $p$ divide a $a$ o $p$ divide a $b$.\n",
    "3. El número 1 es considerado un número primo.\n",
    "4. Para cualquier número primo $p$, si $p \\mid a^2$, entonces $p \\mid a$.\n",
    "5. Si $a \\mid b$ y $b \\mid c$, entonces $a \\mid c$.\n",
    "6. Existen números compuestos que no pueden expresarse como producto de números primos.\n",
    "7. Un número primo tiene exactamente dos divisores: 1 y el número en sí mismo.\n",
    "8. La relación de divisibilidad es transitiva en el conjunto de los números enteros.\n",
    "9. Si $p$ es un número primo, entonces no existe ningún número entero $k$ tal que $1 < k < p$ y $k \\mid p$.\n",
    "10. La factorización de un número en primos es única, independientemente del orden de los factores.\n",
    "\n",
    "---\n"
   ]
  },
  {
   "cell_type": "markdown",
   "id": "52719ed6",
   "metadata": {},
   "source": [
    "\n",
    "### 2. Ejercicios Prácticos\n",
    "\n",
    "Realiza los siguientes ejercicios con el procedimiento completo.\n",
    "\n",
    "1. Determina todos los divisores del número 180 y encuentra el número total de divisores.\n"
   ]
  },
  {
   "cell_type": "code",
   "execution_count": 1,
   "id": "74175a3d",
   "metadata": {},
   "outputs": [],
   "source": [
    "def obtener_divisores(n):\n",
    "    if n <= 0:\n",
    "        return \"El número debe ser entero positivo.\"\n",
    "    \n",
    "    divisores = []\n",
    "    for i in range(1, n + 1):\n",
    "        if n % i == 0:\n",
    "            divisores.append(i)\n",
    "    \n",
    "    return divisores\n",
    "\n"
   ]
  },
  {
   "cell_type": "code",
   "execution_count": 2,
   "id": "b805c76b",
   "metadata": {},
   "outputs": [
    {
     "data": {
      "text/plain": [
       "[1, 2, 3, 4, 5, 6, 9, 10, 12, 15, 18, 20, 30, 36, 45, 60, 90, 180]"
      ]
     },
     "execution_count": 2,
     "metadata": {},
     "output_type": "execute_result"
    }
   ],
   "source": [
    "obtener_divisores(180)"
   ]
  },
  {
   "cell_type": "code",
   "execution_count": 3,
   "id": "ff250ea5",
   "metadata": {},
   "outputs": [
    {
     "data": {
      "text/plain": [
       "18"
      ]
     },
     "execution_count": 3,
     "metadata": {},
     "output_type": "execute_result"
    }
   ],
   "source": [
    "len(obtener_divisores(180))"
   ]
  },
  {
   "cell_type": "markdown",
   "id": "b051de72",
   "metadata": {},
   "source": [
    "2. Expresa el número 315 como un producto de números primos.\n"
   ]
  },
  {
   "cell_type": "code",
   "execution_count": 4,
   "id": "5994516c",
   "metadata": {},
   "outputs": [],
   "source": [
    "def descomponer_en_primos(n):\n",
    "    factores = []\n",
    "    divisor = 2\n",
    "    while n > 1:\n",
    "        while n % divisor == 0:\n",
    "            factores.append(divisor)\n",
    "            n //= divisor\n",
    "        divisor += 1\n",
    "    return factores\n"
   ]
  },
  {
   "cell_type": "code",
   "execution_count": 5,
   "id": "403bc1a1",
   "metadata": {},
   "outputs": [
    {
     "data": {
      "text/plain": [
       "[3, 3, 5, 7]"
      ]
     },
     "execution_count": 5,
     "metadata": {},
     "output_type": "execute_result"
    }
   ],
   "source": [
    "descomponer_en_primos(315)"
   ]
  },
  {
   "cell_type": "markdown",
   "id": "95c18498",
   "metadata": {},
   "source": [
    "3. Sea el número $x = 2^3 \\cdot 3^2 \\cdot 5$. Verifica que el número total de divisores de $x$ es $N(x) = (3+1)(2+1)(1+1)$. Justifica tu respuesta mostrando el procedimiento.\n"
   ]
  },
  {
   "cell_type": "code",
   "execution_count": 6,
   "id": "558dc4e7",
   "metadata": {},
   "outputs": [],
   "source": [
    "def numero_de_divisores(n):\n",
    "    count = 0\n",
    "    for i in range(1, int(n**0.5) + 1):\n",
    "        if n % i == 0:\n",
    "            count += 1 if i * i == n else 2\n",
    "    return count\n"
   ]
  },
  {
   "cell_type": "code",
   "execution_count": 7,
   "id": "cca526e3",
   "metadata": {},
   "outputs": [
    {
     "data": {
      "text/plain": [
       "24"
      ]
     },
     "execution_count": 7,
     "metadata": {},
     "output_type": "execute_result"
    }
   ],
   "source": [
    "numero_de_divisores(2**3*3**2*5)"
   ]
  },
  {
   "cell_type": "markdown",
   "id": "6b146856",
   "metadata": {},
   "source": [
    "4. Determina todos los divisores de 420 y calcula el número total de divisores utilizando su descomposición en factores primos.\n"
   ]
  },
  {
   "cell_type": "code",
   "execution_count": 9,
   "id": "dd7db8b1",
   "metadata": {},
   "outputs": [
    {
     "data": {
      "text/plain": [
       "[2, 2, 3, 5, 7]"
      ]
     },
     "execution_count": 9,
     "metadata": {},
     "output_type": "execute_result"
    }
   ],
   "source": [
    "descomponer_en_primos(420)"
   ]
  },
  {
   "cell_type": "code",
   "execution_count": 8,
   "id": "1704330e",
   "metadata": {},
   "outputs": [
    {
     "data": {
      "text/plain": [
       "([1,\n",
       "  2,\n",
       "  3,\n",
       "  4,\n",
       "  5,\n",
       "  6,\n",
       "  7,\n",
       "  10,\n",
       "  12,\n",
       "  14,\n",
       "  15,\n",
       "  20,\n",
       "  21,\n",
       "  28,\n",
       "  30,\n",
       "  35,\n",
       "  42,\n",
       "  60,\n",
       "  70,\n",
       "  84,\n",
       "  105,\n",
       "  140,\n",
       "  210,\n",
       "  420],\n",
       " 24)"
      ]
     },
     "execution_count": 8,
     "metadata": {},
     "output_type": "execute_result"
    }
   ],
   "source": [
    "obtener_divisores(420), len(obtener_divisores(420))"
   ]
  },
  {
   "cell_type": "markdown",
   "id": "eddaaf5d",
   "metadata": {},
   "source": [
    "5. Encuentra la descomposición en factores primos del número 504 y calcula su número total de divisores usando la fórmula $N(x) = (a+1)(b+1)(c+1)(d+1)$.\n",
    "\n",
    "---\n"
   ]
  },
  {
   "cell_type": "code",
   "execution_count": 11,
   "id": "4e4a9cec",
   "metadata": {},
   "outputs": [
    {
     "data": {
      "text/plain": [
       "([2, 2, 2, 3, 3, 7], 24)"
      ]
     },
     "execution_count": 11,
     "metadata": {},
     "output_type": "execute_result"
    }
   ],
   "source": [
    "descomponer_en_primos(504), numero_de_divisores(504)"
   ]
  },
  {
   "cell_type": "markdown",
   "id": "499a6ec0",
   "metadata": {},
   "source": [
    "\n",
    "### 3. Uso de la Función Módulo para Determinar el Residuo de la División de Dos Números Enteros\n",
    "**5 preguntas de verdadero o falso. Justifica tu respuesta en ambos casos.**\n",
    "\n",
    "1. El residuo de dividir cualquier número entero por 1 siempre es 0.\n"
   ]
  },
  {
   "cell_type": "code",
   "execution_count": null,
   "id": "69d03803",
   "metadata": {},
   "outputs": [],
   "source": []
  },
  {
   "cell_type": "markdown",
   "id": "8cad8865",
   "metadata": {},
   "source": [
    "2. Si $a \\equiv b \\pmod{m}$, entonces $m \\mid (a - b)$.\n",
    "3. Si $a \\mod b = 0$, entonces $a$ es múltiplo de $b$.\n",
    "4. Para cualquier número entero $a$, se cumple que $a \\mod a = 1$.\n",
    "5. Si el residuo de $a \\mod m$ es 0, entonces $a$ es divisible por $m$.\n",
    "\n",
    "---\n"
   ]
  },
  {
   "cell_type": "markdown",
   "id": "75e3d870",
   "metadata": {},
   "source": [
    "\n",
    "### 4. Uso de la Notación $\\mid$ y $\\not\\mid$ para Describir la Relación \"Divide a\" entre Dos Números Enteros\n",
    "**5 preguntas de verdadero o falso. Justifica tu respuesta en ambos casos.**\n",
    "\n",
    "1. Si $5 \\mid 20$, entonces $5$ divide a cualquier múltiplo de $20$.\n",
    "2. Para cualquier número entero $a$, se cumple que $a \\mid a$.\n",
    "3. Si $a \\mid b$ y $a \\mid c$, entonces $a \\mid (b + c)$.\n",
    "4. El número 7 no divide a ningún número par.\n",
    "5. Si $a \\mid b$ y $a \\mid c$, entonces $a \\mid (b - c)$.\n",
    "\n",
    "---\n"
   ]
  },
  {
   "cell_type": "markdown",
   "id": "e02c7abd",
   "metadata": {},
   "source": [
    "\n",
    "### 5. Criba de Eratóstenes para Determinar Números Primos\n",
    "**5 preguntas de verdadero o falso. Justifica tu respuesta en ambos casos.**\n",
    "\n",
    "1. La Criba de Eratóstenes permite identificar todos los números primos menores que un número dado $n$ al eliminar los múltiplos de cada número primo.\n",
    "2. En la Criba de Eratóstenes, es suficiente marcar los múltiplos de los números primos menores o iguales a $\\sqrt{n}$.\n",
    "3. El número 2 es el único número primo par y no se elimina en la Criba de Eratóstenes.\n",
    "4. Al aplicar la Criba de Eratóstenes hasta el número 30, obtenemos exactamente 11 números primos.\n",
    "5. En la Criba de Eratóstenes, si un número no es múltiplo de ningún número menor que él mismo (excepto 1), entonces es primo.\n"
   ]
  },
  {
   "cell_type": "markdown",
   "id": "45a3c7da",
   "metadata": {},
   "source": [
    "\n",
    "---\n",
    "\n",
    "### Fin del Parcial\n",
    "\n"
   ]
  },
  {
   "cell_type": "markdown",
   "id": "8295d7a0",
   "metadata": {},
   "source": [
    "# 5. Evaluación oral\n",
    "## 5. Evaluar la capacidad de describir un problema y su solución de manera oral. \n",
    "\n",
    "1. Evaluaremos la capacidad de describir cada uno de los pasos o fases para resolver un problema (Es decir, se pedirá al estudiante que describa la metodología de solución de un problema dado). "
   ]
  },
  {
   "cell_type": "markdown",
   "id": "318cb03f-8c7c-48e6-95a7-7c6b2044b603",
   "metadata": {},
   "source": [
    "# Autoevaluación "
   ]
  },
  {
   "cell_type": "code",
   "execution_count": 1,
   "id": "6ace95c0-9ecc-487b-9cbe-c2974dbcf6f5",
   "metadata": {
    "slideshow": {
     "slide_type": "slide"
    }
   },
   "outputs": [
    {
     "name": "stdout",
     "output_type": "stream",
     "text": [
      "Ingrese su nombre:  marco\n",
      "Describa sus fortalezas:  amable, cariñoso, fiel, deportista\n",
      "Describa las áreas en las que necesita mejorar:  irritabilidad, mi resiliencia\n"
     ]
    },
    {
     "name": "stdout",
     "output_type": "stream",
     "text": [
      "La autoevaluación se ha guardado correctamente.\n"
     ]
    }
   ],
   "source": [
    "import csv\n",
    "\n",
    "def recolectar_datos_autoavaluacion():\n",
    "    # Definir el nombre del archivo CSV\n",
    "    nombre_archivo = 'autoevaluacion_estudiantes.csv'\n",
    "    \n",
    "    # Definir los encabezados para el archivo CSV\n",
    "    encabezados = ['Nombre', 'Fortalezas', 'Áreas de Mejora']\n",
    "    \n",
    "    # Solicitar los datos del estudiante\n",
    "    nombre = input(\"Ingrese su nombre: \")\n",
    "    fortalezas = input(\"Describa sus fortalezas: \")\n",
    "    areas_mejora = input(\"Describa las áreas en las que necesita mejorar: \")\n",
    "    \n",
    "    # Crear una lista con los datos del estudiante\n",
    "    datos = [nombre, fortalezas, areas_mejora]\n",
    "    \n",
    "    # Abrir el archivo CSV para agregar los datos\n",
    "    with open(nombre_archivo, mode='a', newline='') as archivo_csv:\n",
    "        escritor_csv = csv.writer(archivo_csv)\n",
    "        \n",
    "        # Verificar si el archivo está vacío para escribir los encabezados\n",
    "        archivo_csv.seek(0, 2)  # Mover el cursor al final del archivo\n",
    "        if archivo_csv.tell() == 0:  # Verificar si el archivo está vacío\n",
    "            escritor_csv.writerow(encabezados)\n",
    "        \n",
    "        # Escribir los datos en el archivo CSV\n",
    "        escritor_csv.writerow(datos)\n",
    "    \n",
    "    print(\"La autoevaluación se ha guardado correctamente.\")\n",
    "\n",
    "# Ejecutar la función para recolectar datos\n",
    "recolectar_datos_autoavaluacion()\n"
   ]
  },
  {
   "cell_type": "markdown",
   "id": "fb9402bb",
   "metadata": {
    "slideshow": {
     "slide_type": "slide"
    }
   },
   "source": [
    "## Estrategias propuestas para la solución de las dificultades de aprendizaje detectadas"
   ]
  },
  {
   "cell_type": "markdown",
   "id": "2dd3bd5c",
   "metadata": {
    "slideshow": {
     "slide_type": "slide"
    }
   },
   "source": [
    "* Entrenar a los estudiantes en la capacidad para analizar la necesidad de cada una de las hipótesis en una implicación: Por ejemplo, enseñar a los estudiantes a buscar si es necasaria la hipótesis de ser primo en la siguiente implicación:\n",
    "  $$ \\text{Si $p$ es primo y $p \\mid a^{2}$, entonces $p \\mid a$} $$\n",
    "\n",
    "  Note que si $p = 9$ y $a^{2} = 9$, entonces $p\\mid a^{2}$, pero $p \\not\\mid a$. Por lo tanto, la hipótesis de ser primo **si** es necesaria en esta implicación. "
   ]
  },
  {
   "cell_type": "markdown",
   "id": "c6236d5d",
   "metadata": {},
   "source": [
    "# FODA del grupo y del profesor  \n",
    "\n",
    "* F: Fortalezas\n",
    "* O: Oportunidades\n",
    "* D: Dificultades\n",
    "* A: Amenazas."
   ]
  },
  {
   "cell_type": "markdown",
   "id": "10bce0d0",
   "metadata": {
    "slideshow": {
     "slide_type": "slide"
    }
   },
   "source": [
    "## Referentes "
   ]
  },
  {
   "cell_type": "markdown",
   "id": "1db3c468",
   "metadata": {
    "slideshow": {
     "slide_type": "slide"
    }
   },
   "source": [
    "* [Grajales Vanegas, L. M., Restrepo Estrada, C. E., Restrepo Ochoa, S. I., & Ruíz De Villalba, F. (2015). Matemáticas I para las ciencias económicas.](https://github.com/marco-canas/fundamentos_de_la_aritmetica/blob/main/referentes/2_grajales_logica/grajales_lina_matemticas.pdf)\n",
    "  \n",
    "* Duval, R. (2004). Semiosis y pensamiento humano: registros semióticos y aprendizajes intelectuales. Universidad del Valle.\n",
    "\n",
    "* [Aylwin, C. U. (2011). Lógica, conjuntos y números. Universidad de los Andes, Consejo de Publicaciones, Colección: Ciencias Básicas, Serie: Matemáticas.](https://github.com/marco-canas/fundamentos_logica/blob/main/referentes/2_uzcategui/uscategui.pdf)\n",
    "  \n",
    "* [Chollet, F. (2021). Deep learning with Python. Simon and Schuster.](https://github.com/marco-canas/didactica_ciencia_datos/blob/main/2_referentes/chollet/Fran%C3%A7ois%20Chollet%20-%20Deep%20Learning%20with%20Python-Manning%20(2018).pdf)  \n",
    "  \n",
    "* [Watson, S., Stewart, J., & Redlin, L. (2009). Precálculo. Matemáticas para el cálculo.](https://github.com/marco-canas/calculo/blob/main/referents/1_precalculo_stewart/stewart_precalculo.pdf)  \n",
    "\n",
    "* [Purcell, E. J., Varberg, D., & Rigdon, S. E. (2007). Cálculo diferencial e integral. Pearson Educación.](https://github.com/marco-canas/calculo/blob/main/referents/purcell/purcell_calculo.pdf)\n",
    "\n",
    "  \n",
    "\n",
    "* [stewart cálculo](https://udeaeduco-my.sharepoint.com/:b:/g/personal/marco_canas_udea_edu_co/EZgXZjAp8QxPqOAim2hs6LcBNPLGjSHf-xwYnUVYkwa04w?e=RZdTCy)  \n",
    "\n",
    "* [larson](https://udeaeduco-my.sharepoint.com/:b:/g/personal/marco_canas_udea_edu_co/ES71ChFeO9ZDhW3TwC5Ijk8BjxUK3Pdqz_fjHxTTFAfIAg?e=VDEjfu)\n",
    "\n",
    "\n",
    "\n",
    "* [Recomendación de la UNESCO sobre ciencia abierta](https://unesdoc.unesco.org/ark:/48223/pf0000379949_spa)\n",
    "\n",
    "* [chatGPT](https://openai.com/blog/chatgpt)  \n",
    "\n",
    "* [Géron, A. (2017). Hands-on machine learning with scikit-learn and tensorflow: Concepts. Tools, and Techniques to build intelligent systems.](https://github.com/marco-canas/didactica_ciencia_datos/blob/main/2_referentes/geron/Hands-On%20Machine%20Learning-3nd_Edition(2022).pdf)  \n",
    "\n",
    "* [McKinney, W. (2012). Python for data analysis: Data wrangling with Pandas, NumPy, and IPython. \" O'Reilly Media, Inc.\".](https://github.com/marco-canas/didactica_ciencia_datos/blob/main/2_referentes/mckinney/Wes_McKinney.pdf)  "
   ]
  },
  {
   "cell_type": "markdown",
   "id": "6b9e56a8",
   "metadata": {
    "slideshow": {
     "slide_type": "slide"
    }
   },
   "source": [
    "### [Evaluamos al profesor Marco Cañas Aquí](https://forms.office.com/Pages/ResponsePage.aspx?id=IefhmYRxjkmK_7KtTlPBwkanXIs1i1FEujpsZgO6dXpUREJPV1kxUk1JV1ozTFJIQVNIQjY5WEY3US4u)"
   ]
  },
  {
   "cell_type": "markdown",
   "id": "071afa04",
   "metadata": {
    "slideshow": {
     "slide_type": "slide"
    }
   },
   "source": [
    "## [Evaluación luego de alcanzar estos objetivos de aprendizaje]()"
   ]
  },
  {
   "cell_type": "markdown",
   "id": "10f43536",
   "metadata": {
    "slideshow": {
     "slide_type": "slide"
    }
   },
   "source": [
    "### Continue su aprendizaje en la siguiente clase a través del siguiente [vínculo]()"
   ]
  }
 ],
 "metadata": {
  "celltoolbar": "Slideshow",
  "kernelspec": {
   "display_name": "Python 3",
   "language": "python",
   "name": "python3"
  },
  "language_info": {
   "codemirror_mode": {
    "name": "ipython",
    "version": 3
   },
   "file_extension": ".py",
   "mimetype": "text/x-python",
   "name": "python",
   "nbconvert_exporter": "python",
   "pygments_lexer": "ipython3",
   "version": "3.12.7"
  },
  "rise": {
   "enable_chalkboard": true,
   "theme": "sky",
   "transition": "zoom"
  }
 },
 "nbformat": 4,
 "nbformat_minor": 5
}
