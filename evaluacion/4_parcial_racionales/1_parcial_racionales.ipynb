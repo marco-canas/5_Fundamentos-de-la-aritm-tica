{
 "cells": [
  {
   "cell_type": "markdown",
   "id": "dc06dec7",
   "metadata": {
    "slideshow": {
     "slide_type": "slide"
    }
   },
   "source": [
    "<table align=\"left\">\n",
    "  <td>\n",
    "    <a href=\"https://colab.research.google.com/github/ageron/handson-ml3/blob/main/tools_numpy.ipynb\" target=\"_parent\"><img src=\"https://colab.research.google.com/assets/colab-badge.svg\" alt=\"Open In Colab\"/></a>\n",
    "  </td>\n",
    "  <td>\n",
    "    <a target=\"_blank\" href=\"https://kaggle.com/kernels/welcome?src=https://github.com/ageron/handson-ml3/blob/main/tools_numpy.ipynb\"><img src=\"https://kaggle.com/static/images/open-in-kaggle.svg\" /></a>\n",
    "  </td>\n",
    "</table>"
   ]
  },
  {
   "cell_type": "markdown",
   "id": "e0c5b198",
   "metadata": {
    "slideshow": {
     "slide_type": "slide"
    }
   },
   "source": [
    "### [Video de apoyo a la lectura interactiva y experimental de este cuaderno](https://www.youtube.com/watch?v=GU-gGWmNk-I)"
   ]
  },
  {
   "cell_type": "markdown",
   "id": "41e82203",
   "metadata": {
    "slideshow": {
     "slide_type": "slide"
    }
   },
   "source": [
    "## [Vínculo al programa del curso:]()\n",
    "\n"
   ]
  },
  {
   "cell_type": "markdown",
   "id": "d11ab06d",
   "metadata": {
    "slideshow": {
     "slide_type": "slide"
    }
   },
   "source": [
    "Un reconocimiento a mis estudiantes que han construido conmigo este saber pedagógico:\n",
    "\n",
    "<img src = ''> \n",
    "\n"
   ]
  },
  {
   "cell_type": "code",
   "execution_count": null,
   "id": "7604880f",
   "metadata": {
    "slideshow": {
     "slide_type": "slide"
    }
   },
   "outputs": [
    {
     "name": "stdout",
     "output_type": "stream",
     "text": [
      "Llamando a ROSILLO TEJADA VANESA...\n",
      "Cambios guardados en el archivo CSV.\n",
      "Llamando a QUINONEZ CERVANTES MARIANA...\n"
     ]
    }
   ],
   "source": [
    "import pandas as pd\n",
    "import numpy as np\n",
    "\n",
    "# Cargar la lista de estudiantes desde la URL\n",
    "path = '/home/marco/Documentos/docencia/groups_list/fundamentos_aritmetica.csv'\n",
    "estudiantes = pd.read_csv(path)\n",
    "estudiantes['Parcial'] = estudiantes['Parcial'].astype(float) # hacer que todos los valores de la columna Parcial seen de tipo float\n",
    "\n",
    "# Convertir la columna 'Nombre' a una lista de Python\n",
    "lista_estudiantes = estudiantes['Nombre'].tolist()\n",
    "\n",
    "# Función para llamar a un estudiante aleatoriamente y registrar su nota de seguimiento\n",
    "def asistencia():\n",
    "    if lista_estudiantes:\n",
    "        estudiante_aleatorio = np.random.choice(lista_estudiantes)\n",
    "        print(f\"Llamando a {estudiante_aleatorio}...\")\n",
    "        asistencia = input(f\"¿Asistió {estudiante_aleatorio}? (s/n): \").strip().lower()\n",
    "        \n",
    "        if asistencia == 's':\n",
    "            # Obtener el índice del estudiante en el DataFrame\n",
    "            indice = estudiantes[estudiantes['Nombre'] == estudiante_aleatorio].index[0]\n",
    "            # Incrementar su valor en la columna 'Parcial'\n",
    "            estudiantes.at[indice, 'Parcial'] += 0.01\n",
    "            print(f\"Actualizado: {estudiante_aleatorio} ahora tiene {estudiantes.at[indice, 'Parcial']} en la columna 'Parcial'.\")\n",
    "        \n",
    "        lista_estudiantes.remove(estudiante_aleatorio)\n",
    "    else:\n",
    "        print(\"Se han llamado a todos los estudiantes del grupo completo.\")\n",
    "\n",
    "# Guardar los cambios en el archivo CSV\n",
    "def guardar_cambios():\n",
    "    estudiantes.to_csv(path, index=False)\n",
    "    print(\"Cambios guardados en el archivo CSV.\")\n",
    "\n",
    "# Ejemplo de uso\n",
    "while lista_estudiantes:\n",
    "    asistencia()\n",
    "    guardar_cambios()\n",
    "\n",
    "\n"
   ]
  },
  {
   "cell_type": "markdown",
   "id": "34319cce-a71b-4f64-aab8-b53e521efa40",
   "metadata": {},
   "source": [
    "# Metodología de enseñanza basada en problemas (ABP)\n"
   ]
  },
  {
   "cell_type": "markdown",
   "id": "f3c3751b",
   "metadata": {},
   "source": [
    "\n",
    "<img src = 'https://www.unir.net/wp-content/uploads/2020/07/aprendizaje-problemas2-1-1-1-1.jpeg' width = 200>"
   ]
  },
  {
   "cell_type": "markdown",
   "id": "841a985c-bd9b-4dd3-8e4c-893983980af2",
   "metadata": {},
   "source": [
    "# Desarrollo del pensamiento coomputacional con python y cuadernos Jupyter  orientado a la formación en ciencia de datos \n",
    "\n"
   ]
  },
  {
   "cell_type": "markdown",
   "id": "aa0ea38f",
   "metadata": {},
   "source": [
    "\n",
    "<img src = 'https://i.ytimg.com/vi/mcG_wcR4e6M/maxresdefault.jpg' width = 200>"
   ]
  },
  {
   "cell_type": "markdown",
   "id": "65aa0404-f7ae-495e-864c-1aec01b4255e",
   "metadata": {},
   "source": [
    "# Principio de fomento a la ciencia abierta, enseñar en el acceso a los datos públicos y el uso de software de código abierto  \n"
   ]
  },
  {
   "cell_type": "markdown",
   "id": "3eb3a6d0",
   "metadata": {},
   "source": [
    "\n",
    "<img src = 'https://unesdoc.unesco.org/in/rest/Thumb/image?id=p%3A%3Ausmarcdef_0000379949_spa&author=UNESCO&title=Recomendaci%C3%B3n+de+la+UNESCO+sobre+la+Ciencia+Abierta&year=2021&publisher=UNESCO&TypeOfDocument=UnescoPhysicalDocument&mat=PGD&ct=true&size=512&isPhysical=1'>"
   ]
  },
  {
   "cell_type": "markdown",
   "id": "8d97dc80",
   "metadata": {
    "slideshow": {
     "slide_type": "slide"
    }
   },
   "source": [
    "## Fomento de la lectura literaria asociada a Ingeniería agropecuaria y licenciatura en Matemáticas\n",
    "\n"
   ]
  },
  {
   "cell_type": "markdown",
   "id": "96775931",
   "metadata": {
    "slideshow": {
     "slide_type": "slide"
    }
   },
   "source": [
    "## Título de la clase: Parcial sobre números racionales   \n",
    "\n",
    "[]()"
   ]
  },
  {
   "cell_type": "markdown",
   "id": "1d38dd4e",
   "metadata": {
    "slideshow": {
     "slide_type": "slide"
    }
   },
   "source": [
    "### Objetivo de aprendizaje \n"
   ]
  },
  {
   "cell_type": "code",
   "execution_count": 1,
   "id": "bc0addfe",
   "metadata": {},
   "outputs": [
    {
     "data": {
      "text/plain": [
       "'/home/marco/Documentos/docencia/calculo/images/0_reales/ .pdf'"
      ]
     },
     "execution_count": 1,
     "metadata": {},
     "output_type": "execute_result"
    }
   ],
   "source": [
    "# mapa conceptual para cada clase  \n",
    "from graphviz import Digraph\n",
    "\n",
    "# Crear un nuevo grafo dirigido\n",
    "dot = Digraph()\n",
    "\n",
    "# Añadir nodos y relaciones al grafo\n",
    "main_concept = ' '\n",
    "dot.node('A', main_concept)\n",
    "dot.node('B', '')\n",
    "dot.node('C', '')\n",
    "dot.node('D', '')\n",
    "dot.node('E', '')\n",
    "dot.node('F', '')\n",
    "dot.node('G', '')\n",
    "dot.node('H', '')\n",
    "dot.node('I', '')\n",
    "dot.node('J', '')\n",
    "\n",
    "dot.edges(['AB'])\n",
    "dot.edges(['AC'])\n",
    "dot.edges(['CD'])\n",
    "dot.edges(['DJ'])\n",
    "dot.edges(['EF'])\n",
    "dot.edges(['FG'])\n",
    "dot.edges(['GH'])\n",
    "dot.edges(['HI'])\n",
    "dot.edges(['IJ'])\n",
    "\n",
    "# Guardar el grafo como un archivo de imagen\n",
    "dot.render(filename=main_concept, format='png', cleanup=True, \\\n",
    "           directory='/home/marco/Documentos/docencia/calculo/images/0_reales/')\n",
    "\n",
    "dot.view()\n"
   ]
  },
  {
   "cell_type": "markdown",
   "id": "239427f7",
   "metadata": {},
   "source": [
    "# Elementos a evaluar sobre los números racionales   \n",
    "\n",
    "1. La definición de cardinalidad de conjuntos infinitos\n",
    "2. La función $f(n)$ biyectiva que relaciona a los números naturales con los enteros. \n",
    "3. Propiedades algebraicas de la estructura de campo $(\\mathbb{Q}, + , \\cdot)$. \n",
    "4. Problemas de modelación con números racionales en la vida real.\n",
    "5. Representación geométrica de los números racionales en la recta numérica.\n",
    "6. Representación geométrica de los números racionales en el plano cartesiano. \n",
    "7. La definición de densidad de los números racionales y ejercicios de verificación de esta propiedad, \n",
    "8. La propiedad de no completez o no continuidad del conjunto de los racionales, definida a través del hecho de que existe una cantidad infinita de puntos de la recta numérica para los que no existe un racional que le corresponda. No utilice la definición de incompletez a través de sucesiones convergentes.  \n",
    "9. La representación decimal de los números racionales y ejercicios de conversión entre representaciones fraccionaris y decimales de númros racionales.\n",
    "10. La representación de fracciones impropias a través de números mixtos y las conversiones entre esta representaciones. \n",
    "11. El criterio de equivalencia de los números racionales a través del la igualdad de los productos cruzados o el criterio de la diferencia. \n",
    "12. El comportamiento de los racionales $r$, tal que $0 < r < 1$, en cuanto a su cuadrado. Y comparar este comportamiento con el comportamiento de los cuadrados de los números naturales y de los números enteros. \n",
    "13. Simplificación y amplificación de fracciones. \n",
    "14. Las representaciones geométricas de los irracionales $\\sqrt{2}, \\sqrt{3}, \\sqrt{5}$ y $\\sqrt{6}$ utilizando regla y compás."
   ]
  },
  {
   "cell_type": "markdown",
   "id": "ec048afb",
   "metadata": {},
   "source": [
    "### Parcial de Selección Múltiple sobre Números Racionales  \n",
    "**Instrucciones:** A continuación, encontrarás una serie de preguntas de selección múltiple. Cada pregunta tiene cuatro opciones de respuesta, de las cuales solo una es correcta. Lee con atención y selecciona la opción que consideres correcta.  \n",
    "\n",
    "---\n",
    "\n",
    "### **Preguntas**  \n",
    "\n",
    "1. **Sobre la cardinalidad de conjuntos infinitos**  \n",
    "   ¿Cuál de las siguientes afirmaciones es correcta acerca de la cardinalidad de los números racionales?  \n",
    "   a) Los números racionales tienen la misma cardinalidad que los números naturales.  \n",
    "   b) Los números racionales son incontables.  \n",
    "   c) Los números racionales tienen mayor cardinalidad que los números naturales.  \n",
    "   d) Los números racionales tienen la misma cardinalidad que los números reales.  \n",
    "\n",
    "2. **Sobre la función $f(n)$ biyectiva entre $\\mathbb{N}$ y $\\mathbb{Z}$**  \n",
    "   ¿Cuál de las siguientes expresiones define correctamente la función $f(n)$?  \n",
    "   a) $f(n) = n^2$ si $n$ es par, $-n^2$ si $n$ es impar.  \n",
    "   b) $f(n) = (-1)^n \\lfloor n/2 \\rfloor$.  \n",
    "   c) $f(n) = (-1)^n \\lceil n/2 \\rceil$.  \n",
    "   d) $f(n) = (-1)^{n+1} \\lfloor n/2 \\rfloor$.  \n",
    "\n",
    "3. **Propiedades algebraicas del campo $(\\mathbb{Q}, +, \\cdot)$**  \n",
    "   ¿Qué propiedad cumple la operación de suma en el conjunto de los números racionales?  \n",
    "   a) Conmutativa pero no asociativa.  \n",
    "   b) Asociativa pero no conmutativa.  \n",
    "   c) Distributiva sobre la multiplicación.  \n",
    "   d) Cumple la propiedad de identidad pero no la de inverso.  \n",
    "\n",
    "4. **Problemas de modelación con números racionales**  \n",
    "   Un tanque de agua se llena a razón de $\\frac{3}{4}$ de litro por minuto. ¿Cuánto tardará en llenarse un tanque de 9 litros?  \n",
    "   a) $12$ minutos.  \n",
    "   b) $10$ minutos.  \n",
    "   c) $15$ minutos.  \n",
    "   d) $7.5$ minutos.  \n",
    "\n",
    "5. **Representación geométrica de números racionales en la recta numérica**  \n",
    "   ¿Cuál de las siguientes afirmaciones es verdadera?  \n",
    "   a) Cada número racional tiene un único lugar en la recta numérica.  \n",
    "   b) No todos los números racionales pueden representarse en la recta numérica.  \n",
    "   c) Los números racionales no son densos en la recta numérica.  \n",
    "   d) Los números racionales se agrupan en conjuntos cerrados en la recta.  \n",
    "\n",
    "6. **Representación geométrica en el plano cartesiano**  \n",
    "   ¿Qué par de coordenadas representa correctamente el número racional $\\frac{2}{3}$ en el plano cartesiano?  \n",
    "   a) $(2, 3)$.  \n",
    "   b) $(3, 2)$.  \n",
    "   c) $(0.666, 1)$.  \n",
    "   d) $(2, 0.666)$.  \n",
    "\n",
    "7. **Propiedad de densidad de los números racionales**  \n",
    "   Entre dos números reales $a$ y $b$, con $a < b$, siempre:  \n",
    "   a) Existe exactamente un número racional.  \n",
    "   b) Existe al menos un número racional.  \n",
    "   c) No existe ningún número racional.  \n",
    "   d) Existe una cantidad finita de números racionales.  \n",
    "\n",
    "8. **Propiedad de no completez de $\\mathbb{Q}$**  \n",
    "   ¿Cuál de los siguientes enunciados explica correctamente la propiedad de no completez de $\\mathbb{Q}$?  \n",
    "   a) No todos los números racionales tienen inverso multiplicativo.  \n",
    "   b) Existen puntos en la recta numérica para los cuales no hay un racional asociado.  \n",
    "   c) Los números racionales no son cerrados bajo la suma.  \n",
    "   d) No existe ningún racional que sea mayor que 1.  \n",
    "\n",
    "9. **Conversión entre representaciones fraccionarias y decimales**  \n",
    "   ¿Cuál es la representación decimal del número racional $\\frac{7}{8}$?  \n",
    "   a) $0.875$.  \n",
    "   b) $0.87$.  \n",
    "   c) $0.78$.  \n",
    "   d) $0.888$.  \n",
    "\n",
    "10. **Conversión de números mixtos**  \n",
    "    ¿Cómo se convierte $\\frac{13}{4}$ en un número mixto?  \n",
    "    a) $3 \\frac{1}{4}$.  \n",
    "    b) $4 \\frac{1}{4}$.  \n",
    "    c) $4 \\frac{1}{3}$.  \n",
    "    d) $3 \\frac{4}{13}$.  \n",
    "\n",
    "11. **Criterio de equivalencia de números racionales**  \n",
    "    ¿Cuál de las siguientes fracciones es equivalente a $\\frac{2}{3}$?  \n",
    "    a) $\\frac{4}{6}$.  \n",
    "    b) $\\frac{3}{4}$.  \n",
    "    c) $\\frac{6}{4}$.  \n",
    "    d) $\\frac{4}{5}$.  \n",
    "\n",
    "12. **Comportamiento de $r^2$ para $r$ racional con $0 < r < 1$**  \n",
    "    Si $r = \\frac{1}{3}$, entonces $r^2$ es:  \n",
    "    a) Mayor que $r$.  \n",
    "    b) Menor que $r$.  \n",
    "    c) Igual a $r$.  \n",
    "    d) Imposible de determinar.  \n",
    "\n",
    "13. **Simplificación de fracciones**  \n",
    "    Simplifica la fracción $\\frac{28}{36}$.  \n",
    "    a) $\\frac{7}{9}$.  \n",
    "    b) $\\frac{14}{18}$.  \n",
    "    c) $\\frac{9}{7}$.  \n",
    "    d) $\\frac{4}{5}$.  \n",
    "\n",
    "14. **Representación geométrica de irracionales con regla y compás**  \n",
    "    ¿Cuál de las siguientes construcciones es correcta para representar $\\sqrt{2}$?  \n",
    "    a) Un triángulo rectángulo con catetos de longitud 1.  \n",
    "    b) Un cuadrado con área igual a 2.  \n",
    "    c) Un segmento de longitud 2 dividido en dos partes iguales.  \n",
    "    d) Un triángulo equilátero con lados de longitud $\\sqrt{2}$.  \n",
    "\n",
    "---  \n",
    "\n",
    "**Nota:** Este parcial evalúa conceptos clave de números racionales e irracionales en el contexto de sus definiciones, propiedades, y aplicaciones geométricas y algebraicas."
   ]
  },
  {
   "cell_type": "markdown",
   "id": "460cb951",
   "metadata": {},
   "source": [
    "### **Parcial 2: Evaluación sobre Números Racionales**  \n",
    "**Instrucciones:** Cada pregunta tiene cuatro opciones, pero solo una es correcta. Escoge la opción adecuada basándote en tu conocimiento.  \n",
    "\n",
    "---\n",
    "\n",
    "### **Preguntas**  \n",
    "\n",
    "1. **Cardinalidad de conjuntos infinitos**  \n",
    "   ¿Cuál de las siguientes afirmaciones describe correctamente la relación entre la cardinalidad de los números racionales y los números enteros?  \n",
    "   a) La cardinalidad de $\\mathbb{Q}$ es menor que la de $\\mathbb{Z}$.  \n",
    "   b) La cardinalidad de $\\mathbb{Q}$ es mayor que la de $\\mathbb{Z}$.  \n",
    "   c) $\\mathbb{Q}$ y $\\mathbb{Z}$ tienen la misma cardinalidad.  \n",
    "   d) $\\mathbb{Q}$ es incontable, pero $\\mathbb{Z}$ es contable.  \n",
    "\n",
    "2. **Función biyectiva $f(n)$ entre $\\mathbb{N}$ y $\\mathbb{Z}$**  \n",
    "   ¿Qué propiedad cumple la función $f(n)$ que mapea números naturales a números enteros?  \n",
    "   a) Es inyectiva pero no suprayectiva.  \n",
    "   b) Es biyectiva.  \n",
    "   c) Es suprayectiva pero no inyectiva.  \n",
    "   d) No es biyectiva ni inyectiva.  \n",
    "\n",
    "3. **Propiedades de $(\\mathbb{Q}, +, \\cdot)$**  \n",
    "   ¿Cuál es el inverso aditivo de $\\frac{3}{5}$ en $\\mathbb{Q}$?  \n",
    "   a) $-\\frac{3}{5}$.  \n",
    "   b) $\\frac{5}{3}$.  \n",
    "   c) $\\frac{-5}{3}$.  \n",
    "   d) $1 - \\frac{3}{5}$.  \n",
    "\n",
    "4. **Modelación con números racionales**  \n",
    "   Una familia consume $\\frac{2}{5}$ de una torta en el desayuno y $\\frac{3}{10}$ en el almuerzo. ¿Qué cantidad queda de la torta?  \n",
    "   a) $\\frac{1}{10}$.  \n",
    "   b) $\\frac{1}{5}$.  \n",
    "   c) $\\frac{3}{10}$.  \n",
    "   d) $\\frac{2}{10}$.  \n",
    "\n",
    "5. **Representación geométrica en la recta numérica**  \n",
    "   ¿Qué número racional se encuentra a la izquierda de $\\frac{2}{3}$ en la recta numérica?  \n",
    "   a) $\\frac{5}{6}$.  \n",
    "   b) $\\frac{1}{2}$.  \n",
    "   c) $\\frac{3}{4}$.  \n",
    "   d) $\\frac{7}{9}$.  \n",
    "\n",
    "6. **Representación en el plano cartesiano**  \n",
    "   ¿Qué par de coordenadas en el plano cartesiano representa un número racional?  \n",
    "   a) $(\\pi, 2)$.  \n",
    "   b) $(\\frac{1}{3}, \\sqrt{2})$.  \n",
    "   c) $(\\frac{3}{4}, -\\frac{5}{7})$.  \n",
    "   d) $(0, \\sqrt{5})$.  \n",
    "\n",
    "7. **Densidad de los números racionales**  \n",
    "   Entre dos números racionales, siempre existe:  \n",
    "   a) Un número racional.  \n",
    "   b) Un número entero.  \n",
    "   c) Un número irracional.  \n",
    "   d) Infinitos números racionales.  \n",
    "\n",
    "8. **No completez de $\\mathbb{Q}$**  \n",
    "   La propiedad de no completez del conjunto de los racionales implica que:  \n",
    "   a) $\\mathbb{Q}$ no es cerrado bajo la multiplicación.  \n",
    "   b) Existen números reales que no pueden ser aproximados por racionales.  \n",
    "   c) No existe un racional que represente $\\sqrt{2}$.  \n",
    "   d) Todo racional puede representarse como un número real.  \n",
    "\n",
    "9. **Conversión decimal a fracción**  \n",
    "   ¿Qué fracción corresponde al número decimal $0.25$?  \n",
    "   a) $\\frac{1}{4}$.  \n",
    "   b) $\\frac{1}{5}$.  \n",
    "   c) $\\frac{3}{4}$.  \n",
    "   d) $\\frac{2}{5}$.  \n",
    "\n",
    "10. **Conversión de números mixtos**  \n",
    "    ¿Qué fracción equivale al número mixto $2 \\frac{1}{3}$?  \n",
    "    a) $\\frac{5}{3}$.  \n",
    "    b) $\\frac{7}{3}$.  \n",
    "    c) $\\frac{8}{3}$.  \n",
    "    d) $\\frac{6}{3}$.  \n",
    "\n",
    "11. **Equivalencia de números racionales**  \n",
    "    Si $\\frac{6}{9}$ y $\\frac{4}{6}$ son equivalentes, ¿cuál de las siguientes es también equivalente?  \n",
    "    a) $\\frac{3}{2}$.  \n",
    "    b) $\\frac{2}{3}$.  \n",
    "    c) $\\frac{4}{9}$.  \n",
    "    d) $\\frac{5}{8}$.  \n",
    "\n",
    "12. **Comportamiento de $r^2$ para $0 < r < 1$**  \n",
    "    Si $r = \\frac{1}{4}$, ¿qué ocurre con $r^2$?  \n",
    "    a) Es menor que $r$.  \n",
    "    b) Es mayor que $r$.  \n",
    "    c) Es igual a $r$.  \n",
    "    d) Es un número irracional.  \n",
    "\n",
    "13. **Simplificación de fracciones**  \n",
    "    Simplifica $\\frac{45}{60}$.  \n",
    "    a) $\\frac{3}{4}$.  \n",
    "    b) $\\frac{4}{5}$.  \n",
    "    c) $\\frac{2}{3}$.  \n",
    "    d) $\\frac{5}{6}$.  \n",
    "\n",
    "14. **Representación geométrica de $\\sqrt{3}$**  \n",
    "    ¿Cómo se puede representar geométricamente $\\sqrt{3}$?  \n",
    "    a) En un triángulo equilátero con lados 2, utilizando el teorema de Pitágoras.  \n",
    "    b) En un triángulo equilátero con lados 1.  \n",
    "    c) En un triángulo rectángulo con catetos 1 y 2.  \n",
    "    d) En un círculo con radio $\\sqrt{3}$.  \n",
    "\n",
    "---\n",
    "\n",
    "### **Parcial 3: Evaluación sobre Números Racionales e Irracionales**  \n",
    "\n",
    "**Instrucciones:** Responde cada pregunta seleccionando la opción correcta.  \n",
    "\n",
    "---\n",
    "\n",
    "1. **Cardinalidad de los números racionales**  \n",
    "   ¿Cuál es la característica principal de la cardinalidad de $\\mathbb{Q}$?  \n",
    "   a) Es finita.  \n",
    "   b) Es numerable.  \n",
    "   c) Es incontable.  \n",
    "   d) Es igual a la de $\\mathbb{R}$.  \n",
    "\n",
    "2. **Función $f(n)$ entre $\\mathbb{N}$ y $\\mathbb{Z}$**  \n",
    "   ¿Qué función asegura una correspondencia uno a uno entre $\\mathbb{N}$ y $\\mathbb{Z}$?  \n",
    "   a) $f(n) = n + (-1)^n$.  \n",
    "   b) $f(n) = (-1)^n \\cdot n$.  \n",
    "   c) $f(n) = (-1)^{n+1} \\cdot \\lfloor n/2 \\rfloor$.  \n",
    "   d) $f(n) = \\pm n$.  \n",
    "\n",
    "3. **Propiedades del campo $(\\mathbb{Q}, +, \\cdot)$**  \n",
    "   ¿Cuál es el resultado de $\\frac{3}{4} + \\frac{5}{8}$?  \n",
    "   a) $\\frac{1}{2}$.  \n",
    "   b) $\\frac{3}{8}$.  \n",
    "   c) $\\frac{11}{8}$.  \n",
    "   d) $\\frac{15}{16}$.  \n",
    "\n",
    "4. **Modelación con números racionales**  \n",
    "   Un trabajador recibe $\\frac{5}{6}$ de su salario y ahorra $\\frac{1}{3}$ de lo recibido. ¿Qué fracción del salario total ahorra?  \n",
    "   a) $\\frac{1}{2}$.  \n",
    "   b) $\\frac{5}{18}$.  \n",
    "   c) $\\frac{5}{9}$.  \n",
    "   d) $\\frac{1}{3}$.  \n",
    "\n",
    "5. **Representación en la recta numérica**  \n",
    "   ¿Cuál de los siguientes puntos corresponde a $\\frac{-3}{4}$ en la recta numérica?  \n",
    "   a) Un punto a la izquierda del cero.  \n",
    "   b) Un punto a la derecha del uno.  \n",
    "   c) El origen.  \n",
    "   d) Un punto entre $\\frac{1}{2}$ y $1$.  \n",
    "\n",
    "6. **Representación en el plano cartesiano**  \n",
    "   ¿Cuál de las siguientes coordenadas contiene solo números racionales?  \n",
    "   a) $(\\pi, 1)$.  \n",
    "   b) $(0.25, 0.75)$.  \n",
    "   c) $(\\sqrt{3}, \\frac{1}{3})$.  \n",
    "   d) $(0, \\sqrt{2})$.  \n",
    "\n",
    "7. **Densidad de los números racionales**  \n",
    "   Si $a = 0.5$ y $b = 0.7$, ¿cuántos números racionales existen entre $a$ y $b$?  \n",
    "   a) Ninguno.  \n",
    "   b) Uno.  \n",
    "   c) Infinitos.  \n",
    "   d) Dos.  \n",
    "\n",
    "8. **No completez de $\\mathbb{Q}$\n",
    "\n",
    "**  \n",
    "   ¿Cuál es un ejemplo de un número que pertenece a $\\mathbb{R} - \\mathbb{Q}$?  \n",
    "   a) $2$.  \n",
    "   b) $\\sqrt{4}$.  \n",
    "   c) $\\sqrt{2}$.  \n",
    "   d) $\\frac{3}{2}$.  \n",
    "\n",
    "9. **Fracción como decimal periódico**  \n",
    "   ¿Qué tipo de número decimal genera la fracción $\\frac{1}{7}$?  \n",
    "   a) Decimal exacto.  \n",
    "   b) Decimal infinito periódico.  \n",
    "   c) Decimal infinito no periódico.  \n",
    "   d) Irracional.  \n",
    "\n",
    "10. **Conversión de números mixtos**  \n",
    "    Convierte $4 \\frac{2}{5}$ en una fracción impropia.  \n",
    "    a) $\\frac{12}{5}$.  \n",
    "    b) $\\frac{20}{5}$.  \n",
    "    c) $\\frac{22}{5}$.  \n",
    "    d) $\\frac{18}{5}$.  \n",
    "\n",
    "11. **Equivalencia de fracciones**  \n",
    "    ¿Qué fracción es equivalente a $\\frac{8}{12}$?  \n",
    "    a) $\\frac{2}{3}$.  \n",
    "    b) $\\frac{3}{4}$.  \n",
    "    c) $\\frac{5}{6}$.  \n",
    "    d) $\\frac{4}{5}$.  \n",
    "\n",
    "12. **Potencias de fracciones**  \n",
    "    Si $r = \\frac{1}{2}$, ¿cuál es el valor de $r^3$?  \n",
    "    a) $\\frac{1}{8}$.  \n",
    "    b) $\\frac{1}{4}$.  \n",
    "    c) $\\frac{1}{6}$.  \n",
    "    d) $\\frac{1}{3}$.  \n",
    "\n"
   ]
  },
  {
   "cell_type": "code",
   "execution_count": null,
   "id": "7d96ae41",
   "metadata": {},
   "outputs": [],
   "source": []
  },
  {
   "cell_type": "code",
   "execution_count": null,
   "id": "4aa73b41",
   "metadata": {},
   "outputs": [],
   "source": []
  },
  {
   "cell_type": "markdown",
   "id": "64ac8d32",
   "metadata": {},
   "source": [
    "# Ejemplo ilustrativo"
   ]
  },
  {
   "cell_type": "markdown",
   "id": "a3e5e6ab",
   "metadata": {},
   "source": [
    "# 10 ejercicios de entrenamiento o adquisición de habilidades obtenido a través de ChatGPT para una formación personalizada y centrada en la habilidad que se quiere lograr con la enseñanza del ejemplo anterior"
   ]
  },
  {
   "cell_type": "code",
   "execution_count": null,
   "id": "cc539357",
   "metadata": {},
   "outputs": [],
   "source": []
  },
  {
   "cell_type": "markdown",
   "id": "740f3401",
   "metadata": {
    "slideshow": {
     "slide_type": "slide"
    }
   },
   "source": [
    "# Componente de manejo de calculadora Casio asociado al objetivo de aprendizaje de esta clase  \n",
    "\n",
    "## Pasos para lograr el objetivo de aprendizaje con la experimentación en la calculadora casio 570 "
   ]
  },
  {
   "cell_type": "markdown",
   "id": "fccb447c",
   "metadata": {
    "slideshow": {
     "slide_type": "slide"
    }
   },
   "source": [
    "# Tareas para realizar en clase"
   ]
  },
  {
   "cell_type": "markdown",
   "id": "742281f4",
   "metadata": {},
   "source": [
    "# No olvide la tarea de realizar la foda para autoevaluarse\n",
    "\n",
    "Fortalezas: F  \n",
    "Oportuniudades O:  \n",
    "Debilidades: D:   \n",
    "Amenazas: A:     "
   ]
  },
  {
   "cell_type": "markdown",
   "id": "8d41fe58",
   "metadata": {
    "slideshow": {
     "slide_type": "slide"
    }
   },
   "source": [
    "# Horario de clases del profesor Marco\n",
    "\n",
    "* Lunes 8-12: Cálculo Vectorial\n",
    "* Martes 8-12 M: Fundamentos de Aritmética. \n",
    "* Miércoles 8 a 12 M: Fundamentos de la Lógica\n",
    "* Jueves 2 a 6PM: Desarrollo del pensamiento matemático en la infancia. \n",
    "* Viernes 8 - 12 M: Desarrollo del pensamiento matemático en la infancia. "
   ]
  },
  {
   "cell_type": "markdown",
   "id": "ae114e14",
   "metadata": {
    "slideshow": {
     "slide_type": "slide"
    }
   },
   "source": [
    "# Horarios de monitoría y asesoría"
   ]
  },
  {
   "cell_type": "markdown",
   "id": "b1db4b6c",
   "metadata": {
    "slideshow": {
     "slide_type": "slide"
    }
   },
   "source": [
    "## Monitor Manuel"
   ]
  },
  {
   "cell_type": "markdown",
   "id": "39559692",
   "metadata": {
    "slideshow": {
     "slide_type": "slide"
    }
   },
   "source": [
    "Martes y jueves de 8 - 12  \n",
    "Miércoles 10 - 12 y de 2 a 4 PM  \n",
    "Sábado: 8 - 12"
   ]
  },
  {
   "cell_type": "markdown",
   "id": "5a190057",
   "metadata": {},
   "source": [
    "## Monitoría virtual   \n",
    "\n",
    "Telefono del monitos en whatsApp: 3043936088  \n",
    "\n",
    "Juan David Cano Castrillón  \n",
    "Estudiante de Pregrado.  \n",
    "juan.canoc1@udea.edu.co  \n",
    "3043936088  \n"
   ]
  },
  {
   "cell_type": "markdown",
   "id": "10bce0d0",
   "metadata": {
    "slideshow": {
     "slide_type": "slide"
    }
   },
   "source": [
    "## Referentes "
   ]
  },
  {
   "cell_type": "markdown",
   "id": "1db3c468",
   "metadata": {
    "slideshow": {
     "slide_type": "slide"
    }
   },
   "source": [
    "* [Grajales Vanegas, L. M., Restrepo Estrada, C. E., Restrepo Ochoa, S. I., & Ruíz De Villalba, F. (2015). Matemáticas I para las ciencias económicas.](https://github.com/marco-canas/fundamentos_de_la_aritmetica/blob/main/referentes/2_grajales_logica/grajales_lina_matemticas.pdf)\n",
    "  \n",
    "* Duval, R. (2004). Semiosis y pensamiento humano: registros semióticos y aprendizajes intelectuales. Universidad del Valle.\n",
    "\n",
    "* [Aylwin, C. U. (2011). Lógica, conjuntos y números. Universidad de los Andes, Consejo de Publicaciones, Colección: Ciencias Básicas, Serie: Matemáticas.](https://github.com/marco-canas/fundamentos_logica/blob/main/referentes/2_uzcategui/uscategui.pdf)\n",
    "  \n",
    "* [Chollet, F. (2021). Deep learning with Python. Simon and Schuster.](https://github.com/marco-canas/didactica_ciencia_datos/blob/main/2_referentes/chollet/Fran%C3%A7ois%20Chollet%20-%20Deep%20Learning%20with%20Python-Manning%20(2018).pdf)  \n",
    "  \n",
    "* [Watson, S., Stewart, J., & Redlin, L. (2009). Precálculo. Matemáticas para el cálculo.](https://github.com/marco-canas/calculo/blob/main/referents/1_precalculo_stewart/stewart_precalculo.pdf)  \n",
    "\n",
    "* [Purcell, E. J., Varberg, D., & Rigdon, S. E. (2007). Cálculo diferencial e integral. Pearson Educación.](https://github.com/marco-canas/calculo/blob/main/referents/purcell/purcell_calculo.pdf)\n",
    "\n",
    "  \n",
    "\n",
    "* [stewart cálculo](https://udeaeduco-my.sharepoint.com/:b:/g/personal/marco_canas_udea_edu_co/EZgXZjAp8QxPqOAim2hs6LcBNPLGjSHf-xwYnUVYkwa04w?e=RZdTCy)  \n",
    "\n",
    "* [larson](https://udeaeduco-my.sharepoint.com/:b:/g/personal/marco_canas_udea_edu_co/ES71ChFeO9ZDhW3TwC5Ijk8BjxUK3Pdqz_fjHxTTFAfIAg?e=VDEjfu)\n",
    "\n",
    "\n",
    "\n",
    "* [Recomendación de la UNESCO sobre ciencia abierta](https://unesdoc.unesco.org/ark:/48223/pf0000379949_spa)\n",
    "\n",
    "* [chatGPT](https://openai.com/blog/chatgpt)  \n",
    "\n",
    "* [Géron, A. (2017). Hands-on machine learning with scikit-learn and tensorflow: Concepts. Tools, and Techniques to build intelligent systems.](https://github.com/marco-canas/didactica_ciencia_datos/blob/main/2_referentes/geron/Hands-On%20Machine%20Learning-3nd_Edition(2022).pdf)  \n",
    "\n",
    "* [McKinney, W. (2012). Python for data analysis: Data wrangling with Pandas, NumPy, and IPython. \" O'Reilly Media, Inc.\".](https://github.com/marco-canas/didactica_ciencia_datos/blob/main/2_referentes/mckinney/Wes_McKinney.pdf)  "
   ]
  },
  {
   "cell_type": "markdown",
   "id": "8e65d6f9",
   "metadata": {},
   "source": [
    "# Como estudiante, encuentro que...   \n",
    "\n",
    "F: Mis Fortalezas son:     \n",
    "O: Mis Oportunidades son:    \n",
    "D: Mis Debilidades son:    \n",
    "A: Lo que Amenazas mi aprendizaje es:  "
   ]
  },
  {
   "cell_type": "markdown",
   "id": "6b9e56a8",
   "metadata": {
    "slideshow": {
     "slide_type": "slide"
    }
   },
   "source": [
    "### [Evaluamos al profesor Marco Cañas Aquí](https://forms.office.com/Pages/ResponsePage.aspx?id=IefhmYRxjkmK_7KtTlPBwkanXIs1i1FEujpsZgO6dXpUREJPV1kxUk1JV1ozTFJIQVNIQjY5WEY3US4u)"
   ]
  },
  {
   "cell_type": "markdown",
   "id": "050b9508",
   "metadata": {},
   "source": [
    "# Aportes de mis estudiantes a la metodología del curso  \n",
    "1. \n",
    "\n",
    "Sus opiniones y aportes son muy importantes para mi. Pues esta es una investigación educativa y un servicio de enseñanza para ustedes. Ustedes son la razón de ser de mi actividad docente. Dios los bendiga. "
   ]
  },
  {
   "cell_type": "markdown",
   "id": "6c4af91f",
   "metadata": {},
   "source": [
    "# Aportes de mis colegas docentes a la metodología que estoy aplicando en mis cursos. "
   ]
  },
  {
   "cell_type": "markdown",
   "id": "071afa04",
   "metadata": {
    "slideshow": {
     "slide_type": "slide"
    }
   },
   "source": [
    "## [Evaluación luego de alcanzar estos objetivos de aprendizaje]()"
   ]
  },
  {
   "cell_type": "markdown",
   "id": "10f43536",
   "metadata": {
    "slideshow": {
     "slide_type": "slide"
    }
   },
   "source": [
    "### Continue su aprendizaje en la siguiente clase a través del siguiente [vínculo]()"
   ]
  },
  {
   "cell_type": "markdown",
   "id": "53cc9115",
   "metadata": {
    "slideshow": {
     "slide_type": "slide"
    }
   },
   "source": [
    "## Agradecimientos  \n",
    "\n",
    "Doy gracias a Dios por la vida de mi Hijo Joseph Cañas Osorio y la madurez que ha alcanzado.\n",
    "\n",
    "Y a mi esposa Yasmira por su apoyo, orientación y acompañamiento. "
   ]
  }
 ],
 "metadata": {
  "celltoolbar": "Slideshow",
  "kernelspec": {
   "display_name": "Python 3 (ipykernel)",
   "language": "python",
   "name": "python3"
  },
  "language_info": {
   "codemirror_mode": {
    "name": "ipython",
    "version": 3
   },
   "file_extension": ".py",
   "mimetype": "text/x-python",
   "name": "python",
   "nbconvert_exporter": "python",
   "pygments_lexer": "ipython3",
   "version": "3.10.12"
  },
  "rise": {
   "enable_chalkboard": true,
   "theme": "sky",
   "transition": "zoom"
  }
 },
 "nbformat": 4,
 "nbformat_minor": 5
}
